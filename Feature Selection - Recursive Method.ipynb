{
 "cells": [
  {
   "cell_type": "markdown",
   "id": "ae6d7521",
   "metadata": {},
   "source": [
    "# Recursive Feature Elimination\n",
    "\n",
    "Once we have the importance of each feature, we perform feature selection using a procedure called Recursive Feature Elimination. In this article, I’ll talk about the version that makes use of the k-fold cross-validation.\n",
    "\n",
    "The idea is to fit the model, then remove the less relevant feature and calculate the average value of some performance metric in CV. Then we remove the second last important feature, fit the model again and calculate the average performance. We keep doing this approach until there are no features left. The set of features that maximize the performance in CV is the set of features we have to work with. Please note that the entire procedure needs to work with the same values for the hyperparameters.\n",
    "\n",
    "\n",
    "Scikit-learn makes it possible to implement recursive feature elimination via the sklearn.feature_selection.RFE class. The class takes the following parameters:\n",
    "\n",
    "- estimator — a machine learning estimator that can provide features importances via the coef_ or feature_importances_ attributes.\n",
    "- n_features_to_select — the number of features to select. Selects half if it's not specified.\n",
    "- step — an integer that indicates the number of features to be removed at each iteration, or a number between 0 and 1 to indicate the percentage of features to remove at each iteration.\n",
    "\n",
    "Once fitted, the following attributes can be obtained:\n",
    "\n",
    "- ranking_ — the ranking of the features.\n",
    "- n_features_ — the number of features that have been selected.\n",
    "- support_ — an array that indicates whether or not a feature was selected.\n",
    "\n"
   ]
  },
  {
   "cell_type": "code",
   "execution_count": 1,
   "id": "a577999c",
   "metadata": {},
   "outputs": [],
   "source": [
    "# loading necessary libraries\n",
    "import pandas as pd\n",
    "import numpy as np\n",
    "from sklearn.datasets import load_boston\n",
    "from sklearn.ensemble import RandomForestRegressor\n",
    "from sklearn.model_selection import train_test_split\n",
    "from sklearn.feature_selection import RFECV\n",
    "import matplotlib.pyplot as plt"
   ]
  },
  {
   "cell_type": "markdown",
   "id": "4cf820b6",
   "metadata": {},
   "source": [
    "# 1. Data"
   ]
  },
  {
   "cell_type": "code",
   "execution_count": 2,
   "id": "ebe5f79b",
   "metadata": {},
   "outputs": [
    {
     "data": {
      "text/html": [
       "<div>\n",
       "<style scoped>\n",
       "    .dataframe tbody tr th:only-of-type {\n",
       "        vertical-align: middle;\n",
       "    }\n",
       "\n",
       "    .dataframe tbody tr th {\n",
       "        vertical-align: top;\n",
       "    }\n",
       "\n",
       "    .dataframe thead th {\n",
       "        text-align: right;\n",
       "    }\n",
       "</style>\n",
       "<table border=\"1\" class=\"dataframe\">\n",
       "  <thead>\n",
       "    <tr style=\"text-align: right;\">\n",
       "      <th></th>\n",
       "      <th>kannabis</th>\n",
       "      <th>alcohol_use</th>\n",
       "      <th>nuuska</th>\n",
       "      <th>cigarette</th>\n",
       "      <th>e_cigarette</th>\n",
       "      <th>prob_country</th>\n",
       "      <th>prob_resident</th>\n",
       "      <th>risk_of_use</th>\n",
       "      <th>risk_of_try</th>\n",
       "      <th>cannabis_access</th>\n",
       "      <th>...</th>\n",
       "      <th>household_2.0</th>\n",
       "      <th>household_3.0</th>\n",
       "      <th>education_2.0</th>\n",
       "      <th>education_3.0</th>\n",
       "      <th>education_4.0</th>\n",
       "      <th>violence_treat_2.0</th>\n",
       "      <th>violence_treat_3.0</th>\n",
       "      <th>drug_punishment_2.0</th>\n",
       "      <th>drug_punishment_3.0</th>\n",
       "      <th>drug_punishment_4.0</th>\n",
       "    </tr>\n",
       "  </thead>\n",
       "  <tbody>\n",
       "    <tr>\n",
       "      <th>0</th>\n",
       "      <td>0.0</td>\n",
       "      <td>3.0</td>\n",
       "      <td>1.0</td>\n",
       "      <td>1.0</td>\n",
       "      <td>1.0</td>\n",
       "      <td>3.0</td>\n",
       "      <td>2.0</td>\n",
       "      <td>24.0</td>\n",
       "      <td>13.0</td>\n",
       "      <td>0.0</td>\n",
       "      <td>...</td>\n",
       "      <td>1.0</td>\n",
       "      <td>0.0</td>\n",
       "      <td>0.0</td>\n",
       "      <td>1.0</td>\n",
       "      <td>0.0</td>\n",
       "      <td>0.0</td>\n",
       "      <td>1.0</td>\n",
       "      <td>1.0</td>\n",
       "      <td>0.0</td>\n",
       "      <td>0.0</td>\n",
       "    </tr>\n",
       "    <tr>\n",
       "      <th>1</th>\n",
       "      <td>0.0</td>\n",
       "      <td>1.0</td>\n",
       "      <td>1.0</td>\n",
       "      <td>1.0</td>\n",
       "      <td>1.0</td>\n",
       "      <td>3.0</td>\n",
       "      <td>2.0</td>\n",
       "      <td>23.0</td>\n",
       "      <td>17.0</td>\n",
       "      <td>3.0</td>\n",
       "      <td>...</td>\n",
       "      <td>1.0</td>\n",
       "      <td>0.0</td>\n",
       "      <td>0.0</td>\n",
       "      <td>1.0</td>\n",
       "      <td>0.0</td>\n",
       "      <td>1.0</td>\n",
       "      <td>0.0</td>\n",
       "      <td>1.0</td>\n",
       "      <td>0.0</td>\n",
       "      <td>0.0</td>\n",
       "    </tr>\n",
       "    <tr>\n",
       "      <th>2</th>\n",
       "      <td>0.0</td>\n",
       "      <td>5.0</td>\n",
       "      <td>1.0</td>\n",
       "      <td>2.0</td>\n",
       "      <td>1.0</td>\n",
       "      <td>4.0</td>\n",
       "      <td>3.0</td>\n",
       "      <td>24.0</td>\n",
       "      <td>18.0</td>\n",
       "      <td>0.0</td>\n",
       "      <td>...</td>\n",
       "      <td>1.0</td>\n",
       "      <td>0.0</td>\n",
       "      <td>0.0</td>\n",
       "      <td>0.0</td>\n",
       "      <td>1.0</td>\n",
       "      <td>1.0</td>\n",
       "      <td>0.0</td>\n",
       "      <td>0.0</td>\n",
       "      <td>0.0</td>\n",
       "      <td>1.0</td>\n",
       "    </tr>\n",
       "    <tr>\n",
       "      <th>3</th>\n",
       "      <td>1.0</td>\n",
       "      <td>7.0</td>\n",
       "      <td>2.0</td>\n",
       "      <td>2.0</td>\n",
       "      <td>1.0</td>\n",
       "      <td>3.0</td>\n",
       "      <td>2.0</td>\n",
       "      <td>22.0</td>\n",
       "      <td>12.0</td>\n",
       "      <td>3.0</td>\n",
       "      <td>...</td>\n",
       "      <td>1.0</td>\n",
       "      <td>0.0</td>\n",
       "      <td>0.0</td>\n",
       "      <td>0.0</td>\n",
       "      <td>1.0</td>\n",
       "      <td>0.0</td>\n",
       "      <td>0.0</td>\n",
       "      <td>1.0</td>\n",
       "      <td>0.0</td>\n",
       "      <td>0.0</td>\n",
       "    </tr>\n",
       "    <tr>\n",
       "      <th>4</th>\n",
       "      <td>0.0</td>\n",
       "      <td>5.0</td>\n",
       "      <td>1.0</td>\n",
       "      <td>1.0</td>\n",
       "      <td>1.0</td>\n",
       "      <td>3.0</td>\n",
       "      <td>2.0</td>\n",
       "      <td>24.0</td>\n",
       "      <td>16.0</td>\n",
       "      <td>2.0</td>\n",
       "      <td>...</td>\n",
       "      <td>1.0</td>\n",
       "      <td>0.0</td>\n",
       "      <td>0.0</td>\n",
       "      <td>0.0</td>\n",
       "      <td>1.0</td>\n",
       "      <td>0.0</td>\n",
       "      <td>1.0</td>\n",
       "      <td>0.0</td>\n",
       "      <td>0.0</td>\n",
       "      <td>1.0</td>\n",
       "    </tr>\n",
       "  </tbody>\n",
       "</table>\n",
       "<p>5 rows × 49 columns</p>\n",
       "</div>"
      ],
      "text/plain": [
       "   kannabis  alcohol_use  nuuska  cigarette  e_cigarette  prob_country  \\\n",
       "0       0.0          3.0     1.0        1.0          1.0           3.0   \n",
       "1       0.0          1.0     1.0        1.0          1.0           3.0   \n",
       "2       0.0          5.0     1.0        2.0          1.0           4.0   \n",
       "3       1.0          7.0     2.0        2.0          1.0           3.0   \n",
       "4       0.0          5.0     1.0        1.0          1.0           3.0   \n",
       "\n",
       "   prob_resident  risk_of_use  risk_of_try  cannabis_access  ...  \\\n",
       "0            2.0         24.0         13.0              0.0  ...   \n",
       "1            2.0         23.0         17.0              3.0  ...   \n",
       "2            3.0         24.0         18.0              0.0  ...   \n",
       "3            2.0         22.0         12.0              3.0  ...   \n",
       "4            2.0         24.0         16.0              2.0  ...   \n",
       "\n",
       "   household_2.0  household_3.0  education_2.0  education_3.0  education_4.0  \\\n",
       "0            1.0            0.0            0.0            1.0            0.0   \n",
       "1            1.0            0.0            0.0            1.0            0.0   \n",
       "2            1.0            0.0            0.0            0.0            1.0   \n",
       "3            1.0            0.0            0.0            0.0            1.0   \n",
       "4            1.0            0.0            0.0            0.0            1.0   \n",
       "\n",
       "   violence_treat_2.0  violence_treat_3.0  drug_punishment_2.0  \\\n",
       "0                 0.0                 1.0                  1.0   \n",
       "1                 1.0                 0.0                  1.0   \n",
       "2                 1.0                 0.0                  0.0   \n",
       "3                 0.0                 0.0                  1.0   \n",
       "4                 0.0                 1.0                  0.0   \n",
       "\n",
       "   drug_punishment_3.0  drug_punishment_4.0  \n",
       "0                  0.0                  0.0  \n",
       "1                  0.0                  0.0  \n",
       "2                  0.0                  1.0  \n",
       "3                  0.0                  0.0  \n",
       "4                  0.0                  1.0  \n",
       "\n",
       "[5 rows x 49 columns]"
      ]
     },
     "execution_count": 2,
     "metadata": {},
     "output_type": "execute_result"
    }
   ],
   "source": [
    "data = pd.read_csv('thl_recoded.csv')\n",
    "data.head()"
   ]
  },
  {
   "cell_type": "code",
   "execution_count": 3,
   "id": "cd9a0649",
   "metadata": {},
   "outputs": [
    {
     "data": {
      "text/plain": [
       "0.0    0.914525\n",
       "1.0    0.085475\n",
       "Name: kannabis, dtype: float64"
      ]
     },
     "execution_count": 3,
     "metadata": {},
     "output_type": "execute_result"
    }
   ],
   "source": [
    " # Kannabis use\n",
    "data['kannabis'].value_counts(normalize= True)"
   ]
  },
  {
   "cell_type": "markdown",
   "id": "dddc19b6",
   "metadata": {},
   "source": [
    "## 1.1. Data split"
   ]
  },
  {
   "cell_type": "code",
   "execution_count": 4,
   "id": "597b2d8f",
   "metadata": {},
   "outputs": [],
   "source": [
    "from sklearn.model_selection import train_test_split\n",
    "\n",
    "X, y = data.iloc[:, 1:].values, data.iloc[:, 0].values\n",
    "\n",
    "X_train, X_test, y_train, y_test =\\\n",
    "    train_test_split(X, y, \n",
    "                     test_size=0.3, \n",
    "                     random_state=0, \n",
    "                     stratify=y)"
   ]
  },
  {
   "cell_type": "code",
   "execution_count": 5,
   "id": "3b846db6",
   "metadata": {},
   "outputs": [
    {
     "name": "stdout",
     "output_type": "stream",
     "text": [
      "Dimension of X train:  (2260, 48)\n",
      "Target 1:  193\n",
      "Target 0:  2067\n",
      "\n",
      " ---------------------\n",
      "\n",
      "Dimension of X test : (969, 48)\n",
      "Target 1:  83\n",
      "Target 0:  886\n"
     ]
    }
   ],
   "source": [
    "print('Dimension of X train: ', X_train.shape)\n",
    "print('Target 1: ', np.count_nonzero(y_train == 1))\n",
    "print('Target 0: ', np.count_nonzero(y_train == 0))\n",
    "\n",
    "\n",
    "\n",
    "print('\\n ---------------------\\n')\n",
    "print('Dimension of X test :', X_test.shape)\n",
    "print('Target 1: ', np.count_nonzero(y_test == 1))\n",
    "print('Target 0: ', np.count_nonzero(y_test == 0))"
   ]
  },
  {
   "cell_type": "markdown",
   "id": "8c8f12cf",
   "metadata": {},
   "source": [
    "## 1.2. Scaling\n",
    "\n",
    "Robust Scaler removes the median and scales the data according to the quantile range (defaults to IQR: Interquartile Range). The IQR is the range between the 1st quartile (25th quantile) and the 3rd quartile (75th quantile).  "
   ]
  },
  {
   "cell_type": "code",
   "execution_count": 6,
   "id": "e09f0308",
   "metadata": {},
   "outputs": [],
   "source": [
    "from sklearn.preprocessing import RobustScaler\n",
    "\n",
    "robust = RobustScaler()\n",
    "X_train_std = robust.fit_transform(X_train)\n",
    "X_test_std = robust.transform(X_test)"
   ]
  },
  {
   "cell_type": "markdown",
   "id": "4b52818c",
   "metadata": {},
   "source": [
    "# 2.  Which score is relevant?\n",
    "\n",
    "Now, let’s use feature importance to select the best set of features according to RFE with Cross-Validation. For this example, the metric we try to optimize is the **negative mean squared error**. We’re going to work with 5 folds for the cross-validation, which is a quite good value."
   ]
  },
  {
   "cell_type": "markdown",
   "id": "de45469e",
   "metadata": {},
   "source": [
    "## 1.  Negative mean squared error"
   ]
  },
  {
   "cell_type": "code",
   "execution_count": 7,
   "id": "e41fd300",
   "metadata": {},
   "outputs": [
    {
     "name": "stdout",
     "output_type": "stream",
     "text": [
      "Optimal number of features: 41\n"
     ]
    },
    {
     "data": {
      "image/png": "[encoded data removed]",
      "text/plain": [
       "<Figure size 1152x648 with 1 Axes>"
      ]
     },
     "metadata": {
      "needs_background": "light"
     },
     "output_type": "display_data"
    },
    {
     "data": {
      "text/plain": [
       "['alcohol_use',\n",
       " 'nuuska',\n",
       " 'cigarette',\n",
       " 'e_cigarette',\n",
       " 'prob_country',\n",
       " 'prob_resident',\n",
       " 'risk_of_use',\n",
       " 'risk_of_try',\n",
       " 'cannabis_access',\n",
       " 'other_drug_access',\n",
       " 'intoxicant_access',\n",
       " 'doping_access',\n",
       " 'current_health',\n",
       " 'sport',\n",
       " 'has_child_1',\n",
       " 'non_medical_1',\n",
       " 'single_1',\n",
       " 'in_relation_1',\n",
       " 'helsinki_1',\n",
       " 'bigger_city_1',\n",
       " 'midsize_city_1',\n",
       " 'small_city_1',\n",
       " 'rural_1',\n",
       " 'drug_user_friend_1',\n",
       " 'drug_offer_1',\n",
       " 'alcohol_hp_1',\n",
       " 'drug_hp_1',\n",
       " 'employment_1',\n",
       " 'gender_2',\n",
       " 'age_bins_(24, 34]',\n",
       " 'age_bins_(34, 44]',\n",
       " 'age_bins_(54, 70]',\n",
       " 'household_2.0',\n",
       " 'household_3.0',\n",
       " 'education_3.0',\n",
       " 'education_4.0',\n",
       " 'violence_treat_2.0',\n",
       " 'violence_treat_3.0',\n",
       " 'drug_punishment_2.0',\n",
       " 'drug_punishment_3.0',\n",
       " 'drug_punishment_4.0']"
      ]
     },
     "execution_count": 7,
     "metadata": {},
     "output_type": "execute_result"
    }
   ],
   "source": [
    "from sklearn.feature_selection import RFECV\n",
    "from sklearn.ensemble import RandomForestClassifier\n",
    "from sklearn.model_selection import StratifiedKFold\n",
    "\n",
    "def RFECV_ranking(X,y):\n",
    "  rf = RandomForestClassifier(n_estimators= 100, random_state=112) # 1500\n",
    "  rfecv = RFECV(estimator=rf, step=1, cv=StratifiedKFold(5), scoring='neg_mean_squared_error') # 10\n",
    "  rfecv.fit(X,y)\n",
    "  \n",
    "      \n",
    "  print('Optimal number of features: {}'.format(rfecv.n_features_))\n",
    "  plt.figure(figsize=(16, 9))\n",
    "  plt.title('Recursive Feature Elimination with Cross-Validation', fontsize=18, fontweight='bold', pad=20)\n",
    "  plt.xlabel('Number of features selected', fontsize=14, labelpad=20)\n",
    "  plt.ylabel('Negative mean squared error', fontsize=14, labelpad=20)\n",
    "  plt.plot(range(1, len(rfecv.grid_scores_) + 1), rfecv.grid_scores_, color='#303F9F', linewidth=3)\n",
    "  plt.show()\n",
    "  \n",
    "  features = [f for f,s in zip(data.columns[1:], rfecv.support_) if s]\n",
    "  return features\n",
    "\n",
    "RFECV_ranking(X_train_std, y_train)"
   ]
  },
  {
   "cell_type": "markdown",
   "id": "7c90cd7b",
   "metadata": {},
   "source": [
    "## 2. Accuracy score\n"
   ]
  },
  {
   "cell_type": "code",
   "execution_count": 8,
   "id": "49039c63",
   "metadata": {},
   "outputs": [
    {
     "name": "stdout",
     "output_type": "stream",
     "text": [
      "Optimal number of features: 41\n"
     ]
    },
    {
     "data": {
      "image/png": "[encoded data removed]",
      "text/plain": [
       "<Figure size 1152x648 with 1 Axes>"
      ]
     },
     "metadata": {
      "needs_background": "light"
     },
     "output_type": "display_data"
    },
    {
     "data": {
      "text/plain": [
       "['alcohol_use',\n",
       " 'nuuska',\n",
       " 'cigarette',\n",
       " 'e_cigarette',\n",
       " 'prob_country',\n",
       " 'prob_resident',\n",
       " 'risk_of_use',\n",
       " 'risk_of_try',\n",
       " 'cannabis_access',\n",
       " 'other_drug_access',\n",
       " 'intoxicant_access',\n",
       " 'doping_access',\n",
       " 'current_health',\n",
       " 'sport',\n",
       " 'has_child_1',\n",
       " 'non_medical_1',\n",
       " 'single_1',\n",
       " 'in_relation_1',\n",
       " 'helsinki_1',\n",
       " 'bigger_city_1',\n",
       " 'midsize_city_1',\n",
       " 'small_city_1',\n",
       " 'rural_1',\n",
       " 'drug_user_friend_1',\n",
       " 'drug_offer_1',\n",
       " 'alcohol_hp_1',\n",
       " 'drug_hp_1',\n",
       " 'employment_1',\n",
       " 'gender_2',\n",
       " 'age_bins_(24, 34]',\n",
       " 'age_bins_(34, 44]',\n",
       " 'age_bins_(54, 70]',\n",
       " 'household_2.0',\n",
       " 'household_3.0',\n",
       " 'education_3.0',\n",
       " 'education_4.0',\n",
       " 'violence_treat_2.0',\n",
       " 'violence_treat_3.0',\n",
       " 'drug_punishment_2.0',\n",
       " 'drug_punishment_3.0',\n",
       " 'drug_punishment_4.0']"
      ]
     },
     "execution_count": 8,
     "metadata": {},
     "output_type": "execute_result"
    }
   ],
   "source": [
    "from sklearn.feature_selection import RFECV\n",
    "from sklearn.ensemble import RandomForestClassifier\n",
    "from sklearn.model_selection import StratifiedKFold\n",
    "\n",
    "def RFECV_ranking(X,y):\n",
    "  rf = RandomForestClassifier(n_estimators= 100, random_state=112) # 1500\n",
    "  rfecv = RFECV(estimator=rf, step=1, cv=StratifiedKFold(5), scoring='accuracy') # 10\n",
    "  rfecv.fit(X,y)\n",
    "  \n",
    "      \n",
    "  print('Optimal number of features: {}'.format(rfecv.n_features_))\n",
    "  plt.figure(figsize=(16, 9))\n",
    "  plt.title('Recursive Feature Elimination with Cross-Validation', fontsize=18, fontweight='bold', pad=20)\n",
    "  plt.xlabel('Number of features selected', fontsize=14, labelpad=20)\n",
    "  plt.ylabel('% Correct Classification', fontsize=14, labelpad=20)\n",
    "  plt.plot(range(1, len(rfecv.grid_scores_) + 1), rfecv.grid_scores_, color='#303F9F', linewidth=3)\n",
    "  plt.show()\n",
    "  \n",
    "  features = [f for f,s in zip(data.columns[1:], rfecv.support_) if s]\n",
    "  return features\n",
    "\n",
    "RFECV_ranking(X_train_std, y_train)"
   ]
  },
  {
   "cell_type": "markdown",
   "id": "26be6ee6",
   "metadata": {},
   "source": [
    "## 3. F-Scores (f1_macro)"
   ]
  },
  {
   "cell_type": "code",
   "execution_count": 9,
   "id": "ae57da68",
   "metadata": {},
   "outputs": [
    {
     "name": "stdout",
     "output_type": "stream",
     "text": [
      "Optimal number of features: 16\n"
     ]
    },
    {
     "data": {
      "image/png": "[encoded data removed]",
      "text/plain": [
       "<Figure size 1152x648 with 1 Axes>"
      ]
     },
     "metadata": {
      "needs_background": "light"
     },
     "output_type": "display_data"
    },
    {
     "data": {
      "text/plain": [
       "['alcohol_use',\n",
       " 'nuuska',\n",
       " 'cigarette',\n",
       " 'e_cigarette',\n",
       " 'prob_country',\n",
       " 'prob_resident',\n",
       " 'risk_of_use',\n",
       " 'risk_of_try',\n",
       " 'cannabis_access',\n",
       " 'other_drug_access',\n",
       " 'intoxicant_access',\n",
       " 'doping_access',\n",
       " 'sport',\n",
       " 'non_medical_1',\n",
       " 'drug_user_friend_1',\n",
       " 'drug_offer_1']"
      ]
     },
     "execution_count": 9,
     "metadata": {},
     "output_type": "execute_result"
    }
   ],
   "source": [
    "from sklearn.feature_selection import RFECV\n",
    "from sklearn.ensemble import RandomForestClassifier\n",
    "from sklearn.model_selection import StratifiedKFold\n",
    "\n",
    "def RFECV_ranking(X,y):\n",
    "  rf = RandomForestClassifier(n_estimators= 100, random_state=112) # 1500\n",
    "  rfecv = RFECV(estimator=rf, step=1, cv=StratifiedKFold(5), scoring='f1_macro') # 10\n",
    "  rfecv.fit(X,y)\n",
    "  \n",
    "      \n",
    "  print('Optimal number of features: {}'.format(rfecv.n_features_))\n",
    "  plt.figure(figsize=(16, 9))\n",
    "  plt.title('Recursive Feature Elimination with Cross-Validation', fontsize=18, fontweight='bold', pad=20)\n",
    "  plt.xlabel('Number of features selected', fontsize=14, labelpad=20)\n",
    "  plt.ylabel('f1 scores', fontsize=14, labelpad=20)\n",
    "  plt.plot(range(1, len(rfecv.grid_scores_) + 1), rfecv.grid_scores_, color='#303F9F', linewidth=3)\n",
    "  plt.show()\n",
    "  \n",
    "  features = [f for f,s in zip(data.columns[1:], rfecv.support_) if s]\n",
    "  return features\n",
    "\n",
    "\n",
    "RFECV_ranking(X_train_std, y_train)"
   ]
  },
  {
   "cell_type": "markdown",
   "id": "5656a27f",
   "metadata": {},
   "source": [
    "**Summary:** As seen here, our inbalanced data has a lower f1 score, which indicates we need other techniques to remedy this problem. Please read our summary for further clarification."
   ]
  },
  {
   "cell_type": "markdown",
   "id": "bbb82dae",
   "metadata": {},
   "source": [
    "# Random Forest RFE and RFECV"
   ]
  },
  {
   "cell_type": "markdown",
   "id": "70713046",
   "metadata": {},
   "source": [
    "\n",
    "Let’s get a couple of imports out of the way:\n",
    "\n",
    "- Pipeline — since we’ll perform some cross-validation. It’s best practice in order to avoid data leakage.\n",
    "- RepeatedStratifiedKFold — for repeated stratified cross-validation.\n",
    "- cross_val_score — for evaluating the score on cross-validation.\n",
    "- GradientBoostingClassifier — the estimator we’ll use.\n",
    "- numpy — so that we can compute the mean of the scores.\n",
    "\n",
    "The codes were adapted from [Derrick Mwiti post here](https://heartbeat.comet.ml/feature-ranking-with-recursive-feature-elimination-3e22db639208)\n",
    "\n",
    "\n"
   ]
  },
  {
   "cell_type": "code",
   "execution_count": 10,
   "id": "65be92d9",
   "metadata": {},
   "outputs": [],
   "source": [
    "from sklearn.pipeline import Pipeline\n",
    "from sklearn.model_selection import RepeatedStratifiedKFold\n",
    "from sklearn.model_selection import cross_val_score\n",
    "from sklearn.feature_selection import RFE\n",
    "import numpy as np"
   ]
  },
  {
   "cell_type": "markdown",
   "id": "a136831b",
   "metadata": {},
   "source": [
    "The first step is to create an instance of the RFE class while specifying the estimator and the number of features you’d like to select. In this case, we’re selecting 20:\n",
    "\n",
    "Next, we create an instance of the model we’d like to use:"
   ]
  },
  {
   "cell_type": "code",
   "execution_count": 11,
   "id": "8ff19a6d",
   "metadata": {},
   "outputs": [],
   "source": [
    "from sklearn.ensemble import RandomForestClassifier\n",
    "\n",
    "rfe = RFE(estimator=RandomForestClassifier(), n_features_to_select=20)\n",
    "\n",
    "model = RandomForestClassifier(n_estimators=100, random_state=112)"
   ]
  },
  {
   "cell_type": "markdown",
   "id": "8d377fad",
   "metadata": {},
   "source": [
    "We’ll use a Pipeline to transform the data. In the Pipeline we specify rfe for the feature selection step and the model that’ll be used in the next step.  \n",
    "\n",
    "We then specify a RepeatedStratifiedKFold with 10 splits and 5 repeats. The stratified K fold ensures that the number of samples from each class is well balanced in each fold. RepeatedStratifiedKFold repeats the stratified K fold the specified number of times, with a different randomization in each repetition."
   ]
  },
  {
   "cell_type": "code",
   "execution_count": 12,
   "id": "0bb88b10",
   "metadata": {},
   "outputs": [
    {
     "data": {
      "text/plain": [
       "0.698684584400264"
      ]
     },
     "execution_count": 12,
     "metadata": {},
     "output_type": "execute_result"
    }
   ],
   "source": [
    "pipeline = Pipeline([('Feature Selection', rfe), ('Model', model)])\n",
    "cv = RepeatedStratifiedKFold(n_splits=5, n_repeats=5, random_state=36851234)\n",
    "n_scores = cross_val_score(pipeline, X_train_std, y_train, scoring='f1_macro', cv=cv, n_jobs=-1)\n",
    "np.mean(n_scores)"
   ]
  },
  {
   "cell_type": "markdown",
   "id": "c625c866",
   "metadata": {},
   "source": [
    "The next step is to fit this pipeline to the dataset."
   ]
  },
  {
   "cell_type": "code",
   "execution_count": 13,
   "id": "28358ad1",
   "metadata": {},
   "outputs": [
    {
     "data": {
      "text/plain": [
       "Pipeline(steps=[('Feature Selection',\n",
       "                 RFE(estimator=RandomForestClassifier(),\n",
       "                     n_features_to_select=20)),\n",
       "                ('Model', RandomForestClassifier(random_state=112))])"
      ]
     },
     "execution_count": 13,
     "metadata": {},
     "output_type": "execute_result"
    }
   ],
   "source": [
    "pipeline.fit(X_train_std, y_train)"
   ]
  },
  {
   "cell_type": "code",
   "execution_count": 14,
   "id": "eca73fd0",
   "metadata": {},
   "outputs": [
    {
     "data": {
      "text/plain": [
       "array([ True,  True,  True,  True,  True,  True,  True,  True,  True,\n",
       "        True,  True,  True,  True,  True, False,  True, False, False,\n",
       "       False, False, False, False, False, False,  True,  True, False,\n",
       "       False, False, False, False, False, False, False,  True, False,\n",
       "       False, False,  True, False, False, False, False, False, False,\n",
       "        True, False, False])"
      ]
     },
     "execution_count": 14,
     "metadata": {},
     "output_type": "execute_result"
    }
   ],
   "source": [
    "rfe.support_"
   ]
  },
  {
   "cell_type": "markdown",
   "id": "dc4364e4",
   "metadata": {},
   "source": [
    "We can put that into a dataframe and check the result."
   ]
  },
  {
   "cell_type": "code",
   "execution_count": 15,
   "id": "a096e896",
   "metadata": {},
   "outputs": [
    {
     "data": {
      "text/html": [
       "<div>\n",
       "<style scoped>\n",
       "    .dataframe tbody tr th:only-of-type {\n",
       "        vertical-align: middle;\n",
       "    }\n",
       "\n",
       "    .dataframe tbody tr th {\n",
       "        vertical-align: top;\n",
       "    }\n",
       "\n",
       "    .dataframe thead th {\n",
       "        text-align: right;\n",
       "    }\n",
       "</style>\n",
       "<table border=\"1\" class=\"dataframe\">\n",
       "  <thead>\n",
       "    <tr style=\"text-align: right;\">\n",
       "      <th></th>\n",
       "      <th>Rank</th>\n",
       "    </tr>\n",
       "  </thead>\n",
       "  <tbody>\n",
       "    <tr>\n",
       "      <th>alcohol_use</th>\n",
       "      <td>True</td>\n",
       "    </tr>\n",
       "    <tr>\n",
       "      <th>nuuska</th>\n",
       "      <td>True</td>\n",
       "    </tr>\n",
       "    <tr>\n",
       "      <th>cigarette</th>\n",
       "      <td>True</td>\n",
       "    </tr>\n",
       "    <tr>\n",
       "      <th>e_cigarette</th>\n",
       "      <td>True</td>\n",
       "    </tr>\n",
       "    <tr>\n",
       "      <th>prob_country</th>\n",
       "      <td>True</td>\n",
       "    </tr>\n",
       "    <tr>\n",
       "      <th>prob_resident</th>\n",
       "      <td>True</td>\n",
       "    </tr>\n",
       "    <tr>\n",
       "      <th>risk_of_use</th>\n",
       "      <td>True</td>\n",
       "    </tr>\n",
       "    <tr>\n",
       "      <th>risk_of_try</th>\n",
       "      <td>True</td>\n",
       "    </tr>\n",
       "    <tr>\n",
       "      <th>cannabis_access</th>\n",
       "      <td>True</td>\n",
       "    </tr>\n",
       "    <tr>\n",
       "      <th>other_drug_access</th>\n",
       "      <td>True</td>\n",
       "    </tr>\n",
       "    <tr>\n",
       "      <th>intoxicant_access</th>\n",
       "      <td>True</td>\n",
       "    </tr>\n",
       "    <tr>\n",
       "      <th>doping_access</th>\n",
       "      <td>True</td>\n",
       "    </tr>\n",
       "    <tr>\n",
       "      <th>current_health</th>\n",
       "      <td>True</td>\n",
       "    </tr>\n",
       "    <tr>\n",
       "      <th>sport</th>\n",
       "      <td>True</td>\n",
       "    </tr>\n",
       "    <tr>\n",
       "      <th>has_child_1</th>\n",
       "      <td>False</td>\n",
       "    </tr>\n",
       "    <tr>\n",
       "      <th>non_medical_1</th>\n",
       "      <td>True</td>\n",
       "    </tr>\n",
       "    <tr>\n",
       "      <th>single_1</th>\n",
       "      <td>False</td>\n",
       "    </tr>\n",
       "    <tr>\n",
       "      <th>divorced_1</th>\n",
       "      <td>False</td>\n",
       "    </tr>\n",
       "    <tr>\n",
       "      <th>in_relation_1</th>\n",
       "      <td>False</td>\n",
       "    </tr>\n",
       "    <tr>\n",
       "      <th>helsinki_1</th>\n",
       "      <td>False</td>\n",
       "    </tr>\n",
       "    <tr>\n",
       "      <th>bigger_city_1</th>\n",
       "      <td>False</td>\n",
       "    </tr>\n",
       "    <tr>\n",
       "      <th>midsize_city_1</th>\n",
       "      <td>False</td>\n",
       "    </tr>\n",
       "    <tr>\n",
       "      <th>small_city_1</th>\n",
       "      <td>False</td>\n",
       "    </tr>\n",
       "    <tr>\n",
       "      <th>rural_1</th>\n",
       "      <td>False</td>\n",
       "    </tr>\n",
       "    <tr>\n",
       "      <th>drug_user_friend_1</th>\n",
       "      <td>True</td>\n",
       "    </tr>\n",
       "    <tr>\n",
       "      <th>drug_offer_1</th>\n",
       "      <td>True</td>\n",
       "    </tr>\n",
       "    <tr>\n",
       "      <th>alcohol_hp_1</th>\n",
       "      <td>False</td>\n",
       "    </tr>\n",
       "    <tr>\n",
       "      <th>drug_hp_1</th>\n",
       "      <td>False</td>\n",
       "    </tr>\n",
       "    <tr>\n",
       "      <th>medicine_hp_1</th>\n",
       "      <td>False</td>\n",
       "    </tr>\n",
       "    <tr>\n",
       "      <th>poly_hp_1</th>\n",
       "      <td>False</td>\n",
       "    </tr>\n",
       "    <tr>\n",
       "      <th>doping_hp_1</th>\n",
       "      <td>False</td>\n",
       "    </tr>\n",
       "    <tr>\n",
       "      <th>employment_1</th>\n",
       "      <td>False</td>\n",
       "    </tr>\n",
       "    <tr>\n",
       "      <th>gender_2</th>\n",
       "      <td>False</td>\n",
       "    </tr>\n",
       "    <tr>\n",
       "      <th>gender_3</th>\n",
       "      <td>False</td>\n",
       "    </tr>\n",
       "    <tr>\n",
       "      <th>age_bins_(24, 34]</th>\n",
       "      <td>True</td>\n",
       "    </tr>\n",
       "    <tr>\n",
       "      <th>age_bins_(34, 44]</th>\n",
       "      <td>False</td>\n",
       "    </tr>\n",
       "    <tr>\n",
       "      <th>age_bins_(44, 54]</th>\n",
       "      <td>False</td>\n",
       "    </tr>\n",
       "    <tr>\n",
       "      <th>age_bins_(54, 70]</th>\n",
       "      <td>False</td>\n",
       "    </tr>\n",
       "    <tr>\n",
       "      <th>household_2.0</th>\n",
       "      <td>True</td>\n",
       "    </tr>\n",
       "    <tr>\n",
       "      <th>household_3.0</th>\n",
       "      <td>False</td>\n",
       "    </tr>\n",
       "    <tr>\n",
       "      <th>education_2.0</th>\n",
       "      <td>False</td>\n",
       "    </tr>\n",
       "    <tr>\n",
       "      <th>education_3.0</th>\n",
       "      <td>False</td>\n",
       "    </tr>\n",
       "    <tr>\n",
       "      <th>education_4.0</th>\n",
       "      <td>False</td>\n",
       "    </tr>\n",
       "    <tr>\n",
       "      <th>violence_treat_2.0</th>\n",
       "      <td>False</td>\n",
       "    </tr>\n",
       "    <tr>\n",
       "      <th>violence_treat_3.0</th>\n",
       "      <td>False</td>\n",
       "    </tr>\n",
       "    <tr>\n",
       "      <th>drug_punishment_2.0</th>\n",
       "      <td>True</td>\n",
       "    </tr>\n",
       "    <tr>\n",
       "      <th>drug_punishment_3.0</th>\n",
       "      <td>False</td>\n",
       "    </tr>\n",
       "    <tr>\n",
       "      <th>drug_punishment_4.0</th>\n",
       "      <td>False</td>\n",
       "    </tr>\n",
       "  </tbody>\n",
       "</table>\n",
       "</div>"
      ],
      "text/plain": [
       "                      Rank\n",
       "alcohol_use           True\n",
       "nuuska                True\n",
       "cigarette             True\n",
       "e_cigarette           True\n",
       "prob_country          True\n",
       "prob_resident         True\n",
       "risk_of_use           True\n",
       "risk_of_try           True\n",
       "cannabis_access       True\n",
       "other_drug_access     True\n",
       "intoxicant_access     True\n",
       "doping_access         True\n",
       "current_health        True\n",
       "sport                 True\n",
       "has_child_1          False\n",
       "non_medical_1         True\n",
       "single_1             False\n",
       "divorced_1           False\n",
       "in_relation_1        False\n",
       "helsinki_1           False\n",
       "bigger_city_1        False\n",
       "midsize_city_1       False\n",
       "small_city_1         False\n",
       "rural_1              False\n",
       "drug_user_friend_1    True\n",
       "drug_offer_1          True\n",
       "alcohol_hp_1         False\n",
       "drug_hp_1            False\n",
       "medicine_hp_1        False\n",
       "poly_hp_1            False\n",
       "doping_hp_1          False\n",
       "employment_1         False\n",
       "gender_2             False\n",
       "gender_3             False\n",
       "age_bins_(24, 34]     True\n",
       "age_bins_(34, 44]    False\n",
       "age_bins_(44, 54]    False\n",
       "age_bins_(54, 70]    False\n",
       "household_2.0         True\n",
       "household_3.0        False\n",
       "education_2.0        False\n",
       "education_3.0        False\n",
       "education_4.0        False\n",
       "violence_treat_2.0   False\n",
       "violence_treat_3.0   False\n",
       "drug_punishment_2.0   True\n",
       "drug_punishment_3.0  False\n",
       "drug_punishment_4.0  False"
      ]
     },
     "execution_count": 15,
     "metadata": {},
     "output_type": "execute_result"
    }
   ],
   "source": [
    "pd.DataFrame(rfe.support_,index=data.columns[1:],columns=['Rank'])"
   ]
  },
  {
   "cell_type": "markdown",
   "id": "2989ca08",
   "metadata": {},
   "source": [
    "We can also check the relative rankings."
   ]
  },
  {
   "cell_type": "code",
   "execution_count": 16,
   "id": "d8705bfb",
   "metadata": {},
   "outputs": [
    {
     "data": {
      "text/html": [
       "<div>\n",
       "<style scoped>\n",
       "    .dataframe tbody tr th:only-of-type {\n",
       "        vertical-align: middle;\n",
       "    }\n",
       "\n",
       "    .dataframe tbody tr th {\n",
       "        vertical-align: top;\n",
       "    }\n",
       "\n",
       "    .dataframe thead th {\n",
       "        text-align: right;\n",
       "    }\n",
       "</style>\n",
       "<table border=\"1\" class=\"dataframe\">\n",
       "  <thead>\n",
       "    <tr style=\"text-align: right;\">\n",
       "      <th></th>\n",
       "      <th>Rank</th>\n",
       "    </tr>\n",
       "  </thead>\n",
       "  <tbody>\n",
       "    <tr>\n",
       "      <th>alcohol_use</th>\n",
       "      <td>1</td>\n",
       "    </tr>\n",
       "    <tr>\n",
       "      <th>drug_punishment_2.0</th>\n",
       "      <td>1</td>\n",
       "    </tr>\n",
       "    <tr>\n",
       "      <th>household_2.0</th>\n",
       "      <td>1</td>\n",
       "    </tr>\n",
       "    <tr>\n",
       "      <th>non_medical_1</th>\n",
       "      <td>1</td>\n",
       "    </tr>\n",
       "    <tr>\n",
       "      <th>age_bins_(24, 34]</th>\n",
       "      <td>1</td>\n",
       "    </tr>\n",
       "    <tr>\n",
       "      <th>sport</th>\n",
       "      <td>1</td>\n",
       "    </tr>\n",
       "    <tr>\n",
       "      <th>current_health</th>\n",
       "      <td>1</td>\n",
       "    </tr>\n",
       "    <tr>\n",
       "      <th>doping_access</th>\n",
       "      <td>1</td>\n",
       "    </tr>\n",
       "    <tr>\n",
       "      <th>drug_offer_1</th>\n",
       "      <td>1</td>\n",
       "    </tr>\n",
       "    <tr>\n",
       "      <th>intoxicant_access</th>\n",
       "      <td>1</td>\n",
       "    </tr>\n",
       "  </tbody>\n",
       "</table>\n",
       "</div>"
      ],
      "text/plain": [
       "                     Rank\n",
       "alcohol_use             1\n",
       "drug_punishment_2.0     1\n",
       "household_2.0           1\n",
       "non_medical_1           1\n",
       "age_bins_(24, 34]       1\n",
       "sport                   1\n",
       "current_health          1\n",
       "doping_access           1\n",
       "drug_offer_1            1\n",
       "intoxicant_access       1"
      ]
     },
     "execution_count": 16,
     "metadata": {},
     "output_type": "execute_result"
    }
   ],
   "source": [
    "rf_df = pd.DataFrame(rfe.ranking_,index=data.columns[1:],columns=['Rank']).sort_values(by='Rank',ascending=True)\n",
    "rf_df.head(10)"
   ]
  },
  {
   "cell_type": "markdown",
   "id": "b4390f7d",
   "metadata": {},
   "source": [
    "## 2.1. Automatic feature selection: RFECV\n",
    "\n",
    "Instead of manually configuring the number of features, it would be very nice if we could automatically select them. This can be achieved via recursive feature elimination and cross-validation. This is done via the sklearn.feature_selection.RFECV class. The class takes the following parameters:\n",
    "\n",
    "- estimator — similar to the RFE class.\n",
    "- min_features_to_select — the minimum number of features to be selected.\n",
    "- cv— the cross-validation splitting strategy.\n",
    "\n",
    "**The attributes returned are:**\n",
    "\n",
    "- n_features_ — the optimal number of features selected via cross-validation.\n",
    "- support_ — the array containing information on the selection of a feature.\n",
    "- ranking_ — the ranking of the features.\n",
    "- grid_scores_ — the scores obtained from cross-validation."
   ]
  },
  {
   "cell_type": "markdown",
   "id": "f79d88b1",
   "metadata": {},
   "source": [
    "The first step is to import the class and create its instance.\n",
    "\n"
   ]
  },
  {
   "cell_type": "code",
   "execution_count": 17,
   "id": "098e96ff",
   "metadata": {},
   "outputs": [],
   "source": [
    "from sklearn.ensemble import RandomForestClassifier\n",
    "\n",
    "rfecv= RFECV(estimator=RandomForestClassifier())\n"
   ]
  },
  {
   "cell_type": "markdown",
   "id": "0f0aecc8",
   "metadata": {},
   "source": [
    "The next step is to specify the pipeline and the cv. In this pipeline we use the just created rfecv.\n",
    "\n"
   ]
  },
  {
   "cell_type": "code",
   "execution_count": 18,
   "id": "4f6985d2",
   "metadata": {},
   "outputs": [
    {
     "data": {
      "text/plain": [
       "0.7028239134658434"
      ]
     },
     "execution_count": 18,
     "metadata": {},
     "output_type": "execute_result"
    }
   ],
   "source": [
    "pipeline = Pipeline([('Feature Selection', rfecv), ('Model', model)])\n",
    "cv = RepeatedStratifiedKFold(n_splits=5, n_repeats=5, random_state=92116)\n",
    "n_scores = cross_val_score(pipeline, X_train_std, y_train, scoring='f1_macro', cv=cv, n_jobs=-1)\n",
    "np.mean(n_scores)"
   ]
  },
  {
   "cell_type": "markdown",
   "id": "cd762eff",
   "metadata": {},
   "source": [
    "Let’s fit the pipeline and then obtain the optimal number of features."
   ]
  },
  {
   "cell_type": "code",
   "execution_count": 19,
   "id": "b9181acf",
   "metadata": {},
   "outputs": [
    {
     "data": {
      "text/plain": [
       "Pipeline(steps=[('Feature Selection',\n",
       "                 RFECV(estimator=RandomForestClassifier())),\n",
       "                ('Model', RandomForestClassifier(random_state=112))])"
      ]
     },
     "execution_count": 19,
     "metadata": {},
     "output_type": "execute_result"
    }
   ],
   "source": [
    "pipeline.fit(X_train_std, y_train)"
   ]
  },
  {
   "cell_type": "code",
   "execution_count": 20,
   "id": "80f42692",
   "metadata": {},
   "outputs": [
    {
     "data": {
      "text/plain": [
       "array([ True,  True,  True,  True,  True,  True,  True,  True,  True,\n",
       "        True,  True,  True,  True,  True, False,  True,  True, False,\n",
       "       False, False, False, False, False, False,  True,  True, False,\n",
       "        True, False, False, False, False, False, False,  True, False,\n",
       "       False, False,  True, False, False, False, False,  True, False,\n",
       "        True, False, False])"
      ]
     },
     "execution_count": 20,
     "metadata": {},
     "output_type": "execute_result"
    }
   ],
   "source": [
    "rfecv.support_"
   ]
  },
  {
   "cell_type": "markdown",
   "id": "a82ea8f3",
   "metadata": {},
   "source": [
    "The optimal number of features can be obtained via the n_features_ attribute."
   ]
  },
  {
   "cell_type": "code",
   "execution_count": 21,
   "id": "d5d8ef10",
   "metadata": {},
   "outputs": [
    {
     "name": "stdout",
     "output_type": "stream",
     "text": [
      "Optimal number of features : 23\n"
     ]
    }
   ],
   "source": [
    "print('Optimal number of features : %d' % rfecv.n_features_)\n"
   ]
  },
  {
   "cell_type": "markdown",
   "id": "cdbf06d2",
   "metadata": {},
   "source": [
    "The rankings and support can be obtained just like last time."
   ]
  },
  {
   "cell_type": "code",
   "execution_count": 22,
   "id": "f210fb32",
   "metadata": {},
   "outputs": [
    {
     "data": {
      "text/html": [
       "<div>\n",
       "<style scoped>\n",
       "    .dataframe tbody tr th:only-of-type {\n",
       "        vertical-align: middle;\n",
       "    }\n",
       "\n",
       "    .dataframe tbody tr th {\n",
       "        vertical-align: top;\n",
       "    }\n",
       "\n",
       "    .dataframe thead th {\n",
       "        text-align: right;\n",
       "    }\n",
       "</style>\n",
       "<table border=\"1\" class=\"dataframe\">\n",
       "  <thead>\n",
       "    <tr style=\"text-align: right;\">\n",
       "      <th></th>\n",
       "      <th>Rank</th>\n",
       "    </tr>\n",
       "  </thead>\n",
       "  <tbody>\n",
       "    <tr>\n",
       "      <th>alcohol_use</th>\n",
       "      <td>1</td>\n",
       "    </tr>\n",
       "    <tr>\n",
       "      <th>age_bins_(24, 34]</th>\n",
       "      <td>1</td>\n",
       "    </tr>\n",
       "    <tr>\n",
       "      <th>household_2.0</th>\n",
       "      <td>1</td>\n",
       "    </tr>\n",
       "    <tr>\n",
       "      <th>drug_hp_1</th>\n",
       "      <td>1</td>\n",
       "    </tr>\n",
       "    <tr>\n",
       "      <th>violence_treat_2.0</th>\n",
       "      <td>1</td>\n",
       "    </tr>\n",
       "  </tbody>\n",
       "</table>\n",
       "</div>"
      ],
      "text/plain": [
       "                    Rank\n",
       "alcohol_use            1\n",
       "age_bins_(24, 34]      1\n",
       "household_2.0          1\n",
       "drug_hp_1              1\n",
       "violence_treat_2.0     1"
      ]
     },
     "execution_count": 22,
     "metadata": {},
     "output_type": "execute_result"
    }
   ],
   "source": [
    "rfecv.support_rfecv_df = pd.DataFrame(rfecv.ranking_,index=data.columns[1:],columns=['Rank']).sort_values(by='Rank',ascending=True)\n",
    "rfecv.support_rfecv_df.head()"
   ]
  },
  {
   "cell_type": "code",
   "execution_count": 23,
   "id": "32f07a81",
   "metadata": {},
   "outputs": [
    {
     "data": {
      "image/png": "[encoded data removed]",
      "text/plain": [
       "<Figure size 864x432 with 1 Axes>"
      ]
     },
     "metadata": {
      "needs_background": "light"
     },
     "output_type": "display_data"
    }
   ],
   "source": [
    "import matplotlib.pyplot as plt\n",
    "plt.figure(figsize=(12,6))\n",
    "plt.xlabel('Number of features selected')\n",
    "plt.ylabel('Cross validation score (nb of correct classifications: f1 score)')\n",
    "plt.plot(range(1, len(rfecv.grid_scores_) + 1), rfecv.grid_scores_)\n",
    "plt.show()"
   ]
  },
  {
   "cell_type": "code",
   "execution_count": 24,
   "id": "887d8974",
   "metadata": {},
   "outputs": [
    {
     "data": {
      "text/plain": [
       "['alcohol_use',\n",
       " 'drug_punishment_2.0',\n",
       " 'household_2.0',\n",
       " 'non_medical_1',\n",
       " 'age_bins_(24, 34]',\n",
       " 'sport',\n",
       " 'current_health',\n",
       " 'doping_access',\n",
       " 'drug_offer_1',\n",
       " 'intoxicant_access',\n",
       " 'cannabis_access',\n",
       " 'risk_of_try',\n",
       " 'risk_of_use',\n",
       " 'prob_resident',\n",
       " 'prob_country',\n",
       " 'e_cigarette',\n",
       " 'cigarette',\n",
       " 'nuuska',\n",
       " 'other_drug_access',\n",
       " 'drug_user_friend_1']"
      ]
     },
     "execution_count": 24,
     "metadata": {},
     "output_type": "execute_result"
    }
   ],
   "source": [
    "# list of features for further use\n",
    "\n",
    "dt_cloumns = rf_df[rf_df['Rank']==1].reset_index()\n",
    "dt_cloumns= dt_cloumns['index'].to_list()\n",
    "dt_cloumns"
   ]
  },
  {
   "cell_type": "markdown",
   "id": "22a4d290",
   "metadata": {},
   "source": [
    "# RFE GradientBoostingClassifier"
   ]
  },
  {
   "cell_type": "code",
   "execution_count": 25,
   "id": "1bce5aae",
   "metadata": {},
   "outputs": [],
   "source": [
    "from sklearn.pipeline import Pipeline\n",
    "from sklearn.model_selection import RepeatedStratifiedKFold\n",
    "from sklearn.model_selection import cross_val_score\n",
    "from sklearn.feature_selection import RFE\n",
    "import numpy as np\n"
   ]
  },
  {
   "cell_type": "code",
   "execution_count": 26,
   "id": "70f66110",
   "metadata": {},
   "outputs": [],
   "source": [
    "from sklearn.ensemble import GradientBoostingClassifier\n",
    "rfe = RFE(estimator=GradientBoostingClassifier(), n_features_to_select=20)\n",
    "model = GradientBoostingClassifier()"
   ]
  },
  {
   "cell_type": "code",
   "execution_count": 27,
   "id": "42395042",
   "metadata": {},
   "outputs": [
    {
     "data": {
      "text/plain": [
       "0.7188093350858956"
      ]
     },
     "execution_count": 27,
     "metadata": {},
     "output_type": "execute_result"
    }
   ],
   "source": [
    "# pipeline\n",
    "pipe = Pipeline([('Feature Selection', rfe), ('Model', model)])\n",
    "cv = RepeatedStratifiedKFold(n_splits=5, n_repeats=5, random_state=92116)\n",
    "n_scores = cross_val_score(pipe, X_train_std, y_train, scoring='f1_macro', cv=cv, n_jobs=-1)\n",
    "np.mean(n_scores)"
   ]
  },
  {
   "cell_type": "code",
   "execution_count": 28,
   "id": "26417285",
   "metadata": {},
   "outputs": [
    {
     "data": {
      "text/plain": [
       "Pipeline(steps=[('Feature Selection',\n",
       "                 RFE(estimator=GradientBoostingClassifier(),\n",
       "                     n_features_to_select=20)),\n",
       "                ('Model', GradientBoostingClassifier())])"
      ]
     },
     "execution_count": 28,
     "metadata": {},
     "output_type": "execute_result"
    }
   ],
   "source": [
    "pipe.fit(X_train_std, y_train)"
   ]
  },
  {
   "cell_type": "code",
   "execution_count": 29,
   "id": "e336eadc",
   "metadata": {},
   "outputs": [
    {
     "data": {
      "text/plain": [
       "array([ True,  True,  True,  True,  True, False,  True,  True,  True,\n",
       "       False,  True, False,  True,  True, False,  True,  True, False,\n",
       "       False, False, False, False, False, False,  True,  True, False,\n",
       "        True, False, False, False, False, False, False,  True, False,\n",
       "       False, False,  True, False, False, False, False,  True, False,\n",
       "        True, False, False])"
      ]
     },
     "execution_count": 29,
     "metadata": {},
     "output_type": "execute_result"
    }
   ],
   "source": [
    "rfe.support_"
   ]
  },
  {
   "cell_type": "code",
   "execution_count": 30,
   "id": "21476bd3",
   "metadata": {},
   "outputs": [
    {
     "data": {
      "text/html": [
       "<div>\n",
       "<style scoped>\n",
       "    .dataframe tbody tr th:only-of-type {\n",
       "        vertical-align: middle;\n",
       "    }\n",
       "\n",
       "    .dataframe tbody tr th {\n",
       "        vertical-align: top;\n",
       "    }\n",
       "\n",
       "    .dataframe thead th {\n",
       "        text-align: right;\n",
       "    }\n",
       "</style>\n",
       "<table border=\"1\" class=\"dataframe\">\n",
       "  <thead>\n",
       "    <tr style=\"text-align: right;\">\n",
       "      <th></th>\n",
       "      <th>Rank</th>\n",
       "    </tr>\n",
       "  </thead>\n",
       "  <tbody>\n",
       "    <tr>\n",
       "      <th>alcohol_use</th>\n",
       "      <td>True</td>\n",
       "    </tr>\n",
       "    <tr>\n",
       "      <th>nuuska</th>\n",
       "      <td>True</td>\n",
       "    </tr>\n",
       "    <tr>\n",
       "      <th>cigarette</th>\n",
       "      <td>True</td>\n",
       "    </tr>\n",
       "    <tr>\n",
       "      <th>e_cigarette</th>\n",
       "      <td>True</td>\n",
       "    </tr>\n",
       "    <tr>\n",
       "      <th>prob_country</th>\n",
       "      <td>True</td>\n",
       "    </tr>\n",
       "    <tr>\n",
       "      <th>prob_resident</th>\n",
       "      <td>False</td>\n",
       "    </tr>\n",
       "    <tr>\n",
       "      <th>risk_of_use</th>\n",
       "      <td>True</td>\n",
       "    </tr>\n",
       "    <tr>\n",
       "      <th>risk_of_try</th>\n",
       "      <td>True</td>\n",
       "    </tr>\n",
       "    <tr>\n",
       "      <th>cannabis_access</th>\n",
       "      <td>True</td>\n",
       "    </tr>\n",
       "    <tr>\n",
       "      <th>other_drug_access</th>\n",
       "      <td>False</td>\n",
       "    </tr>\n",
       "    <tr>\n",
       "      <th>intoxicant_access</th>\n",
       "      <td>True</td>\n",
       "    </tr>\n",
       "    <tr>\n",
       "      <th>doping_access</th>\n",
       "      <td>False</td>\n",
       "    </tr>\n",
       "    <tr>\n",
       "      <th>current_health</th>\n",
       "      <td>True</td>\n",
       "    </tr>\n",
       "    <tr>\n",
       "      <th>sport</th>\n",
       "      <td>True</td>\n",
       "    </tr>\n",
       "    <tr>\n",
       "      <th>has_child_1</th>\n",
       "      <td>False</td>\n",
       "    </tr>\n",
       "    <tr>\n",
       "      <th>non_medical_1</th>\n",
       "      <td>True</td>\n",
       "    </tr>\n",
       "    <tr>\n",
       "      <th>single_1</th>\n",
       "      <td>True</td>\n",
       "    </tr>\n",
       "    <tr>\n",
       "      <th>divorced_1</th>\n",
       "      <td>False</td>\n",
       "    </tr>\n",
       "    <tr>\n",
       "      <th>in_relation_1</th>\n",
       "      <td>False</td>\n",
       "    </tr>\n",
       "    <tr>\n",
       "      <th>helsinki_1</th>\n",
       "      <td>False</td>\n",
       "    </tr>\n",
       "    <tr>\n",
       "      <th>bigger_city_1</th>\n",
       "      <td>False</td>\n",
       "    </tr>\n",
       "    <tr>\n",
       "      <th>midsize_city_1</th>\n",
       "      <td>False</td>\n",
       "    </tr>\n",
       "    <tr>\n",
       "      <th>small_city_1</th>\n",
       "      <td>False</td>\n",
       "    </tr>\n",
       "    <tr>\n",
       "      <th>rural_1</th>\n",
       "      <td>False</td>\n",
       "    </tr>\n",
       "    <tr>\n",
       "      <th>drug_user_friend_1</th>\n",
       "      <td>True</td>\n",
       "    </tr>\n",
       "    <tr>\n",
       "      <th>drug_offer_1</th>\n",
       "      <td>True</td>\n",
       "    </tr>\n",
       "    <tr>\n",
       "      <th>alcohol_hp_1</th>\n",
       "      <td>False</td>\n",
       "    </tr>\n",
       "    <tr>\n",
       "      <th>drug_hp_1</th>\n",
       "      <td>True</td>\n",
       "    </tr>\n",
       "    <tr>\n",
       "      <th>medicine_hp_1</th>\n",
       "      <td>False</td>\n",
       "    </tr>\n",
       "    <tr>\n",
       "      <th>poly_hp_1</th>\n",
       "      <td>False</td>\n",
       "    </tr>\n",
       "    <tr>\n",
       "      <th>doping_hp_1</th>\n",
       "      <td>False</td>\n",
       "    </tr>\n",
       "    <tr>\n",
       "      <th>employment_1</th>\n",
       "      <td>False</td>\n",
       "    </tr>\n",
       "    <tr>\n",
       "      <th>gender_2</th>\n",
       "      <td>False</td>\n",
       "    </tr>\n",
       "    <tr>\n",
       "      <th>gender_3</th>\n",
       "      <td>False</td>\n",
       "    </tr>\n",
       "    <tr>\n",
       "      <th>age_bins_(24, 34]</th>\n",
       "      <td>True</td>\n",
       "    </tr>\n",
       "    <tr>\n",
       "      <th>age_bins_(34, 44]</th>\n",
       "      <td>False</td>\n",
       "    </tr>\n",
       "    <tr>\n",
       "      <th>age_bins_(44, 54]</th>\n",
       "      <td>False</td>\n",
       "    </tr>\n",
       "    <tr>\n",
       "      <th>age_bins_(54, 70]</th>\n",
       "      <td>False</td>\n",
       "    </tr>\n",
       "    <tr>\n",
       "      <th>household_2.0</th>\n",
       "      <td>True</td>\n",
       "    </tr>\n",
       "    <tr>\n",
       "      <th>household_3.0</th>\n",
       "      <td>False</td>\n",
       "    </tr>\n",
       "    <tr>\n",
       "      <th>education_2.0</th>\n",
       "      <td>False</td>\n",
       "    </tr>\n",
       "    <tr>\n",
       "      <th>education_3.0</th>\n",
       "      <td>False</td>\n",
       "    </tr>\n",
       "    <tr>\n",
       "      <th>education_4.0</th>\n",
       "      <td>False</td>\n",
       "    </tr>\n",
       "    <tr>\n",
       "      <th>violence_treat_2.0</th>\n",
       "      <td>True</td>\n",
       "    </tr>\n",
       "    <tr>\n",
       "      <th>violence_treat_3.0</th>\n",
       "      <td>False</td>\n",
       "    </tr>\n",
       "    <tr>\n",
       "      <th>drug_punishment_2.0</th>\n",
       "      <td>True</td>\n",
       "    </tr>\n",
       "    <tr>\n",
       "      <th>drug_punishment_3.0</th>\n",
       "      <td>False</td>\n",
       "    </tr>\n",
       "    <tr>\n",
       "      <th>drug_punishment_4.0</th>\n",
       "      <td>False</td>\n",
       "    </tr>\n",
       "  </tbody>\n",
       "</table>\n",
       "</div>"
      ],
      "text/plain": [
       "                      Rank\n",
       "alcohol_use           True\n",
       "nuuska                True\n",
       "cigarette             True\n",
       "e_cigarette           True\n",
       "prob_country          True\n",
       "prob_resident        False\n",
       "risk_of_use           True\n",
       "risk_of_try           True\n",
       "cannabis_access       True\n",
       "other_drug_access    False\n",
       "intoxicant_access     True\n",
       "doping_access        False\n",
       "current_health        True\n",
       "sport                 True\n",
       "has_child_1          False\n",
       "non_medical_1         True\n",
       "single_1              True\n",
       "divorced_1           False\n",
       "in_relation_1        False\n",
       "helsinki_1           False\n",
       "bigger_city_1        False\n",
       "midsize_city_1       False\n",
       "small_city_1         False\n",
       "rural_1              False\n",
       "drug_user_friend_1    True\n",
       "drug_offer_1          True\n",
       "alcohol_hp_1         False\n",
       "drug_hp_1             True\n",
       "medicine_hp_1        False\n",
       "poly_hp_1            False\n",
       "doping_hp_1          False\n",
       "employment_1         False\n",
       "gender_2             False\n",
       "gender_3             False\n",
       "age_bins_(24, 34]     True\n",
       "age_bins_(34, 44]    False\n",
       "age_bins_(44, 54]    False\n",
       "age_bins_(54, 70]    False\n",
       "household_2.0         True\n",
       "household_3.0        False\n",
       "education_2.0        False\n",
       "education_3.0        False\n",
       "education_4.0        False\n",
       "violence_treat_2.0    True\n",
       "violence_treat_3.0   False\n",
       "drug_punishment_2.0   True\n",
       "drug_punishment_3.0  False\n",
       "drug_punishment_4.0  False"
      ]
     },
     "execution_count": 30,
     "metadata": {},
     "output_type": "execute_result"
    }
   ],
   "source": [
    "pd.DataFrame(rfe.support_,index=data.columns[1:],columns=['Rank'])"
   ]
  },
  {
   "cell_type": "code",
   "execution_count": 31,
   "id": "e0612983",
   "metadata": {},
   "outputs": [
    {
     "data": {
      "text/html": [
       "<div>\n",
       "<style scoped>\n",
       "    .dataframe tbody tr th:only-of-type {\n",
       "        vertical-align: middle;\n",
       "    }\n",
       "\n",
       "    .dataframe tbody tr th {\n",
       "        vertical-align: top;\n",
       "    }\n",
       "\n",
       "    .dataframe thead th {\n",
       "        text-align: right;\n",
       "    }\n",
       "</style>\n",
       "<table border=\"1\" class=\"dataframe\">\n",
       "  <thead>\n",
       "    <tr style=\"text-align: right;\">\n",
       "      <th></th>\n",
       "      <th>Rank</th>\n",
       "    </tr>\n",
       "  </thead>\n",
       "  <tbody>\n",
       "    <tr>\n",
       "      <th>alcohol_use</th>\n",
       "      <td>1</td>\n",
       "    </tr>\n",
       "    <tr>\n",
       "      <th>drug_hp_1</th>\n",
       "      <td>1</td>\n",
       "    </tr>\n",
       "    <tr>\n",
       "      <th>age_bins_(24, 34]</th>\n",
       "      <td>1</td>\n",
       "    </tr>\n",
       "    <tr>\n",
       "      <th>household_2.0</th>\n",
       "      <td>1</td>\n",
       "    </tr>\n",
       "    <tr>\n",
       "      <th>single_1</th>\n",
       "      <td>1</td>\n",
       "    </tr>\n",
       "    <tr>\n",
       "      <th>non_medical_1</th>\n",
       "      <td>1</td>\n",
       "    </tr>\n",
       "    <tr>\n",
       "      <th>sport</th>\n",
       "      <td>1</td>\n",
       "    </tr>\n",
       "    <tr>\n",
       "      <th>current_health</th>\n",
       "      <td>1</td>\n",
       "    </tr>\n",
       "    <tr>\n",
       "      <th>drug_offer_1</th>\n",
       "      <td>1</td>\n",
       "    </tr>\n",
       "    <tr>\n",
       "      <th>intoxicant_access</th>\n",
       "      <td>1</td>\n",
       "    </tr>\n",
       "  </tbody>\n",
       "</table>\n",
       "</div>"
      ],
      "text/plain": [
       "                   Rank\n",
       "alcohol_use           1\n",
       "drug_hp_1             1\n",
       "age_bins_(24, 34]     1\n",
       "household_2.0         1\n",
       "single_1              1\n",
       "non_medical_1         1\n",
       "sport                 1\n",
       "current_health        1\n",
       "drug_offer_1          1\n",
       "intoxicant_access     1"
      ]
     },
     "execution_count": 31,
     "metadata": {},
     "output_type": "execute_result"
    }
   ],
   "source": [
    "rf_df = pd.DataFrame(rfe.ranking_,index=data.columns[1:],columns=['Rank']).sort_values(by='Rank',ascending=True)\n",
    "rf_df.head(10)"
   ]
  },
  {
   "cell_type": "markdown",
   "id": "6e906816",
   "metadata": {},
   "source": [
    "## Automatic Feature Selection"
   ]
  },
  {
   "cell_type": "code",
   "execution_count": 32,
   "id": "6751b427",
   "metadata": {},
   "outputs": [
    {
     "data": {
      "text/plain": [
       "0.7111926820828803"
      ]
     },
     "execution_count": 32,
     "metadata": {},
     "output_type": "execute_result"
    }
   ],
   "source": [
    "from sklearn.feature_selection import RFECV\n",
    "rfecv = RFECV(estimator=GradientBoostingClassifier())\n",
    "pipeline = Pipeline([('Feature Selection', rfecv), ('Model', model)])\n",
    "cv = RepeatedStratifiedKFold(n_splits=5, n_repeats=5, random_state=36851234)\n",
    "n_scores = cross_val_score(pipeline, X_train_std, y_train, scoring='f1_macro', cv=cv, n_jobs=-1)\n",
    "np.mean(n_scores)"
   ]
  },
  {
   "cell_type": "code",
   "execution_count": 33,
   "id": "a8513a33",
   "metadata": {},
   "outputs": [
    {
     "data": {
      "text/plain": [
       "Pipeline(steps=[('Feature Selection',\n",
       "                 RFECV(estimator=GradientBoostingClassifier())),\n",
       "                ('Model', GradientBoostingClassifier())])"
      ]
     },
     "execution_count": 33,
     "metadata": {},
     "output_type": "execute_result"
    }
   ],
   "source": [
    "pipeline.fit(X_train_std,y_train)"
   ]
  },
  {
   "cell_type": "code",
   "execution_count": 34,
   "id": "cc986176",
   "metadata": {},
   "outputs": [
    {
     "name": "stdout",
     "output_type": "stream",
     "text": [
      "Optimal number of features : 23\n"
     ]
    }
   ],
   "source": [
    "print('Optimal number of features : %d' % rfecv.n_features_)"
   ]
  },
  {
   "cell_type": "code",
   "execution_count": 35,
   "id": "e07fa2f1",
   "metadata": {},
   "outputs": [
    {
     "data": {
      "text/html": [
       "<div>\n",
       "<style scoped>\n",
       "    .dataframe tbody tr th:only-of-type {\n",
       "        vertical-align: middle;\n",
       "    }\n",
       "\n",
       "    .dataframe tbody tr th {\n",
       "        vertical-align: top;\n",
       "    }\n",
       "\n",
       "    .dataframe thead th {\n",
       "        text-align: right;\n",
       "    }\n",
       "</style>\n",
       "<table border=\"1\" class=\"dataframe\">\n",
       "  <thead>\n",
       "    <tr style=\"text-align: right;\">\n",
       "      <th></th>\n",
       "      <th>Rank</th>\n",
       "    </tr>\n",
       "  </thead>\n",
       "  <tbody>\n",
       "    <tr>\n",
       "      <th>alcohol_use</th>\n",
       "      <td>1</td>\n",
       "    </tr>\n",
       "    <tr>\n",
       "      <th>drug_hp_1</th>\n",
       "      <td>1</td>\n",
       "    </tr>\n",
       "    <tr>\n",
       "      <th>helsinki_1</th>\n",
       "      <td>1</td>\n",
       "    </tr>\n",
       "    <tr>\n",
       "      <th>age_bins_(24, 34]</th>\n",
       "      <td>1</td>\n",
       "    </tr>\n",
       "    <tr>\n",
       "      <th>household_2.0</th>\n",
       "      <td>1</td>\n",
       "    </tr>\n",
       "    <tr>\n",
       "      <th>single_1</th>\n",
       "      <td>1</td>\n",
       "    </tr>\n",
       "    <tr>\n",
       "      <th>non_medical_1</th>\n",
       "      <td>1</td>\n",
       "    </tr>\n",
       "    <tr>\n",
       "      <th>has_child_1</th>\n",
       "      <td>1</td>\n",
       "    </tr>\n",
       "    <tr>\n",
       "      <th>sport</th>\n",
       "      <td>1</td>\n",
       "    </tr>\n",
       "    <tr>\n",
       "      <th>current_health</th>\n",
       "      <td>1</td>\n",
       "    </tr>\n",
       "    <tr>\n",
       "      <th>drug_offer_1</th>\n",
       "      <td>1</td>\n",
       "    </tr>\n",
       "    <tr>\n",
       "      <th>violence_treat_2.0</th>\n",
       "      <td>1</td>\n",
       "    </tr>\n",
       "    <tr>\n",
       "      <th>drug_punishment_2.0</th>\n",
       "      <td>1</td>\n",
       "    </tr>\n",
       "    <tr>\n",
       "      <th>cannabis_access</th>\n",
       "      <td>1</td>\n",
       "    </tr>\n",
       "    <tr>\n",
       "      <th>risk_of_try</th>\n",
       "      <td>1</td>\n",
       "    </tr>\n",
       "  </tbody>\n",
       "</table>\n",
       "</div>"
      ],
      "text/plain": [
       "                     Rank\n",
       "alcohol_use             1\n",
       "drug_hp_1               1\n",
       "helsinki_1              1\n",
       "age_bins_(24, 34]       1\n",
       "household_2.0           1\n",
       "single_1                1\n",
       "non_medical_1           1\n",
       "has_child_1             1\n",
       "sport                   1\n",
       "current_health          1\n",
       "drug_offer_1            1\n",
       "violence_treat_2.0      1\n",
       "drug_punishment_2.0     1\n",
       "cannabis_access         1\n",
       "risk_of_try             1"
      ]
     },
     "execution_count": 35,
     "metadata": {},
     "output_type": "execute_result"
    }
   ],
   "source": [
    "rfecv.support_rfecv_df = pd.DataFrame(rfecv.ranking_,index=data.columns[1:],columns=['Rank']).sort_values(by='Rank',ascending=True)\n",
    "rfecv.support_rfecv_df.head(15)"
   ]
  },
  {
   "cell_type": "code",
   "execution_count": 36,
   "id": "5ea64e3e",
   "metadata": {},
   "outputs": [
    {
     "data": {
      "image/png": "[encoded data removed]",
      "text/plain": [
       "<Figure size 864x432 with 1 Axes>"
      ]
     },
     "metadata": {
      "needs_background": "light"
     },
     "output_type": "display_data"
    }
   ],
   "source": [
    "import matplotlib.pyplot as plt\n",
    "plt.figure(figsize=(12,6))\n",
    "plt.xlabel('Number of features selected')\n",
    "plt.ylabel('Cross validation score (nb of correct classifications: f1 score)')\n",
    "plt.plot(range(1, len(rfecv.grid_scores_) + 1), rfecv.grid_scores_)\n",
    "plt.show()"
   ]
  },
  {
   "cell_type": "code",
   "execution_count": 37,
   "id": "ae41e902",
   "metadata": {},
   "outputs": [
    {
     "data": {
      "text/plain": [
       "['alcohol_use',\n",
       " 'drug_hp_1',\n",
       " 'age_bins_(24, 34]',\n",
       " 'household_2.0',\n",
       " 'single_1',\n",
       " 'non_medical_1',\n",
       " 'sport',\n",
       " 'current_health',\n",
       " 'drug_offer_1',\n",
       " 'intoxicant_access',\n",
       " 'violence_treat_2.0',\n",
       " 'cannabis_access',\n",
       " 'risk_of_try',\n",
       " 'risk_of_use',\n",
       " 'prob_country',\n",
       " 'e_cigarette',\n",
       " 'cigarette',\n",
       " 'nuuska',\n",
       " 'drug_punishment_2.0',\n",
       " 'drug_user_friend_1']"
      ]
     },
     "execution_count": 37,
     "metadata": {},
     "output_type": "execute_result"
    }
   ],
   "source": [
    "# list of features for further use\n",
    "\n",
    "dt_cloumns = rf_df[rf_df['Rank']==1].reset_index()\n",
    "dt_cloumns= dt_cloumns['index'].to_list()\n",
    "dt_cloumns"
   ]
  },
  {
   "cell_type": "markdown",
   "id": "39d7507b",
   "metadata": {},
   "source": [
    "# RFE SVC  \n",
    "\n",
    "We use the same method here and below to just compare the model differences. "
   ]
  },
  {
   "cell_type": "code",
   "execution_count": 109,
   "id": "a0a7c63c",
   "metadata": {},
   "outputs": [],
   "source": [
    "from sklearn.svm import SVC\n",
    "from sklearn.model_selection import StratifiedKFold\n",
    "from sklearn.feature_selection import RFE, RFECV\n",
    "from sklearn.datasets import make_classification\n",
    "from sklearn.tree import DecisionTreeRegressor\n",
    "\n",
    "model_estimator =  SVC(kernel=\"linear\", C=50)\n",
    "\n",
    "rfe = RFE(estimator=model_estimator, n_features_to_select=20)\n",
    "\n",
    "model = SVC(kernel=\"linear\", C= 50)"
   ]
  },
  {
   "cell_type": "code",
   "execution_count": 110,
   "id": "8338d5b6",
   "metadata": {},
   "outputs": [
    {
     "data": {
      "text/plain": [
       "0.6908971984146018"
      ]
     },
     "execution_count": 110,
     "metadata": {},
     "output_type": "execute_result"
    }
   ],
   "source": [
    "pipeline = Pipeline([('Feature Selection', rfe), ('Model', model)])\n",
    "cv = RepeatedStratifiedKFold(n_splits=5, n_repeats=5, random_state=36851234)\n",
    "n_scores = cross_val_score(pipeline, X_train_std, y_train, scoring='f1_macro', cv=cv, n_jobs=-1)\n",
    "np.mean(n_scores)"
   ]
  },
  {
   "cell_type": "code",
   "execution_count": 111,
   "id": "3870f4ee",
   "metadata": {},
   "outputs": [
    {
     "data": {
      "text/plain": [
       "Pipeline(steps=[('Feature Selection',\n",
       "                 RFE(estimator=SVC(C=50, kernel='linear'),\n",
       "                     n_features_to_select=20)),\n",
       "                ('Model', SVC(C=50, kernel='linear'))])"
      ]
     },
     "execution_count": 111,
     "metadata": {},
     "output_type": "execute_result"
    }
   ],
   "source": [
    "pipeline.fit(X_train_std, y_train)"
   ]
  },
  {
   "cell_type": "code",
   "execution_count": 112,
   "id": "c5e6229d",
   "metadata": {},
   "outputs": [
    {
     "data": {
      "text/plain": [
       "array([ True, False, False, False,  True, False, False,  True, False,\n",
       "       False, False, False, False, False, False,  True,  True,  True,\n",
       "        True, False, False,  True, False, False,  True,  True, False,\n",
       "        True,  True,  True, False, False, False, False, False,  True,\n",
       "        True,  True, False, False,  True, False, False, False, False,\n",
       "        True,  True,  True])"
      ]
     },
     "execution_count": 112,
     "metadata": {},
     "output_type": "execute_result"
    }
   ],
   "source": [
    "rfe.support_"
   ]
  },
  {
   "cell_type": "code",
   "execution_count": 113,
   "id": "6eaa652d",
   "metadata": {},
   "outputs": [
    {
     "data": {
      "text/html": [
       "<div>\n",
       "<style scoped>\n",
       "    .dataframe tbody tr th:only-of-type {\n",
       "        vertical-align: middle;\n",
       "    }\n",
       "\n",
       "    .dataframe tbody tr th {\n",
       "        vertical-align: top;\n",
       "    }\n",
       "\n",
       "    .dataframe thead th {\n",
       "        text-align: right;\n",
       "    }\n",
       "</style>\n",
       "<table border=\"1\" class=\"dataframe\">\n",
       "  <thead>\n",
       "    <tr style=\"text-align: right;\">\n",
       "      <th></th>\n",
       "      <th>Rank</th>\n",
       "    </tr>\n",
       "  </thead>\n",
       "  <tbody>\n",
       "    <tr>\n",
       "      <th>alcohol_use</th>\n",
       "      <td>True</td>\n",
       "    </tr>\n",
       "    <tr>\n",
       "      <th>nuuska</th>\n",
       "      <td>False</td>\n",
       "    </tr>\n",
       "    <tr>\n",
       "      <th>cigarette</th>\n",
       "      <td>False</td>\n",
       "    </tr>\n",
       "    <tr>\n",
       "      <th>e_cigarette</th>\n",
       "      <td>False</td>\n",
       "    </tr>\n",
       "    <tr>\n",
       "      <th>prob_country</th>\n",
       "      <td>True</td>\n",
       "    </tr>\n",
       "    <tr>\n",
       "      <th>prob_resident</th>\n",
       "      <td>False</td>\n",
       "    </tr>\n",
       "    <tr>\n",
       "      <th>risk_of_use</th>\n",
       "      <td>False</td>\n",
       "    </tr>\n",
       "    <tr>\n",
       "      <th>risk_of_try</th>\n",
       "      <td>True</td>\n",
       "    </tr>\n",
       "    <tr>\n",
       "      <th>cannabis_access</th>\n",
       "      <td>False</td>\n",
       "    </tr>\n",
       "    <tr>\n",
       "      <th>other_drug_access</th>\n",
       "      <td>False</td>\n",
       "    </tr>\n",
       "    <tr>\n",
       "      <th>intoxicant_access</th>\n",
       "      <td>False</td>\n",
       "    </tr>\n",
       "    <tr>\n",
       "      <th>doping_access</th>\n",
       "      <td>False</td>\n",
       "    </tr>\n",
       "    <tr>\n",
       "      <th>current_health</th>\n",
       "      <td>False</td>\n",
       "    </tr>\n",
       "    <tr>\n",
       "      <th>sport</th>\n",
       "      <td>False</td>\n",
       "    </tr>\n",
       "    <tr>\n",
       "      <th>has_child_1</th>\n",
       "      <td>False</td>\n",
       "    </tr>\n",
       "    <tr>\n",
       "      <th>non_medical_1</th>\n",
       "      <td>True</td>\n",
       "    </tr>\n",
       "    <tr>\n",
       "      <th>single_1</th>\n",
       "      <td>True</td>\n",
       "    </tr>\n",
       "    <tr>\n",
       "      <th>divorced_1</th>\n",
       "      <td>True</td>\n",
       "    </tr>\n",
       "    <tr>\n",
       "      <th>in_relation_1</th>\n",
       "      <td>True</td>\n",
       "    </tr>\n",
       "    <tr>\n",
       "      <th>helsinki_1</th>\n",
       "      <td>False</td>\n",
       "    </tr>\n",
       "    <tr>\n",
       "      <th>bigger_city_1</th>\n",
       "      <td>False</td>\n",
       "    </tr>\n",
       "    <tr>\n",
       "      <th>midsize_city_1</th>\n",
       "      <td>True</td>\n",
       "    </tr>\n",
       "    <tr>\n",
       "      <th>small_city_1</th>\n",
       "      <td>False</td>\n",
       "    </tr>\n",
       "    <tr>\n",
       "      <th>rural_1</th>\n",
       "      <td>False</td>\n",
       "    </tr>\n",
       "    <tr>\n",
       "      <th>drug_user_friend_1</th>\n",
       "      <td>True</td>\n",
       "    </tr>\n",
       "    <tr>\n",
       "      <th>drug_offer_1</th>\n",
       "      <td>True</td>\n",
       "    </tr>\n",
       "    <tr>\n",
       "      <th>alcohol_hp_1</th>\n",
       "      <td>False</td>\n",
       "    </tr>\n",
       "    <tr>\n",
       "      <th>drug_hp_1</th>\n",
       "      <td>True</td>\n",
       "    </tr>\n",
       "    <tr>\n",
       "      <th>medicine_hp_1</th>\n",
       "      <td>True</td>\n",
       "    </tr>\n",
       "    <tr>\n",
       "      <th>poly_hp_1</th>\n",
       "      <td>True</td>\n",
       "    </tr>\n",
       "    <tr>\n",
       "      <th>doping_hp_1</th>\n",
       "      <td>False</td>\n",
       "    </tr>\n",
       "    <tr>\n",
       "      <th>employment_1</th>\n",
       "      <td>False</td>\n",
       "    </tr>\n",
       "    <tr>\n",
       "      <th>gender_2</th>\n",
       "      <td>False</td>\n",
       "    </tr>\n",
       "    <tr>\n",
       "      <th>gender_3</th>\n",
       "      <td>False</td>\n",
       "    </tr>\n",
       "    <tr>\n",
       "      <th>age_bins_(24, 34]</th>\n",
       "      <td>False</td>\n",
       "    </tr>\n",
       "    <tr>\n",
       "      <th>age_bins_(34, 44]</th>\n",
       "      <td>True</td>\n",
       "    </tr>\n",
       "    <tr>\n",
       "      <th>age_bins_(44, 54]</th>\n",
       "      <td>True</td>\n",
       "    </tr>\n",
       "    <tr>\n",
       "      <th>age_bins_(54, 70]</th>\n",
       "      <td>True</td>\n",
       "    </tr>\n",
       "    <tr>\n",
       "      <th>household_2.0</th>\n",
       "      <td>False</td>\n",
       "    </tr>\n",
       "    <tr>\n",
       "      <th>household_3.0</th>\n",
       "      <td>False</td>\n",
       "    </tr>\n",
       "    <tr>\n",
       "      <th>education_2.0</th>\n",
       "      <td>True</td>\n",
       "    </tr>\n",
       "    <tr>\n",
       "      <th>education_3.0</th>\n",
       "      <td>False</td>\n",
       "    </tr>\n",
       "    <tr>\n",
       "      <th>education_4.0</th>\n",
       "      <td>False</td>\n",
       "    </tr>\n",
       "    <tr>\n",
       "      <th>violence_treat_2.0</th>\n",
       "      <td>False</td>\n",
       "    </tr>\n",
       "    <tr>\n",
       "      <th>violence_treat_3.0</th>\n",
       "      <td>False</td>\n",
       "    </tr>\n",
       "    <tr>\n",
       "      <th>drug_punishment_2.0</th>\n",
       "      <td>True</td>\n",
       "    </tr>\n",
       "    <tr>\n",
       "      <th>drug_punishment_3.0</th>\n",
       "      <td>True</td>\n",
       "    </tr>\n",
       "    <tr>\n",
       "      <th>drug_punishment_4.0</th>\n",
       "      <td>True</td>\n",
       "    </tr>\n",
       "  </tbody>\n",
       "</table>\n",
       "</div>"
      ],
      "text/plain": [
       "                      Rank\n",
       "alcohol_use           True\n",
       "nuuska               False\n",
       "cigarette            False\n",
       "e_cigarette          False\n",
       "prob_country          True\n",
       "prob_resident        False\n",
       "risk_of_use          False\n",
       "risk_of_try           True\n",
       "cannabis_access      False\n",
       "other_drug_access    False\n",
       "intoxicant_access    False\n",
       "doping_access        False\n",
       "current_health       False\n",
       "sport                False\n",
       "has_child_1          False\n",
       "non_medical_1         True\n",
       "single_1              True\n",
       "divorced_1            True\n",
       "in_relation_1         True\n",
       "helsinki_1           False\n",
       "bigger_city_1        False\n",
       "midsize_city_1        True\n",
       "small_city_1         False\n",
       "rural_1              False\n",
       "drug_user_friend_1    True\n",
       "drug_offer_1          True\n",
       "alcohol_hp_1         False\n",
       "drug_hp_1             True\n",
       "medicine_hp_1         True\n",
       "poly_hp_1             True\n",
       "doping_hp_1          False\n",
       "employment_1         False\n",
       "gender_2             False\n",
       "gender_3             False\n",
       "age_bins_(24, 34]    False\n",
       "age_bins_(34, 44]     True\n",
       "age_bins_(44, 54]     True\n",
       "age_bins_(54, 70]     True\n",
       "household_2.0        False\n",
       "household_3.0        False\n",
       "education_2.0         True\n",
       "education_3.0        False\n",
       "education_4.0        False\n",
       "violence_treat_2.0   False\n",
       "violence_treat_3.0   False\n",
       "drug_punishment_2.0   True\n",
       "drug_punishment_3.0   True\n",
       "drug_punishment_4.0   True"
      ]
     },
     "execution_count": 113,
     "metadata": {},
     "output_type": "execute_result"
    }
   ],
   "source": [
    "pd.DataFrame(rfe.support_,index=data.columns[1:],columns=['Rank'])"
   ]
  },
  {
   "cell_type": "code",
   "execution_count": 114,
   "id": "c074186d",
   "metadata": {},
   "outputs": [
    {
     "data": {
      "text/html": [
       "<div>\n",
       "<style scoped>\n",
       "    .dataframe tbody tr th:only-of-type {\n",
       "        vertical-align: middle;\n",
       "    }\n",
       "\n",
       "    .dataframe tbody tr th {\n",
       "        vertical-align: top;\n",
       "    }\n",
       "\n",
       "    .dataframe thead th {\n",
       "        text-align: right;\n",
       "    }\n",
       "</style>\n",
       "<table border=\"1\" class=\"dataframe\">\n",
       "  <thead>\n",
       "    <tr style=\"text-align: right;\">\n",
       "      <th></th>\n",
       "      <th>Rank</th>\n",
       "    </tr>\n",
       "  </thead>\n",
       "  <tbody>\n",
       "    <tr>\n",
       "      <th>alcohol_use</th>\n",
       "      <td>1</td>\n",
       "    </tr>\n",
       "    <tr>\n",
       "      <th>drug_punishment_2.0</th>\n",
       "      <td>1</td>\n",
       "    </tr>\n",
       "    <tr>\n",
       "      <th>education_2.0</th>\n",
       "      <td>1</td>\n",
       "    </tr>\n",
       "    <tr>\n",
       "      <th>age_bins_(54, 70]</th>\n",
       "      <td>1</td>\n",
       "    </tr>\n",
       "    <tr>\n",
       "      <th>age_bins_(44, 54]</th>\n",
       "      <td>1</td>\n",
       "    </tr>\n",
       "    <tr>\n",
       "      <th>age_bins_(34, 44]</th>\n",
       "      <td>1</td>\n",
       "    </tr>\n",
       "    <tr>\n",
       "      <th>poly_hp_1</th>\n",
       "      <td>1</td>\n",
       "    </tr>\n",
       "    <tr>\n",
       "      <th>medicine_hp_1</th>\n",
       "      <td>1</td>\n",
       "    </tr>\n",
       "    <tr>\n",
       "      <th>drug_hp_1</th>\n",
       "      <td>1</td>\n",
       "    </tr>\n",
       "    <tr>\n",
       "      <th>drug_offer_1</th>\n",
       "      <td>1</td>\n",
       "    </tr>\n",
       "  </tbody>\n",
       "</table>\n",
       "</div>"
      ],
      "text/plain": [
       "                     Rank\n",
       "alcohol_use             1\n",
       "drug_punishment_2.0     1\n",
       "education_2.0           1\n",
       "age_bins_(54, 70]       1\n",
       "age_bins_(44, 54]       1\n",
       "age_bins_(34, 44]       1\n",
       "poly_hp_1               1\n",
       "medicine_hp_1           1\n",
       "drug_hp_1               1\n",
       "drug_offer_1            1"
      ]
     },
     "execution_count": 114,
     "metadata": {},
     "output_type": "execute_result"
    }
   ],
   "source": [
    "rf_df = pd.DataFrame(rfe.ranking_,index=data.columns[1:],columns=['Rank']).sort_values(by='Rank',ascending=True)\n",
    "rf_df.head(10)"
   ]
  },
  {
   "cell_type": "markdown",
   "id": "fbf7571e",
   "metadata": {},
   "source": [
    "## Automatic feature selection with SVC"
   ]
  },
  {
   "cell_type": "code",
   "execution_count": 115,
   "id": "8efe9acc",
   "metadata": {},
   "outputs": [],
   "source": [
    "from sklearn.feature_selection import RFECV\n",
    "rfecv = RFECV(estimator=model_estimator)"
   ]
  },
  {
   "cell_type": "code",
   "execution_count": 116,
   "id": "bf89fe01",
   "metadata": {},
   "outputs": [
    {
     "data": {
      "text/plain": [
       "0.7307334140538565"
      ]
     },
     "execution_count": 116,
     "metadata": {},
     "output_type": "execute_result"
    }
   ],
   "source": [
    "pipeline = Pipeline([('Feature Selection', rfecv), ('Model', model)])\n",
    "cv = RepeatedStratifiedKFold(n_splits=5, n_repeats=5, random_state=92116)\n",
    "n_scores = cross_val_score(pipeline, X_train_std, y_train, scoring='f1_macro', cv=cv, n_jobs=-1)\n",
    "np.mean(n_scores)"
   ]
  },
  {
   "cell_type": "code",
   "execution_count": 118,
   "id": "7bbf4a67",
   "metadata": {},
   "outputs": [
    {
     "data": {
      "text/plain": [
       "Pipeline(steps=[('Feature Selection',\n",
       "                 RFECV(estimator=SVC(C=50, kernel='linear'))),\n",
       "                ('Model', SVC(C=50, kernel='linear'))])"
      ]
     },
     "execution_count": 118,
     "metadata": {},
     "output_type": "execute_result"
    }
   ],
   "source": [
    "pipeline.fit(X_train_std,y_train)"
   ]
  },
  {
   "cell_type": "code",
   "execution_count": 119,
   "id": "0c6ef6de",
   "metadata": {},
   "outputs": [
    {
     "name": "stdout",
     "output_type": "stream",
     "text": [
      "Optimal number of features : 40\n"
     ]
    }
   ],
   "source": [
    "print('Optimal number of features : %d' % rfecv.n_features_)"
   ]
  },
  {
   "cell_type": "code",
   "execution_count": 120,
   "id": "ffee45b2",
   "metadata": {},
   "outputs": [
    {
     "data": {
      "text/html": [
       "<div>\n",
       "<style scoped>\n",
       "    .dataframe tbody tr th:only-of-type {\n",
       "        vertical-align: middle;\n",
       "    }\n",
       "\n",
       "    .dataframe tbody tr th {\n",
       "        vertical-align: top;\n",
       "    }\n",
       "\n",
       "    .dataframe thead th {\n",
       "        text-align: right;\n",
       "    }\n",
       "</style>\n",
       "<table border=\"1\" class=\"dataframe\">\n",
       "  <thead>\n",
       "    <tr style=\"text-align: right;\">\n",
       "      <th></th>\n",
       "      <th>Rank</th>\n",
       "    </tr>\n",
       "  </thead>\n",
       "  <tbody>\n",
       "    <tr>\n",
       "      <th>alcohol_use</th>\n",
       "      <td>1</td>\n",
       "    </tr>\n",
       "    <tr>\n",
       "      <th>drug_user_friend_1</th>\n",
       "      <td>1</td>\n",
       "    </tr>\n",
       "    <tr>\n",
       "      <th>drug_offer_1</th>\n",
       "      <td>1</td>\n",
       "    </tr>\n",
       "    <tr>\n",
       "      <th>drug_hp_1</th>\n",
       "      <td>1</td>\n",
       "    </tr>\n",
       "    <tr>\n",
       "      <th>medicine_hp_1</th>\n",
       "      <td>1</td>\n",
       "    </tr>\n",
       "    <tr>\n",
       "      <th>poly_hp_1</th>\n",
       "      <td>1</td>\n",
       "    </tr>\n",
       "    <tr>\n",
       "      <th>doping_hp_1</th>\n",
       "      <td>1</td>\n",
       "    </tr>\n",
       "    <tr>\n",
       "      <th>gender_2</th>\n",
       "      <td>1</td>\n",
       "    </tr>\n",
       "    <tr>\n",
       "      <th>age_bins_(24, 34]</th>\n",
       "      <td>1</td>\n",
       "    </tr>\n",
       "    <tr>\n",
       "      <th>drug_punishment_3.0</th>\n",
       "      <td>1</td>\n",
       "    </tr>\n",
       "  </tbody>\n",
       "</table>\n",
       "</div>"
      ],
      "text/plain": [
       "                     Rank\n",
       "alcohol_use             1\n",
       "drug_user_friend_1      1\n",
       "drug_offer_1            1\n",
       "drug_hp_1               1\n",
       "medicine_hp_1           1\n",
       "poly_hp_1               1\n",
       "doping_hp_1             1\n",
       "gender_2                1\n",
       "age_bins_(24, 34]       1\n",
       "drug_punishment_3.0     1"
      ]
     },
     "execution_count": 120,
     "metadata": {},
     "output_type": "execute_result"
    }
   ],
   "source": [
    "rfecv.support_rfecv_df = pd.DataFrame(rfecv.ranking_,index=data.columns[1:],columns=['Rank']).sort_values(by='Rank',ascending=True)\n",
    "rfecv.support_rfecv_df.head(10)"
   ]
  },
  {
   "cell_type": "code",
   "execution_count": 121,
   "id": "d15aa1fc",
   "metadata": {},
   "outputs": [
    {
     "data": {
      "image/png": "[encoded data removed]",
      "text/plain": [
       "<Figure size 864x432 with 1 Axes>"
      ]
     },
     "metadata": {
      "needs_background": "light"
     },
     "output_type": "display_data"
    }
   ],
   "source": [
    "import matplotlib.pyplot as plt\n",
    "plt.figure(figsize=(12,6))\n",
    "plt.xlabel('Number of features selected')\n",
    "plt.ylabel('Cross validation score (nb of correct classifications: f1 score)')\n",
    "plt.plot(range(1, len(rfecv.grid_scores_) + 1), rfecv.grid_scores_)\n",
    "plt.show()"
   ]
  },
  {
   "cell_type": "code",
   "execution_count": 122,
   "id": "0415b264",
   "metadata": {},
   "outputs": [
    {
     "data": {
      "text/plain": [
       "['alcohol_use',\n",
       " 'drug_punishment_2.0',\n",
       " 'education_2.0',\n",
       " 'age_bins_(54, 70]',\n",
       " 'age_bins_(44, 54]',\n",
       " 'age_bins_(34, 44]',\n",
       " 'poly_hp_1',\n",
       " 'medicine_hp_1',\n",
       " 'drug_hp_1',\n",
       " 'drug_offer_1',\n",
       " 'drug_user_friend_1',\n",
       " 'drug_punishment_3.0',\n",
       " 'midsize_city_1',\n",
       " 'in_relation_1',\n",
       " 'divorced_1',\n",
       " 'single_1',\n",
       " 'drug_punishment_4.0',\n",
       " 'non_medical_1',\n",
       " 'risk_of_try',\n",
       " 'prob_country']"
      ]
     },
     "execution_count": 122,
     "metadata": {},
     "output_type": "execute_result"
    }
   ],
   "source": [
    "# list of features for further use\n",
    "\n",
    "dt_cloumns = rf_df[rf_df['Rank']==1].reset_index()\n",
    "dt_cloumns= dt_cloumns['index'].to_list()\n",
    "dt_cloumns"
   ]
  },
  {
   "cell_type": "markdown",
   "id": "b87897e1",
   "metadata": {},
   "source": [
    "# Summary\n",
    "\n",
    "\n",
    "- The accuracy scores are satisfactory in these models to select features but the main problem is imbalance data, which indicates we need to apply oversampling or downsampling techniques. \n",
    "- Since our label data are very rare (around 8,5%), it would be wise to select upsampling strategy, but we will compare their results in the next section. \n",
    "- it is still promising that with around 10-15 indicators, we can predict how likely a person use cannabis. I particularly select features representing the daily life of individuals, in terms of his/her perception about the health risks of drug use, accessibility to drugs, control variables such as gender, marriage status, having a child, etc."
   ]
  }
 ],
 "metadata": {
  "kernelspec": {
   "display_name": "Python 3 (ipykernel)",
   "language": "python",
   "name": "python3"
  },
  "language_info": {
   "codemirror_mode": {
    "name": "ipython",
    "version": 3
   },
   "file_extension": ".py",
   "mimetype": "text/x-python",
   "name": "python",
   "nbconvert_exporter": "python",
   "pygments_lexer": "ipython3",
   "version": "3.9.7"
  }
 },
 "nbformat": 4,
 "nbformat_minor": 5
}

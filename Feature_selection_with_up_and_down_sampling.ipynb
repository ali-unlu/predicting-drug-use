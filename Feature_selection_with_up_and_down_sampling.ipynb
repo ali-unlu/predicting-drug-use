{
 "cells": [
  {
   "cell_type": "markdown",
   "id": "fc59494b",
   "metadata": {},
   "source": [
    "# Feature Selection with down and upsampling"
   ]
  },
  {
   "cell_type": "code",
   "execution_count": 1,
   "id": "a3c8e399",
   "metadata": {},
   "outputs": [],
   "source": [
    "# loading necessary libraries\n",
    "import pandas as pd\n",
    "import numpy as np\n",
    "from sklearn.model_selection import train_test_split\n",
    "import matplotlib.pyplot as plt"
   ]
  },
  {
   "cell_type": "markdown",
   "id": "862ae53e",
   "metadata": {},
   "source": [
    "### Data"
   ]
  },
  {
   "cell_type": "code",
   "execution_count": 2,
   "id": "c28d0eaf",
   "metadata": {},
   "outputs": [
    {
     "data": {
      "text/html": [
       "<div>\n",
       "<style scoped>\n",
       "    .dataframe tbody tr th:only-of-type {\n",
       "        vertical-align: middle;\n",
       "    }\n",
       "\n",
       "    .dataframe tbody tr th {\n",
       "        vertical-align: top;\n",
       "    }\n",
       "\n",
       "    .dataframe thead th {\n",
       "        text-align: right;\n",
       "    }\n",
       "</style>\n",
       "<table border=\"1\" class=\"dataframe\">\n",
       "  <thead>\n",
       "    <tr style=\"text-align: right;\">\n",
       "      <th></th>\n",
       "      <th>kannabis</th>\n",
       "      <th>k9</th>\n",
       "      <th>k12</th>\n",
       "      <th>alcohol_use</th>\n",
       "      <th>k21a</th>\n",
       "      <th>k21b</th>\n",
       "      <th>risk_of_use</th>\n",
       "      <th>risk_of_try</th>\n",
       "      <th>cannabis_access</th>\n",
       "      <th>other_access</th>\n",
       "      <th>...</th>\n",
       "      <th>k70b_3.0</th>\n",
       "      <th>k70b_4.0</th>\n",
       "      <th>k70c_2.0</th>\n",
       "      <th>k70c_3.0</th>\n",
       "      <th>k70c_4.0</th>\n",
       "      <th>k70d_2.0</th>\n",
       "      <th>k70d_3.0</th>\n",
       "      <th>k70d_4.0</th>\n",
       "      <th>k70e_3.0</th>\n",
       "      <th>k70e_4.0</th>\n",
       "    </tr>\n",
       "  </thead>\n",
       "  <tbody>\n",
       "    <tr>\n",
       "      <th>0</th>\n",
       "      <td>0.0</td>\n",
       "      <td>4.0</td>\n",
       "      <td>4.0</td>\n",
       "      <td>7.0</td>\n",
       "      <td>2.0</td>\n",
       "      <td>1.0</td>\n",
       "      <td>20.0</td>\n",
       "      <td>13.0</td>\n",
       "      <td>2.0</td>\n",
       "      <td>2.0</td>\n",
       "      <td>...</td>\n",
       "      <td>1.0</td>\n",
       "      <td>0.0</td>\n",
       "      <td>0.0</td>\n",
       "      <td>0.0</td>\n",
       "      <td>1.0</td>\n",
       "      <td>0.0</td>\n",
       "      <td>0.0</td>\n",
       "      <td>1.0</td>\n",
       "      <td>0.0</td>\n",
       "      <td>1.0</td>\n",
       "    </tr>\n",
       "    <tr>\n",
       "      <th>1</th>\n",
       "      <td>0.0</td>\n",
       "      <td>3.0</td>\n",
       "      <td>3.0</td>\n",
       "      <td>6.0</td>\n",
       "      <td>3.0</td>\n",
       "      <td>3.0</td>\n",
       "      <td>22.0</td>\n",
       "      <td>14.0</td>\n",
       "      <td>1.0</td>\n",
       "      <td>1.0</td>\n",
       "      <td>...</td>\n",
       "      <td>0.0</td>\n",
       "      <td>1.0</td>\n",
       "      <td>0.0</td>\n",
       "      <td>0.0</td>\n",
       "      <td>1.0</td>\n",
       "      <td>0.0</td>\n",
       "      <td>0.0</td>\n",
       "      <td>1.0</td>\n",
       "      <td>0.0</td>\n",
       "      <td>1.0</td>\n",
       "    </tr>\n",
       "    <tr>\n",
       "      <th>2</th>\n",
       "      <td>0.0</td>\n",
       "      <td>5.0</td>\n",
       "      <td>5.0</td>\n",
       "      <td>7.0</td>\n",
       "      <td>3.0</td>\n",
       "      <td>2.0</td>\n",
       "      <td>21.0</td>\n",
       "      <td>13.0</td>\n",
       "      <td>2.0</td>\n",
       "      <td>3.0</td>\n",
       "      <td>...</td>\n",
       "      <td>0.0</td>\n",
       "      <td>1.0</td>\n",
       "      <td>0.0</td>\n",
       "      <td>0.0</td>\n",
       "      <td>1.0</td>\n",
       "      <td>0.0</td>\n",
       "      <td>0.0</td>\n",
       "      <td>1.0</td>\n",
       "      <td>0.0</td>\n",
       "      <td>1.0</td>\n",
       "    </tr>\n",
       "    <tr>\n",
       "      <th>3</th>\n",
       "      <td>0.0</td>\n",
       "      <td>3.0</td>\n",
       "      <td>5.0</td>\n",
       "      <td>6.0</td>\n",
       "      <td>2.0</td>\n",
       "      <td>1.0</td>\n",
       "      <td>22.0</td>\n",
       "      <td>11.0</td>\n",
       "      <td>3.0</td>\n",
       "      <td>3.0</td>\n",
       "      <td>...</td>\n",
       "      <td>0.0</td>\n",
       "      <td>1.0</td>\n",
       "      <td>0.0</td>\n",
       "      <td>0.0</td>\n",
       "      <td>1.0</td>\n",
       "      <td>0.0</td>\n",
       "      <td>0.0</td>\n",
       "      <td>1.0</td>\n",
       "      <td>0.0</td>\n",
       "      <td>1.0</td>\n",
       "    </tr>\n",
       "    <tr>\n",
       "      <th>4</th>\n",
       "      <td>0.0</td>\n",
       "      <td>3.0</td>\n",
       "      <td>5.0</td>\n",
       "      <td>6.0</td>\n",
       "      <td>2.0</td>\n",
       "      <td>3.0</td>\n",
       "      <td>21.0</td>\n",
       "      <td>12.0</td>\n",
       "      <td>1.0</td>\n",
       "      <td>3.0</td>\n",
       "      <td>...</td>\n",
       "      <td>1.0</td>\n",
       "      <td>0.0</td>\n",
       "      <td>0.0</td>\n",
       "      <td>1.0</td>\n",
       "      <td>0.0</td>\n",
       "      <td>0.0</td>\n",
       "      <td>0.0</td>\n",
       "      <td>1.0</td>\n",
       "      <td>0.0</td>\n",
       "      <td>1.0</td>\n",
       "    </tr>\n",
       "  </tbody>\n",
       "</table>\n",
       "<p>5 rows × 61 columns</p>\n",
       "</div>"
      ],
      "text/plain": [
       "   kannabis   k9  k12  alcohol_use  k21a  k21b  risk_of_use  risk_of_try  \\\n",
       "0       0.0  4.0  4.0          7.0   2.0   1.0         20.0         13.0   \n",
       "1       0.0  3.0  3.0          6.0   3.0   3.0         22.0         14.0   \n",
       "2       0.0  5.0  5.0          7.0   3.0   2.0         21.0         13.0   \n",
       "3       0.0  3.0  5.0          6.0   2.0   1.0         22.0         11.0   \n",
       "4       0.0  3.0  5.0          6.0   2.0   3.0         21.0         12.0   \n",
       "\n",
       "   cannabis_access  other_access  ...  k70b_3.0  k70b_4.0  k70c_2.0  k70c_3.0  \\\n",
       "0              2.0           2.0  ...       1.0       0.0       0.0       0.0   \n",
       "1              1.0           1.0  ...       0.0       1.0       0.0       0.0   \n",
       "2              2.0           3.0  ...       0.0       1.0       0.0       0.0   \n",
       "3              3.0           3.0  ...       0.0       1.0       0.0       0.0   \n",
       "4              1.0           3.0  ...       1.0       0.0       0.0       1.0   \n",
       "\n",
       "   k70c_4.0  k70d_2.0  k70d_3.0  k70d_4.0  k70e_3.0  k70e_4.0  \n",
       "0       1.0       0.0       0.0       1.0       0.0       1.0  \n",
       "1       1.0       0.0       0.0       1.0       0.0       1.0  \n",
       "2       1.0       0.0       0.0       1.0       0.0       1.0  \n",
       "3       1.0       0.0       0.0       1.0       0.0       1.0  \n",
       "4       0.0       0.0       0.0       1.0       0.0       1.0  \n",
       "\n",
       "[5 rows x 61 columns]"
      ]
     },
     "execution_count": 2,
     "metadata": {},
     "output_type": "execute_result"
    }
   ],
   "source": [
    "data = pd.read_csv('thl_recoded.csv')\n",
    "data.head()"
   ]
  },
  {
   "cell_type": "code",
   "execution_count": 3,
   "id": "d11703cd",
   "metadata": {},
   "outputs": [
    {
     "data": {
      "text/plain": [
       "0.0    0.934577\n",
       "1.0    0.065423\n",
       "Name: kannabis, dtype: float64"
      ]
     },
     "execution_count": 3,
     "metadata": {},
     "output_type": "execute_result"
    }
   ],
   "source": [
    " # Kannabis use\n",
    "data['kannabis'].value_counts(normalize= True)"
   ]
  },
  {
   "cell_type": "code",
   "execution_count": 4,
   "id": "b06d93de",
   "metadata": {},
   "outputs": [],
   "source": [
    "from sklearn.model_selection import train_test_split\n",
    "\n",
    "X, y = data.iloc[:, 1:].values, data.iloc[:, 0].values\n",
    "\n",
    "X_train, X_test, y_train, y_test =\\\n",
    "    train_test_split(X, y, \n",
    "                     test_size=0.3, \n",
    "                     random_state=0, \n",
    "                     stratify=y)"
   ]
  },
  {
   "cell_type": "code",
   "execution_count": 5,
   "id": "c4fd48d1",
   "metadata": {},
   "outputs": [
    {
     "name": "stdout",
     "output_type": "stream",
     "text": [
      "Dimension of X train:  (2439, 60)\n",
      "Target 1:  160\n",
      "Target 0:  2279\n",
      "\n",
      " ---------------------\n",
      "\n",
      "Dimension of X test : (1046, 60)\n",
      "Target 1:  68\n",
      "Target 0:  978\n"
     ]
    }
   ],
   "source": [
    "print('Dimension of X train: ', X_train.shape)\n",
    "print('Target 1: ', np.count_nonzero(y_train == 1))\n",
    "print('Target 0: ', np.count_nonzero(y_train == 0))\n",
    "\n",
    "\n",
    "\n",
    "print('\\n ---------------------\\n')\n",
    "print('Dimension of X test :', X_test.shape)\n",
    "print('Target 1: ', np.count_nonzero(y_test == 1))\n",
    "print('Target 0: ', np.count_nonzero(y_test == 0))\n",
    "\n",
    "\n"
   ]
  },
  {
   "cell_type": "markdown",
   "id": "1fcc8816",
   "metadata": {},
   "source": [
    "### Scaling\n",
    "Robust Scaler removes the median and scales the data according to the quantile range (defaults to IQR: Interquartile Range). The IQR is the range between the 1st quartile (25th quantile) and the 3rd quartile (75th quantile)."
   ]
  },
  {
   "cell_type": "code",
   "execution_count": 6,
   "id": "ec337fc7",
   "metadata": {},
   "outputs": [],
   "source": [
    "from sklearn.preprocessing import RobustScaler\n",
    "\n",
    "robust = RobustScaler()\n",
    "X_train_std = robust.fit_transform(X_train)\n",
    "X_test_std = robust.transform(X_test)"
   ]
  },
  {
   "cell_type": "markdown",
   "id": "3cd6cd96",
   "metadata": {},
   "source": [
    "# Oversampling"
   ]
  },
  {
   "cell_type": "code",
   "execution_count": 7,
   "id": "e6c29d08",
   "metadata": {},
   "outputs": [
    {
     "name": "stdout",
     "output_type": "stream",
     "text": [
      "Dimension of X train with SMOTE:  (4558, 60)\n",
      "\n",
      " -------------- \n",
      "Target 1 after SMOTE:  2279\n",
      "Target 0 after SMOTE:  2279\n"
     ]
    }
   ],
   "source": [
    "# Oversampling with SMOTE \n",
    "\n",
    "# Because the Target is imbalance, i try to balance the data with SMOTE(OverSampling)\n",
    "from imblearn.over_sampling import SMOTE\n",
    "\n",
    "sm = SMOTE(random_state=46)\n",
    "X_train_res, y_train_res = sm.fit_resample(X_train, y_train)\n",
    "#X_train_res, y_train_res = sm.fit_resample(X_train, y_train)\n",
    "\n",
    "print('Dimension of X train with SMOTE: ', X_train_res.shape)\n",
    "print('\\n -------------- ')\n",
    "print('Target 1 after SMOTE: ', np.count_nonzero(y_train_res == 1))\n",
    "print('Target 0 after SMOTE: ', np.count_nonzero(y_train_res == 0))\n",
    "\n",
    "\n",
    "\n"
   ]
  },
  {
   "cell_type": "markdown",
   "id": "cebf0927",
   "metadata": {},
   "source": [
    "# Random Forest"
   ]
  },
  {
   "cell_type": "code",
   "execution_count": 8,
   "id": "761249cb",
   "metadata": {},
   "outputs": [],
   "source": [
    "from sklearn.pipeline import Pipeline\n",
    "from sklearn.feature_selection import RFECV\n",
    "from sklearn.model_selection import RepeatedStratifiedKFold\n",
    "from sklearn.model_selection import cross_val_score\n",
    "from sklearn.feature_selection import RFE\n",
    "import numpy as np"
   ]
  },
  {
   "cell_type": "code",
   "execution_count": 9,
   "id": "331afb23",
   "metadata": {},
   "outputs": [],
   "source": [
    "from sklearn.ensemble import RandomForestClassifier\n",
    "\n",
    "rfecv_rfauto= RFECV(estimator=RandomForestClassifier())\n",
    "\n",
    "model_rfauto = RandomForestClassifier(n_estimators=1000, random_state=92116)"
   ]
  },
  {
   "cell_type": "code",
   "execution_count": 10,
   "id": "079af56c",
   "metadata": {},
   "outputs": [
    {
     "data": {
      "text/plain": [
       "0.957280914794576"
      ]
     },
     "execution_count": 10,
     "metadata": {},
     "output_type": "execute_result"
    }
   ],
   "source": [
    "pipeline_rfauto = Pipeline([('Feature Selection', rfecv_rfauto), ('Model', model_rfauto)])\n",
    "cv = RepeatedStratifiedKFold(n_splits=10, n_repeats=5, random_state=92116)\n",
    "n_scores = cross_val_score(pipeline_rfauto, X_train_std, y_train, scoring='accuracy', cv=cv, n_jobs=-1)\n",
    "np.mean(n_scores)"
   ]
  },
  {
   "cell_type": "code",
   "execution_count": 11,
   "id": "0202898b",
   "metadata": {},
   "outputs": [
    {
     "data": {
      "text/plain": [
       "Pipeline(steps=[('Feature Selection',\n",
       "                 RFECV(estimator=RandomForestClassifier())),\n",
       "                ('Model',\n",
       "                 RandomForestClassifier(n_estimators=1000,\n",
       "                                        random_state=92116))])"
      ]
     },
     "execution_count": 11,
     "metadata": {},
     "output_type": "execute_result"
    }
   ],
   "source": [
    "pipeline_rfauto.fit(X_train_std, y_train)"
   ]
  },
  {
   "cell_type": "code",
   "execution_count": 31,
   "id": "470a5f8a",
   "metadata": {},
   "outputs": [
    {
     "name": "stdout",
     "output_type": "stream",
     "text": [
      "Optimal number of features : 26\n"
     ]
    }
   ],
   "source": [
    "print('Optimal number of features : %d' % rfecv_rfauto.n_features_)"
   ]
  },
  {
   "cell_type": "code",
   "execution_count": 13,
   "id": "aa32c855",
   "metadata": {},
   "outputs": [
    {
     "data": {
      "text/plain": [
       "array([ True,  True,  True,  True,  True,  True,  True,  True,  True,\n",
       "        True,  True,  True,  True, False,  True,  True,  True, False,\n",
       "       False, False,  True, False, False, False,  True,  True,  True,\n",
       "       False, False, False, False, False, False, False, False, False,\n",
       "       False, False, False, False, False, False, False, False, False,\n",
       "       False, False, False, False, False,  True,  True, False,  True,\n",
       "        True, False, False, False,  True,  True])"
      ]
     },
     "execution_count": 13,
     "metadata": {},
     "output_type": "execute_result"
    }
   ],
   "source": [
    "rfecv_rfauto.support_"
   ]
  },
  {
   "cell_type": "code",
   "execution_count": 14,
   "id": "b7d49b5c",
   "metadata": {},
   "outputs": [],
   "source": [
    "y_pred = pipeline_rfauto.predict(X_test_std)"
   ]
  },
  {
   "cell_type": "code",
   "execution_count": 71,
   "id": "723388f6",
   "metadata": {},
   "outputs": [
    {
     "name": "stdout",
     "output_type": "stream",
     "text": [
      "Accuracy: 0.9618\n",
      "Precision: 0.9592\n",
      "Recall: 0.9618\n",
      "F1 Score: 0.96\n",
      "Cohen Kappa Score: 0.6573\n",
      "Matthews Corrcoef: 0.6608\n",
      "roc_auc_score: 0.8016660651990858\n",
      "\t\tClassification Report:\n",
      "               precision    recall  f1-score   support\n",
      "\n",
      "         0.0       0.99      0.97      0.98       990\n",
      "         1.0       0.62      0.75      0.68        56\n",
      "\n",
      "    accuracy                           0.96      1046\n",
      "   macro avg       0.80      0.86      0.83      1046\n",
      "weighted avg       0.97      0.96      0.96      1046\n",
      "\n",
      "Confusion Matrix:\n",
      " [[964  14]\n",
      " [ 26  42]]\n"
     ]
    },
    {
     "data": {
      "image/png": "[encoded data removed]",
      "text/plain": [
       "<Figure size 432x288 with 1 Axes>"
      ]
     },
     "metadata": {},
     "output_type": "display_data"
    }
   ],
   "source": [
    "from sklearn import metrics\n",
    "from sklearn.metrics import roc_auc_score,precision_recall_curve,roc_curve\n",
    "from sklearn.metrics import confusion_matrix\n",
    "from sklearn.metrics import accuracy_score\n",
    "\n",
    "print('Accuracy:', np.round(metrics.accuracy_score(y_test, y_pred),4))\n",
    "print('Precision:', np.round(metrics.precision_score(y_test, y_pred,average='weighted'),4))\n",
    "print('Recall:', np.round(metrics.recall_score(y_test, y_pred,\n",
    "                                               average='weighted'),4))\n",
    "print('F1 Score:', np.round(metrics.f1_score(y_test, y_pred,\n",
    "                                               average='weighted'),4))\n",
    "print('Cohen Kappa Score:', np.round(metrics.cohen_kappa_score(y_test, y_pred),4))\n",
    "print('Matthews Corrcoef:', np.round(metrics.matthews_corrcoef(y_test, y_pred),4)) \n",
    "\n",
    "from sklearn.metrics import roc_auc_score\n",
    "print(\"roc_auc_score:\", roc_auc_score(y_test, y_pred, average=None))\n",
    "\n",
    "print('\\t\\tClassification Report:\\n', metrics.classification_report(y_pred,y_test))\n",
    "\n",
    "\n",
    "from sklearn.metrics import confusion_matrix\n",
    "print(\"Confusion Matrix:\\n\",confusion_matrix(y_test, y_pred))\n",
    "\n",
    "\n",
    "#Plot Confusion Matrix\n",
    "from sklearn.metrics import confusion_matrix\n",
    "from io import BytesIO #neded for plot\n",
    "import seaborn as sns; sns.set()\n",
    "import matplotlib.pyplot as plt\n",
    "\n",
    "mat = confusion_matrix(y_test, y_pred)\n",
    "sns.heatmap(mat.T, square=True, annot=True, fmt='d', cbar=False)\n",
    "\n",
    "\n",
    "plt.xlabel('true label')\n",
    "plt.ylabel('predicted label');\n",
    "\n",
    "plt.savefig(\"Confusion.jpg\")\n",
    "# Save SVG in a fake file object.\n",
    "f = BytesIO()\n",
    "plt.savefig(f, format=\"svg\")"
   ]
  },
  {
   "cell_type": "markdown",
   "id": "c44b9b7c",
   "metadata": {},
   "source": [
    "# RFE GradientBoostingClassifier"
   ]
  },
  {
   "cell_type": "code",
   "execution_count": 72,
   "id": "3f62c251",
   "metadata": {},
   "outputs": [],
   "source": [
    "from sklearn.ensemble import GradientBoostingClassifier\n",
    "from sklearn.feature_selection import RFECV\n",
    "rfecv = RFECV(estimator=GradientBoostingClassifier())\n",
    "model = GradientBoostingClassifier()"
   ]
  },
  {
   "cell_type": "code",
   "execution_count": 73,
   "id": "bdf8c122",
   "metadata": {},
   "outputs": [
    {
     "data": {
      "text/plain": [
       "0.9560493827160496"
      ]
     },
     "execution_count": 73,
     "metadata": {},
     "output_type": "execute_result"
    }
   ],
   "source": [
    "pipelinegbc = Pipeline([('Feature Selection', rfecv), ('Model', model)])\n",
    "cv = RepeatedStratifiedKFold(n_splits=10, n_repeats=5, random_state=36851234)\n",
    "n_scores = cross_val_score(pipelinegbc, X_train_std, y_train, scoring='accuracy', cv=cv, n_jobs=-1)\n",
    "np.mean(n_scores)"
   ]
  },
  {
   "cell_type": "code",
   "execution_count": 74,
   "id": "118ba251",
   "metadata": {},
   "outputs": [
    {
     "data": {
      "text/plain": [
       "Pipeline(steps=[('Feature Selection',\n",
       "                 RFECV(estimator=GradientBoostingClassifier())),\n",
       "                ('Model', GradientBoostingClassifier())])"
      ]
     },
     "execution_count": 74,
     "metadata": {},
     "output_type": "execute_result"
    }
   ],
   "source": [
    "pipelinegbc.fit(X_train_std, y_train)"
   ]
  },
  {
   "cell_type": "code",
   "execution_count": 75,
   "id": "d86972d9",
   "metadata": {},
   "outputs": [
    {
     "name": "stdout",
     "output_type": "stream",
     "text": [
      "Optimal number of features : 15\n"
     ]
    }
   ],
   "source": [
    "print('Optimal number of features : %d' % rfecv.n_features_)"
   ]
  },
  {
   "cell_type": "code",
   "execution_count": 76,
   "id": "e8d8b8e8",
   "metadata": {},
   "outputs": [
    {
     "data": {
      "text/html": [
       "<div>\n",
       "<style scoped>\n",
       "    .dataframe tbody tr th:only-of-type {\n",
       "        vertical-align: middle;\n",
       "    }\n",
       "\n",
       "    .dataframe tbody tr th {\n",
       "        vertical-align: top;\n",
       "    }\n",
       "\n",
       "    .dataframe thead th {\n",
       "        text-align: right;\n",
       "    }\n",
       "</style>\n",
       "<table border=\"1\" class=\"dataframe\">\n",
       "  <thead>\n",
       "    <tr style=\"text-align: right;\">\n",
       "      <th></th>\n",
       "      <th>Rank</th>\n",
       "    </tr>\n",
       "  </thead>\n",
       "  <tbody>\n",
       "    <tr>\n",
       "      <th>k9</th>\n",
       "      <td>1</td>\n",
       "    </tr>\n",
       "    <tr>\n",
       "      <th>drug_offer_1</th>\n",
       "      <td>1</td>\n",
       "    </tr>\n",
       "    <tr>\n",
       "      <th>drug_user_friend_1</th>\n",
       "      <td>1</td>\n",
       "    </tr>\n",
       "    <tr>\n",
       "      <th>k23d_2.0</th>\n",
       "      <td>1</td>\n",
       "    </tr>\n",
       "    <tr>\n",
       "      <th>k70b_3.0</th>\n",
       "      <td>1</td>\n",
       "    </tr>\n",
       "    <tr>\n",
       "      <th>k70b_4.0</th>\n",
       "      <td>1</td>\n",
       "    </tr>\n",
       "    <tr>\n",
       "      <th>non_medicide_1</th>\n",
       "      <td>1</td>\n",
       "    </tr>\n",
       "    <tr>\n",
       "      <th>k70c_4.0</th>\n",
       "      <td>1</td>\n",
       "    </tr>\n",
       "    <tr>\n",
       "      <th>doping_access</th>\n",
       "      <td>1</td>\n",
       "    </tr>\n",
       "    <tr>\n",
       "      <th>k6_2.0</th>\n",
       "      <td>1</td>\n",
       "    </tr>\n",
       "    <tr>\n",
       "      <th>cannabis_access</th>\n",
       "      <td>1</td>\n",
       "    </tr>\n",
       "    <tr>\n",
       "      <th>risk_of_try</th>\n",
       "      <td>1</td>\n",
       "    </tr>\n",
       "    <tr>\n",
       "      <th>k12</th>\n",
       "      <td>1</td>\n",
       "    </tr>\n",
       "    <tr>\n",
       "      <th>risk_of_use</th>\n",
       "      <td>1</td>\n",
       "    </tr>\n",
       "    <tr>\n",
       "      <th>alcohol_use</th>\n",
       "      <td>1</td>\n",
       "    </tr>\n",
       "  </tbody>\n",
       "</table>\n",
       "</div>"
      ],
      "text/plain": [
       "                    Rank\n",
       "k9                     1\n",
       "drug_offer_1           1\n",
       "drug_user_friend_1     1\n",
       "k23d_2.0               1\n",
       "k70b_3.0               1\n",
       "k70b_4.0               1\n",
       "non_medicide_1         1\n",
       "k70c_4.0               1\n",
       "doping_access          1\n",
       "k6_2.0                 1\n",
       "cannabis_access        1\n",
       "risk_of_try            1\n",
       "k12                    1\n",
       "risk_of_use            1\n",
       "alcohol_use            1"
      ]
     },
     "execution_count": 76,
     "metadata": {},
     "output_type": "execute_result"
    }
   ],
   "source": [
    "rfecv.support_rfecv_df = pd.DataFrame(rfecv.ranking_,index=data.columns[1:],columns=['Rank']).sort_values(by='Rank',ascending=True)\n",
    "rfecv.support_rfecv_df.head(15)"
   ]
  },
  {
   "cell_type": "code",
   "execution_count": 77,
   "id": "d1581069",
   "metadata": {},
   "outputs": [
    {
     "data": {
      "image/png": "[encoded data removed]",
      "text/plain": [
       "<Figure size 864x432 with 1 Axes>"
      ]
     },
     "metadata": {},
     "output_type": "display_data"
    }
   ],
   "source": [
    "import matplotlib.pyplot as plt\n",
    "plt.figure(figsize=(12,6))\n",
    "plt.xlabel('Number of features selected')\n",
    "plt.ylabel('Cross validation score (nb of correct classifications)')\n",
    "plt.plot(range(1, len(rfecv.grid_scores_) + 1), rfecv.grid_scores_)\n",
    "plt.show()"
   ]
  },
  {
   "cell_type": "code",
   "execution_count": 78,
   "id": "b84871c5",
   "metadata": {},
   "outputs": [],
   "source": [
    "y_pred = pipelinegbc.predict(X_test_std)"
   ]
  },
  {
   "cell_type": "code",
   "execution_count": 79,
   "id": "0e3053a0",
   "metadata": {},
   "outputs": [
    {
     "name": "stdout",
     "output_type": "stream",
     "text": [
      "Accuracy: 0.9637\n",
      "Precision: 0.9627\n",
      "Recall: 0.9637\n",
      "F1 Score: 0.9632\n",
      "Cohen Kappa Score: 0.6928\n",
      "Matthews Corrcoef: 0.6931\n",
      "roc_auc_score: 0.8368970287501504\n",
      "\t\tClassification Report:\n",
      "               precision    recall  f1-score   support\n",
      "\n",
      "         0.0       0.98      0.98      0.98       982\n",
      "         1.0       0.69      0.73      0.71        64\n",
      "\n",
      "    accuracy                           0.96      1046\n",
      "   macro avg       0.84      0.86      0.85      1046\n",
      "weighted avg       0.96      0.96      0.96      1046\n",
      "\n",
      "Confusion Matrix:\n",
      " [[961  17]\n",
      " [ 21  47]]\n"
     ]
    },
    {
     "data": {
      "image/png": "[encoded data removed]",
      "text/plain": [
       "<Figure size 432x288 with 1 Axes>"
      ]
     },
     "metadata": {},
     "output_type": "display_data"
    }
   ],
   "source": [
    "from sklearn import metrics\n",
    "from sklearn.metrics import roc_auc_score,precision_recall_curve,roc_curve\n",
    "from sklearn.metrics import confusion_matrix\n",
    "from sklearn.metrics import accuracy_score\n",
    "\n",
    "print('Accuracy:', np.round(metrics.accuracy_score(y_test, y_pred),4))\n",
    "print('Precision:', np.round(metrics.precision_score(y_test, y_pred,average='weighted'),4))\n",
    "print('Recall:', np.round(metrics.recall_score(y_test, y_pred,\n",
    "                                               average='weighted'),4))\n",
    "print('F1 Score:', np.round(metrics.f1_score(y_test, y_pred,\n",
    "                                               average='weighted'),4))\n",
    "print('Cohen Kappa Score:', np.round(metrics.cohen_kappa_score(y_test, y_pred),4))\n",
    "print('Matthews Corrcoef:', np.round(metrics.matthews_corrcoef(y_test, y_pred),4)) \n",
    "\n",
    "from sklearn.metrics import roc_auc_score\n",
    "print(\"roc_auc_score:\", roc_auc_score(y_test, y_pred, average=None))\n",
    "\n",
    "print('\\t\\tClassification Report:\\n', metrics.classification_report(y_pred,y_test))\n",
    "\n",
    "\n",
    "from sklearn.metrics import confusion_matrix\n",
    "print(\"Confusion Matrix:\\n\",confusion_matrix(y_test, y_pred))\n",
    "\n",
    "\n",
    "#Plot Confusion Matrix\n",
    "from sklearn.metrics import confusion_matrix\n",
    "from io import BytesIO #neded for plot\n",
    "import seaborn as sns; sns.set()\n",
    "import matplotlib.pyplot as plt\n",
    "\n",
    "mat = confusion_matrix(y_test, y_pred)\n",
    "sns.heatmap(mat.T, square=True, annot=True, fmt='d', cbar=False)\n",
    "plt.xlabel('true label')\n",
    "plt.ylabel('predicted label');\n",
    "\n",
    "plt.savefig(\"Confusion.jpg\")\n",
    "# Save SVG in a fake file object.\n",
    "f = BytesIO()\n",
    "plt.savefig(f, format=\"svg\")"
   ]
  },
  {
   "cell_type": "markdown",
   "id": "865cc27a",
   "metadata": {},
   "source": [
    "# SVC"
   ]
  },
  {
   "cell_type": "code",
   "execution_count": 82,
   "id": "90dc3b94",
   "metadata": {},
   "outputs": [],
   "source": [
    "from sklearn.svm import SVC\n",
    "from sklearn.feature_selection import RFECV\n",
    "\n",
    "# Create the RFE object and compute a cross-validated score.\n",
    "svc = SVC(kernel=\"linear\")\n",
    "\n",
    "rfecv_SVC = RFECV(estimator=svc)\n",
    "\n",
    "model = SVC(kernel=\"linear\")"
   ]
  },
  {
   "cell_type": "code",
   "execution_count": 83,
   "id": "267cc2ae",
   "metadata": {},
   "outputs": [
    {
     "data": {
      "text/plain": [
       "0.9563792754503138"
      ]
     },
     "execution_count": 83,
     "metadata": {},
     "output_type": "execute_result"
    }
   ],
   "source": [
    "pipelinesvc = Pipeline([('Feature Selection', rfecv_SVC), ('Model', model)])\n",
    "cv = RepeatedStratifiedKFold(n_splits=10, n_repeats=5, random_state=36851234)\n",
    "n_scores = cross_val_score(pipelinesvc, X_train, y_train, scoring='accuracy', cv=cv, n_jobs=-1)\n",
    "np.mean(n_scores)"
   ]
  },
  {
   "cell_type": "code",
   "execution_count": 84,
   "id": "76e64470",
   "metadata": {},
   "outputs": [
    {
     "data": {
      "text/plain": [
       "Pipeline(steps=[('Feature Selection', RFECV(estimator=SVC(kernel='linear'))),\n",
       "                ('Model', SVC(kernel='linear'))])"
      ]
     },
     "execution_count": 84,
     "metadata": {},
     "output_type": "execute_result"
    }
   ],
   "source": [
    "pipelinesvc.fit(X_train,y_train)"
   ]
  },
  {
   "cell_type": "code",
   "execution_count": 85,
   "id": "a14ab421",
   "metadata": {},
   "outputs": [
    {
     "name": "stdout",
     "output_type": "stream",
     "text": [
      "Optimal number of features : 22\n"
     ]
    }
   ],
   "source": [
    "print('Optimal number of features : %d' % rfecv_SVC.n_features_)"
   ]
  },
  {
   "cell_type": "code",
   "execution_count": 86,
   "id": "020d36ee",
   "metadata": {},
   "outputs": [
    {
     "data": {
      "image/png": "[encoded data removed]",
      "text/plain": [
       "<Figure size 864x432 with 1 Axes>"
      ]
     },
     "metadata": {},
     "output_type": "display_data"
    }
   ],
   "source": [
    "import matplotlib.pyplot as plt\n",
    "plt.figure(figsize=(12,6))\n",
    "plt.xlabel('Number of features selected')\n",
    "plt.ylabel('Cross validation score (nb of correct classifications)')\n",
    "plt.plot(range(1, len(rfecv_SVC.grid_scores_) + 1), rfecv_SVC.grid_scores_)\n",
    "plt.show()"
   ]
  },
  {
   "cell_type": "code",
   "execution_count": 87,
   "id": "215b1289",
   "metadata": {},
   "outputs": [],
   "source": [
    "y_pred = pipelinesvc.predict(X_test_std)"
   ]
  },
  {
   "cell_type": "code",
   "execution_count": 88,
   "id": "d11e7a50",
   "metadata": {},
   "outputs": [
    {
     "name": "stdout",
     "output_type": "stream",
     "text": [
      "Accuracy: 0.8031\n",
      "Precision: 0.9498\n",
      "Recall: 0.8031\n",
      "F1 Score: 0.8507\n",
      "Cohen Kappa Score: 0.3238\n",
      "Matthews Corrcoef: 0.436\n",
      "roc_auc_score: 0.8878413328521593\n",
      "\t\tClassification Report:\n",
      "               precision    recall  f1-score   support\n",
      "\n",
      "         0.0       0.79      1.00      0.88       774\n",
      "         1.0       0.99      0.25      0.39       272\n",
      "\n",
      "    accuracy                           0.80      1046\n",
      "   macro avg       0.89      0.62      0.64      1046\n",
      "weighted avg       0.84      0.80      0.76      1046\n",
      "\n",
      "Confusion Matrix:\n",
      " [[773 205]\n",
      " [  1  67]]\n"
     ]
    },
    {
     "data": {
      "image/png": "[encoded data removed]",
      "text/plain": [
       "<Figure size 432x288 with 1 Axes>"
      ]
     },
     "metadata": {},
     "output_type": "display_data"
    }
   ],
   "source": [
    "from sklearn import metrics\n",
    "from sklearn.metrics import roc_auc_score,precision_recall_curve,roc_curve\n",
    "from sklearn.metrics import confusion_matrix\n",
    "from sklearn.metrics import accuracy_score\n",
    "\n",
    "print('Accuracy:', np.round(metrics.accuracy_score(y_test, y_pred),4))\n",
    "print('Precision:', np.round(metrics.precision_score(y_test, y_pred,average='weighted'),4))\n",
    "print('Recall:', np.round(metrics.recall_score(y_test, y_pred,\n",
    "                                               average='weighted'),4))\n",
    "print('F1 Score:', np.round(metrics.f1_score(y_test, y_pred,\n",
    "                                               average='weighted'),4))\n",
    "print('Cohen Kappa Score:', np.round(metrics.cohen_kappa_score(y_test, y_pred),4))\n",
    "print('Matthews Corrcoef:', np.round(metrics.matthews_corrcoef(y_test, y_pred),4)) \n",
    "\n",
    "from sklearn.metrics import roc_auc_score\n",
    "print(\"roc_auc_score:\", roc_auc_score(y_test, y_pred, average=None))\n",
    "\n",
    "print('\\t\\tClassification Report:\\n', metrics.classification_report(y_pred,y_test))\n",
    "\n",
    "\n",
    "from sklearn.metrics import confusion_matrix\n",
    "print(\"Confusion Matrix:\\n\",confusion_matrix(y_test, y_pred))\n",
    "\n",
    "\n",
    "#Plot Confusion Matrix\n",
    "from sklearn.metrics import confusion_matrix\n",
    "from io import BytesIO #neded for plot\n",
    "import seaborn as sns; sns.set()\n",
    "import matplotlib.pyplot as plt\n",
    "\n",
    "mat = confusion_matrix(y_test, y_pred)\n",
    "sns.heatmap(mat.T, square=True, annot=True, fmt='d', cbar=False)\n",
    "plt.xlabel('true label')\n",
    "plt.ylabel('predicted label');\n",
    "\n",
    "plt.savefig(\"Confusion.jpg\")\n",
    "# Save SVG in a fake file object.\n",
    "f = BytesIO()\n",
    "plt.savefig(f, format=\"svg\")"
   ]
  },
  {
   "cell_type": "markdown",
   "id": "34475c4d",
   "metadata": {},
   "source": [
    "# Downsampling"
   ]
  },
  {
   "cell_type": "code",
   "execution_count": 89,
   "id": "bc106e49",
   "metadata": {},
   "outputs": [
    {
     "name": "stdout",
     "output_type": "stream",
     "text": [
      "n_class0:  3257\n",
      "n_class1:  228\n"
     ]
    }
   ],
   "source": [
    "w_class0 = np.where(y == 0)[0]\n",
    "w_class1 = np.where(y == 1)[0]\n",
    "\n",
    "n_class0 = len(w_class0) \n",
    "n_class1 = len(w_class1)\n",
    " \n",
    "\n",
    "print(\"n_class0: \", n_class0)\n",
    "print(\"n_class1: \", n_class1)"
   ]
  },
  {
   "cell_type": "code",
   "execution_count": 90,
   "id": "6007239b",
   "metadata": {},
   "outputs": [
    {
     "name": "stdout",
     "output_type": "stream",
     "text": [
      "\n",
      "[0. 0. 0. ... 1. 1. 1.]\n"
     ]
    }
   ],
   "source": [
    "w_class1_downsampled = np.random.choice(w_class1, size=n_class0)\n",
    "\n",
    "print()\n",
    "print(np.hstack((y[w_class0], y[w_class1_downsampled])))\n",
    "\n"
   ]
  },
  {
   "cell_type": "code",
   "execution_count": 91,
   "id": "71f2422c",
   "metadata": {},
   "outputs": [
    {
     "name": "stdout",
     "output_type": "stream",
     "text": [
      "(3257, 61)\n",
      "(228, 61)\n"
     ]
    }
   ],
   "source": [
    "no_cannabis = data[data[\"kannabis\"] == 0]\n",
    "yes_cannabis  = data[data[\"kannabis\"] == 1]\n",
    "print(no_cannabis.shape)\n",
    "print(yes_cannabis.shape)"
   ]
  },
  {
   "cell_type": "code",
   "execution_count": 92,
   "id": "392c274f",
   "metadata": {},
   "outputs": [
    {
     "name": "stdout",
     "output_type": "stream",
     "text": [
      "(228, 61)\n"
     ]
    }
   ],
   "source": [
    "from sklearn.utils import resample\n",
    "cannabis_downsample = resample(no_cannabis,\n",
    "             replace=True,\n",
    "             n_samples=len(yes_cannabis),\n",
    "             random_state=42)\n",
    "\n",
    "print(cannabis_downsample.shape)"
   ]
  },
  {
   "cell_type": "code",
   "execution_count": 93,
   "id": "6e5907d0",
   "metadata": {},
   "outputs": [
    {
     "name": "stdout",
     "output_type": "stream",
     "text": [
      "0.0    228\n",
      "1.0    228\n",
      "Name: kannabis, dtype: int64\n"
     ]
    },
    {
     "data": {
      "text/plain": [
       "<AxesSubplot:ylabel='Type'>"
      ]
     },
     "execution_count": 93,
     "metadata": {},
     "output_type": "execute_result"
    },
    {
     "data": {
      "image/png": "[encoded data removed]",
      "text/plain": [
       "<Figure size 432x288 with 1 Axes>"
      ]
     },
     "metadata": {},
     "output_type": "display_data"
    }
   ],
   "source": [
    "data_downsampled = pd.concat([cannabis_downsample, yes_cannabis])\n",
    "print(data_downsampled[\"kannabis\"].value_counts())\n",
    "\n",
    "data_downsampled.groupby('kannabis').size().plot(kind='pie',\n",
    "                                       y = \"kannabis\",\n",
    "                                       label = \"Type\",\n",
    "                                       autopct='%1.1f%%')\n"
   ]
  },
  {
   "cell_type": "code",
   "execution_count": 94,
   "id": "5aa5810e",
   "metadata": {},
   "outputs": [],
   "source": [
    "from sklearn.model_selection import train_test_split\n",
    "\n",
    "X, y = data_downsampled.iloc[:, 1:].values, data_downsampled.iloc[:, 0].values\n",
    "\n",
    "X_train, X_test, y_train, y_test =\\\n",
    "    train_test_split(X, y, \n",
    "                     test_size=0.3, \n",
    "                     random_state=0, \n",
    "                     stratify=y)"
   ]
  },
  {
   "cell_type": "markdown",
   "id": "624dcdfc",
   "metadata": {},
   "source": []
  },
  {
   "cell_type": "code",
   "execution_count": 95,
   "id": "fed67245",
   "metadata": {},
   "outputs": [],
   "source": [
    "from sklearn.ensemble import GradientBoostingClassifier\n",
    "from sklearn.feature_selection import RFECV\n",
    "rfecv = RFECV(estimator=GradientBoostingClassifier())\n",
    "model = GradientBoostingClassifier()"
   ]
  },
  {
   "cell_type": "code",
   "execution_count": 96,
   "id": "f509aaa8",
   "metadata": {},
   "outputs": [
    {
     "data": {
      "text/plain": [
       "0.9041532258064516"
      ]
     },
     "execution_count": 96,
     "metadata": {},
     "output_type": "execute_result"
    }
   ],
   "source": [
    "pipeline = Pipeline([('Feature Selection', rfecv), ('Model', model)])\n",
    "cv = RepeatedStratifiedKFold(n_splits=10, n_repeats=5, random_state=36851234)\n",
    "n_scores = cross_val_score(pipeline, X_train, y_train, scoring='accuracy', cv=cv, n_jobs=-1)\n",
    "np.mean(n_scores)"
   ]
  },
  {
   "cell_type": "code",
   "execution_count": 97,
   "id": "06a1bed0",
   "metadata": {},
   "outputs": [
    {
     "data": {
      "text/plain": [
       "Pipeline(steps=[('Feature Selection',\n",
       "                 RFECV(estimator=GradientBoostingClassifier())),\n",
       "                ('Model', GradientBoostingClassifier())])"
      ]
     },
     "execution_count": 97,
     "metadata": {},
     "output_type": "execute_result"
    }
   ],
   "source": [
    "pipeline.fit(X_train, y_train)"
   ]
  },
  {
   "cell_type": "code",
   "execution_count": 98,
   "id": "81277440",
   "metadata": {},
   "outputs": [
    {
     "name": "stdout",
     "output_type": "stream",
     "text": [
      "Optimal number of features : 12\n"
     ]
    }
   ],
   "source": [
    "print('Optimal number of features : %d' % rfecv.n_features_)"
   ]
  },
  {
   "cell_type": "code",
   "execution_count": 99,
   "id": "ab9d68f2",
   "metadata": {},
   "outputs": [
    {
     "data": {
      "text/html": [
       "<div>\n",
       "<style scoped>\n",
       "    .dataframe tbody tr th:only-of-type {\n",
       "        vertical-align: middle;\n",
       "    }\n",
       "\n",
       "    .dataframe tbody tr th {\n",
       "        vertical-align: top;\n",
       "    }\n",
       "\n",
       "    .dataframe thead th {\n",
       "        text-align: right;\n",
       "    }\n",
       "</style>\n",
       "<table border=\"1\" class=\"dataframe\">\n",
       "  <thead>\n",
       "    <tr style=\"text-align: right;\">\n",
       "      <th></th>\n",
       "      <th>Rank</th>\n",
       "    </tr>\n",
       "  </thead>\n",
       "  <tbody>\n",
       "    <tr>\n",
       "      <th>k9</th>\n",
       "      <td>1</td>\n",
       "    </tr>\n",
       "    <tr>\n",
       "      <th>k23d_2.0</th>\n",
       "      <td>1</td>\n",
       "    </tr>\n",
       "    <tr>\n",
       "      <th>drug_offer_1</th>\n",
       "      <td>1</td>\n",
       "    </tr>\n",
       "    <tr>\n",
       "      <th>e_cigarette_1</th>\n",
       "      <td>1</td>\n",
       "    </tr>\n",
       "    <tr>\n",
       "      <th>k72</th>\n",
       "      <td>1</td>\n",
       "    </tr>\n",
       "    <tr>\n",
       "      <th>k70b_3.0</th>\n",
       "      <td>1</td>\n",
       "    </tr>\n",
       "    <tr>\n",
       "      <th>cannabis_access</th>\n",
       "      <td>1</td>\n",
       "    </tr>\n",
       "    <tr>\n",
       "      <th>drug_user_friend_1</th>\n",
       "      <td>1</td>\n",
       "    </tr>\n",
       "    <tr>\n",
       "      <th>risk_of_use</th>\n",
       "      <td>1</td>\n",
       "    </tr>\n",
       "    <tr>\n",
       "      <th>k70b_4.0</th>\n",
       "      <td>1</td>\n",
       "    </tr>\n",
       "    <tr>\n",
       "      <th>k12</th>\n",
       "      <td>1</td>\n",
       "    </tr>\n",
       "    <tr>\n",
       "      <th>risk_of_try</th>\n",
       "      <td>1</td>\n",
       "    </tr>\n",
       "    <tr>\n",
       "      <th>non_medicide_1</th>\n",
       "      <td>2</td>\n",
       "    </tr>\n",
       "    <tr>\n",
       "      <th>alcohol_use</th>\n",
       "      <td>3</td>\n",
       "    </tr>\n",
       "    <tr>\n",
       "      <th>k23e_2.0</th>\n",
       "      <td>4</td>\n",
       "    </tr>\n",
       "  </tbody>\n",
       "</table>\n",
       "</div>"
      ],
      "text/plain": [
       "                    Rank\n",
       "k9                     1\n",
       "k23d_2.0               1\n",
       "drug_offer_1           1\n",
       "e_cigarette_1          1\n",
       "k72                    1\n",
       "k70b_3.0               1\n",
       "cannabis_access        1\n",
       "drug_user_friend_1     1\n",
       "risk_of_use            1\n",
       "k70b_4.0               1\n",
       "k12                    1\n",
       "risk_of_try            1\n",
       "non_medicide_1         2\n",
       "alcohol_use            3\n",
       "k23e_2.0               4"
      ]
     },
     "execution_count": 99,
     "metadata": {},
     "output_type": "execute_result"
    }
   ],
   "source": [
    "rfecv.support_rfecv_df = pd.DataFrame(rfecv.ranking_,index=data.columns[1:],columns=['Rank']).sort_values(by='Rank',ascending=True)\n",
    "rfecv.support_rfecv_df.head(15)"
   ]
  },
  {
   "cell_type": "code",
   "execution_count": 100,
   "id": "55e8d8de",
   "metadata": {},
   "outputs": [
    {
     "data": {
      "image/png": "[encoded data removed]",
      "text/plain": [
       "<Figure size 864x432 with 1 Axes>"
      ]
     },
     "metadata": {},
     "output_type": "display_data"
    }
   ],
   "source": [
    "import matplotlib.pyplot as plt\n",
    "plt.figure(figsize=(12,6))\n",
    "plt.xlabel('Number of features selected')\n",
    "plt.ylabel('Cross validation score (nb of correct classifications)')\n",
    "plt.plot(range(1, len(rfecv.grid_scores_) + 1), rfecv.grid_scores_)\n",
    "plt.show()"
   ]
  },
  {
   "cell_type": "code",
   "execution_count": 131,
   "id": "1ff08e26",
   "metadata": {},
   "outputs": [
    {
     "data": {
      "text/plain": [
       "<AxesSubplot:>"
      ]
     },
     "execution_count": 131,
     "metadata": {},
     "output_type": "execute_result"
    },
    {
     "data": {
      "image/png": "[encoded data removed]",
      "text/plain": [
       "<Figure size 1296x1080 with 2 Axes>"
      ]
     },
     "metadata": {},
     "output_type": "display_data"
    }
   ],
   "source": [
    "dt_columns = rfecv.support_rfecv_df [rfecv.support_rfecv_df ['Rank']==1].reset_index()\n",
    "dt_columns = list(np.array(dt_columns['index']))\n",
    "\n",
    "# New Correlation Matrix\n",
    "sns.set(style=\"white\")\n",
    "\n",
    "# Compute the correlation matrix\n",
    "corr = data[dt_columns].corr()\n",
    "\n",
    "# Generate a mask for the upper triangle\n",
    "mask = np.zeros_like(corr, )\n",
    "mask[np.triu_indices_from(mask)] = True\n",
    "\n",
    "# Set up the matplotlib figure\n",
    "f, ax = plt.subplots(figsize=(18, 15))\n",
    "\n",
    "# Generate a custom diverging colormap\n",
    "cmap = sns.diverging_palette(220, 10, as_cmap=True)\n",
    "\n",
    "# Draw the heatmap with the mask and correct aspect ratio\n",
    "sns.heatmap(corr, mask=mask, cmap=cmap, vmax=.3, center=0,\n",
    "            square=True, linewidths=.5, cbar_kws={\"shrink\": .5}) "
   ]
  },
  {
   "cell_type": "code",
   "execution_count": 101,
   "id": "3b791350",
   "metadata": {},
   "outputs": [],
   "source": [
    "y_pred = pipeline.predict(X_test)"
   ]
  },
  {
   "cell_type": "code",
   "execution_count": 102,
   "id": "0c7b635c",
   "metadata": {},
   "outputs": [
    {
     "name": "stdout",
     "output_type": "stream",
     "text": [
      "Accuracy: 0.854\n",
      "Precision: 0.8552\n",
      "Recall: 0.854\n",
      "F1 Score: 0.8539\n",
      "Cohen Kappa Score: 0.7079\n",
      "Matthews Corrcoef: 0.7091\n",
      "roc_auc_score: 0.8537936913895993\n",
      "\t\tClassification Report:\n",
      "               precision    recall  f1-score   support\n",
      "\n",
      "         0.0       0.88      0.84      0.86        73\n",
      "         1.0       0.82      0.88      0.85        64\n",
      "\n",
      "    accuracy                           0.85       137\n",
      "   macro avg       0.85      0.86      0.85       137\n",
      "weighted avg       0.86      0.85      0.85       137\n",
      "\n",
      "Confusion Matrix:\n",
      " [[61  8]\n",
      " [12 56]]\n"
     ]
    },
    {
     "data": {
      "image/png": "[encoded data removed]",
      "text/plain": [
       "<Figure size 432x288 with 1 Axes>"
      ]
     },
     "metadata": {},
     "output_type": "display_data"
    }
   ],
   "source": [
    "from sklearn import metrics\n",
    "from sklearn.metrics import roc_auc_score,precision_recall_curve,roc_curve\n",
    "from sklearn.metrics import confusion_matrix\n",
    "from sklearn.metrics import accuracy_score\n",
    "\n",
    "print('Accuracy:', np.round(metrics.accuracy_score(y_test, y_pred),4))\n",
    "print('Precision:', np.round(metrics.precision_score(y_test, y_pred,average='weighted'),4))\n",
    "print('Recall:', np.round(metrics.recall_score(y_test, y_pred,\n",
    "                                               average='weighted'),4))\n",
    "print('F1 Score:', np.round(metrics.f1_score(y_test, y_pred,\n",
    "                                               average='weighted'),4))\n",
    "print('Cohen Kappa Score:', np.round(metrics.cohen_kappa_score(y_test, y_pred),4))\n",
    "print('Matthews Corrcoef:', np.round(metrics.matthews_corrcoef(y_test, y_pred),4)) \n",
    "\n",
    "from sklearn.metrics import roc_auc_score\n",
    "print(\"roc_auc_score:\", roc_auc_score(y_test, y_pred, average=None))\n",
    "\n",
    "print('\\t\\tClassification Report:\\n', metrics.classification_report(y_pred,y_test))\n",
    "\n",
    "\n",
    "from sklearn.metrics import confusion_matrix\n",
    "print(\"Confusion Matrix:\\n\",confusion_matrix(y_test, y_pred))\n",
    "\n",
    "\n",
    "#Plot Confusion Matrix\n",
    "from sklearn.metrics import confusion_matrix\n",
    "from io import BytesIO #neded for plot\n",
    "import seaborn as sns; sns.set()\n",
    "import matplotlib.pyplot as plt\n",
    "\n",
    "mat = confusion_matrix(y_test, y_pred)\n",
    "sns.heatmap(mat.T, square=True, annot=True, fmt='d', cbar=False)\n",
    "plt.xlabel('true label')\n",
    "plt.ylabel('predicted label');\n",
    "\n",
    "plt.savefig(\"Confusion.jpg\")\n",
    "# Save SVG in a fake file object.\n",
    "f = BytesIO()\n",
    "plt.savefig(f, format=\"svg\")"
   ]
  },
  {
   "cell_type": "markdown",
   "id": "500c9152",
   "metadata": {},
   "source": [
    "# Random Forest "
   ]
  },
  {
   "cell_type": "code",
   "execution_count": 103,
   "id": "8357cac6",
   "metadata": {},
   "outputs": [],
   "source": [
    "from sklearn.ensemble import RandomForestClassifier\n",
    "\n",
    "rfecv_rfauto= RFECV(estimator=RandomForestClassifier())\n",
    "\n",
    "model_rfauto = RandomForestClassifier(n_estimators=1000, random_state=92116)"
   ]
  },
  {
   "cell_type": "code",
   "execution_count": 105,
   "id": "9541a5dd",
   "metadata": {},
   "outputs": [
    {
     "data": {
      "text/plain": [
       "0.9040725806451612"
      ]
     },
     "execution_count": 105,
     "metadata": {},
     "output_type": "execute_result"
    }
   ],
   "source": [
    "pipeline_rfauto = Pipeline([('Feature Selection', rfecv_rfauto), ('Model', model_rfauto)])\n",
    "cv = RepeatedStratifiedKFold(n_splits=10, n_repeats=5, random_state=92116)\n",
    "n_scores = cross_val_score(pipeline_rfauto, X_train, y_train, scoring='accuracy', cv=cv, n_jobs=-1)\n",
    "np.mean(n_scores)"
   ]
  },
  {
   "cell_type": "code",
   "execution_count": 107,
   "id": "60e84033",
   "metadata": {},
   "outputs": [
    {
     "data": {
      "text/plain": [
       "Pipeline(steps=[('Feature Selection',\n",
       "                 RFECV(estimator=RandomForestClassifier())),\n",
       "                ('Model',\n",
       "                 RandomForestClassifier(n_estimators=1000,\n",
       "                                        random_state=92116))])"
      ]
     },
     "execution_count": 107,
     "metadata": {},
     "output_type": "execute_result"
    }
   ],
   "source": [
    "pipeline_rfauto.fit(X_train, y_train)"
   ]
  },
  {
   "cell_type": "code",
   "execution_count": 110,
   "id": "e5d3df68",
   "metadata": {},
   "outputs": [
    {
     "name": "stdout",
     "output_type": "stream",
     "text": [
      "Optimal number of features : 15\n"
     ]
    }
   ],
   "source": [
    "print('Optimal number of features : %d' % rfecv_rfauto.n_features_)"
   ]
  },
  {
   "cell_type": "code",
   "execution_count": 132,
   "id": "c59f446a",
   "metadata": {},
   "outputs": [
    {
     "data": {
      "text/plain": [
       "<AxesSubplot:>"
      ]
     },
     "execution_count": 132,
     "metadata": {},
     "output_type": "execute_result"
    },
    {
     "data": {
      "image/png": "[encoded data removed]",
      "text/plain": [
       "<Figure size 1296x1080 with 2 Axes>"
      ]
     },
     "metadata": {},
     "output_type": "display_data"
    }
   ],
   "source": [
    "rfecv_rfauto.support_rfecv_df = pd.DataFrame(rfecv_rfauto.ranking_,index=data.columns[1:],columns=['Rank']).sort_values(by='Rank',ascending=True)\n",
    "\n",
    "dt_columns = rfecv_rfauto.support_rfecv_df [rfecv_rfauto.support_rfecv_df ['Rank']==1].reset_index()\n",
    "dt_columns = list(np.array(dt_columns['index']))\n",
    "\n",
    "# New Correlation Matrix\n",
    "sns.set(style=\"white\")\n",
    "\n",
    "# Compute the correlation matrix\n",
    "corr = data[dt_columns].corr()\n",
    "\n",
    "# Generate a mask for the upper triangle\n",
    "mask = np.zeros_like(corr, )\n",
    "mask[np.triu_indices_from(mask)] = True\n",
    "\n",
    "# Set up the matplotlib figure\n",
    "f, ax = plt.subplots(figsize=(18, 15))\n",
    "\n",
    "# Generate a custom diverging colormap\n",
    "cmap = sns.diverging_palette(220, 10, as_cmap=True)\n",
    "\n",
    "# Draw the heatmap with the mask and correct aspect ratio\n",
    "sns.heatmap(corr, mask=mask, cmap=cmap, vmax=.3, center=0,\n",
    "            square=True, linewidths=.5, cbar_kws={\"shrink\": .5})"
   ]
  },
  {
   "cell_type": "code",
   "execution_count": 108,
   "id": "85682be8",
   "metadata": {},
   "outputs": [],
   "source": [
    "y_pred = pipeline_rfauto.predict(X_test)"
   ]
  },
  {
   "cell_type": "code",
   "execution_count": 109,
   "id": "c308c3fd",
   "metadata": {},
   "outputs": [
    {
     "name": "stdout",
     "output_type": "stream",
     "text": [
      "Accuracy: 0.8832\n",
      "Precision: 0.8845\n",
      "Recall: 0.8832\n",
      "F1 Score: 0.8831\n",
      "Cohen Kappa Score: 0.7663\n",
      "Matthews Corrcoef: 0.7676\n",
      "roc_auc_score: 0.882992327365729\n",
      "\t\tClassification Report:\n",
      "               precision    recall  f1-score   support\n",
      "\n",
      "         0.0       0.91      0.86      0.89        73\n",
      "         1.0       0.85      0.91      0.88        64\n",
      "\n",
      "    accuracy                           0.88       137\n",
      "   macro avg       0.88      0.88      0.88       137\n",
      "weighted avg       0.88      0.88      0.88       137\n",
      "\n",
      "Confusion Matrix:\n",
      " [[63  6]\n",
      " [10 58]]\n"
     ]
    },
    {
     "data": {
      "image/png": "[encoded data removed]",
      "text/plain": [
       "<Figure size 432x288 with 1 Axes>"
      ]
     },
     "metadata": {},
     "output_type": "display_data"
    }
   ],
   "source": [
    "print('Accuracy:', np.round(metrics.accuracy_score(y_test, y_pred),4))\n",
    "print('Precision:', np.round(metrics.precision_score(y_test, y_pred,average='weighted'),4))\n",
    "print('Recall:', np.round(metrics.recall_score(y_test, y_pred,\n",
    "                                               average='weighted'),4))\n",
    "print('F1 Score:', np.round(metrics.f1_score(y_test, y_pred,\n",
    "                                               average='weighted'),4))\n",
    "print('Cohen Kappa Score:', np.round(metrics.cohen_kappa_score(y_test, y_pred),4))\n",
    "print('Matthews Corrcoef:', np.round(metrics.matthews_corrcoef(y_test, y_pred),4)) \n",
    "\n",
    "from sklearn.metrics import roc_auc_score\n",
    "print(\"roc_auc_score:\", roc_auc_score(y_test, y_pred, average=None))\n",
    "\n",
    "print('\\t\\tClassification Report:\\n', metrics.classification_report(y_pred,y_test))\n",
    "\n",
    "\n",
    "from sklearn.metrics import confusion_matrix\n",
    "print(\"Confusion Matrix:\\n\",confusion_matrix(y_test, y_pred))\n",
    "\n",
    "\n",
    "#Plot Confusion Matrix\n",
    "from sklearn.metrics import confusion_matrix\n",
    "from io import BytesIO #neded for plot\n",
    "import seaborn as sns; sns.set()\n",
    "import matplotlib.pyplot as plt\n",
    "\n",
    "mat = confusion_matrix(y_test, y_pred)\n",
    "sns.heatmap(mat.T, square=True, annot=True, fmt='d', cbar=False)\n",
    "\n",
    "\n",
    "plt.xlabel('true label')\n",
    "plt.ylabel('predicted label');\n",
    "\n",
    "plt.savefig(\"Confusion.jpg\")\n",
    "# Save SVG in a fake file object.\n",
    "f = BytesIO()\n",
    "plt.savefig(f, format=\"svg\")"
   ]
  },
  {
   "cell_type": "markdown",
   "id": "8ac023c7",
   "metadata": {},
   "source": [
    "# SMOTEN variant\n",
    "\n",
    "if the dateset only consists of categorical features, so we are able to use SMOTEN variant."
   ]
  },
  {
   "cell_type": "code",
   "execution_count": 11,
   "id": "6f726e8a",
   "metadata": {},
   "outputs": [
    {
     "name": "stdout",
     "output_type": "stream",
     "text": [
      "Class counts after resampling Counter({0.0: 3257, 1.0: 3257})\n"
     ]
    }
   ],
   "source": [
    "from collections import Counter\n",
    "from imblearn.over_sampling import SMOTEN\n",
    "sampler = SMOTEN(random_state=0)\n",
    "\n",
    "X_res, y_res = sampler.fit_resample(X, y)\n",
    "\n",
    "print(f\"Class counts after resampling {Counter(y_res)}\")"
   ]
  },
  {
   "cell_type": "code",
   "execution_count": 10,
   "id": "711c05b0",
   "metadata": {},
   "outputs": [],
   "source": [
    "from sklearn.ensemble import GradientBoostingClassifier\n",
    "from sklearn.feature_selection import RFECV\n",
    "rfecv = RFECV(estimator=GradientBoostingClassifier())\n",
    "model = GradientBoostingClassifier()"
   ]
  },
  {
   "cell_type": "code",
   "execution_count": 14,
   "id": "bddb9445",
   "metadata": {},
   "outputs": [
    {
     "data": {
      "text/plain": [
       "0.9801955933768718"
      ]
     },
     "execution_count": 14,
     "metadata": {},
     "output_type": "execute_result"
    }
   ],
   "source": [
    "pipeline = Pipeline([('Feature Selection', rfecv), ('Model', model)])\n",
    "cv = RepeatedStratifiedKFold(n_splits=10, n_repeats=5, random_state=36851234)\n",
    "n_scores = cross_val_score(pipeline, X_res, y_res, scoring='accuracy', cv=cv, n_jobs=-1)\n",
    "np.mean(n_scores)"
   ]
  },
  {
   "cell_type": "code",
   "execution_count": 15,
   "id": "e38b5122",
   "metadata": {},
   "outputs": [
    {
     "data": {
      "text/plain": [
       "Pipeline(steps=[('Feature Selection',\n",
       "                 RFECV(estimator=GradientBoostingClassifier())),\n",
       "                ('Model', GradientBoostingClassifier())])"
      ]
     },
     "execution_count": 15,
     "metadata": {},
     "output_type": "execute_result"
    }
   ],
   "source": [
    "pipeline.fit(X_train, y_train)"
   ]
  },
  {
   "cell_type": "code",
   "execution_count": 16,
   "id": "0c64651f",
   "metadata": {},
   "outputs": [
    {
     "name": "stdout",
     "output_type": "stream",
     "text": [
      "Optimal number of features : 15\n"
     ]
    }
   ],
   "source": [
    "print('Optimal number of features : %d' % rfecv.n_features_)"
   ]
  },
  {
   "cell_type": "code",
   "execution_count": 17,
   "id": "609fb58c",
   "metadata": {},
   "outputs": [
    {
     "data": {
      "text/html": [
       "<div>\n",
       "<style scoped>\n",
       "    .dataframe tbody tr th:only-of-type {\n",
       "        vertical-align: middle;\n",
       "    }\n",
       "\n",
       "    .dataframe tbody tr th {\n",
       "        vertical-align: top;\n",
       "    }\n",
       "\n",
       "    .dataframe thead th {\n",
       "        text-align: right;\n",
       "    }\n",
       "</style>\n",
       "<table border=\"1\" class=\"dataframe\">\n",
       "  <thead>\n",
       "    <tr style=\"text-align: right;\">\n",
       "      <th></th>\n",
       "      <th>Rank</th>\n",
       "    </tr>\n",
       "  </thead>\n",
       "  <tbody>\n",
       "    <tr>\n",
       "      <th>k9</th>\n",
       "      <td>1</td>\n",
       "    </tr>\n",
       "    <tr>\n",
       "      <th>k23d_2.0</th>\n",
       "      <td>1</td>\n",
       "    </tr>\n",
       "    <tr>\n",
       "      <th>k70b_3.0</th>\n",
       "      <td>1</td>\n",
       "    </tr>\n",
       "    <tr>\n",
       "      <th>k70b_4.0</th>\n",
       "      <td>1</td>\n",
       "    </tr>\n",
       "    <tr>\n",
       "      <th>non_medicide_1</th>\n",
       "      <td>1</td>\n",
       "    </tr>\n",
       "    <tr>\n",
       "      <th>k6_2.0</th>\n",
       "      <td>1</td>\n",
       "    </tr>\n",
       "    <tr>\n",
       "      <th>k70c_4.0</th>\n",
       "      <td>1</td>\n",
       "    </tr>\n",
       "    <tr>\n",
       "      <th>drug_offer_1</th>\n",
       "      <td>1</td>\n",
       "    </tr>\n",
       "    <tr>\n",
       "      <th>doping_access</th>\n",
       "      <td>1</td>\n",
       "    </tr>\n",
       "    <tr>\n",
       "      <th>drug_user_friend_1</th>\n",
       "      <td>1</td>\n",
       "    </tr>\n",
       "    <tr>\n",
       "      <th>cannabis_access</th>\n",
       "      <td>1</td>\n",
       "    </tr>\n",
       "    <tr>\n",
       "      <th>risk_of_try</th>\n",
       "      <td>1</td>\n",
       "    </tr>\n",
       "    <tr>\n",
       "      <th>risk_of_use</th>\n",
       "      <td>1</td>\n",
       "    </tr>\n",
       "    <tr>\n",
       "      <th>alcohol_use</th>\n",
       "      <td>1</td>\n",
       "    </tr>\n",
       "    <tr>\n",
       "      <th>k12</th>\n",
       "      <td>1</td>\n",
       "    </tr>\n",
       "  </tbody>\n",
       "</table>\n",
       "</div>"
      ],
      "text/plain": [
       "                    Rank\n",
       "k9                     1\n",
       "k23d_2.0               1\n",
       "k70b_3.0               1\n",
       "k70b_4.0               1\n",
       "non_medicide_1         1\n",
       "k6_2.0                 1\n",
       "k70c_4.0               1\n",
       "drug_offer_1           1\n",
       "doping_access          1\n",
       "drug_user_friend_1     1\n",
       "cannabis_access        1\n",
       "risk_of_try            1\n",
       "risk_of_use            1\n",
       "alcohol_use            1\n",
       "k12                    1"
      ]
     },
     "execution_count": 17,
     "metadata": {},
     "output_type": "execute_result"
    }
   ],
   "source": [
    "rfecv.support_rfecv_df = pd.DataFrame(rfecv.ranking_,index=data.columns[1:],columns=['Rank']).sort_values(by='Rank',ascending=True)\n",
    "rfecv.support_rfecv_df.head(15)"
   ]
  },
  {
   "cell_type": "code",
   "execution_count": 18,
   "id": "cc482652",
   "metadata": {},
   "outputs": [
    {
     "data": {
      "image/png": "[encoded data removed]",
      "text/plain": [
       "<Figure size 864x432 with 1 Axes>"
      ]
     },
     "metadata": {
      "needs_background": "light"
     },
     "output_type": "display_data"
    }
   ],
   "source": [
    "import matplotlib.pyplot as plt\n",
    "plt.figure(figsize=(12,6))\n",
    "plt.xlabel('Number of features selected')\n",
    "plt.ylabel('Cross validation score (nb of correct classifications)')\n",
    "plt.plot(range(1, len(rfecv.grid_scores_) + 1), rfecv.grid_scores_)\n",
    "plt.show()"
   ]
  },
  {
   "cell_type": "code",
   "execution_count": 21,
   "id": "15b02d5a",
   "metadata": {},
   "outputs": [
    {
     "name": "stdout",
     "output_type": "stream",
     "text": [
      "Accuracy: 0.9637\n",
      "Precision: 0.9627\n",
      "Recall: 0.9637\n",
      "F1 Score: 0.9632\n",
      "Cohen Kappa Score: 0.6928\n",
      "Matthews Corrcoef: 0.6931\n",
      "roc_auc_score: 0.8368970287501504\n",
      "\t\tClassification Report:\n",
      "               precision    recall  f1-score   support\n",
      "\n",
      "         0.0       0.98      0.98      0.98       982\n",
      "         1.0       0.69      0.73      0.71        64\n",
      "\n",
      "    accuracy                           0.96      1046\n",
      "   macro avg       0.84      0.86      0.85      1046\n",
      "weighted avg       0.96      0.96      0.96      1046\n",
      "\n",
      "Confusion Matrix:\n",
      " [[961  17]\n",
      " [ 21  47]]\n"
     ]
    },
    {
     "data": {
      "image/png": "[encoded data removed]",
      "text/plain": [
       "<Figure size 432x288 with 1 Axes>"
      ]
     },
     "metadata": {},
     "output_type": "display_data"
    }
   ],
   "source": [
    "y_pred = pipeline.predict(X_test)\n",
    "from sklearn import metrics\n",
    "from sklearn.metrics import roc_auc_score,precision_recall_curve,roc_curve\n",
    "from sklearn.metrics import confusion_matrix\n",
    "from sklearn.metrics import accuracy_score\n",
    "\n",
    "print('Accuracy:', np.round(metrics.accuracy_score(y_test, y_pred),4))\n",
    "print('Precision:', np.round(metrics.precision_score(y_test, y_pred,average='weighted'),4))\n",
    "print('Recall:', np.round(metrics.recall_score(y_test, y_pred,\n",
    "                                               average='weighted'),4))\n",
    "print('F1 Score:', np.round(metrics.f1_score(y_test, y_pred,\n",
    "                                               average='weighted'),4))\n",
    "print('Cohen Kappa Score:', np.round(metrics.cohen_kappa_score(y_test, y_pred),4))\n",
    "print('Matthews Corrcoef:', np.round(metrics.matthews_corrcoef(y_test, y_pred),4)) \n",
    "\n",
    "from sklearn.metrics import roc_auc_score\n",
    "print(\"roc_auc_score:\", roc_auc_score(y_test, y_pred, average=None))\n",
    "\n",
    "print('\\t\\tClassification Report:\\n', metrics.classification_report(y_pred,y_test))\n",
    "\n",
    "\n",
    "from sklearn.metrics import confusion_matrix\n",
    "print(\"Confusion Matrix:\\n\",confusion_matrix(y_test, y_pred))\n",
    "\n",
    "\n",
    "#Plot Confusion Matrix\n",
    "from sklearn.metrics import confusion_matrix\n",
    "from io import BytesIO #neded for plot\n",
    "import seaborn as sns; sns.set()\n",
    "import matplotlib.pyplot as plt\n",
    "\n",
    "mat = confusion_matrix(y_test, y_pred)\n",
    "sns.heatmap(mat.T, square=True, annot=True, fmt='d', cbar=False)\n",
    "\n",
    "\n",
    "plt.xlabel('true label')\n",
    "plt.ylabel('predicted label');\n",
    "\n",
    "plt.savefig(\"Confusion.jpg\")\n",
    "# Save SVG in a fake file object.\n",
    "f = BytesIO()\n",
    "plt.savefig(f, format=\"svg\")"
   ]
  },
  {
   "cell_type": "markdown",
   "id": "7f14e890",
   "metadata": {},
   "source": [
    "# Combination of Over- and Under-sampling/ Hybrid Methods\n",
    "\n",
    "There are two ready-to-use classes imbalanced-learn implements for combining over- and under-sampling methods are SMOTETomek and SMOTEENN. Short demo can be found [here](https://eqibuana.medium.com/how-to-deal-with-imbalanced-data-in-classification-tasks-1046e5be0e0)"
   ]
  },
  {
   "cell_type": "code",
   "execution_count": 25,
   "id": "8b6750a2",
   "metadata": {},
   "outputs": [],
   "source": [
    "# resample by adding samples to minority class using SMOTE\n",
    "from imblearn.combine import SMOTETomek\n",
    "from imblearn.under_sampling import TomekLinks\n",
    "\n",
    "\n",
    "resample = SMOTETomek(tomek=TomekLinks(sampling_strategy='majority'))\n",
    "X_oversamp, Y_over_samp = resample.fit_resample(X, y)\n",
    "\n",
    "\n",
    "\n",
    "#split data train and test\n",
    "from sklearn.model_selection import train_test_split\n",
    "X_train, X_test, y_train, y_test = train_test_split(X_oversamp,\n",
    "                                                    Y_over_samp,\n",
    "                                                    test_size=0.3,\n",
    "                                                    random_state = 10)\n",
    "\n",
    "\n",
    "\n",
    "print(f\"Class counts after resampling {Counter( Y_over_samp)}\")"
   ]
  },
  {
   "cell_type": "code",
   "execution_count": null,
   "id": "737923c1",
   "metadata": {},
   "outputs": [],
   "source": [
    "from sklearn.ensemble import GradientBoostingClassifier\n",
    "from sklearn.feature_selection import RFECV\n",
    "rfecv = RFECV(estimator=GradientBoostingClassifier())\n",
    "model = GradientBoostingClassifier()"
   ]
  },
  {
   "cell_type": "code",
   "execution_count": 27,
   "id": "e61bae48",
   "metadata": {},
   "outputs": [
    {
     "data": {
      "text/plain": [
       "0.9806532677848467"
      ]
     },
     "execution_count": 27,
     "metadata": {},
     "output_type": "execute_result"
    }
   ],
   "source": [
    "pipeline = Pipeline([('Feature Selection', rfecv), ('Model', model)])\n",
    "cv = RepeatedStratifiedKFold(n_splits=10, n_repeats=5, random_state=36851234)\n",
    "n_scores = cross_val_score(pipeline, X_train, y_train, scoring='accuracy', cv=cv, n_jobs=-1)\n",
    "np.mean(n_scores)"
   ]
  },
  {
   "cell_type": "code",
   "execution_count": 28,
   "id": "f76004d4",
   "metadata": {},
   "outputs": [
    {
     "data": {
      "text/plain": [
       "Pipeline(steps=[('Feature Selection',\n",
       "                 RFECV(estimator=GradientBoostingClassifier())),\n",
       "                ('Model', GradientBoostingClassifier())])"
      ]
     },
     "execution_count": 28,
     "metadata": {},
     "output_type": "execute_result"
    }
   ],
   "source": [
    "pipeline.fit(X_train, y_train)"
   ]
  },
  {
   "cell_type": "code",
   "execution_count": 29,
   "id": "ffcfcc22",
   "metadata": {},
   "outputs": [
    {
     "name": "stdout",
     "output_type": "stream",
     "text": [
      "Optimal number of features : 34\n"
     ]
    },
    {
     "data": {
      "text/html": [
       "<div>\n",
       "<style scoped>\n",
       "    .dataframe tbody tr th:only-of-type {\n",
       "        vertical-align: middle;\n",
       "    }\n",
       "\n",
       "    .dataframe tbody tr th {\n",
       "        vertical-align: top;\n",
       "    }\n",
       "\n",
       "    .dataframe thead th {\n",
       "        text-align: right;\n",
       "    }\n",
       "</style>\n",
       "<table border=\"1\" class=\"dataframe\">\n",
       "  <thead>\n",
       "    <tr style=\"text-align: right;\">\n",
       "      <th></th>\n",
       "      <th>Rank</th>\n",
       "    </tr>\n",
       "  </thead>\n",
       "  <tbody>\n",
       "    <tr>\n",
       "      <th>k9</th>\n",
       "      <td>1</td>\n",
       "    </tr>\n",
       "    <tr>\n",
       "      <th>k23g_2.0</th>\n",
       "      <td>1</td>\n",
       "    </tr>\n",
       "    <tr>\n",
       "      <th>drug_user_friend_1</th>\n",
       "      <td>1</td>\n",
       "    </tr>\n",
       "    <tr>\n",
       "      <th>drug_offer_1</th>\n",
       "      <td>1</td>\n",
       "    </tr>\n",
       "    <tr>\n",
       "      <th>violence_treat_1</th>\n",
       "      <td>1</td>\n",
       "    </tr>\n",
       "    <tr>\n",
       "      <th>employment_1</th>\n",
       "      <td>1</td>\n",
       "    </tr>\n",
       "    <tr>\n",
       "      <th>age_bins_(24, 34]</th>\n",
       "      <td>1</td>\n",
       "    </tr>\n",
       "    <tr>\n",
       "      <th>k70e_3.0</th>\n",
       "      <td>1</td>\n",
       "    </tr>\n",
       "    <tr>\n",
       "      <th>age_bins_(54, 70]</th>\n",
       "      <td>1</td>\n",
       "    </tr>\n",
       "    <tr>\n",
       "      <th>k3_3.0</th>\n",
       "      <td>1</td>\n",
       "    </tr>\n",
       "    <tr>\n",
       "      <th>k4_2.0</th>\n",
       "      <td>1</td>\n",
       "    </tr>\n",
       "    <tr>\n",
       "      <th>k4_3.0</th>\n",
       "      <td>1</td>\n",
       "    </tr>\n",
       "    <tr>\n",
       "      <th>k7_4.0</th>\n",
       "      <td>1</td>\n",
       "    </tr>\n",
       "    <tr>\n",
       "      <th>k70b_3.0</th>\n",
       "      <td>1</td>\n",
       "    </tr>\n",
       "    <tr>\n",
       "      <th>k70b_4.0</th>\n",
       "      <td>1</td>\n",
       "    </tr>\n",
       "  </tbody>\n",
       "</table>\n",
       "</div>"
      ],
      "text/plain": [
       "                    Rank\n",
       "k9                     1\n",
       "k23g_2.0               1\n",
       "drug_user_friend_1     1\n",
       "drug_offer_1           1\n",
       "violence_treat_1       1\n",
       "employment_1           1\n",
       "age_bins_(24, 34]      1\n",
       "k70e_3.0               1\n",
       "age_bins_(54, 70]      1\n",
       "k3_3.0                 1\n",
       "k4_2.0                 1\n",
       "k4_3.0                 1\n",
       "k7_4.0                 1\n",
       "k70b_3.0               1\n",
       "k70b_4.0               1"
      ]
     },
     "execution_count": 29,
     "metadata": {},
     "output_type": "execute_result"
    }
   ],
   "source": [
    "print('Optimal number of features : %d' % rfecv.n_features_)\n",
    "rfecv.support_rfecv_df = pd.DataFrame(rfecv.ranking_,index=data.columns[1:],columns=['Rank']).sort_values(by='Rank',ascending=True)\n",
    "rfecv.support_rfecv_df.head(15)"
   ]
  },
  {
   "cell_type": "code",
   "execution_count": 37,
   "id": "0ce4ff84",
   "metadata": {},
   "outputs": [
    {
     "data": {
      "text/plain": [
       "['k9',\n",
       " 'k23g_2.0',\n",
       " 'drug_user_friend_1',\n",
       " 'drug_offer_1',\n",
       " 'violence_treat_1',\n",
       " 'employment_1',\n",
       " 'age_bins_(24, 34]',\n",
       " 'k70e_3.0',\n",
       " 'age_bins_(54, 70]',\n",
       " 'k3_3.0',\n",
       " 'k4_2.0',\n",
       " 'k4_3.0',\n",
       " 'k7_4.0',\n",
       " 'k70b_3.0',\n",
       " 'k70b_4.0',\n",
       " 'k70d_3.0',\n",
       " 'k23d_2.0',\n",
       " 'k23c_2.0',\n",
       " 'k70e_4.0',\n",
       " 'k23a_2.0',\n",
       " 'k21b',\n",
       " 'cannabis_access',\n",
       " 'k21a',\n",
       " 'doping_access',\n",
       " 'risk_of_use',\n",
       " 'k68',\n",
       " 'k66',\n",
       " 'alcohol_use',\n",
       " 'e_cigarette_1',\n",
       " 'k6_2.0',\n",
       " 'k12',\n",
       " 'non_medicide_1',\n",
       " 'k72',\n",
       " 'risk_of_try']"
      ]
     },
     "execution_count": 37,
     "metadata": {},
     "output_type": "execute_result"
    }
   ],
   "source": [
    "# list of features for further use\n",
    "rfecv.support_rfecv_df = pd.DataFrame(rfecv.ranking_,index=data.columns[1:],columns=['Rank']).sort_values(by='Rank',ascending=True)\n",
    "\n",
    "dt_columns = rfecv.support_rfecv_df [rfecv.support_rfecv_df ['Rank']==1].reset_index()\n",
    "dt_columns = list(np.array(dt_columns['index']))\n",
    "dt_columns "
   ]
  },
  {
   "cell_type": "code",
   "execution_count": 30,
   "id": "a186a8f6",
   "metadata": {},
   "outputs": [
    {
     "data": {
      "image/png": "[encoded data removed]",
      "text/plain": [
       "<Figure size 864x432 with 1 Axes>"
      ]
     },
     "metadata": {},
     "output_type": "display_data"
    }
   ],
   "source": [
    "import matplotlib.pyplot as plt\n",
    "plt.figure(figsize=(12,6))\n",
    "plt.xlabel('Number of features selected')\n",
    "plt.ylabel('Cross validation score (nb of correct classifications)')\n",
    "plt.plot(range(1, len(rfecv.grid_scores_) + 1), rfecv.grid_scores_)\n",
    "plt.show()"
   ]
  },
  {
   "cell_type": "code",
   "execution_count": 31,
   "id": "2b93f259",
   "metadata": {},
   "outputs": [
    {
     "name": "stdout",
     "output_type": "stream",
     "text": [
      "Accuracy: 0.978\n",
      "Precision: 0.978\n",
      "Recall: 0.978\n",
      "F1 Score: 0.978\n",
      "Cohen Kappa Score: 0.956\n",
      "Matthews Corrcoef: 0.956\n",
      "roc_auc_score: 0.9780010465724751\n",
      "\t\tClassification Report:\n",
      "               precision    recall  f1-score   support\n",
      "\n",
      "         0.0       0.98      0.98      0.98       972\n",
      "         1.0       0.98      0.98      0.98       983\n",
      "\n",
      "    accuracy                           0.98      1955\n",
      "   macro avg       0.98      0.98      0.98      1955\n",
      "weighted avg       0.98      0.98      0.98      1955\n",
      "\n",
      "Confusion Matrix:\n",
      " [[952  23]\n",
      " [ 20 960]]\n"
     ]
    },
    {
     "data": {
      "image/png": "[encoded data removed]",
      "text/plain": [
       "<Figure size 432x288 with 1 Axes>"
      ]
     },
     "metadata": {},
     "output_type": "display_data"
    }
   ],
   "source": [
    "y_pred = pipeline.predict(X_test)\n",
    "from sklearn import metrics\n",
    "from sklearn.metrics import roc_auc_score,precision_recall_curve,roc_curve\n",
    "from sklearn.metrics import confusion_matrix\n",
    "from sklearn.metrics import accuracy_score\n",
    "\n",
    "print('Accuracy:', np.round(metrics.accuracy_score(y_test, y_pred),4))\n",
    "print('Precision:', np.round(metrics.precision_score(y_test, y_pred,average='weighted'),4))\n",
    "print('Recall:', np.round(metrics.recall_score(y_test, y_pred,\n",
    "                                               average='weighted'),4))\n",
    "print('F1 Score:', np.round(metrics.f1_score(y_test, y_pred,\n",
    "                                               average='weighted'),4))\n",
    "print('Cohen Kappa Score:', np.round(metrics.cohen_kappa_score(y_test, y_pred),4))\n",
    "print('Matthews Corrcoef:', np.round(metrics.matthews_corrcoef(y_test, y_pred),4)) \n",
    "\n",
    "from sklearn.metrics import roc_auc_score\n",
    "print(\"roc_auc_score:\", roc_auc_score(y_test, y_pred, average=None))\n",
    "\n",
    "print('\\t\\tClassification Report:\\n', metrics.classification_report(y_pred,y_test))\n",
    "\n",
    "\n",
    "from sklearn.metrics import confusion_matrix\n",
    "print(\"Confusion Matrix:\\n\",confusion_matrix(y_test, y_pred))\n",
    "\n",
    "\n",
    "#Plot Confusion Matrix\n",
    "from sklearn.metrics import confusion_matrix\n",
    "from io import BytesIO #neded for plot\n",
    "import seaborn as sns; sns.set()\n",
    "import matplotlib.pyplot as plt\n",
    "\n",
    "mat = confusion_matrix(y_test, y_pred)\n",
    "sns.heatmap(mat.T, square=True, annot=True, fmt='d', cbar=False)\n",
    "\n",
    "\n",
    "plt.xlabel('true label')\n",
    "plt.ylabel('predicted label');\n",
    "\n",
    "plt.savefig(\"Confusion.jpg\")\n",
    "# Save SVG in a fake file object.\n",
    "f = BytesIO()\n",
    "plt.savefig(f, format=\"svg\")"
   ]
  },
  {
   "cell_type": "markdown",
   "id": "b80ba5bb",
   "metadata": {},
   "source": [
    "# Random Forest with Hybrit Sampling"
   ]
  },
  {
   "cell_type": "code",
   "execution_count": 6,
   "id": "395ff356",
   "metadata": {},
   "outputs": [
    {
     "name": "stdout",
     "output_type": "stream",
     "text": [
      "Class counts after resampling Counter({0.0: 3257, 1.0: 3257})\n"
     ]
    }
   ],
   "source": [
    "# resample by adding samples to minority class using SMOTE\n",
    "from collections import Counter\n",
    "from imblearn.combine import SMOTETomek\n",
    "from imblearn.under_sampling import TomekLinks\n",
    "\n",
    "\n",
    "resample = SMOTETomek(tomek=TomekLinks(sampling_strategy='majority'))\n",
    "X_oversamp, Y_over_samp = resample.fit_resample(X, y)\n",
    "\n",
    "\n",
    "\n",
    "#split data train and test\n",
    "from sklearn.model_selection import train_test_split\n",
    "X_train, X_test, y_train, y_test = train_test_split(X_oversamp,\n",
    "                                                    Y_over_samp,\n",
    "                                                    test_size=0.3,\n",
    "                                                    random_state = 10)\n",
    "\n",
    "\n",
    "\n",
    "print(f\"Class counts after resampling {Counter( Y_over_samp)}\")"
   ]
  },
  {
   "cell_type": "code",
   "execution_count": 9,
   "id": "965358c4",
   "metadata": {},
   "outputs": [],
   "source": [
    "from sklearn.ensemble import RandomForestClassifier\n",
    "\n",
    "rfecv= RFECV(estimator=RandomForestClassifier())\n",
    "model = RandomForestClassifier(n_estimators=1000, random_state=92116)"
   ]
  },
  {
   "cell_type": "code",
   "execution_count": 10,
   "id": "a127cc61",
   "metadata": {},
   "outputs": [
    {
     "data": {
      "text/plain": [
       "0.9823634085213032"
      ]
     },
     "execution_count": 10,
     "metadata": {},
     "output_type": "execute_result"
    }
   ],
   "source": [
    "pipeline = Pipeline([('Feature Selection', rfecv), ('Model', model)])\n",
    "cv = RepeatedStratifiedKFold(n_splits=10, n_repeats=5, random_state=36851234)\n",
    "n_scores = cross_val_score(pipeline, X_train, y_train, scoring='accuracy', cv=cv, n_jobs=-1)\n",
    "np.mean(n_scores)"
   ]
  },
  {
   "cell_type": "code",
   "execution_count": 11,
   "id": "0cf32cc7",
   "metadata": {},
   "outputs": [
    {
     "data": {
      "text/plain": [
       "Pipeline(steps=[('Feature Selection',\n",
       "                 RFECV(estimator=RandomForestClassifier())),\n",
       "                ('Model',\n",
       "                 RandomForestClassifier(n_estimators=1000,\n",
       "                                        random_state=92116))])"
      ]
     },
     "execution_count": 11,
     "metadata": {},
     "output_type": "execute_result"
    }
   ],
   "source": [
    "pipeline.fit(X_train, y_train)"
   ]
  },
  {
   "cell_type": "code",
   "execution_count": 12,
   "id": "d3c7a1b2",
   "metadata": {},
   "outputs": [
    {
     "name": "stdout",
     "output_type": "stream",
     "text": [
      "Optimal number of features : 39\n"
     ]
    },
    {
     "data": {
      "text/html": [
       "<div>\n",
       "<style scoped>\n",
       "    .dataframe tbody tr th:only-of-type {\n",
       "        vertical-align: middle;\n",
       "    }\n",
       "\n",
       "    .dataframe tbody tr th {\n",
       "        vertical-align: top;\n",
       "    }\n",
       "\n",
       "    .dataframe thead th {\n",
       "        text-align: right;\n",
       "    }\n",
       "</style>\n",
       "<table border=\"1\" class=\"dataframe\">\n",
       "  <thead>\n",
       "    <tr style=\"text-align: right;\">\n",
       "      <th></th>\n",
       "      <th>Rank</th>\n",
       "    </tr>\n",
       "  </thead>\n",
       "  <tbody>\n",
       "    <tr>\n",
       "      <th>k9</th>\n",
       "      <td>1</td>\n",
       "    </tr>\n",
       "    <tr>\n",
       "      <th>drug_user_friend_1</th>\n",
       "      <td>1</td>\n",
       "    </tr>\n",
       "    <tr>\n",
       "      <th>drug_offer_1</th>\n",
       "      <td>1</td>\n",
       "    </tr>\n",
       "    <tr>\n",
       "      <th>violence_treat_1</th>\n",
       "      <td>1</td>\n",
       "    </tr>\n",
       "    <tr>\n",
       "      <th>employment_1</th>\n",
       "      <td>1</td>\n",
       "    </tr>\n",
       "    <tr>\n",
       "      <th>age_bins_(24, 34]</th>\n",
       "      <td>1</td>\n",
       "    </tr>\n",
       "    <tr>\n",
       "      <th>k70e_3.0</th>\n",
       "      <td>1</td>\n",
       "    </tr>\n",
       "    <tr>\n",
       "      <th>age_bins_(54, 70]</th>\n",
       "      <td>1</td>\n",
       "    </tr>\n",
       "    <tr>\n",
       "      <th>k4_2.0</th>\n",
       "      <td>1</td>\n",
       "    </tr>\n",
       "    <tr>\n",
       "      <th>k4_3.0</th>\n",
       "      <td>1</td>\n",
       "    </tr>\n",
       "    <tr>\n",
       "      <th>k5_2.0</th>\n",
       "      <td>1</td>\n",
       "    </tr>\n",
       "    <tr>\n",
       "      <th>k7_4.0</th>\n",
       "      <td>1</td>\n",
       "    </tr>\n",
       "    <tr>\n",
       "      <th>k70b_3.0</th>\n",
       "      <td>1</td>\n",
       "    </tr>\n",
       "    <tr>\n",
       "      <th>k70b_4.0</th>\n",
       "      <td>1</td>\n",
       "    </tr>\n",
       "    <tr>\n",
       "      <th>k70c_3.0</th>\n",
       "      <td>1</td>\n",
       "    </tr>\n",
       "  </tbody>\n",
       "</table>\n",
       "</div>"
      ],
      "text/plain": [
       "                    Rank\n",
       "k9                     1\n",
       "drug_user_friend_1     1\n",
       "drug_offer_1           1\n",
       "violence_treat_1       1\n",
       "employment_1           1\n",
       "age_bins_(24, 34]      1\n",
       "k70e_3.0               1\n",
       "age_bins_(54, 70]      1\n",
       "k4_2.0                 1\n",
       "k4_3.0                 1\n",
       "k5_2.0                 1\n",
       "k7_4.0                 1\n",
       "k70b_3.0               1\n",
       "k70b_4.0               1\n",
       "k70c_3.0               1"
      ]
     },
     "execution_count": 12,
     "metadata": {},
     "output_type": "execute_result"
    }
   ],
   "source": [
    "print('Optimal number of features : %d' % rfecv.n_features_)\n",
    "rfecv.support_rfecv_df = pd.DataFrame(rfecv.ranking_,index=data.columns[1:],columns=['Rank']).sort_values(by='Rank',ascending=True)\n",
    "rfecv.support_rfecv_df.head(15)"
   ]
  },
  {
   "cell_type": "code",
   "execution_count": 13,
   "id": "8d59cd10",
   "metadata": {},
   "outputs": [
    {
     "data": {
      "text/plain": [
       "['k9',\n",
       " 'drug_user_friend_1',\n",
       " 'drug_offer_1',\n",
       " 'violence_treat_1',\n",
       " 'employment_1',\n",
       " 'age_bins_(24, 34]',\n",
       " 'k70e_3.0',\n",
       " 'age_bins_(54, 70]',\n",
       " 'k4_2.0',\n",
       " 'k4_3.0',\n",
       " 'k5_2.0',\n",
       " 'k7_4.0',\n",
       " 'k70b_3.0',\n",
       " 'k70b_4.0',\n",
       " 'k70c_3.0',\n",
       " 'k70c_4.0',\n",
       " 'k70d_3.0',\n",
       " 'k70d_4.0',\n",
       " 'k23e_2.0',\n",
       " 'k23d_2.0',\n",
       " 'k70e_4.0',\n",
       " 'k23b_2.0',\n",
       " 'doping_access',\n",
       " 'k66',\n",
       " 'cannabis_access',\n",
       " 'risk_of_try',\n",
       " 'risk_of_use',\n",
       " 'k21b',\n",
       " 'k21a',\n",
       " 'k68',\n",
       " 'alcohol_use',\n",
       " 'k72',\n",
       " 'k1_2',\n",
       " 'e_cigarette_1',\n",
       " 'k6_2.0',\n",
       " 'non_medicide_1',\n",
       " 'k23a_2.0',\n",
       " 'k12',\n",
       " 'other_access']"
      ]
     },
     "execution_count": 13,
     "metadata": {},
     "output_type": "execute_result"
    }
   ],
   "source": [
    "# list of features for further use\n",
    "rfecv.support_rfecv_df = pd.DataFrame(rfecv.ranking_,index=data.columns[1:],columns=['Rank']).sort_values(by='Rank',ascending=True)\n",
    "\n",
    "dt_columns = rfecv.support_rfecv_df [rfecv.support_rfecv_df ['Rank']==1].reset_index()\n",
    "dt_columns = list(np.array(dt_columns['index']))\n",
    "dt_columns"
   ]
  },
  {
   "cell_type": "code",
   "execution_count": 15,
   "id": "bf039c2f",
   "metadata": {},
   "outputs": [
    {
     "data": {
      "image/png": "[encoded data removed]",
      "text/plain": [
       "<Figure size 864x432 with 1 Axes>"
      ]
     },
     "metadata": {},
     "output_type": "display_data"
    }
   ],
   "source": [
    "import matplotlib.pyplot as plt\n",
    "plt.figure(figsize=(12,6))\n",
    "plt.xlabel('Number of features selected')\n",
    "plt.ylabel('Cross validation score (nb of correct classifications)')\n",
    "plt.plot(range(1, len(rfecv.grid_scores_) + 1), rfecv.grid_scores_)\n",
    "plt.show()"
   ]
  },
  {
   "cell_type": "code",
   "execution_count": 14,
   "id": "d46fa1c6",
   "metadata": {},
   "outputs": [
    {
     "name": "stdout",
     "output_type": "stream",
     "text": [
      "Accuracy: 0.978\n",
      "Precision: 0.978\n",
      "Recall: 0.978\n",
      "F1 Score: 0.978\n",
      "Cohen Kappa Score: 0.956\n",
      "Matthews Corrcoef: 0.956\n",
      "roc_auc_score: 0.9780088958660387\n",
      "\t\tClassification Report:\n",
      "               precision    recall  f1-score   support\n",
      "\n",
      "         0.0       0.98      0.98      0.98       978\n",
      "         1.0       0.98      0.98      0.98       977\n",
      "\n",
      "    accuracy                           0.98      1955\n",
      "   macro avg       0.98      0.98      0.98      1955\n",
      "weighted avg       0.98      0.98      0.98      1955\n",
      "\n",
      "Confusion Matrix:\n",
      " [[955  20]\n",
      " [ 23 957]]\n"
     ]
    },
    {
     "data": {
      "image/png": "[encoded data removed]",
      "text/plain": [
       "<Figure size 432x288 with 1 Axes>"
      ]
     },
     "metadata": {},
     "output_type": "display_data"
    }
   ],
   "source": [
    "y_pred = pipeline.predict(X_test)\n",
    "from sklearn import metrics\n",
    "from sklearn.metrics import roc_auc_score,precision_recall_curve,roc_curve\n",
    "from sklearn.metrics import confusion_matrix\n",
    "from sklearn.metrics import accuracy_score\n",
    "\n",
    "print('Accuracy:', np.round(metrics.accuracy_score(y_test, y_pred),4))\n",
    "print('Precision:', np.round(metrics.precision_score(y_test, y_pred,average='weighted'),4))\n",
    "print('Recall:', np.round(metrics.recall_score(y_test, y_pred,\n",
    "                                               average='weighted'),4))\n",
    "print('F1 Score:', np.round(metrics.f1_score(y_test, y_pred,\n",
    "                                               average='weighted'),4))\n",
    "print('Cohen Kappa Score:', np.round(metrics.cohen_kappa_score(y_test, y_pred),4))\n",
    "print('Matthews Corrcoef:', np.round(metrics.matthews_corrcoef(y_test, y_pred),4)) \n",
    "\n",
    "from sklearn.metrics import roc_auc_score\n",
    "print(\"roc_auc_score:\", roc_auc_score(y_test, y_pred, average=None))\n",
    "\n",
    "print('\\t\\tClassification Report:\\n', metrics.classification_report(y_pred,y_test))\n",
    "\n",
    "\n",
    "from sklearn.metrics import confusion_matrix\n",
    "print(\"Confusion Matrix:\\n\",confusion_matrix(y_test, y_pred))\n",
    "\n",
    "\n",
    "#Plot Confusion Matrix\n",
    "from sklearn.metrics import confusion_matrix\n",
    "from io import BytesIO #neded for plot\n",
    "import seaborn as sns; sns.set()\n",
    "import matplotlib.pyplot as plt\n",
    "\n",
    "mat = confusion_matrix(y_test, y_pred)\n",
    "sns.heatmap(mat.T, square=True, annot=True, fmt='d', cbar=False)\n",
    "\n",
    "\n",
    "plt.xlabel('true label')\n",
    "plt.ylabel('predicted label');\n",
    "\n",
    "plt.savefig(\"Confusion.jpg\")\n",
    "# Save SVG in a fake file object.\n",
    "f = BytesIO()\n",
    "plt.savefig(f, format=\"svg\")"
   ]
  },
  {
   "cell_type": "markdown",
   "id": "372cccb6",
   "metadata": {},
   "source": [
    "# Sonuc ve Sorular\n",
    "\n",
    "1. Pipeline accuracy ile model.prediction uzerinden elde edilen degerler cok az farkli. Herhangi bir sorun var mi? \n",
    "2. Downsampling de accuracy, F1 gibi degeler daha dusuk ama Cohen Kappa ve Matthews corrcoef yukseldi. Smote ile uretilen sampling sonuclarinda Cohen Kappa ve Matthews corrcoef yukseldi. Bu nasil dengelenecek? Bu soruya cevabi kismen bulmus aldim biraz daha okumayla. Hybrit sampling use yaradi gorunuyor\n",
    "3. Random Forest with Smote 26 features vs RF downsampling 15 features\n",
    "4. GBC with Smote 15 vs GBC with downsampling 12\n",
    "5. SVC en kotu sonuclari verdi\n",
    "6. Downsampling de RF sonuclari daha iyi\n",
    "7. SMOTEN variant duz Smote gore daha iyi ama onemli bir mesafe kat edemedi.\n",
    "8. Hybrit sampling ise neredeyse herseyi dengeledi ve sonuclar cok iyi. Is it too good to be true? Metodologic olarak ne tur adventage ve disadvantage var? \n",
    "10. Feature sayisi bir anda 34 cikti, nasil yorumlanmali? Genel olarak 15 featuredan sonra model performanci pek degismiyor. Yine de tamamini mi almak gerekir yoksa buradan kesebilir miyiz?\n",
    "11. Genel degerlendirmeniz nedir? \n"
   ]
  }
 ],
 "metadata": {
  "kernelspec": {
   "display_name": "Python 3 (ipykernel)",
   "language": "python",
   "name": "python3"
  },
  "language_info": {
   "codemirror_mode": {
    "name": "ipython",
    "version": 3
   },
   "file_extension": ".py",
   "mimetype": "text/x-python",
   "name": "python",
   "nbconvert_exporter": "python",
   "pygments_lexer": "ipython3",
   "version": "3.9.7"
  }
 },
 "nbformat": 4,
 "nbformat_minor": 5
}

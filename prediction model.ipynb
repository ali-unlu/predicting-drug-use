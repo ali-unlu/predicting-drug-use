{
 "cells": [
  {
   "cell_type": "markdown",
   "id": "bf3bd0d9",
   "metadata": {},
   "source": [
    "# Prediction Model"
   ]
  },
  {
   "cell_type": "markdown",
   "id": "39cebba3",
   "metadata": {},
   "source": [
    "# 1. Data and preprocessing"
   ]
  },
  {
   "cell_type": "code",
   "execution_count": 1,
   "id": "a58ef790",
   "metadata": {},
   "outputs": [],
   "source": [
    "# loading necessary libraries\n",
    "import pandas as pd\n",
    "import numpy as np\n",
    "from sklearn.model_selection import train_test_split\n",
    "import matplotlib.pyplot as plt\n",
    "\n",
    "import warnings\n",
    "warnings.filterwarnings('ignore')"
   ]
  },
  {
   "cell_type": "code",
   "execution_count": 2,
   "id": "b4b43d4e",
   "metadata": {},
   "outputs": [
    {
     "data": {
      "text/html": [
       "<div>\n",
       "<style scoped>\n",
       "    .dataframe tbody tr th:only-of-type {\n",
       "        vertical-align: middle;\n",
       "    }\n",
       "\n",
       "    .dataframe tbody tr th {\n",
       "        vertical-align: top;\n",
       "    }\n",
       "\n",
       "    .dataframe thead th {\n",
       "        text-align: right;\n",
       "    }\n",
       "</style>\n",
       "<table border=\"1\" class=\"dataframe\">\n",
       "  <thead>\n",
       "    <tr style=\"text-align: right;\">\n",
       "      <th></th>\n",
       "      <th>kannabis</th>\n",
       "      <th>alcohol_use</th>\n",
       "      <th>nuuska</th>\n",
       "      <th>cigarette</th>\n",
       "      <th>e_cigarette</th>\n",
       "      <th>prob_country</th>\n",
       "      <th>prob_resident</th>\n",
       "      <th>risk_of_use</th>\n",
       "      <th>risk_of_try</th>\n",
       "      <th>cannabis_access</th>\n",
       "      <th>...</th>\n",
       "      <th>household_1.0</th>\n",
       "      <th>household_2.0</th>\n",
       "      <th>household_3.0</th>\n",
       "      <th>drug_punishment_1.0</th>\n",
       "      <th>drug_punishment_2.0</th>\n",
       "      <th>drug_punishment_3.0</th>\n",
       "      <th>drug_punishment_4.0</th>\n",
       "      <th>violence_treat_1.0</th>\n",
       "      <th>violence_treat_2.0</th>\n",
       "      <th>violence_treat_3.0</th>\n",
       "    </tr>\n",
       "  </thead>\n",
       "  <tbody>\n",
       "    <tr>\n",
       "      <th>0</th>\n",
       "      <td>0.0</td>\n",
       "      <td>3.0</td>\n",
       "      <td>1.0</td>\n",
       "      <td>1.0</td>\n",
       "      <td>1.0</td>\n",
       "      <td>3.0</td>\n",
       "      <td>2.0</td>\n",
       "      <td>24.0</td>\n",
       "      <td>13.0</td>\n",
       "      <td>0.0</td>\n",
       "      <td>...</td>\n",
       "      <td>0.0</td>\n",
       "      <td>1.0</td>\n",
       "      <td>0.0</td>\n",
       "      <td>0.0</td>\n",
       "      <td>1.0</td>\n",
       "      <td>0.0</td>\n",
       "      <td>0.0</td>\n",
       "      <td>0.0</td>\n",
       "      <td>0.0</td>\n",
       "      <td>1.0</td>\n",
       "    </tr>\n",
       "    <tr>\n",
       "      <th>1</th>\n",
       "      <td>0.0</td>\n",
       "      <td>1.0</td>\n",
       "      <td>1.0</td>\n",
       "      <td>1.0</td>\n",
       "      <td>1.0</td>\n",
       "      <td>3.0</td>\n",
       "      <td>2.0</td>\n",
       "      <td>23.0</td>\n",
       "      <td>17.0</td>\n",
       "      <td>3.0</td>\n",
       "      <td>...</td>\n",
       "      <td>0.0</td>\n",
       "      <td>1.0</td>\n",
       "      <td>0.0</td>\n",
       "      <td>0.0</td>\n",
       "      <td>1.0</td>\n",
       "      <td>0.0</td>\n",
       "      <td>0.0</td>\n",
       "      <td>0.0</td>\n",
       "      <td>1.0</td>\n",
       "      <td>0.0</td>\n",
       "    </tr>\n",
       "    <tr>\n",
       "      <th>2</th>\n",
       "      <td>0.0</td>\n",
       "      <td>5.0</td>\n",
       "      <td>1.0</td>\n",
       "      <td>2.0</td>\n",
       "      <td>1.0</td>\n",
       "      <td>4.0</td>\n",
       "      <td>3.0</td>\n",
       "      <td>24.0</td>\n",
       "      <td>18.0</td>\n",
       "      <td>0.0</td>\n",
       "      <td>...</td>\n",
       "      <td>0.0</td>\n",
       "      <td>1.0</td>\n",
       "      <td>0.0</td>\n",
       "      <td>0.0</td>\n",
       "      <td>0.0</td>\n",
       "      <td>0.0</td>\n",
       "      <td>1.0</td>\n",
       "      <td>0.0</td>\n",
       "      <td>1.0</td>\n",
       "      <td>0.0</td>\n",
       "    </tr>\n",
       "    <tr>\n",
       "      <th>3</th>\n",
       "      <td>1.0</td>\n",
       "      <td>7.0</td>\n",
       "      <td>2.0</td>\n",
       "      <td>2.0</td>\n",
       "      <td>1.0</td>\n",
       "      <td>3.0</td>\n",
       "      <td>2.0</td>\n",
       "      <td>22.0</td>\n",
       "      <td>12.0</td>\n",
       "      <td>3.0</td>\n",
       "      <td>...</td>\n",
       "      <td>0.0</td>\n",
       "      <td>1.0</td>\n",
       "      <td>0.0</td>\n",
       "      <td>0.0</td>\n",
       "      <td>1.0</td>\n",
       "      <td>0.0</td>\n",
       "      <td>0.0</td>\n",
       "      <td>1.0</td>\n",
       "      <td>0.0</td>\n",
       "      <td>0.0</td>\n",
       "    </tr>\n",
       "    <tr>\n",
       "      <th>4</th>\n",
       "      <td>0.0</td>\n",
       "      <td>5.0</td>\n",
       "      <td>1.0</td>\n",
       "      <td>1.0</td>\n",
       "      <td>1.0</td>\n",
       "      <td>3.0</td>\n",
       "      <td>2.0</td>\n",
       "      <td>24.0</td>\n",
       "      <td>16.0</td>\n",
       "      <td>2.0</td>\n",
       "      <td>...</td>\n",
       "      <td>0.0</td>\n",
       "      <td>1.0</td>\n",
       "      <td>0.0</td>\n",
       "      <td>0.0</td>\n",
       "      <td>0.0</td>\n",
       "      <td>0.0</td>\n",
       "      <td>1.0</td>\n",
       "      <td>0.0</td>\n",
       "      <td>0.0</td>\n",
       "      <td>1.0</td>\n",
       "    </tr>\n",
       "  </tbody>\n",
       "</table>\n",
       "<p>5 rows × 59 columns</p>\n",
       "</div>"
      ],
      "text/plain": [
       "   kannabis  alcohol_use  nuuska  cigarette  e_cigarette  prob_country  \\\n",
       "0       0.0          3.0     1.0        1.0          1.0           3.0   \n",
       "1       0.0          1.0     1.0        1.0          1.0           3.0   \n",
       "2       0.0          5.0     1.0        2.0          1.0           4.0   \n",
       "3       1.0          7.0     2.0        2.0          1.0           3.0   \n",
       "4       0.0          5.0     1.0        1.0          1.0           3.0   \n",
       "\n",
       "   prob_resident  risk_of_use  risk_of_try  cannabis_access  ...  \\\n",
       "0            2.0         24.0         13.0              0.0  ...   \n",
       "1            2.0         23.0         17.0              3.0  ...   \n",
       "2            3.0         24.0         18.0              0.0  ...   \n",
       "3            2.0         22.0         12.0              3.0  ...   \n",
       "4            2.0         24.0         16.0              2.0  ...   \n",
       "\n",
       "   household_1.0  household_2.0  household_3.0  drug_punishment_1.0  \\\n",
       "0            0.0            1.0            0.0                  0.0   \n",
       "1            0.0            1.0            0.0                  0.0   \n",
       "2            0.0            1.0            0.0                  0.0   \n",
       "3            0.0            1.0            0.0                  0.0   \n",
       "4            0.0            1.0            0.0                  0.0   \n",
       "\n",
       "   drug_punishment_2.0  drug_punishment_3.0  drug_punishment_4.0  \\\n",
       "0                  1.0                  0.0                  0.0   \n",
       "1                  1.0                  0.0                  0.0   \n",
       "2                  0.0                  0.0                  1.0   \n",
       "3                  1.0                  0.0                  0.0   \n",
       "4                  0.0                  0.0                  1.0   \n",
       "\n",
       "   violence_treat_1.0  violence_treat_2.0  violence_treat_3.0  \n",
       "0                 0.0                 0.0                 1.0  \n",
       "1                 0.0                 1.0                 0.0  \n",
       "2                 0.0                 1.0                 0.0  \n",
       "3                 1.0                 0.0                 0.0  \n",
       "4                 0.0                 0.0                 1.0  \n",
       "\n",
       "[5 rows x 59 columns]"
      ]
     },
     "execution_count": 2,
     "metadata": {},
     "output_type": "execute_result"
    }
   ],
   "source": [
    "data = pd.read_csv('thl_recoded.csv')\n",
    "data.head()"
   ]
  },
  {
   "cell_type": "code",
   "execution_count": 3,
   "id": "0a11063b",
   "metadata": {},
   "outputs": [
    {
     "data": {
      "text/html": [
       "<div>\n",
       "<style scoped>\n",
       "    .dataframe tbody tr th:only-of-type {\n",
       "        vertical-align: middle;\n",
       "    }\n",
       "\n",
       "    .dataframe tbody tr th {\n",
       "        vertical-align: top;\n",
       "    }\n",
       "\n",
       "    .dataframe thead th {\n",
       "        text-align: right;\n",
       "    }\n",
       "</style>\n",
       "<table border=\"1\" class=\"dataframe\">\n",
       "  <thead>\n",
       "    <tr style=\"text-align: right;\">\n",
       "      <th></th>\n",
       "      <th>kannabis</th>\n",
       "      <th>alcohol_use</th>\n",
       "      <th>household_2.0</th>\n",
       "      <th>drug_punishment_1.0</th>\n",
       "      <th>purchase_offer_1</th>\n",
       "      <th>free_offer_1</th>\n",
       "      <th>drug_user_friend_1</th>\n",
       "      <th>sport</th>\n",
       "      <th>intoxicant_access</th>\n",
       "      <th>age_bins_(24, 34]</th>\n",
       "      <th>risk_of_try</th>\n",
       "      <th>risk_of_use</th>\n",
       "      <th>prob_country</th>\n",
       "      <th>e_cigarette</th>\n",
       "      <th>cigarette</th>\n",
       "      <th>nuuska</th>\n",
       "    </tr>\n",
       "  </thead>\n",
       "  <tbody>\n",
       "    <tr>\n",
       "      <th>0</th>\n",
       "      <td>0.0</td>\n",
       "      <td>3.0</td>\n",
       "      <td>1.0</td>\n",
       "      <td>0.0</td>\n",
       "      <td>0.0</td>\n",
       "      <td>0.0</td>\n",
       "      <td>0.0</td>\n",
       "      <td>3.0</td>\n",
       "      <td>1.0</td>\n",
       "      <td>0.0</td>\n",
       "      <td>13.0</td>\n",
       "      <td>24.0</td>\n",
       "      <td>3.0</td>\n",
       "      <td>1.0</td>\n",
       "      <td>1.0</td>\n",
       "      <td>1.0</td>\n",
       "    </tr>\n",
       "    <tr>\n",
       "      <th>1</th>\n",
       "      <td>0.0</td>\n",
       "      <td>1.0</td>\n",
       "      <td>1.0</td>\n",
       "      <td>0.0</td>\n",
       "      <td>0.0</td>\n",
       "      <td>0.0</td>\n",
       "      <td>1.0</td>\n",
       "      <td>4.0</td>\n",
       "      <td>4.0</td>\n",
       "      <td>0.0</td>\n",
       "      <td>17.0</td>\n",
       "      <td>23.0</td>\n",
       "      <td>3.0</td>\n",
       "      <td>1.0</td>\n",
       "      <td>1.0</td>\n",
       "      <td>1.0</td>\n",
       "    </tr>\n",
       "    <tr>\n",
       "      <th>2</th>\n",
       "      <td>0.0</td>\n",
       "      <td>5.0</td>\n",
       "      <td>1.0</td>\n",
       "      <td>0.0</td>\n",
       "      <td>0.0</td>\n",
       "      <td>0.0</td>\n",
       "      <td>1.0</td>\n",
       "      <td>4.0</td>\n",
       "      <td>0.0</td>\n",
       "      <td>0.0</td>\n",
       "      <td>18.0</td>\n",
       "      <td>24.0</td>\n",
       "      <td>4.0</td>\n",
       "      <td>1.0</td>\n",
       "      <td>2.0</td>\n",
       "      <td>1.0</td>\n",
       "    </tr>\n",
       "    <tr>\n",
       "      <th>3</th>\n",
       "      <td>1.0</td>\n",
       "      <td>7.0</td>\n",
       "      <td>1.0</td>\n",
       "      <td>0.0</td>\n",
       "      <td>0.0</td>\n",
       "      <td>1.0</td>\n",
       "      <td>0.0</td>\n",
       "      <td>3.0</td>\n",
       "      <td>4.0</td>\n",
       "      <td>1.0</td>\n",
       "      <td>12.0</td>\n",
       "      <td>22.0</td>\n",
       "      <td>3.0</td>\n",
       "      <td>1.0</td>\n",
       "      <td>2.0</td>\n",
       "      <td>2.0</td>\n",
       "    </tr>\n",
       "    <tr>\n",
       "      <th>4</th>\n",
       "      <td>0.0</td>\n",
       "      <td>5.0</td>\n",
       "      <td>1.0</td>\n",
       "      <td>0.0</td>\n",
       "      <td>0.0</td>\n",
       "      <td>0.0</td>\n",
       "      <td>0.0</td>\n",
       "      <td>4.0</td>\n",
       "      <td>3.0</td>\n",
       "      <td>0.0</td>\n",
       "      <td>16.0</td>\n",
       "      <td>24.0</td>\n",
       "      <td>3.0</td>\n",
       "      <td>1.0</td>\n",
       "      <td>1.0</td>\n",
       "      <td>1.0</td>\n",
       "    </tr>\n",
       "  </tbody>\n",
       "</table>\n",
       "</div>"
      ],
      "text/plain": [
       "   kannabis  alcohol_use  household_2.0  drug_punishment_1.0  \\\n",
       "0       0.0          3.0            1.0                  0.0   \n",
       "1       0.0          1.0            1.0                  0.0   \n",
       "2       0.0          5.0            1.0                  0.0   \n",
       "3       1.0          7.0            1.0                  0.0   \n",
       "4       0.0          5.0            1.0                  0.0   \n",
       "\n",
       "   purchase_offer_1  free_offer_1  drug_user_friend_1  sport  \\\n",
       "0               0.0           0.0                 0.0    3.0   \n",
       "1               0.0           0.0                 1.0    4.0   \n",
       "2               0.0           0.0                 1.0    4.0   \n",
       "3               0.0           1.0                 0.0    3.0   \n",
       "4               0.0           0.0                 0.0    4.0   \n",
       "\n",
       "   intoxicant_access  age_bins_(24, 34]  risk_of_try  risk_of_use  \\\n",
       "0                1.0                0.0         13.0         24.0   \n",
       "1                4.0                0.0         17.0         23.0   \n",
       "2                0.0                0.0         18.0         24.0   \n",
       "3                4.0                1.0         12.0         22.0   \n",
       "4                3.0                0.0         16.0         24.0   \n",
       "\n",
       "   prob_country  e_cigarette  cigarette  nuuska  \n",
       "0           3.0          1.0        1.0     1.0  \n",
       "1           3.0          1.0        1.0     1.0  \n",
       "2           4.0          1.0        2.0     1.0  \n",
       "3           3.0          1.0        2.0     2.0  \n",
       "4           3.0          1.0        1.0     1.0  "
      ]
     },
     "execution_count": 3,
     "metadata": {},
     "output_type": "execute_result"
    }
   ],
   "source": [
    "selected_features = ['kannabis','alcohol_use',\n",
    " 'household_2.0',\n",
    " 'drug_punishment_1.0',\n",
    " 'purchase_offer_1',\n",
    " 'free_offer_1',\n",
    " 'drug_user_friend_1',\n",
    " 'sport',\n",
    " 'intoxicant_access',\n",
    " 'age_bins_(24, 34]',\n",
    " 'risk_of_try',\n",
    " 'risk_of_use',\n",
    " 'prob_country',\n",
    " 'e_cigarette',\n",
    " 'cigarette',\n",
    " 'nuuska']\n",
    "\n",
    "data = data[selected_features]\n",
    "data.head()"
   ]
  },
  {
   "cell_type": "code",
   "execution_count": 4,
   "id": "e8e3fc6b",
   "metadata": {},
   "outputs": [
    {
     "data": {
      "text/plain": [
       "0.0    0.914525\n",
       "1.0    0.085475\n",
       "Name: kannabis, dtype: float64"
      ]
     },
     "execution_count": 4,
     "metadata": {},
     "output_type": "execute_result"
    }
   ],
   "source": [
    " # Kannabis use\n",
    "data['kannabis'].value_counts(normalize= True)"
   ]
  },
  {
   "cell_type": "code",
   "execution_count": 5,
   "id": "5107fb26",
   "metadata": {},
   "outputs": [
    {
     "name": "stdout",
     "output_type": "stream",
     "text": [
      "Class counts after resampling Counter({0.0: 2953, 1.0: 2953})\n"
     ]
    }
   ],
   "source": [
    "# resample by adding samples to minority class using SMOTE\n",
    "from collections import Counter\n",
    "from imblearn.combine import SMOTETomek\n",
    "from imblearn.under_sampling import TomekLinks\n",
    "\n",
    "from sklearn.model_selection import train_test_split\n",
    "X, y = data.iloc[:, 1:], data.iloc[:, 0]\n",
    "\n",
    "resample = SMOTETomek(tomek=TomekLinks(sampling_strategy='not majority'))\n",
    "X_oversamp, Y_over_samp = resample.fit_resample(X, y)\n",
    "\n",
    "\n",
    "\n",
    "#split data train and test\n",
    "from sklearn.model_selection import train_test_split\n",
    "X_train, X_test, y_train, y_test = train_test_split(X_oversamp,\n",
    "                                                    Y_over_samp,\n",
    "                                                    test_size=0.3,\n",
    "                                                    random_state = 10)\n",
    "\n",
    "\n",
    "\n",
    "print(f\"Class counts after resampling {Counter( Y_over_samp)}\")"
   ]
  },
  {
   "cell_type": "code",
   "execution_count": 6,
   "id": "2dfcbdf3",
   "metadata": {},
   "outputs": [
    {
     "name": "stdout",
     "output_type": "stream",
     "text": [
      "Dimension of train data:  (4134, 15)\n",
      "Dimension of test data:  (1772, 15)\n"
     ]
    }
   ],
   "source": [
    "print('Dimension of train data: ', X_train.shape)\n",
    "print('Dimension of test data: ', X_test.shape)"
   ]
  },
  {
   "cell_type": "code",
   "execution_count": 7,
   "id": "9b051136",
   "metadata": {},
   "outputs": [],
   "source": [
    "# necessary for XGBoost \n",
    "#X_train.columns[X_train.columns.str.contains(\"[\\[\\]<]\")]\n",
    "X_train.columns = X_train.columns.str.translate(\"\".maketrans({\"[\":\"{\", \"]\":\"}\",\"<\":\"^\"}))"
   ]
  },
  {
   "cell_type": "markdown",
   "id": "94383035",
   "metadata": {},
   "source": [
    "# 2. Model Building with Cross Validation\n",
    "\n",
    "I will use the main classification models under the hood of sklearn. I will first analyze based on original data set and then apply the same methods on new data set."
   ]
  },
  {
   "cell_type": "code",
   "execution_count": 8,
   "id": "ea8fae2e",
   "metadata": {},
   "outputs": [
    {
     "data": {
      "text/html": [
       "        <script type=\"text/javascript\">\n",
       "        window.PlotlyConfig = {MathJaxConfig: 'local'};\n",
       "        if (window.MathJax) {MathJax.Hub.Config({SVG: {font: \"STIX-Web\"}});}\n",
       "        if (typeof require !== 'undefined') {\n",
       "        require.undef(\"plotly\");\n",
       "        requirejs.config({\n",
       "            paths: {\n",
       "                'plotly': ['https://cdn.plot.ly/plotly-2.6.3.min']\n",
       "            }\n",
       "        });\n",
       "        require(['plotly'], function(Plotly) {\n",
       "            window._Plotly = Plotly;\n",
       "        });\n",
       "        }\n",
       "        </script>\n",
       "        "
      ]
     },
     "metadata": {},
     "output_type": "display_data"
    }
   ],
   "source": [
    "# Load libraries\n",
    "# plot\n",
    "import matplotlib.pyplot as plt\n",
    "from chart_studio.plotly import plot, iplot\n",
    "import plotly.offline as py\n",
    "import plotly.graph_objs as go\n",
    "import plotly.tools as tls\n",
    "py.init_notebook_mode(connected=True)\n",
    "import matplotlib.font_manager\n",
    "\n",
    "#models                   \n",
    "from pandas import set_option\n",
    "from pandas.plotting import scatter_matrix\n",
    "from sklearn.preprocessing import StandardScaler\n",
    "from sklearn.model_selection import train_test_split\n",
    "from sklearn.model_selection import KFold\n",
    "from sklearn.model_selection import StratifiedKFold\n",
    "from sklearn.model_selection import cross_val_score\n",
    "from sklearn.model_selection import GridSearchCV\n",
    "from sklearn.metrics import classification_report\n",
    "from sklearn.metrics import confusion_matrix\n",
    "from sklearn.metrics import accuracy_score\n",
    "from sklearn.pipeline import Pipeline\n",
    "from sklearn.linear_model import LogisticRegression\n",
    "from sklearn.tree import DecisionTreeClassifier\n",
    "from sklearn.neighbors import KNeighborsClassifier\n",
    "from sklearn.discriminant_analysis import LinearDiscriminantAnalysis\n",
    "from sklearn.naive_bayes import GaussianNB\n",
    "from sklearn.svm import SVC\n",
    "from sklearn.ensemble import AdaBoostClassifier\n",
    "from sklearn.ensemble import GradientBoostingClassifier\n",
    "from sklearn.ensemble import RandomForestClassifier\n",
    "from sklearn.ensemble import ExtraTreesClassifier\n",
    "from sklearn.ensemble import BaggingClassifier\n",
    "from xgboost import XGBClassifier\n",
    "\n"
   ]
  },
  {
   "cell_type": "code",
   "execution_count": 9,
   "id": "c85cc3b4",
   "metadata": {},
   "outputs": [],
   "source": [
    "# Spot-Check Algorithms\n",
    "def GetBasedModel():\n",
    "    basedModels = []\n",
    "    basedModels.append(('LR'   , LogisticRegression(max_iter= 1000)))\n",
    "    basedModels.append(('LDA'  , LinearDiscriminantAnalysis()))\n",
    "    basedModels.append(('KNN'  , KNeighborsClassifier()))\n",
    "    basedModels.append(('CART' , DecisionTreeClassifier()))\n",
    "    basedModels.append(('NB'   , GaussianNB()))\n",
    "    basedModels.append(('SVM'  , SVC(probability=True)))\n",
    "    basedModels.append(('ADA'   , AdaBoostClassifier()))\n",
    "    basedModels.append(('GBM'  , GradientBoostingClassifier()))\n",
    "    basedModels.append(('RF'   , RandomForestClassifier()))\n",
    "    basedModels.append(('ET'   , ExtraTreesClassifier()))\n",
    "    basedModels.append(('Bagging'   , BaggingClassifier()))\n",
    "    basedModels.append(('XGBoost'   , XGBClassifier(eval_metric='mlogloss')))\n",
    "\n",
    "\n",
    "\n",
    "    \n",
    "    return basedModels"
   ]
  },
  {
   "cell_type": "code",
   "execution_count": 10,
   "id": "86cb14d4",
   "metadata": {},
   "outputs": [],
   "source": [
    "def BasedLine2(X_train, y_train, models):\n",
    "    # Test options and evaluation metric\n",
    "    num_folds = 10\n",
    "    scoring = 'accuracy'\n",
    "\n",
    "    results = []\n",
    "    names = []\n",
    "    for name, model in models:\n",
    "        kfold = StratifiedKFold(n_splits=num_folds, random_state=42, shuffle=True)\n",
    "        cv_results = cross_val_score(model, X_train, y_train, cv=kfold, scoring=scoring)\n",
    "        results.append(cv_results)\n",
    "        names.append(name)\n",
    "        msg = \"%s: %f (%f)\" % (name, cv_results.mean(), cv_results.std())\n",
    "        print(msg)\n",
    "        \n",
    "    return names, results"
   ]
  },
  {
   "cell_type": "code",
   "execution_count": 11,
   "id": "977d3b94",
   "metadata": {},
   "outputs": [],
   "source": [
    "class PlotBoxR(object):\n",
    "\n",
    "    \n",
    "    \n",
    "    def __Trace(self,nameOfFeature,value): \n",
    "    \n",
    "        trace = go.Box(\n",
    "            y=value,\n",
    "            name = nameOfFeature,\n",
    "            marker = dict(\n",
    "                color = 'rgb(0, 128, 128)',\n",
    "            )\n",
    "        )\n",
    "        return trace\n",
    "\n",
    "    def PlotResult(self,names,results):\n",
    "        \n",
    "        data = []\n",
    "\n",
    "        for i in range(len(names)):\n",
    "            data.append(self.__Trace(names[i],results[i]))\n",
    "\n",
    "\n",
    "        py.iplot(data)"
   ]
  },
  {
   "cell_type": "code",
   "execution_count": 12,
   "id": "ab1c4a00",
   "metadata": {},
   "outputs": [
    {
     "name": "stdout",
     "output_type": "stream",
     "text": [
      "LR: 0.903497 (0.014990)\n",
      "LDA: 0.899143 (0.013915)\n",
      "KNN: 0.912434 (0.010307)\n",
      "CART: 0.945812 (0.005237)\n",
      "NB: 0.896234 (0.014719)\n",
      "SVM: 0.908572 (0.015877)\n",
      "ADA: 0.958153 (0.008846)\n",
      "GBM: 0.962747 (0.003466)\n",
      "RF: 0.967343 (0.003634)\n",
      "ET: 0.971940 (0.005098)\n",
      "Bagging: 0.960571 (0.007264)\n",
      "XGBoost: 0.962018 (0.006697)\n"
     ]
    },
    {
     "data": {
      "application/vnd.plotly.v1+json": {
       "config": {
        "linkText": "Export to plot.ly",
        "plotlyServerURL": "https://plot.ly",
        "showLink": false
       },
       "data": [
        {
         "marker": {
          "color": "rgb(0, 128, 128)"
         },
         "name": "LR",
         "type": "box",
         "y": [
          0.9009661835748792,
          0.8864734299516909,
          0.8768115942028986,
          0.8913043478260869,
          0.8983050847457628,
          0.910411622276029,
          0.910411622276029,
          0.9152542372881356,
          0.9152542372881356,
          0.9297820823244553
         ]
        },
        {
         "marker": {
          "color": "rgb(0, 128, 128)"
         },
         "name": "LDA",
         "type": "box",
         "y": [
          0.893719806763285,
          0.8840579710144928,
          0.8695652173913043,
          0.8913043478260869,
          0.9031476997578692,
          0.9079903147699758,
          0.9055690072639225,
          0.9055690072639225,
          0.910411622276029,
          0.9200968523002422
         ]
        },
        {
         "marker": {
          "color": "rgb(0, 128, 128)"
         },
         "name": "KNN",
         "type": "box",
         "y": [
          0.9082125603864735,
          0.9202898550724637,
          0.9178743961352657,
          0.9009661835748792,
          0.9007263922518159,
          0.9055690072639225,
          0.9007263922518159,
          0.9152542372881356,
          0.9322033898305084,
          0.9225181598062954
         ]
        },
        {
         "marker": {
          "color": "rgb(0, 128, 128)"
         },
         "name": "CART",
         "type": "box",
         "y": [
          0.9468599033816425,
          0.9420289855072463,
          0.9565217391304348,
          0.9492753623188406,
          0.9491525423728814,
          0.9467312348668281,
          0.9394673123486683,
          0.9467312348668281,
          0.937046004842615,
          0.9443099273607748
         ]
        },
        {
         "marker": {
          "color": "rgb(0, 128, 128)"
         },
         "name": "NB",
         "type": "box",
         "y": [
          0.8985507246376812,
          0.893719806763285,
          0.8695652173913043,
          0.8913043478260869,
          0.8813559322033898,
          0.8934624697336562,
          0.8958837772397095,
          0.9007263922518159,
          0.910411622276029,
          0.927360774818402
         ]
        },
        {
         "marker": {
          "color": "rgb(0, 128, 128)"
         },
         "name": "SVM",
         "type": "box",
         "y": [
          0.9154589371980676,
          0.9033816425120773,
          0.893719806763285,
          0.8840579710144928,
          0.8886198547215496,
          0.910411622276029,
          0.9055690072639225,
          0.9249394673123487,
          0.9249394673123487,
          0.9346246973365617
         ]
        },
        {
         "marker": {
          "color": "rgb(0, 128, 128)"
         },
         "name": "ADA",
         "type": "box",
         "y": [
          0.9541062801932367,
          0.9420289855072463,
          0.9758454106280193,
          0.9565217391304348,
          0.9515738498789347,
          0.9539951573849879,
          0.9685230024213075,
          0.9612590799031477,
          0.9564164648910412,
          0.9612590799031477
         ]
        },
        {
         "marker": {
          "color": "rgb(0, 128, 128)"
         },
         "name": "GBM",
         "type": "box",
         "y": [
          0.9685990338164251,
          0.9637681159420289,
          0.961352657004831,
          0.961352657004831,
          0.9612590799031477,
          0.9564164648910412,
          0.9661016949152542,
          0.9661016949152542,
          0.9588377723970944,
          0.9636803874092009
         ]
        },
        {
         "marker": {
          "color": "rgb(0, 128, 128)"
         },
         "name": "RF",
         "type": "box",
         "y": [
          0.9637681159420289,
          0.9685990338164251,
          0.9734299516908212,
          0.966183574879227,
          0.9661016949152542,
          0.9612590799031477,
          0.9685230024213075,
          0.9661016949152542,
          0.9733656174334141,
          0.9661016949152542
         ]
        },
        {
         "marker": {
          "color": "rgb(0, 128, 128)"
         },
         "name": "ET",
         "type": "box",
         "y": [
          0.9734299516908212,
          0.9734299516908212,
          0.966183574879227,
          0.9734299516908212,
          0.9612590799031477,
          0.9709443099273608,
          0.9782082324455206,
          0.9685230024213075,
          0.9782082324455206,
          0.9757869249394673
         ]
        },
        {
         "marker": {
          "color": "rgb(0, 128, 128)"
         },
         "name": "Bagging",
         "type": "box",
         "y": [
          0.9589371980676329,
          0.9565217391304348,
          0.9710144927536232,
          0.9565217391304348,
          0.9564164648910412,
          0.9467312348668281,
          0.9636803874092009,
          0.9733656174334141,
          0.9612590799031477,
          0.9612590799031477
         ]
        },
        {
         "marker": {
          "color": "rgb(0, 128, 128)"
         },
         "name": "XGBoost",
         "type": "box",
         "y": [
          0.961352657004831,
          0.9637681159420289,
          0.9734299516908212,
          0.966183574879227,
          0.9685230024213075,
          0.9588377723970944,
          0.9588377723970944,
          0.9515738498789347,
          0.9661016949152542,
          0.9515738498789347
         ]
        }
       ],
       "layout": {
        "template": {
         "data": {
          "bar": [
           {
            "error_x": {
             "color": "#2a3f5f"
            },
            "error_y": {
             "color": "#2a3f5f"
            },
            "marker": {
             "line": {
              "color": "#E5ECF6",
              "width": 0.5
             },
             "pattern": {
              "fillmode": "overlay",
              "size": 10,
              "solidity": 0.2
             }
            },
            "type": "bar"
           }
          ],
          "barpolar": [
           {
            "marker": {
             "line": {
              "color": "#E5ECF6",
              "width": 0.5
             },
             "pattern": {
              "fillmode": "overlay",
              "size": 10,
              "solidity": 0.2
             }
            },
            "type": "barpolar"
           }
          ],
          "carpet": [
           {
            "aaxis": {
             "endlinecolor": "#2a3f5f",
             "gridcolor": "white",
             "linecolor": "white",
             "minorgridcolor": "white",
             "startlinecolor": "#2a3f5f"
            },
            "baxis": {
             "endlinecolor": "#2a3f5f",
             "gridcolor": "white",
             "linecolor": "white",
             "minorgridcolor": "white",
             "startlinecolor": "#2a3f5f"
            },
            "type": "carpet"
           }
          ],
          "choropleth": [
           {
            "colorbar": {
             "outlinewidth": 0,
             "ticks": ""
            },
            "type": "choropleth"
           }
          ],
          "contour": [
           {
            "colorbar": {
             "outlinewidth": 0,
             "ticks": ""
            },
            "colorscale": [
             [
              0,
              "#0d0887"
             ],
             [
              0.1111111111111111,
              "#46039f"
             ],
             [
              0.2222222222222222,
              "#7201a8"
             ],
             [
              0.3333333333333333,
              "#9c179e"
             ],
             [
              0.4444444444444444,
              "#bd3786"
             ],
             [
              0.5555555555555556,
              "#d8576b"
             ],
             [
              0.6666666666666666,
              "#ed7953"
             ],
             [
              0.7777777777777778,
              "#fb9f3a"
             ],
             [
              0.8888888888888888,
              "#fdca26"
             ],
             [
              1,
              "#f0f921"
             ]
            ],
            "type": "contour"
           }
          ],
          "contourcarpet": [
           {
            "colorbar": {
             "outlinewidth": 0,
             "ticks": ""
            },
            "type": "contourcarpet"
           }
          ],
          "heatmap": [
           {
            "colorbar": {
             "outlinewidth": 0,
             "ticks": ""
            },
            "colorscale": [
             [
              0,
              "#0d0887"
             ],
             [
              0.1111111111111111,
              "#46039f"
             ],
             [
              0.2222222222222222,
              "#7201a8"
             ],
             [
              0.3333333333333333,
              "#9c179e"
             ],
             [
              0.4444444444444444,
              "#bd3786"
             ],
             [
              0.5555555555555556,
              "#d8576b"
             ],
             [
              0.6666666666666666,
              "#ed7953"
             ],
             [
              0.7777777777777778,
              "#fb9f3a"
             ],
             [
              0.8888888888888888,
              "#fdca26"
             ],
             [
              1,
              "#f0f921"
             ]
            ],
            "type": "heatmap"
           }
          ],
          "heatmapgl": [
           {
            "colorbar": {
             "outlinewidth": 0,
             "ticks": ""
            },
            "colorscale": [
             [
              0,
              "#0d0887"
             ],
             [
              0.1111111111111111,
              "#46039f"
             ],
             [
              0.2222222222222222,
              "#7201a8"
             ],
             [
              0.3333333333333333,
              "#9c179e"
             ],
             [
              0.4444444444444444,
              "#bd3786"
             ],
             [
              0.5555555555555556,
              "#d8576b"
             ],
             [
              0.6666666666666666,
              "#ed7953"
             ],
             [
              0.7777777777777778,
              "#fb9f3a"
             ],
             [
              0.8888888888888888,
              "#fdca26"
             ],
             [
              1,
              "#f0f921"
             ]
            ],
            "type": "heatmapgl"
           }
          ],
          "histogram": [
           {
            "marker": {
             "pattern": {
              "fillmode": "overlay",
              "size": 10,
              "solidity": 0.2
             }
            },
            "type": "histogram"
           }
          ],
          "histogram2d": [
           {
            "colorbar": {
             "outlinewidth": 0,
             "ticks": ""
            },
            "colorscale": [
             [
              0,
              "#0d0887"
             ],
             [
              0.1111111111111111,
              "#46039f"
             ],
             [
              0.2222222222222222,
              "#7201a8"
             ],
             [
              0.3333333333333333,
              "#9c179e"
             ],
             [
              0.4444444444444444,
              "#bd3786"
             ],
             [
              0.5555555555555556,
              "#d8576b"
             ],
             [
              0.6666666666666666,
              "#ed7953"
             ],
             [
              0.7777777777777778,
              "#fb9f3a"
             ],
             [
              0.8888888888888888,
              "#fdca26"
             ],
             [
              1,
              "#f0f921"
             ]
            ],
            "type": "histogram2d"
           }
          ],
          "histogram2dcontour": [
           {
            "colorbar": {
             "outlinewidth": 0,
             "ticks": ""
            },
            "colorscale": [
             [
              0,
              "#0d0887"
             ],
             [
              0.1111111111111111,
              "#46039f"
             ],
             [
              0.2222222222222222,
              "#7201a8"
             ],
             [
              0.3333333333333333,
              "#9c179e"
             ],
             [
              0.4444444444444444,
              "#bd3786"
             ],
             [
              0.5555555555555556,
              "#d8576b"
             ],
             [
              0.6666666666666666,
              "#ed7953"
             ],
             [
              0.7777777777777778,
              "#fb9f3a"
             ],
             [
              0.8888888888888888,
              "#fdca26"
             ],
             [
              1,
              "#f0f921"
             ]
            ],
            "type": "histogram2dcontour"
           }
          ],
          "mesh3d": [
           {
            "colorbar": {
             "outlinewidth": 0,
             "ticks": ""
            },
            "type": "mesh3d"
           }
          ],
          "parcoords": [
           {
            "line": {
             "colorbar": {
              "outlinewidth": 0,
              "ticks": ""
             }
            },
            "type": "parcoords"
           }
          ],
          "pie": [
           {
            "automargin": true,
            "type": "pie"
           }
          ],
          "scatter": [
           {
            "marker": {
             "colorbar": {
              "outlinewidth": 0,
              "ticks": ""
             }
            },
            "type": "scatter"
           }
          ],
          "scatter3d": [
           {
            "line": {
             "colorbar": {
              "outlinewidth": 0,
              "ticks": ""
             }
            },
            "marker": {
             "colorbar": {
              "outlinewidth": 0,
              "ticks": ""
             }
            },
            "type": "scatter3d"
           }
          ],
          "scattercarpet": [
           {
            "marker": {
             "colorbar": {
              "outlinewidth": 0,
              "ticks": ""
             }
            },
            "type": "scattercarpet"
           }
          ],
          "scattergeo": [
           {
            "marker": {
             "colorbar": {
              "outlinewidth": 0,
              "ticks": ""
             }
            },
            "type": "scattergeo"
           }
          ],
          "scattergl": [
           {
            "marker": {
             "colorbar": {
              "outlinewidth": 0,
              "ticks": ""
             }
            },
            "type": "scattergl"
           }
          ],
          "scattermapbox": [
           {
            "marker": {
             "colorbar": {
              "outlinewidth": 0,
              "ticks": ""
             }
            },
            "type": "scattermapbox"
           }
          ],
          "scatterpolar": [
           {
            "marker": {
             "colorbar": {
              "outlinewidth": 0,
              "ticks": ""
             }
            },
            "type": "scatterpolar"
           }
          ],
          "scatterpolargl": [
           {
            "marker": {
             "colorbar": {
              "outlinewidth": 0,
              "ticks": ""
             }
            },
            "type": "scatterpolargl"
           }
          ],
          "scatterternary": [
           {
            "marker": {
             "colorbar": {
              "outlinewidth": 0,
              "ticks": ""
             }
            },
            "type": "scatterternary"
           }
          ],
          "surface": [
           {
            "colorbar": {
             "outlinewidth": 0,
             "ticks": ""
            },
            "colorscale": [
             [
              0,
              "#0d0887"
             ],
             [
              0.1111111111111111,
              "#46039f"
             ],
             [
              0.2222222222222222,
              "#7201a8"
             ],
             [
              0.3333333333333333,
              "#9c179e"
             ],
             [
              0.4444444444444444,
              "#bd3786"
             ],
             [
              0.5555555555555556,
              "#d8576b"
             ],
             [
              0.6666666666666666,
              "#ed7953"
             ],
             [
              0.7777777777777778,
              "#fb9f3a"
             ],
             [
              0.8888888888888888,
              "#fdca26"
             ],
             [
              1,
              "#f0f921"
             ]
            ],
            "type": "surface"
           }
          ],
          "table": [
           {
            "cells": {
             "fill": {
              "color": "#EBF0F8"
             },
             "line": {
              "color": "white"
             }
            },
            "header": {
             "fill": {
              "color": "#C8D4E3"
             },
             "line": {
              "color": "white"
             }
            },
            "type": "table"
           }
          ]
         },
         "layout": {
          "annotationdefaults": {
           "arrowcolor": "#2a3f5f",
           "arrowhead": 0,
           "arrowwidth": 1
          },
          "autotypenumbers": "strict",
          "coloraxis": {
           "colorbar": {
            "outlinewidth": 0,
            "ticks": ""
           }
          },
          "colorscale": {
           "diverging": [
            [
             0,
             "#8e0152"
            ],
            [
             0.1,
             "#c51b7d"
            ],
            [
             0.2,
             "#de77ae"
            ],
            [
             0.3,
             "#f1b6da"
            ],
            [
             0.4,
             "#fde0ef"
            ],
            [
             0.5,
             "#f7f7f7"
            ],
            [
             0.6,
             "#e6f5d0"
            ],
            [
             0.7,
             "#b8e186"
            ],
            [
             0.8,
             "#7fbc41"
            ],
            [
             0.9,
             "#4d9221"
            ],
            [
             1,
             "#276419"
            ]
           ],
           "sequential": [
            [
             0,
             "#0d0887"
            ],
            [
             0.1111111111111111,
             "#46039f"
            ],
            [
             0.2222222222222222,
             "#7201a8"
            ],
            [
             0.3333333333333333,
             "#9c179e"
            ],
            [
             0.4444444444444444,
             "#bd3786"
            ],
            [
             0.5555555555555556,
             "#d8576b"
            ],
            [
             0.6666666666666666,
             "#ed7953"
            ],
            [
             0.7777777777777778,
             "#fb9f3a"
            ],
            [
             0.8888888888888888,
             "#fdca26"
            ],
            [
             1,
             "#f0f921"
            ]
           ],
           "sequentialminus": [
            [
             0,
             "#0d0887"
            ],
            [
             0.1111111111111111,
             "#46039f"
            ],
            [
             0.2222222222222222,
             "#7201a8"
            ],
            [
             0.3333333333333333,
             "#9c179e"
            ],
            [
             0.4444444444444444,
             "#bd3786"
            ],
            [
             0.5555555555555556,
             "#d8576b"
            ],
            [
             0.6666666666666666,
             "#ed7953"
            ],
            [
             0.7777777777777778,
             "#fb9f3a"
            ],
            [
             0.8888888888888888,
             "#fdca26"
            ],
            [
             1,
             "#f0f921"
            ]
           ]
          },
          "colorway": [
           "#636efa",
           "#EF553B",
           "#00cc96",
           "#ab63fa",
           "#FFA15A",
           "#19d3f3",
           "#FF6692",
           "#B6E880",
           "#FF97FF",
           "#FECB52"
          ],
          "font": {
           "color": "#2a3f5f"
          },
          "geo": {
           "bgcolor": "white",
           "lakecolor": "white",
           "landcolor": "#E5ECF6",
           "showlakes": true,
           "showland": true,
           "subunitcolor": "white"
          },
          "hoverlabel": {
           "align": "left"
          },
          "hovermode": "closest",
          "mapbox": {
           "style": "light"
          },
          "paper_bgcolor": "white",
          "plot_bgcolor": "#E5ECF6",
          "polar": {
           "angularaxis": {
            "gridcolor": "white",
            "linecolor": "white",
            "ticks": ""
           },
           "bgcolor": "#E5ECF6",
           "radialaxis": {
            "gridcolor": "white",
            "linecolor": "white",
            "ticks": ""
           }
          },
          "scene": {
           "xaxis": {
            "backgroundcolor": "#E5ECF6",
            "gridcolor": "white",
            "gridwidth": 2,
            "linecolor": "white",
            "showbackground": true,
            "ticks": "",
            "zerolinecolor": "white"
           },
           "yaxis": {
            "backgroundcolor": "#E5ECF6",
            "gridcolor": "white",
            "gridwidth": 2,
            "linecolor": "white",
            "showbackground": true,
            "ticks": "",
            "zerolinecolor": "white"
           },
           "zaxis": {
            "backgroundcolor": "#E5ECF6",
            "gridcolor": "white",
            "gridwidth": 2,
            "linecolor": "white",
            "showbackground": true,
            "ticks": "",
            "zerolinecolor": "white"
           }
          },
          "shapedefaults": {
           "line": {
            "color": "#2a3f5f"
           }
          },
          "ternary": {
           "aaxis": {
            "gridcolor": "white",
            "linecolor": "white",
            "ticks": ""
           },
           "baxis": {
            "gridcolor": "white",
            "linecolor": "white",
            "ticks": ""
           },
           "bgcolor": "#E5ECF6",
           "caxis": {
            "gridcolor": "white",
            "linecolor": "white",
            "ticks": ""
           }
          },
          "title": {
           "x": 0.05
          },
          "xaxis": {
           "automargin": true,
           "gridcolor": "white",
           "linecolor": "white",
           "ticks": "",
           "title": {
            "standoff": 15
           },
           "zerolinecolor": "white",
           "zerolinewidth": 2
          },
          "yaxis": {
           "automargin": true,
           "gridcolor": "white",
           "linecolor": "white",
           "ticks": "",
           "title": {
            "standoff": 15
           },
           "zerolinecolor": "white",
           "zerolinewidth": 2
          }
         }
        }
       }
      },
      "text/html": [
       "<div>                            <div id=\"d7c69775-5311-4801-add2-c0764da6080b\" class=\"plotly-graph-div\" style=\"height:525px; width:100%;\"></div>            <script type=\"text/javascript\">                require([\"plotly\"], function(Plotly) {                    window.PLOTLYENV=window.PLOTLYENV || {};                                    if (document.getElementById(\"d7c69775-5311-4801-add2-c0764da6080b\")) {                    Plotly.newPlot(                        \"d7c69775-5311-4801-add2-c0764da6080b\",                        [{\"marker\":{\"color\":\"rgb(0, 128, 128)\"},\"name\":\"LR\",\"y\":[0.9009661835748792,0.8864734299516909,0.8768115942028986,0.8913043478260869,0.8983050847457628,0.910411622276029,0.910411622276029,0.9152542372881356,0.9152542372881356,0.9297820823244553],\"type\":\"box\"},{\"marker\":{\"color\":\"rgb(0, 128, 128)\"},\"name\":\"LDA\",\"y\":[0.893719806763285,0.8840579710144928,0.8695652173913043,0.8913043478260869,0.9031476997578692,0.9079903147699758,0.9055690072639225,0.9055690072639225,0.910411622276029,0.9200968523002422],\"type\":\"box\"},{\"marker\":{\"color\":\"rgb(0, 128, 128)\"},\"name\":\"KNN\",\"y\":[0.9082125603864735,0.9202898550724637,0.9178743961352657,0.9009661835748792,0.9007263922518159,0.9055690072639225,0.9007263922518159,0.9152542372881356,0.9322033898305084,0.9225181598062954],\"type\":\"box\"},{\"marker\":{\"color\":\"rgb(0, 128, 128)\"},\"name\":\"CART\",\"y\":[0.9468599033816425,0.9420289855072463,0.9565217391304348,0.9492753623188406,0.9491525423728814,0.9467312348668281,0.9394673123486683,0.9467312348668281,0.937046004842615,0.9443099273607748],\"type\":\"box\"},{\"marker\":{\"color\":\"rgb(0, 128, 128)\"},\"name\":\"NB\",\"y\":[0.8985507246376812,0.893719806763285,0.8695652173913043,0.8913043478260869,0.8813559322033898,0.8934624697336562,0.8958837772397095,0.9007263922518159,0.910411622276029,0.927360774818402],\"type\":\"box\"},{\"marker\":{\"color\":\"rgb(0, 128, 128)\"},\"name\":\"SVM\",\"y\":[0.9154589371980676,0.9033816425120773,0.893719806763285,0.8840579710144928,0.8886198547215496,0.910411622276029,0.9055690072639225,0.9249394673123487,0.9249394673123487,0.9346246973365617],\"type\":\"box\"},{\"marker\":{\"color\":\"rgb(0, 128, 128)\"},\"name\":\"ADA\",\"y\":[0.9541062801932367,0.9420289855072463,0.9758454106280193,0.9565217391304348,0.9515738498789347,0.9539951573849879,0.9685230024213075,0.9612590799031477,0.9564164648910412,0.9612590799031477],\"type\":\"box\"},{\"marker\":{\"color\":\"rgb(0, 128, 128)\"},\"name\":\"GBM\",\"y\":[0.9685990338164251,0.9637681159420289,0.961352657004831,0.961352657004831,0.9612590799031477,0.9564164648910412,0.9661016949152542,0.9661016949152542,0.9588377723970944,0.9636803874092009],\"type\":\"box\"},{\"marker\":{\"color\":\"rgb(0, 128, 128)\"},\"name\":\"RF\",\"y\":[0.9637681159420289,0.9685990338164251,0.9734299516908212,0.966183574879227,0.9661016949152542,0.9612590799031477,0.9685230024213075,0.9661016949152542,0.9733656174334141,0.9661016949152542],\"type\":\"box\"},{\"marker\":{\"color\":\"rgb(0, 128, 128)\"},\"name\":\"ET\",\"y\":[0.9734299516908212,0.9734299516908212,0.966183574879227,0.9734299516908212,0.9612590799031477,0.9709443099273608,0.9782082324455206,0.9685230024213075,0.9782082324455206,0.9757869249394673],\"type\":\"box\"},{\"marker\":{\"color\":\"rgb(0, 128, 128)\"},\"name\":\"Bagging\",\"y\":[0.9589371980676329,0.9565217391304348,0.9710144927536232,0.9565217391304348,0.9564164648910412,0.9467312348668281,0.9636803874092009,0.9733656174334141,0.9612590799031477,0.9612590799031477],\"type\":\"box\"},{\"marker\":{\"color\":\"rgb(0, 128, 128)\"},\"name\":\"XGBoost\",\"y\":[0.961352657004831,0.9637681159420289,0.9734299516908212,0.966183574879227,0.9685230024213075,0.9588377723970944,0.9588377723970944,0.9515738498789347,0.9661016949152542,0.9515738498789347],\"type\":\"box\"}],                        {\"template\":{\"data\":{\"barpolar\":[{\"marker\":{\"line\":{\"color\":\"#E5ECF6\",\"width\":0.5},\"pattern\":{\"fillmode\":\"overlay\",\"size\":10,\"solidity\":0.2}},\"type\":\"barpolar\"}],\"bar\":[{\"error_x\":{\"color\":\"#2a3f5f\"},\"error_y\":{\"color\":\"#2a3f5f\"},\"marker\":{\"line\":{\"color\":\"#E5ECF6\",\"width\":0.5},\"pattern\":{\"fillmode\":\"overlay\",\"size\":10,\"solidity\":0.2}},\"type\":\"bar\"}],\"carpet\":[{\"aaxis\":{\"endlinecolor\":\"#2a3f5f\",\"gridcolor\":\"white\",\"linecolor\":\"white\",\"minorgridcolor\":\"white\",\"startlinecolor\":\"#2a3f5f\"},\"baxis\":{\"endlinecolor\":\"#2a3f5f\",\"gridcolor\":\"white\",\"linecolor\":\"white\",\"minorgridcolor\":\"white\",\"startlinecolor\":\"#2a3f5f\"},\"type\":\"carpet\"}],\"choropleth\":[{\"colorbar\":{\"outlinewidth\":0,\"ticks\":\"\"},\"type\":\"choropleth\"}],\"contourcarpet\":[{\"colorbar\":{\"outlinewidth\":0,\"ticks\":\"\"},\"type\":\"contourcarpet\"}],\"contour\":[{\"colorbar\":{\"outlinewidth\":0,\"ticks\":\"\"},\"colorscale\":[[0.0,\"#0d0887\"],[0.1111111111111111,\"#46039f\"],[0.2222222222222222,\"#7201a8\"],[0.3333333333333333,\"#9c179e\"],[0.4444444444444444,\"#bd3786\"],[0.5555555555555556,\"#d8576b\"],[0.6666666666666666,\"#ed7953\"],[0.7777777777777778,\"#fb9f3a\"],[0.8888888888888888,\"#fdca26\"],[1.0,\"#f0f921\"]],\"type\":\"contour\"}],\"heatmapgl\":[{\"colorbar\":{\"outlinewidth\":0,\"ticks\":\"\"},\"colorscale\":[[0.0,\"#0d0887\"],[0.1111111111111111,\"#46039f\"],[0.2222222222222222,\"#7201a8\"],[0.3333333333333333,\"#9c179e\"],[0.4444444444444444,\"#bd3786\"],[0.5555555555555556,\"#d8576b\"],[0.6666666666666666,\"#ed7953\"],[0.7777777777777778,\"#fb9f3a\"],[0.8888888888888888,\"#fdca26\"],[1.0,\"#f0f921\"]],\"type\":\"heatmapgl\"}],\"heatmap\":[{\"colorbar\":{\"outlinewidth\":0,\"ticks\":\"\"},\"colorscale\":[[0.0,\"#0d0887\"],[0.1111111111111111,\"#46039f\"],[0.2222222222222222,\"#7201a8\"],[0.3333333333333333,\"#9c179e\"],[0.4444444444444444,\"#bd3786\"],[0.5555555555555556,\"#d8576b\"],[0.6666666666666666,\"#ed7953\"],[0.7777777777777778,\"#fb9f3a\"],[0.8888888888888888,\"#fdca26\"],[1.0,\"#f0f921\"]],\"type\":\"heatmap\"}],\"histogram2dcontour\":[{\"colorbar\":{\"outlinewidth\":0,\"ticks\":\"\"},\"colorscale\":[[0.0,\"#0d0887\"],[0.1111111111111111,\"#46039f\"],[0.2222222222222222,\"#7201a8\"],[0.3333333333333333,\"#9c179e\"],[0.4444444444444444,\"#bd3786\"],[0.5555555555555556,\"#d8576b\"],[0.6666666666666666,\"#ed7953\"],[0.7777777777777778,\"#fb9f3a\"],[0.8888888888888888,\"#fdca26\"],[1.0,\"#f0f921\"]],\"type\":\"histogram2dcontour\"}],\"histogram2d\":[{\"colorbar\":{\"outlinewidth\":0,\"ticks\":\"\"},\"colorscale\":[[0.0,\"#0d0887\"],[0.1111111111111111,\"#46039f\"],[0.2222222222222222,\"#7201a8\"],[0.3333333333333333,\"#9c179e\"],[0.4444444444444444,\"#bd3786\"],[0.5555555555555556,\"#d8576b\"],[0.6666666666666666,\"#ed7953\"],[0.7777777777777778,\"#fb9f3a\"],[0.8888888888888888,\"#fdca26\"],[1.0,\"#f0f921\"]],\"type\":\"histogram2d\"}],\"histogram\":[{\"marker\":{\"pattern\":{\"fillmode\":\"overlay\",\"size\":10,\"solidity\":0.2}},\"type\":\"histogram\"}],\"mesh3d\":[{\"colorbar\":{\"outlinewidth\":0,\"ticks\":\"\"},\"type\":\"mesh3d\"}],\"parcoords\":[{\"line\":{\"colorbar\":{\"outlinewidth\":0,\"ticks\":\"\"}},\"type\":\"parcoords\"}],\"pie\":[{\"automargin\":true,\"type\":\"pie\"}],\"scatter3d\":[{\"line\":{\"colorbar\":{\"outlinewidth\":0,\"ticks\":\"\"}},\"marker\":{\"colorbar\":{\"outlinewidth\":0,\"ticks\":\"\"}},\"type\":\"scatter3d\"}],\"scattercarpet\":[{\"marker\":{\"colorbar\":{\"outlinewidth\":0,\"ticks\":\"\"}},\"type\":\"scattercarpet\"}],\"scattergeo\":[{\"marker\":{\"colorbar\":{\"outlinewidth\":0,\"ticks\":\"\"}},\"type\":\"scattergeo\"}],\"scattergl\":[{\"marker\":{\"colorbar\":{\"outlinewidth\":0,\"ticks\":\"\"}},\"type\":\"scattergl\"}],\"scattermapbox\":[{\"marker\":{\"colorbar\":{\"outlinewidth\":0,\"ticks\":\"\"}},\"type\":\"scattermapbox\"}],\"scatterpolargl\":[{\"marker\":{\"colorbar\":{\"outlinewidth\":0,\"ticks\":\"\"}},\"type\":\"scatterpolargl\"}],\"scatterpolar\":[{\"marker\":{\"colorbar\":{\"outlinewidth\":0,\"ticks\":\"\"}},\"type\":\"scatterpolar\"}],\"scatter\":[{\"marker\":{\"colorbar\":{\"outlinewidth\":0,\"ticks\":\"\"}},\"type\":\"scatter\"}],\"scatterternary\":[{\"marker\":{\"colorbar\":{\"outlinewidth\":0,\"ticks\":\"\"}},\"type\":\"scatterternary\"}],\"surface\":[{\"colorbar\":{\"outlinewidth\":0,\"ticks\":\"\"},\"colorscale\":[[0.0,\"#0d0887\"],[0.1111111111111111,\"#46039f\"],[0.2222222222222222,\"#7201a8\"],[0.3333333333333333,\"#9c179e\"],[0.4444444444444444,\"#bd3786\"],[0.5555555555555556,\"#d8576b\"],[0.6666666666666666,\"#ed7953\"],[0.7777777777777778,\"#fb9f3a\"],[0.8888888888888888,\"#fdca26\"],[1.0,\"#f0f921\"]],\"type\":\"surface\"}],\"table\":[{\"cells\":{\"fill\":{\"color\":\"#EBF0F8\"},\"line\":{\"color\":\"white\"}},\"header\":{\"fill\":{\"color\":\"#C8D4E3\"},\"line\":{\"color\":\"white\"}},\"type\":\"table\"}]},\"layout\":{\"annotationdefaults\":{\"arrowcolor\":\"#2a3f5f\",\"arrowhead\":0,\"arrowwidth\":1},\"autotypenumbers\":\"strict\",\"coloraxis\":{\"colorbar\":{\"outlinewidth\":0,\"ticks\":\"\"}},\"colorscale\":{\"diverging\":[[0,\"#8e0152\"],[0.1,\"#c51b7d\"],[0.2,\"#de77ae\"],[0.3,\"#f1b6da\"],[0.4,\"#fde0ef\"],[0.5,\"#f7f7f7\"],[0.6,\"#e6f5d0\"],[0.7,\"#b8e186\"],[0.8,\"#7fbc41\"],[0.9,\"#4d9221\"],[1,\"#276419\"]],\"sequential\":[[0.0,\"#0d0887\"],[0.1111111111111111,\"#46039f\"],[0.2222222222222222,\"#7201a8\"],[0.3333333333333333,\"#9c179e\"],[0.4444444444444444,\"#bd3786\"],[0.5555555555555556,\"#d8576b\"],[0.6666666666666666,\"#ed7953\"],[0.7777777777777778,\"#fb9f3a\"],[0.8888888888888888,\"#fdca26\"],[1.0,\"#f0f921\"]],\"sequentialminus\":[[0.0,\"#0d0887\"],[0.1111111111111111,\"#46039f\"],[0.2222222222222222,\"#7201a8\"],[0.3333333333333333,\"#9c179e\"],[0.4444444444444444,\"#bd3786\"],[0.5555555555555556,\"#d8576b\"],[0.6666666666666666,\"#ed7953\"],[0.7777777777777778,\"#fb9f3a\"],[0.8888888888888888,\"#fdca26\"],[1.0,\"#f0f921\"]]},\"colorway\":[\"#636efa\",\"#EF553B\",\"#00cc96\",\"#ab63fa\",\"#FFA15A\",\"#19d3f3\",\"#FF6692\",\"#B6E880\",\"#FF97FF\",\"#FECB52\"],\"font\":{\"color\":\"#2a3f5f\"},\"geo\":{\"bgcolor\":\"white\",\"lakecolor\":\"white\",\"landcolor\":\"#E5ECF6\",\"showlakes\":true,\"showland\":true,\"subunitcolor\":\"white\"},\"hoverlabel\":{\"align\":\"left\"},\"hovermode\":\"closest\",\"mapbox\":{\"style\":\"light\"},\"paper_bgcolor\":\"white\",\"plot_bgcolor\":\"#E5ECF6\",\"polar\":{\"angularaxis\":{\"gridcolor\":\"white\",\"linecolor\":\"white\",\"ticks\":\"\"},\"bgcolor\":\"#E5ECF6\",\"radialaxis\":{\"gridcolor\":\"white\",\"linecolor\":\"white\",\"ticks\":\"\"}},\"scene\":{\"xaxis\":{\"backgroundcolor\":\"#E5ECF6\",\"gridcolor\":\"white\",\"gridwidth\":2,\"linecolor\":\"white\",\"showbackground\":true,\"ticks\":\"\",\"zerolinecolor\":\"white\"},\"yaxis\":{\"backgroundcolor\":\"#E5ECF6\",\"gridcolor\":\"white\",\"gridwidth\":2,\"linecolor\":\"white\",\"showbackground\":true,\"ticks\":\"\",\"zerolinecolor\":\"white\"},\"zaxis\":{\"backgroundcolor\":\"#E5ECF6\",\"gridcolor\":\"white\",\"gridwidth\":2,\"linecolor\":\"white\",\"showbackground\":true,\"ticks\":\"\",\"zerolinecolor\":\"white\"}},\"shapedefaults\":{\"line\":{\"color\":\"#2a3f5f\"}},\"ternary\":{\"aaxis\":{\"gridcolor\":\"white\",\"linecolor\":\"white\",\"ticks\":\"\"},\"baxis\":{\"gridcolor\":\"white\",\"linecolor\":\"white\",\"ticks\":\"\"},\"bgcolor\":\"#E5ECF6\",\"caxis\":{\"gridcolor\":\"white\",\"linecolor\":\"white\",\"ticks\":\"\"}},\"title\":{\"x\":0.05},\"xaxis\":{\"automargin\":true,\"gridcolor\":\"white\",\"linecolor\":\"white\",\"ticks\":\"\",\"title\":{\"standoff\":15},\"zerolinecolor\":\"white\",\"zerolinewidth\":2},\"yaxis\":{\"automargin\":true,\"gridcolor\":\"white\",\"linecolor\":\"white\",\"ticks\":\"\",\"title\":{\"standoff\":15},\"zerolinecolor\":\"white\",\"zerolinewidth\":2}}}},                        {\"responsive\": true}                    ).then(function(){\n",
       "                            \n",
       "var gd = document.getElementById('d7c69775-5311-4801-add2-c0764da6080b');\n",
       "var x = new MutationObserver(function (mutations, observer) {{\n",
       "        var display = window.getComputedStyle(gd).display;\n",
       "        if (!display || display === 'none') {{\n",
       "            console.log([gd, 'removed!']);\n",
       "            Plotly.purge(gd);\n",
       "            observer.disconnect();\n",
       "        }}\n",
       "}});\n",
       "\n",
       "// Listen for the removal of the full notebook cells\n",
       "var notebookContainer = gd.closest('#notebook-container');\n",
       "if (notebookContainer) {{\n",
       "    x.observe(notebookContainer, {childList: true});\n",
       "}}\n",
       "\n",
       "// Listen for the clearing of the current output cell\n",
       "var outputEl = gd.closest('.output');\n",
       "if (outputEl) {{\n",
       "    x.observe(outputEl, {childList: true});\n",
       "}}\n",
       "\n",
       "                        })                };                });            </script>        </div>"
      ]
     },
     "metadata": {},
     "output_type": "display_data"
    }
   ],
   "source": [
    "models = GetBasedModel()\n",
    "names,results = BasedLine2(X_train, y_train, models)\n",
    "PlotBoxR().PlotResult(names,results)"
   ]
  },
  {
   "cell_type": "code",
   "execution_count": 13,
   "id": "85e522a5",
   "metadata": {},
   "outputs": [],
   "source": [
    "def ScoreDataFrame(names,results):\n",
    "    def floatingDecimals(f_val, dec=3):\n",
    "        prc = \"{:.\"+str(dec)+\"f}\" \n",
    "    \n",
    "        return float(prc.format(f_val))\n",
    "\n",
    "    scores = []\n",
    "    for r in results:\n",
    "        scores.append(floatingDecimals(r.mean(),4))\n",
    "\n",
    "    scoreDataFrame = pd.DataFrame({'Model':names, 'Score': scores})\n",
    "    return scoreDataFrame"
   ]
  },
  {
   "cell_type": "code",
   "execution_count": 14,
   "id": "b9d787b8",
   "metadata": {},
   "outputs": [
    {
     "data": {
      "text/html": [
       "<div>\n",
       "<style scoped>\n",
       "    .dataframe tbody tr th:only-of-type {\n",
       "        vertical-align: middle;\n",
       "    }\n",
       "\n",
       "    .dataframe tbody tr th {\n",
       "        vertical-align: top;\n",
       "    }\n",
       "\n",
       "    .dataframe thead th {\n",
       "        text-align: right;\n",
       "    }\n",
       "</style>\n",
       "<table border=\"1\" class=\"dataframe\">\n",
       "  <thead>\n",
       "    <tr style=\"text-align: right;\">\n",
       "      <th></th>\n",
       "      <th>Model</th>\n",
       "      <th>Score</th>\n",
       "    </tr>\n",
       "  </thead>\n",
       "  <tbody>\n",
       "    <tr>\n",
       "      <th>0</th>\n",
       "      <td>LR</td>\n",
       "      <td>0.9035</td>\n",
       "    </tr>\n",
       "    <tr>\n",
       "      <th>1</th>\n",
       "      <td>LDA</td>\n",
       "      <td>0.8991</td>\n",
       "    </tr>\n",
       "    <tr>\n",
       "      <th>2</th>\n",
       "      <td>KNN</td>\n",
       "      <td>0.9124</td>\n",
       "    </tr>\n",
       "    <tr>\n",
       "      <th>3</th>\n",
       "      <td>CART</td>\n",
       "      <td>0.9458</td>\n",
       "    </tr>\n",
       "    <tr>\n",
       "      <th>4</th>\n",
       "      <td>NB</td>\n",
       "      <td>0.8962</td>\n",
       "    </tr>\n",
       "    <tr>\n",
       "      <th>5</th>\n",
       "      <td>SVM</td>\n",
       "      <td>0.9086</td>\n",
       "    </tr>\n",
       "    <tr>\n",
       "      <th>6</th>\n",
       "      <td>ADA</td>\n",
       "      <td>0.9582</td>\n",
       "    </tr>\n",
       "    <tr>\n",
       "      <th>7</th>\n",
       "      <td>GBM</td>\n",
       "      <td>0.9627</td>\n",
       "    </tr>\n",
       "    <tr>\n",
       "      <th>8</th>\n",
       "      <td>RF</td>\n",
       "      <td>0.9673</td>\n",
       "    </tr>\n",
       "    <tr>\n",
       "      <th>9</th>\n",
       "      <td>ET</td>\n",
       "      <td>0.9719</td>\n",
       "    </tr>\n",
       "    <tr>\n",
       "      <th>10</th>\n",
       "      <td>Bagging</td>\n",
       "      <td>0.9606</td>\n",
       "    </tr>\n",
       "    <tr>\n",
       "      <th>11</th>\n",
       "      <td>XGBoost</td>\n",
       "      <td>0.9620</td>\n",
       "    </tr>\n",
       "  </tbody>\n",
       "</table>\n",
       "</div>"
      ],
      "text/plain": [
       "      Model   Score\n",
       "0        LR  0.9035\n",
       "1       LDA  0.8991\n",
       "2       KNN  0.9124\n",
       "3      CART  0.9458\n",
       "4        NB  0.8962\n",
       "5       SVM  0.9086\n",
       "6       ADA  0.9582\n",
       "7       GBM  0.9627\n",
       "8        RF  0.9673\n",
       "9        ET  0.9719\n",
       "10  Bagging  0.9606\n",
       "11  XGBoost  0.9620"
      ]
     },
     "execution_count": 14,
     "metadata": {},
     "output_type": "execute_result"
    }
   ],
   "source": [
    "basedLineScore = ScoreDataFrame(names,results)\n",
    "basedLineScore"
   ]
  },
  {
   "cell_type": "code",
   "execution_count": 15,
   "id": "132aaf46",
   "metadata": {},
   "outputs": [],
   "source": [
    "from sklearn.preprocessing import StandardScaler\n",
    "from sklearn.preprocessing import MinMaxScaler\n",
    "from sklearn.preprocessing import RobustScaler\n",
    "\n",
    "\n",
    "def GetScaledModel(nameOfScaler):\n",
    "    \n",
    "    if nameOfScaler == 'standard':\n",
    "        scaler = StandardScaler()\n",
    "    elif nameOfScaler =='minmax':\n",
    "        scaler = MinMaxScaler()\n",
    "    elif nameOfScaler =='robust':\n",
    "        scaler = RobustScaler()\n",
    "\n",
    "    pipelines = []\n",
    "    pipelines.append((nameOfScaler+'LR'  , Pipeline([('Scaler', scaler),('LR'  , LogisticRegression())])))\n",
    "    pipelines.append((nameOfScaler+'LDA' , Pipeline([('Scaler', scaler),('LDA' , LinearDiscriminantAnalysis())])))\n",
    "    pipelines.append((nameOfScaler+'KNN' , Pipeline([('Scaler', scaler),('KNN' , KNeighborsClassifier())])))\n",
    "    pipelines.append((nameOfScaler+'CART', Pipeline([('Scaler', scaler),('CART', DecisionTreeClassifier())])))\n",
    "    pipelines.append((nameOfScaler+'NB'  , Pipeline([('Scaler', scaler),('NB'  , GaussianNB())])))\n",
    "    pipelines.append((nameOfScaler+'SVM' , Pipeline([('Scaler', scaler),('SVM' , SVC())])))\n",
    "    pipelines.append((nameOfScaler+'AB'  , Pipeline([('Scaler', scaler),('AB'  , AdaBoostClassifier())])  ))\n",
    "    pipelines.append((nameOfScaler+'GBM' , Pipeline([('Scaler', scaler),('GMB' , GradientBoostingClassifier())])  ))\n",
    "    pipelines.append((nameOfScaler+'RF'  , Pipeline([('Scaler', scaler),('RF'  , RandomForestClassifier())])  ))\n",
    "    pipelines.append((nameOfScaler+'ET'  , Pipeline([('Scaler', scaler),('ET'  , ExtraTreesClassifier())])  ))\n",
    "    pipelines.append((nameOfScaler+'Bagging', Pipeline([('Scaler', scaler),('Bagging', BaggingClassifier())])))\n",
    "    pipelines.append((nameOfScaler+'XGBoost', Pipeline([('Scaler', scaler),('Bagging', XGBClassifier(eval_metric='mlogloss'))])))\n",
    "\n",
    "    return pipelines "
   ]
  },
  {
   "cell_type": "code",
   "execution_count": 16,
   "id": "f89f3667",
   "metadata": {},
   "outputs": [
    {
     "name": "stdout",
     "output_type": "stream",
     "text": [
      "standardLR: 0.903255 (0.014542)\n",
      "standardLDA: 0.899143 (0.013915)\n",
      "standardKNN: 0.935659 (0.008148)\n",
      "standardCART: 0.945814 (0.005857)\n",
      "standardNB: 0.896234 (0.014719)\n",
      "standardSVM: 0.953559 (0.007378)\n",
      "standardAB: 0.958153 (0.008846)\n",
      "standardGBM: 0.962989 (0.003764)\n",
      "standardRF: 0.965167 (0.004358)\n",
      "standardET: 0.972423 (0.004086)\n",
      "standardBagging: 0.955249 (0.005859)\n",
      "standardXGBoost: 0.962018 (0.006697)\n"
     ]
    },
    {
     "data": {
      "application/vnd.plotly.v1+json": {
       "config": {
        "linkText": "Export to plot.ly",
        "plotlyServerURL": "https://plot.ly",
        "showLink": false
       },
       "data": [
        {
         "marker": {
          "color": "rgb(0, 128, 128)"
         },
         "name": "standardLR",
         "type": "box",
         "y": [
          0.9009661835748792,
          0.8864734299516909,
          0.8768115942028986,
          0.893719806763285,
          0.8983050847457628,
          0.910411622276029,
          0.9079903147699758,
          0.9128329297820823,
          0.9152542372881356,
          0.9297820823244553
         ]
        },
        {
         "marker": {
          "color": "rgb(0, 128, 128)"
         },
         "name": "standardLDA",
         "type": "box",
         "y": [
          0.893719806763285,
          0.8840579710144928,
          0.8695652173913043,
          0.8913043478260869,
          0.9031476997578692,
          0.9079903147699758,
          0.9055690072639225,
          0.9055690072639225,
          0.910411622276029,
          0.9200968523002422
         ]
        },
        {
         "marker": {
          "color": "rgb(0, 128, 128)"
         },
         "name": "standardKNN",
         "type": "box",
         "y": [
          0.9468599033816425,
          0.9251207729468599,
          0.9251207729468599,
          0.9299516908212561,
          0.9322033898305084,
          0.9346246973365617,
          0.9297820823244553,
          0.9467312348668281,
          0.9418886198547215,
          0.9443099273607748
         ]
        },
        {
         "marker": {
          "color": "rgb(0, 128, 128)"
         },
         "name": "standardCART",
         "type": "box",
         "y": [
          0.9468599033816425,
          0.9396135265700483,
          0.9492753623188406,
          0.9516908212560387,
          0.9346246973365617,
          0.9564164648910412,
          0.9418886198547215,
          0.9467312348668281,
          0.9443099273607748,
          0.9467312348668281
         ]
        },
        {
         "marker": {
          "color": "rgb(0, 128, 128)"
         },
         "name": "standardNB",
         "type": "box",
         "y": [
          0.8985507246376812,
          0.893719806763285,
          0.8695652173913043,
          0.8913043478260869,
          0.8813559322033898,
          0.8934624697336562,
          0.8958837772397095,
          0.9007263922518159,
          0.910411622276029,
          0.927360774818402
         ]
        },
        {
         "marker": {
          "color": "rgb(0, 128, 128)"
         },
         "name": "standardSVM",
         "type": "box",
         "y": [
          0.9516908212560387,
          0.9589371980676329,
          0.9420289855072463,
          0.9468599033816425,
          0.9467312348668281,
          0.9491525423728814,
          0.9588377723970944,
          0.9564164648910412,
          0.9564164648910412,
          0.9685230024213075
         ]
        },
        {
         "marker": {
          "color": "rgb(0, 128, 128)"
         },
         "name": "standardAB",
         "type": "box",
         "y": [
          0.9541062801932367,
          0.9420289855072463,
          0.9758454106280193,
          0.9565217391304348,
          0.9515738498789347,
          0.9539951573849879,
          0.9685230024213075,
          0.9612590799031477,
          0.9564164648910412,
          0.9612590799031477
         ]
        },
        {
         "marker": {
          "color": "rgb(0, 128, 128)"
         },
         "name": "standardGBM",
         "type": "box",
         "y": [
          0.9685990338164251,
          0.9637681159420289,
          0.961352657004831,
          0.961352657004831,
          0.9612590799031477,
          0.9564164648910412,
          0.9685230024213075,
          0.9661016949152542,
          0.9588377723970944,
          0.9636803874092009
         ]
        },
        {
         "marker": {
          "color": "rgb(0, 128, 128)"
         },
         "name": "standardRF",
         "type": "box",
         "y": [
          0.9637681159420289,
          0.966183574879227,
          0.9710144927536232,
          0.961352657004831,
          0.9636803874092009,
          0.9612590799031477,
          0.9636803874092009,
          0.9685230024213075,
          0.9733656174334141,
          0.9588377723970944
         ]
        },
        {
         "marker": {
          "color": "rgb(0, 128, 128)"
         },
         "name": "standardET",
         "type": "box",
         "y": [
          0.9758454106280193,
          0.9734299516908212,
          0.9710144927536232,
          0.9734299516908212,
          0.9661016949152542,
          0.9685230024213075,
          0.9757869249394673,
          0.9661016949152542,
          0.9782082324455206,
          0.9757869249394673
         ]
        },
        {
         "marker": {
          "color": "rgb(0, 128, 128)"
         },
         "name": "standardBagging",
         "type": "box",
         "y": [
          0.9541062801932367,
          0.9516908212560387,
          0.9565217391304348,
          0.961352657004831,
          0.9539951573849879,
          0.9467312348668281,
          0.9467312348668281,
          0.9636803874092009,
          0.9636803874092009,
          0.9539951573849879
         ]
        },
        {
         "marker": {
          "color": "rgb(0, 128, 128)"
         },
         "name": "standardXGBoost",
         "type": "box",
         "y": [
          0.961352657004831,
          0.9637681159420289,
          0.9734299516908212,
          0.966183574879227,
          0.9685230024213075,
          0.9588377723970944,
          0.9588377723970944,
          0.9515738498789347,
          0.9661016949152542,
          0.9515738498789347
         ]
        }
       ],
       "layout": {
        "template": {
         "data": {
          "bar": [
           {
            "error_x": {
             "color": "#2a3f5f"
            },
            "error_y": {
             "color": "#2a3f5f"
            },
            "marker": {
             "line": {
              "color": "#E5ECF6",
              "width": 0.5
             },
             "pattern": {
              "fillmode": "overlay",
              "size": 10,
              "solidity": 0.2
             }
            },
            "type": "bar"
           }
          ],
          "barpolar": [
           {
            "marker": {
             "line": {
              "color": "#E5ECF6",
              "width": 0.5
             },
             "pattern": {
              "fillmode": "overlay",
              "size": 10,
              "solidity": 0.2
             }
            },
            "type": "barpolar"
           }
          ],
          "carpet": [
           {
            "aaxis": {
             "endlinecolor": "#2a3f5f",
             "gridcolor": "white",
             "linecolor": "white",
             "minorgridcolor": "white",
             "startlinecolor": "#2a3f5f"
            },
            "baxis": {
             "endlinecolor": "#2a3f5f",
             "gridcolor": "white",
             "linecolor": "white",
             "minorgridcolor": "white",
             "startlinecolor": "#2a3f5f"
            },
            "type": "carpet"
           }
          ],
          "choropleth": [
           {
            "colorbar": {
             "outlinewidth": 0,
             "ticks": ""
            },
            "type": "choropleth"
           }
          ],
          "contour": [
           {
            "colorbar": {
             "outlinewidth": 0,
             "ticks": ""
            },
            "colorscale": [
             [
              0,
              "#0d0887"
             ],
             [
              0.1111111111111111,
              "#46039f"
             ],
             [
              0.2222222222222222,
              "#7201a8"
             ],
             [
              0.3333333333333333,
              "#9c179e"
             ],
             [
              0.4444444444444444,
              "#bd3786"
             ],
             [
              0.5555555555555556,
              "#d8576b"
             ],
             [
              0.6666666666666666,
              "#ed7953"
             ],
             [
              0.7777777777777778,
              "#fb9f3a"
             ],
             [
              0.8888888888888888,
              "#fdca26"
             ],
             [
              1,
              "#f0f921"
             ]
            ],
            "type": "contour"
           }
          ],
          "contourcarpet": [
           {
            "colorbar": {
             "outlinewidth": 0,
             "ticks": ""
            },
            "type": "contourcarpet"
           }
          ],
          "heatmap": [
           {
            "colorbar": {
             "outlinewidth": 0,
             "ticks": ""
            },
            "colorscale": [
             [
              0,
              "#0d0887"
             ],
             [
              0.1111111111111111,
              "#46039f"
             ],
             [
              0.2222222222222222,
              "#7201a8"
             ],
             [
              0.3333333333333333,
              "#9c179e"
             ],
             [
              0.4444444444444444,
              "#bd3786"
             ],
             [
              0.5555555555555556,
              "#d8576b"
             ],
             [
              0.6666666666666666,
              "#ed7953"
             ],
             [
              0.7777777777777778,
              "#fb9f3a"
             ],
             [
              0.8888888888888888,
              "#fdca26"
             ],
             [
              1,
              "#f0f921"
             ]
            ],
            "type": "heatmap"
           }
          ],
          "heatmapgl": [
           {
            "colorbar": {
             "outlinewidth": 0,
             "ticks": ""
            },
            "colorscale": [
             [
              0,
              "#0d0887"
             ],
             [
              0.1111111111111111,
              "#46039f"
             ],
             [
              0.2222222222222222,
              "#7201a8"
             ],
             [
              0.3333333333333333,
              "#9c179e"
             ],
             [
              0.4444444444444444,
              "#bd3786"
             ],
             [
              0.5555555555555556,
              "#d8576b"
             ],
             [
              0.6666666666666666,
              "#ed7953"
             ],
             [
              0.7777777777777778,
              "#fb9f3a"
             ],
             [
              0.8888888888888888,
              "#fdca26"
             ],
             [
              1,
              "#f0f921"
             ]
            ],
            "type": "heatmapgl"
           }
          ],
          "histogram": [
           {
            "marker": {
             "pattern": {
              "fillmode": "overlay",
              "size": 10,
              "solidity": 0.2
             }
            },
            "type": "histogram"
           }
          ],
          "histogram2d": [
           {
            "colorbar": {
             "outlinewidth": 0,
             "ticks": ""
            },
            "colorscale": [
             [
              0,
              "#0d0887"
             ],
             [
              0.1111111111111111,
              "#46039f"
             ],
             [
              0.2222222222222222,
              "#7201a8"
             ],
             [
              0.3333333333333333,
              "#9c179e"
             ],
             [
              0.4444444444444444,
              "#bd3786"
             ],
             [
              0.5555555555555556,
              "#d8576b"
             ],
             [
              0.6666666666666666,
              "#ed7953"
             ],
             [
              0.7777777777777778,
              "#fb9f3a"
             ],
             [
              0.8888888888888888,
              "#fdca26"
             ],
             [
              1,
              "#f0f921"
             ]
            ],
            "type": "histogram2d"
           }
          ],
          "histogram2dcontour": [
           {
            "colorbar": {
             "outlinewidth": 0,
             "ticks": ""
            },
            "colorscale": [
             [
              0,
              "#0d0887"
             ],
             [
              0.1111111111111111,
              "#46039f"
             ],
             [
              0.2222222222222222,
              "#7201a8"
             ],
             [
              0.3333333333333333,
              "#9c179e"
             ],
             [
              0.4444444444444444,
              "#bd3786"
             ],
             [
              0.5555555555555556,
              "#d8576b"
             ],
             [
              0.6666666666666666,
              "#ed7953"
             ],
             [
              0.7777777777777778,
              "#fb9f3a"
             ],
             [
              0.8888888888888888,
              "#fdca26"
             ],
             [
              1,
              "#f0f921"
             ]
            ],
            "type": "histogram2dcontour"
           }
          ],
          "mesh3d": [
           {
            "colorbar": {
             "outlinewidth": 0,
             "ticks": ""
            },
            "type": "mesh3d"
           }
          ],
          "parcoords": [
           {
            "line": {
             "colorbar": {
              "outlinewidth": 0,
              "ticks": ""
             }
            },
            "type": "parcoords"
           }
          ],
          "pie": [
           {
            "automargin": true,
            "type": "pie"
           }
          ],
          "scatter": [
           {
            "marker": {
             "colorbar": {
              "outlinewidth": 0,
              "ticks": ""
             }
            },
            "type": "scatter"
           }
          ],
          "scatter3d": [
           {
            "line": {
             "colorbar": {
              "outlinewidth": 0,
              "ticks": ""
             }
            },
            "marker": {
             "colorbar": {
              "outlinewidth": 0,
              "ticks": ""
             }
            },
            "type": "scatter3d"
           }
          ],
          "scattercarpet": [
           {
            "marker": {
             "colorbar": {
              "outlinewidth": 0,
              "ticks": ""
             }
            },
            "type": "scattercarpet"
           }
          ],
          "scattergeo": [
           {
            "marker": {
             "colorbar": {
              "outlinewidth": 0,
              "ticks": ""
             }
            },
            "type": "scattergeo"
           }
          ],
          "scattergl": [
           {
            "marker": {
             "colorbar": {
              "outlinewidth": 0,
              "ticks": ""
             }
            },
            "type": "scattergl"
           }
          ],
          "scattermapbox": [
           {
            "marker": {
             "colorbar": {
              "outlinewidth": 0,
              "ticks": ""
             }
            },
            "type": "scattermapbox"
           }
          ],
          "scatterpolar": [
           {
            "marker": {
             "colorbar": {
              "outlinewidth": 0,
              "ticks": ""
             }
            },
            "type": "scatterpolar"
           }
          ],
          "scatterpolargl": [
           {
            "marker": {
             "colorbar": {
              "outlinewidth": 0,
              "ticks": ""
             }
            },
            "type": "scatterpolargl"
           }
          ],
          "scatterternary": [
           {
            "marker": {
             "colorbar": {
              "outlinewidth": 0,
              "ticks": ""
             }
            },
            "type": "scatterternary"
           }
          ],
          "surface": [
           {
            "colorbar": {
             "outlinewidth": 0,
             "ticks": ""
            },
            "colorscale": [
             [
              0,
              "#0d0887"
             ],
             [
              0.1111111111111111,
              "#46039f"
             ],
             [
              0.2222222222222222,
              "#7201a8"
             ],
             [
              0.3333333333333333,
              "#9c179e"
             ],
             [
              0.4444444444444444,
              "#bd3786"
             ],
             [
              0.5555555555555556,
              "#d8576b"
             ],
             [
              0.6666666666666666,
              "#ed7953"
             ],
             [
              0.7777777777777778,
              "#fb9f3a"
             ],
             [
              0.8888888888888888,
              "#fdca26"
             ],
             [
              1,
              "#f0f921"
             ]
            ],
            "type": "surface"
           }
          ],
          "table": [
           {
            "cells": {
             "fill": {
              "color": "#EBF0F8"
             },
             "line": {
              "color": "white"
             }
            },
            "header": {
             "fill": {
              "color": "#C8D4E3"
             },
             "line": {
              "color": "white"
             }
            },
            "type": "table"
           }
          ]
         },
         "layout": {
          "annotationdefaults": {
           "arrowcolor": "#2a3f5f",
           "arrowhead": 0,
           "arrowwidth": 1
          },
          "autotypenumbers": "strict",
          "coloraxis": {
           "colorbar": {
            "outlinewidth": 0,
            "ticks": ""
           }
          },
          "colorscale": {
           "diverging": [
            [
             0,
             "#8e0152"
            ],
            [
             0.1,
             "#c51b7d"
            ],
            [
             0.2,
             "#de77ae"
            ],
            [
             0.3,
             "#f1b6da"
            ],
            [
             0.4,
             "#fde0ef"
            ],
            [
             0.5,
             "#f7f7f7"
            ],
            [
             0.6,
             "#e6f5d0"
            ],
            [
             0.7,
             "#b8e186"
            ],
            [
             0.8,
             "#7fbc41"
            ],
            [
             0.9,
             "#4d9221"
            ],
            [
             1,
             "#276419"
            ]
           ],
           "sequential": [
            [
             0,
             "#0d0887"
            ],
            [
             0.1111111111111111,
             "#46039f"
            ],
            [
             0.2222222222222222,
             "#7201a8"
            ],
            [
             0.3333333333333333,
             "#9c179e"
            ],
            [
             0.4444444444444444,
             "#bd3786"
            ],
            [
             0.5555555555555556,
             "#d8576b"
            ],
            [
             0.6666666666666666,
             "#ed7953"
            ],
            [
             0.7777777777777778,
             "#fb9f3a"
            ],
            [
             0.8888888888888888,
             "#fdca26"
            ],
            [
             1,
             "#f0f921"
            ]
           ],
           "sequentialminus": [
            [
             0,
             "#0d0887"
            ],
            [
             0.1111111111111111,
             "#46039f"
            ],
            [
             0.2222222222222222,
             "#7201a8"
            ],
            [
             0.3333333333333333,
             "#9c179e"
            ],
            [
             0.4444444444444444,
             "#bd3786"
            ],
            [
             0.5555555555555556,
             "#d8576b"
            ],
            [
             0.6666666666666666,
             "#ed7953"
            ],
            [
             0.7777777777777778,
             "#fb9f3a"
            ],
            [
             0.8888888888888888,
             "#fdca26"
            ],
            [
             1,
             "#f0f921"
            ]
           ]
          },
          "colorway": [
           "#636efa",
           "#EF553B",
           "#00cc96",
           "#ab63fa",
           "#FFA15A",
           "#19d3f3",
           "#FF6692",
           "#B6E880",
           "#FF97FF",
           "#FECB52"
          ],
          "font": {
           "color": "#2a3f5f"
          },
          "geo": {
           "bgcolor": "white",
           "lakecolor": "white",
           "landcolor": "#E5ECF6",
           "showlakes": true,
           "showland": true,
           "subunitcolor": "white"
          },
          "hoverlabel": {
           "align": "left"
          },
          "hovermode": "closest",
          "mapbox": {
           "style": "light"
          },
          "paper_bgcolor": "white",
          "plot_bgcolor": "#E5ECF6",
          "polar": {
           "angularaxis": {
            "gridcolor": "white",
            "linecolor": "white",
            "ticks": ""
           },
           "bgcolor": "#E5ECF6",
           "radialaxis": {
            "gridcolor": "white",
            "linecolor": "white",
            "ticks": ""
           }
          },
          "scene": {
           "xaxis": {
            "backgroundcolor": "#E5ECF6",
            "gridcolor": "white",
            "gridwidth": 2,
            "linecolor": "white",
            "showbackground": true,
            "ticks": "",
            "zerolinecolor": "white"
           },
           "yaxis": {
            "backgroundcolor": "#E5ECF6",
            "gridcolor": "white",
            "gridwidth": 2,
            "linecolor": "white",
            "showbackground": true,
            "ticks": "",
            "zerolinecolor": "white"
           },
           "zaxis": {
            "backgroundcolor": "#E5ECF6",
            "gridcolor": "white",
            "gridwidth": 2,
            "linecolor": "white",
            "showbackground": true,
            "ticks": "",
            "zerolinecolor": "white"
           }
          },
          "shapedefaults": {
           "line": {
            "color": "#2a3f5f"
           }
          },
          "ternary": {
           "aaxis": {
            "gridcolor": "white",
            "linecolor": "white",
            "ticks": ""
           },
           "baxis": {
            "gridcolor": "white",
            "linecolor": "white",
            "ticks": ""
           },
           "bgcolor": "#E5ECF6",
           "caxis": {
            "gridcolor": "white",
            "linecolor": "white",
            "ticks": ""
           }
          },
          "title": {
           "x": 0.05
          },
          "xaxis": {
           "automargin": true,
           "gridcolor": "white",
           "linecolor": "white",
           "ticks": "",
           "title": {
            "standoff": 15
           },
           "zerolinecolor": "white",
           "zerolinewidth": 2
          },
          "yaxis": {
           "automargin": true,
           "gridcolor": "white",
           "linecolor": "white",
           "ticks": "",
           "title": {
            "standoff": 15
           },
           "zerolinecolor": "white",
           "zerolinewidth": 2
          }
         }
        }
       }
      },
      "text/html": [
       "<div>                            <div id=\"71a1df4f-8cff-4ca4-938b-a3f3c0d805e6\" class=\"plotly-graph-div\" style=\"height:525px; width:100%;\"></div>            <script type=\"text/javascript\">                require([\"plotly\"], function(Plotly) {                    window.PLOTLYENV=window.PLOTLYENV || {};                                    if (document.getElementById(\"71a1df4f-8cff-4ca4-938b-a3f3c0d805e6\")) {                    Plotly.newPlot(                        \"71a1df4f-8cff-4ca4-938b-a3f3c0d805e6\",                        [{\"marker\":{\"color\":\"rgb(0, 128, 128)\"},\"name\":\"standardLR\",\"y\":[0.9009661835748792,0.8864734299516909,0.8768115942028986,0.893719806763285,0.8983050847457628,0.910411622276029,0.9079903147699758,0.9128329297820823,0.9152542372881356,0.9297820823244553],\"type\":\"box\"},{\"marker\":{\"color\":\"rgb(0, 128, 128)\"},\"name\":\"standardLDA\",\"y\":[0.893719806763285,0.8840579710144928,0.8695652173913043,0.8913043478260869,0.9031476997578692,0.9079903147699758,0.9055690072639225,0.9055690072639225,0.910411622276029,0.9200968523002422],\"type\":\"box\"},{\"marker\":{\"color\":\"rgb(0, 128, 128)\"},\"name\":\"standardKNN\",\"y\":[0.9468599033816425,0.9251207729468599,0.9251207729468599,0.9299516908212561,0.9322033898305084,0.9346246973365617,0.9297820823244553,0.9467312348668281,0.9418886198547215,0.9443099273607748],\"type\":\"box\"},{\"marker\":{\"color\":\"rgb(0, 128, 128)\"},\"name\":\"standardCART\",\"y\":[0.9468599033816425,0.9396135265700483,0.9492753623188406,0.9516908212560387,0.9346246973365617,0.9564164648910412,0.9418886198547215,0.9467312348668281,0.9443099273607748,0.9467312348668281],\"type\":\"box\"},{\"marker\":{\"color\":\"rgb(0, 128, 128)\"},\"name\":\"standardNB\",\"y\":[0.8985507246376812,0.893719806763285,0.8695652173913043,0.8913043478260869,0.8813559322033898,0.8934624697336562,0.8958837772397095,0.9007263922518159,0.910411622276029,0.927360774818402],\"type\":\"box\"},{\"marker\":{\"color\":\"rgb(0, 128, 128)\"},\"name\":\"standardSVM\",\"y\":[0.9516908212560387,0.9589371980676329,0.9420289855072463,0.9468599033816425,0.9467312348668281,0.9491525423728814,0.9588377723970944,0.9564164648910412,0.9564164648910412,0.9685230024213075],\"type\":\"box\"},{\"marker\":{\"color\":\"rgb(0, 128, 128)\"},\"name\":\"standardAB\",\"y\":[0.9541062801932367,0.9420289855072463,0.9758454106280193,0.9565217391304348,0.9515738498789347,0.9539951573849879,0.9685230024213075,0.9612590799031477,0.9564164648910412,0.9612590799031477],\"type\":\"box\"},{\"marker\":{\"color\":\"rgb(0, 128, 128)\"},\"name\":\"standardGBM\",\"y\":[0.9685990338164251,0.9637681159420289,0.961352657004831,0.961352657004831,0.9612590799031477,0.9564164648910412,0.9685230024213075,0.9661016949152542,0.9588377723970944,0.9636803874092009],\"type\":\"box\"},{\"marker\":{\"color\":\"rgb(0, 128, 128)\"},\"name\":\"standardRF\",\"y\":[0.9637681159420289,0.966183574879227,0.9710144927536232,0.961352657004831,0.9636803874092009,0.9612590799031477,0.9636803874092009,0.9685230024213075,0.9733656174334141,0.9588377723970944],\"type\":\"box\"},{\"marker\":{\"color\":\"rgb(0, 128, 128)\"},\"name\":\"standardET\",\"y\":[0.9758454106280193,0.9734299516908212,0.9710144927536232,0.9734299516908212,0.9661016949152542,0.9685230024213075,0.9757869249394673,0.9661016949152542,0.9782082324455206,0.9757869249394673],\"type\":\"box\"},{\"marker\":{\"color\":\"rgb(0, 128, 128)\"},\"name\":\"standardBagging\",\"y\":[0.9541062801932367,0.9516908212560387,0.9565217391304348,0.961352657004831,0.9539951573849879,0.9467312348668281,0.9467312348668281,0.9636803874092009,0.9636803874092009,0.9539951573849879],\"type\":\"box\"},{\"marker\":{\"color\":\"rgb(0, 128, 128)\"},\"name\":\"standardXGBoost\",\"y\":[0.961352657004831,0.9637681159420289,0.9734299516908212,0.966183574879227,0.9685230024213075,0.9588377723970944,0.9588377723970944,0.9515738498789347,0.9661016949152542,0.9515738498789347],\"type\":\"box\"}],                        {\"template\":{\"data\":{\"barpolar\":[{\"marker\":{\"line\":{\"color\":\"#E5ECF6\",\"width\":0.5},\"pattern\":{\"fillmode\":\"overlay\",\"size\":10,\"solidity\":0.2}},\"type\":\"barpolar\"}],\"bar\":[{\"error_x\":{\"color\":\"#2a3f5f\"},\"error_y\":{\"color\":\"#2a3f5f\"},\"marker\":{\"line\":{\"color\":\"#E5ECF6\",\"width\":0.5},\"pattern\":{\"fillmode\":\"overlay\",\"size\":10,\"solidity\":0.2}},\"type\":\"bar\"}],\"carpet\":[{\"aaxis\":{\"endlinecolor\":\"#2a3f5f\",\"gridcolor\":\"white\",\"linecolor\":\"white\",\"minorgridcolor\":\"white\",\"startlinecolor\":\"#2a3f5f\"},\"baxis\":{\"endlinecolor\":\"#2a3f5f\",\"gridcolor\":\"white\",\"linecolor\":\"white\",\"minorgridcolor\":\"white\",\"startlinecolor\":\"#2a3f5f\"},\"type\":\"carpet\"}],\"choropleth\":[{\"colorbar\":{\"outlinewidth\":0,\"ticks\":\"\"},\"type\":\"choropleth\"}],\"contourcarpet\":[{\"colorbar\":{\"outlinewidth\":0,\"ticks\":\"\"},\"type\":\"contourcarpet\"}],\"contour\":[{\"colorbar\":{\"outlinewidth\":0,\"ticks\":\"\"},\"colorscale\":[[0.0,\"#0d0887\"],[0.1111111111111111,\"#46039f\"],[0.2222222222222222,\"#7201a8\"],[0.3333333333333333,\"#9c179e\"],[0.4444444444444444,\"#bd3786\"],[0.5555555555555556,\"#d8576b\"],[0.6666666666666666,\"#ed7953\"],[0.7777777777777778,\"#fb9f3a\"],[0.8888888888888888,\"#fdca26\"],[1.0,\"#f0f921\"]],\"type\":\"contour\"}],\"heatmapgl\":[{\"colorbar\":{\"outlinewidth\":0,\"ticks\":\"\"},\"colorscale\":[[0.0,\"#0d0887\"],[0.1111111111111111,\"#46039f\"],[0.2222222222222222,\"#7201a8\"],[0.3333333333333333,\"#9c179e\"],[0.4444444444444444,\"#bd3786\"],[0.5555555555555556,\"#d8576b\"],[0.6666666666666666,\"#ed7953\"],[0.7777777777777778,\"#fb9f3a\"],[0.8888888888888888,\"#fdca26\"],[1.0,\"#f0f921\"]],\"type\":\"heatmapgl\"}],\"heatmap\":[{\"colorbar\":{\"outlinewidth\":0,\"ticks\":\"\"},\"colorscale\":[[0.0,\"#0d0887\"],[0.1111111111111111,\"#46039f\"],[0.2222222222222222,\"#7201a8\"],[0.3333333333333333,\"#9c179e\"],[0.4444444444444444,\"#bd3786\"],[0.5555555555555556,\"#d8576b\"],[0.6666666666666666,\"#ed7953\"],[0.7777777777777778,\"#fb9f3a\"],[0.8888888888888888,\"#fdca26\"],[1.0,\"#f0f921\"]],\"type\":\"heatmap\"}],\"histogram2dcontour\":[{\"colorbar\":{\"outlinewidth\":0,\"ticks\":\"\"},\"colorscale\":[[0.0,\"#0d0887\"],[0.1111111111111111,\"#46039f\"],[0.2222222222222222,\"#7201a8\"],[0.3333333333333333,\"#9c179e\"],[0.4444444444444444,\"#bd3786\"],[0.5555555555555556,\"#d8576b\"],[0.6666666666666666,\"#ed7953\"],[0.7777777777777778,\"#fb9f3a\"],[0.8888888888888888,\"#fdca26\"],[1.0,\"#f0f921\"]],\"type\":\"histogram2dcontour\"}],\"histogram2d\":[{\"colorbar\":{\"outlinewidth\":0,\"ticks\":\"\"},\"colorscale\":[[0.0,\"#0d0887\"],[0.1111111111111111,\"#46039f\"],[0.2222222222222222,\"#7201a8\"],[0.3333333333333333,\"#9c179e\"],[0.4444444444444444,\"#bd3786\"],[0.5555555555555556,\"#d8576b\"],[0.6666666666666666,\"#ed7953\"],[0.7777777777777778,\"#fb9f3a\"],[0.8888888888888888,\"#fdca26\"],[1.0,\"#f0f921\"]],\"type\":\"histogram2d\"}],\"histogram\":[{\"marker\":{\"pattern\":{\"fillmode\":\"overlay\",\"size\":10,\"solidity\":0.2}},\"type\":\"histogram\"}],\"mesh3d\":[{\"colorbar\":{\"outlinewidth\":0,\"ticks\":\"\"},\"type\":\"mesh3d\"}],\"parcoords\":[{\"line\":{\"colorbar\":{\"outlinewidth\":0,\"ticks\":\"\"}},\"type\":\"parcoords\"}],\"pie\":[{\"automargin\":true,\"type\":\"pie\"}],\"scatter3d\":[{\"line\":{\"colorbar\":{\"outlinewidth\":0,\"ticks\":\"\"}},\"marker\":{\"colorbar\":{\"outlinewidth\":0,\"ticks\":\"\"}},\"type\":\"scatter3d\"}],\"scattercarpet\":[{\"marker\":{\"colorbar\":{\"outlinewidth\":0,\"ticks\":\"\"}},\"type\":\"scattercarpet\"}],\"scattergeo\":[{\"marker\":{\"colorbar\":{\"outlinewidth\":0,\"ticks\":\"\"}},\"type\":\"scattergeo\"}],\"scattergl\":[{\"marker\":{\"colorbar\":{\"outlinewidth\":0,\"ticks\":\"\"}},\"type\":\"scattergl\"}],\"scattermapbox\":[{\"marker\":{\"colorbar\":{\"outlinewidth\":0,\"ticks\":\"\"}},\"type\":\"scattermapbox\"}],\"scatterpolargl\":[{\"marker\":{\"colorbar\":{\"outlinewidth\":0,\"ticks\":\"\"}},\"type\":\"scatterpolargl\"}],\"scatterpolar\":[{\"marker\":{\"colorbar\":{\"outlinewidth\":0,\"ticks\":\"\"}},\"type\":\"scatterpolar\"}],\"scatter\":[{\"marker\":{\"colorbar\":{\"outlinewidth\":0,\"ticks\":\"\"}},\"type\":\"scatter\"}],\"scatterternary\":[{\"marker\":{\"colorbar\":{\"outlinewidth\":0,\"ticks\":\"\"}},\"type\":\"scatterternary\"}],\"surface\":[{\"colorbar\":{\"outlinewidth\":0,\"ticks\":\"\"},\"colorscale\":[[0.0,\"#0d0887\"],[0.1111111111111111,\"#46039f\"],[0.2222222222222222,\"#7201a8\"],[0.3333333333333333,\"#9c179e\"],[0.4444444444444444,\"#bd3786\"],[0.5555555555555556,\"#d8576b\"],[0.6666666666666666,\"#ed7953\"],[0.7777777777777778,\"#fb9f3a\"],[0.8888888888888888,\"#fdca26\"],[1.0,\"#f0f921\"]],\"type\":\"surface\"}],\"table\":[{\"cells\":{\"fill\":{\"color\":\"#EBF0F8\"},\"line\":{\"color\":\"white\"}},\"header\":{\"fill\":{\"color\":\"#C8D4E3\"},\"line\":{\"color\":\"white\"}},\"type\":\"table\"}]},\"layout\":{\"annotationdefaults\":{\"arrowcolor\":\"#2a3f5f\",\"arrowhead\":0,\"arrowwidth\":1},\"autotypenumbers\":\"strict\",\"coloraxis\":{\"colorbar\":{\"outlinewidth\":0,\"ticks\":\"\"}},\"colorscale\":{\"diverging\":[[0,\"#8e0152\"],[0.1,\"#c51b7d\"],[0.2,\"#de77ae\"],[0.3,\"#f1b6da\"],[0.4,\"#fde0ef\"],[0.5,\"#f7f7f7\"],[0.6,\"#e6f5d0\"],[0.7,\"#b8e186\"],[0.8,\"#7fbc41\"],[0.9,\"#4d9221\"],[1,\"#276419\"]],\"sequential\":[[0.0,\"#0d0887\"],[0.1111111111111111,\"#46039f\"],[0.2222222222222222,\"#7201a8\"],[0.3333333333333333,\"#9c179e\"],[0.4444444444444444,\"#bd3786\"],[0.5555555555555556,\"#d8576b\"],[0.6666666666666666,\"#ed7953\"],[0.7777777777777778,\"#fb9f3a\"],[0.8888888888888888,\"#fdca26\"],[1.0,\"#f0f921\"]],\"sequentialminus\":[[0.0,\"#0d0887\"],[0.1111111111111111,\"#46039f\"],[0.2222222222222222,\"#7201a8\"],[0.3333333333333333,\"#9c179e\"],[0.4444444444444444,\"#bd3786\"],[0.5555555555555556,\"#d8576b\"],[0.6666666666666666,\"#ed7953\"],[0.7777777777777778,\"#fb9f3a\"],[0.8888888888888888,\"#fdca26\"],[1.0,\"#f0f921\"]]},\"colorway\":[\"#636efa\",\"#EF553B\",\"#00cc96\",\"#ab63fa\",\"#FFA15A\",\"#19d3f3\",\"#FF6692\",\"#B6E880\",\"#FF97FF\",\"#FECB52\"],\"font\":{\"color\":\"#2a3f5f\"},\"geo\":{\"bgcolor\":\"white\",\"lakecolor\":\"white\",\"landcolor\":\"#E5ECF6\",\"showlakes\":true,\"showland\":true,\"subunitcolor\":\"white\"},\"hoverlabel\":{\"align\":\"left\"},\"hovermode\":\"closest\",\"mapbox\":{\"style\":\"light\"},\"paper_bgcolor\":\"white\",\"plot_bgcolor\":\"#E5ECF6\",\"polar\":{\"angularaxis\":{\"gridcolor\":\"white\",\"linecolor\":\"white\",\"ticks\":\"\"},\"bgcolor\":\"#E5ECF6\",\"radialaxis\":{\"gridcolor\":\"white\",\"linecolor\":\"white\",\"ticks\":\"\"}},\"scene\":{\"xaxis\":{\"backgroundcolor\":\"#E5ECF6\",\"gridcolor\":\"white\",\"gridwidth\":2,\"linecolor\":\"white\",\"showbackground\":true,\"ticks\":\"\",\"zerolinecolor\":\"white\"},\"yaxis\":{\"backgroundcolor\":\"#E5ECF6\",\"gridcolor\":\"white\",\"gridwidth\":2,\"linecolor\":\"white\",\"showbackground\":true,\"ticks\":\"\",\"zerolinecolor\":\"white\"},\"zaxis\":{\"backgroundcolor\":\"#E5ECF6\",\"gridcolor\":\"white\",\"gridwidth\":2,\"linecolor\":\"white\",\"showbackground\":true,\"ticks\":\"\",\"zerolinecolor\":\"white\"}},\"shapedefaults\":{\"line\":{\"color\":\"#2a3f5f\"}},\"ternary\":{\"aaxis\":{\"gridcolor\":\"white\",\"linecolor\":\"white\",\"ticks\":\"\"},\"baxis\":{\"gridcolor\":\"white\",\"linecolor\":\"white\",\"ticks\":\"\"},\"bgcolor\":\"#E5ECF6\",\"caxis\":{\"gridcolor\":\"white\",\"linecolor\":\"white\",\"ticks\":\"\"}},\"title\":{\"x\":0.05},\"xaxis\":{\"automargin\":true,\"gridcolor\":\"white\",\"linecolor\":\"white\",\"ticks\":\"\",\"title\":{\"standoff\":15},\"zerolinecolor\":\"white\",\"zerolinewidth\":2},\"yaxis\":{\"automargin\":true,\"gridcolor\":\"white\",\"linecolor\":\"white\",\"ticks\":\"\",\"title\":{\"standoff\":15},\"zerolinecolor\":\"white\",\"zerolinewidth\":2}}}},                        {\"responsive\": true}                    ).then(function(){\n",
       "                            \n",
       "var gd = document.getElementById('71a1df4f-8cff-4ca4-938b-a3f3c0d805e6');\n",
       "var x = new MutationObserver(function (mutations, observer) {{\n",
       "        var display = window.getComputedStyle(gd).display;\n",
       "        if (!display || display === 'none') {{\n",
       "            console.log([gd, 'removed!']);\n",
       "            Plotly.purge(gd);\n",
       "            observer.disconnect();\n",
       "        }}\n",
       "}});\n",
       "\n",
       "// Listen for the removal of the full notebook cells\n",
       "var notebookContainer = gd.closest('#notebook-container');\n",
       "if (notebookContainer) {{\n",
       "    x.observe(notebookContainer, {childList: true});\n",
       "}}\n",
       "\n",
       "// Listen for the clearing of the current output cell\n",
       "var outputEl = gd.closest('.output');\n",
       "if (outputEl) {{\n",
       "    x.observe(outputEl, {childList: true});\n",
       "}}\n",
       "\n",
       "                        })                };                });            </script>        </div>"
      ]
     },
     "metadata": {},
     "output_type": "display_data"
    },
    {
     "data": {
      "text/html": [
       "<div>\n",
       "<style scoped>\n",
       "    .dataframe tbody tr th:only-of-type {\n",
       "        vertical-align: middle;\n",
       "    }\n",
       "\n",
       "    .dataframe tbody tr th {\n",
       "        vertical-align: top;\n",
       "    }\n",
       "\n",
       "    .dataframe thead th {\n",
       "        text-align: right;\n",
       "    }\n",
       "</style>\n",
       "<table border=\"1\" class=\"dataframe\">\n",
       "  <thead>\n",
       "    <tr style=\"text-align: right;\">\n",
       "      <th></th>\n",
       "      <th>Model</th>\n",
       "      <th>Score</th>\n",
       "      <th>Model</th>\n",
       "      <th>Score</th>\n",
       "    </tr>\n",
       "  </thead>\n",
       "  <tbody>\n",
       "    <tr>\n",
       "      <th>0</th>\n",
       "      <td>LR</td>\n",
       "      <td>0.9035</td>\n",
       "      <td>standardLR</td>\n",
       "      <td>0.9033</td>\n",
       "    </tr>\n",
       "    <tr>\n",
       "      <th>1</th>\n",
       "      <td>LDA</td>\n",
       "      <td>0.8991</td>\n",
       "      <td>standardLDA</td>\n",
       "      <td>0.8991</td>\n",
       "    </tr>\n",
       "    <tr>\n",
       "      <th>2</th>\n",
       "      <td>KNN</td>\n",
       "      <td>0.9124</td>\n",
       "      <td>standardKNN</td>\n",
       "      <td>0.9357</td>\n",
       "    </tr>\n",
       "    <tr>\n",
       "      <th>3</th>\n",
       "      <td>CART</td>\n",
       "      <td>0.9458</td>\n",
       "      <td>standardCART</td>\n",
       "      <td>0.9458</td>\n",
       "    </tr>\n",
       "    <tr>\n",
       "      <th>4</th>\n",
       "      <td>NB</td>\n",
       "      <td>0.8962</td>\n",
       "      <td>standardNB</td>\n",
       "      <td>0.8962</td>\n",
       "    </tr>\n",
       "    <tr>\n",
       "      <th>5</th>\n",
       "      <td>SVM</td>\n",
       "      <td>0.9086</td>\n",
       "      <td>standardSVM</td>\n",
       "      <td>0.9536</td>\n",
       "    </tr>\n",
       "    <tr>\n",
       "      <th>6</th>\n",
       "      <td>ADA</td>\n",
       "      <td>0.9582</td>\n",
       "      <td>standardAB</td>\n",
       "      <td>0.9582</td>\n",
       "    </tr>\n",
       "    <tr>\n",
       "      <th>7</th>\n",
       "      <td>GBM</td>\n",
       "      <td>0.9627</td>\n",
       "      <td>standardGBM</td>\n",
       "      <td>0.9630</td>\n",
       "    </tr>\n",
       "    <tr>\n",
       "      <th>8</th>\n",
       "      <td>RF</td>\n",
       "      <td>0.9673</td>\n",
       "      <td>standardRF</td>\n",
       "      <td>0.9652</td>\n",
       "    </tr>\n",
       "    <tr>\n",
       "      <th>9</th>\n",
       "      <td>ET</td>\n",
       "      <td>0.9719</td>\n",
       "      <td>standardET</td>\n",
       "      <td>0.9724</td>\n",
       "    </tr>\n",
       "    <tr>\n",
       "      <th>10</th>\n",
       "      <td>Bagging</td>\n",
       "      <td>0.9606</td>\n",
       "      <td>standardBagging</td>\n",
       "      <td>0.9552</td>\n",
       "    </tr>\n",
       "    <tr>\n",
       "      <th>11</th>\n",
       "      <td>XGBoost</td>\n",
       "      <td>0.9620</td>\n",
       "      <td>standardXGBoost</td>\n",
       "      <td>0.9620</td>\n",
       "    </tr>\n",
       "  </tbody>\n",
       "</table>\n",
       "</div>"
      ],
      "text/plain": [
       "      Model   Score            Model   Score\n",
       "0        LR  0.9035       standardLR  0.9033\n",
       "1       LDA  0.8991      standardLDA  0.8991\n",
       "2       KNN  0.9124      standardKNN  0.9357\n",
       "3      CART  0.9458     standardCART  0.9458\n",
       "4        NB  0.8962       standardNB  0.8962\n",
       "5       SVM  0.9086      standardSVM  0.9536\n",
       "6       ADA  0.9582       standardAB  0.9582\n",
       "7       GBM  0.9627      standardGBM  0.9630\n",
       "8        RF  0.9673       standardRF  0.9652\n",
       "9        ET  0.9719       standardET  0.9724\n",
       "10  Bagging  0.9606  standardBagging  0.9552\n",
       "11  XGBoost  0.9620  standardXGBoost  0.9620"
      ]
     },
     "execution_count": 16,
     "metadata": {},
     "output_type": "execute_result"
    }
   ],
   "source": [
    "models = GetScaledModel('standard')\n",
    "names,results = BasedLine2(X_train, y_train, models)\n",
    "PlotBoxR().PlotResult(names,results)\n",
    "scaledScoreStandard = ScoreDataFrame(names,results)\n",
    "compareModels = pd.concat([basedLineScore,\n",
    "                           scaledScoreStandard], axis=1)\n",
    "compareModels"
   ]
  },
  {
   "cell_type": "code",
   "execution_count": 17,
   "id": "00563558",
   "metadata": {},
   "outputs": [
    {
     "name": "stdout",
     "output_type": "stream",
     "text": [
      "minmaxLR: 0.903255 (0.013926)\n",
      "minmaxLDA: 0.899143 (0.013915)\n",
      "minmaxKNN: 0.941470 (0.011076)\n",
      "minmaxCART: 0.947022 (0.006185)\n",
      "minmaxNB: 0.896234 (0.014719)\n",
      "minmaxSVM: 0.948238 (0.008911)\n",
      "minmaxAB: 0.958153 (0.008846)\n",
      "minmaxGBM: 0.962989 (0.003764)\n",
      "minmaxRF: 0.967829 (0.004457)\n",
      "minmaxET: 0.972906 (0.004447)\n",
      "minmaxBagging: 0.957422 (0.005775)\n",
      "minmaxXGBoost: 0.962018 (0.006697)\n"
     ]
    },
    {
     "data": {
      "application/vnd.plotly.v1+json": {
       "config": {
        "linkText": "Export to plot.ly",
        "plotlyServerURL": "https://plot.ly",
        "showLink": false
       },
       "data": [
        {
         "marker": {
          "color": "rgb(0, 128, 128)"
         },
         "name": "minmaxLR",
         "type": "box",
         "y": [
          0.8961352657004831,
          0.8864734299516909,
          0.8792270531400966,
          0.8961352657004831,
          0.8983050847457628,
          0.910411622276029,
          0.9079903147699758,
          0.9128329297820823,
          0.9176755447941889,
          0.927360774818402
         ]
        },
        {
         "marker": {
          "color": "rgb(0, 128, 128)"
         },
         "name": "minmaxLDA",
         "type": "box",
         "y": [
          0.893719806763285,
          0.8840579710144928,
          0.8695652173913043,
          0.8913043478260869,
          0.9031476997578692,
          0.9079903147699758,
          0.9055690072639225,
          0.9055690072639225,
          0.910411622276029,
          0.9200968523002422
         ]
        },
        {
         "marker": {
          "color": "rgb(0, 128, 128)"
         },
         "name": "minmaxKNN",
         "type": "box",
         "y": [
          0.9444444444444444,
          0.9347826086956522,
          0.9178743961352657,
          0.9323671497584541,
          0.9515738498789347,
          0.9394673123486683,
          0.9443099273607748,
          0.9467312348668281,
          0.9418886198547215,
          0.9612590799031477
         ]
        },
        {
         "marker": {
          "color": "rgb(0, 128, 128)"
         },
         "name": "minmaxCART",
         "type": "box",
         "y": [
          0.9516908212560387,
          0.9444444444444444,
          0.9516908212560387,
          0.9492753623188406,
          0.9418886198547215,
          0.9539951573849879,
          0.937046004842615,
          0.9564164648910412,
          0.9394673123486683,
          0.9443099273607748
         ]
        },
        {
         "marker": {
          "color": "rgb(0, 128, 128)"
         },
         "name": "minmaxNB",
         "type": "box",
         "y": [
          0.8985507246376812,
          0.893719806763285,
          0.8695652173913043,
          0.8913043478260869,
          0.8813559322033898,
          0.8934624697336562,
          0.8958837772397095,
          0.9007263922518159,
          0.910411622276029,
          0.927360774818402
         ]
        },
        {
         "marker": {
          "color": "rgb(0, 128, 128)"
         },
         "name": "minmaxSVM",
         "type": "box",
         "y": [
          0.9468599033816425,
          0.9492753623188406,
          0.9323671497584541,
          0.9468599033816425,
          0.9418886198547215,
          0.9394673123486683,
          0.9588377723970944,
          0.9564164648910412,
          0.9467312348668281,
          0.9636803874092009
         ]
        },
        {
         "marker": {
          "color": "rgb(0, 128, 128)"
         },
         "name": "minmaxAB",
         "type": "box",
         "y": [
          0.9541062801932367,
          0.9420289855072463,
          0.9758454106280193,
          0.9565217391304348,
          0.9515738498789347,
          0.9539951573849879,
          0.9685230024213075,
          0.9612590799031477,
          0.9564164648910412,
          0.9612590799031477
         ]
        },
        {
         "marker": {
          "color": "rgb(0, 128, 128)"
         },
         "name": "minmaxGBM",
         "type": "box",
         "y": [
          0.9685990338164251,
          0.9637681159420289,
          0.961352657004831,
          0.961352657004831,
          0.9612590799031477,
          0.9564164648910412,
          0.9685230024213075,
          0.9661016949152542,
          0.9588377723970944,
          0.9636803874092009
         ]
        },
        {
         "marker": {
          "color": "rgb(0, 128, 128)"
         },
         "name": "minmaxRF",
         "type": "box",
         "y": [
          0.9637681159420289,
          0.966183574879227,
          0.9710144927536232,
          0.9637681159420289,
          0.9661016949152542,
          0.9612590799031477,
          0.9661016949152542,
          0.9709443099273608,
          0.9757869249394673,
          0.9733656174334141
         ]
        },
        {
         "marker": {
          "color": "rgb(0, 128, 128)"
         },
         "name": "minmaxET",
         "type": "box",
         "y": [
          0.9734299516908212,
          0.9782608695652174,
          0.9734299516908212,
          0.9734299516908212,
          0.9661016949152542,
          0.9733656174334141,
          0.9733656174334141,
          0.9636803874092009,
          0.9782082324455206,
          0.9757869249394673
         ]
        },
        {
         "marker": {
          "color": "rgb(0, 128, 128)"
         },
         "name": "minmaxBagging",
         "type": "box",
         "y": [
          0.9685990338164251,
          0.9589371980676329,
          0.9637681159420289,
          0.9565217391304348,
          0.9612590799031477,
          0.9491525423728814,
          0.9515738498789347,
          0.9588377723970944,
          0.9515738498789347,
          0.9539951573849879
         ]
        },
        {
         "marker": {
          "color": "rgb(0, 128, 128)"
         },
         "name": "minmaxXGBoost",
         "type": "box",
         "y": [
          0.961352657004831,
          0.9637681159420289,
          0.9734299516908212,
          0.966183574879227,
          0.9685230024213075,
          0.9588377723970944,
          0.9588377723970944,
          0.9515738498789347,
          0.9661016949152542,
          0.9515738498789347
         ]
        }
       ],
       "layout": {
        "template": {
         "data": {
          "bar": [
           {
            "error_x": {
             "color": "#2a3f5f"
            },
            "error_y": {
             "color": "#2a3f5f"
            },
            "marker": {
             "line": {
              "color": "#E5ECF6",
              "width": 0.5
             },
             "pattern": {
              "fillmode": "overlay",
              "size": 10,
              "solidity": 0.2
             }
            },
            "type": "bar"
           }
          ],
          "barpolar": [
           {
            "marker": {
             "line": {
              "color": "#E5ECF6",
              "width": 0.5
             },
             "pattern": {
              "fillmode": "overlay",
              "size": 10,
              "solidity": 0.2
             }
            },
            "type": "barpolar"
           }
          ],
          "carpet": [
           {
            "aaxis": {
             "endlinecolor": "#2a3f5f",
             "gridcolor": "white",
             "linecolor": "white",
             "minorgridcolor": "white",
             "startlinecolor": "#2a3f5f"
            },
            "baxis": {
             "endlinecolor": "#2a3f5f",
             "gridcolor": "white",
             "linecolor": "white",
             "minorgridcolor": "white",
             "startlinecolor": "#2a3f5f"
            },
            "type": "carpet"
           }
          ],
          "choropleth": [
           {
            "colorbar": {
             "outlinewidth": 0,
             "ticks": ""
            },
            "type": "choropleth"
           }
          ],
          "contour": [
           {
            "colorbar": {
             "outlinewidth": 0,
             "ticks": ""
            },
            "colorscale": [
             [
              0,
              "#0d0887"
             ],
             [
              0.1111111111111111,
              "#46039f"
             ],
             [
              0.2222222222222222,
              "#7201a8"
             ],
             [
              0.3333333333333333,
              "#9c179e"
             ],
             [
              0.4444444444444444,
              "#bd3786"
             ],
             [
              0.5555555555555556,
              "#d8576b"
             ],
             [
              0.6666666666666666,
              "#ed7953"
             ],
             [
              0.7777777777777778,
              "#fb9f3a"
             ],
             [
              0.8888888888888888,
              "#fdca26"
             ],
             [
              1,
              "#f0f921"
             ]
            ],
            "type": "contour"
           }
          ],
          "contourcarpet": [
           {
            "colorbar": {
             "outlinewidth": 0,
             "ticks": ""
            },
            "type": "contourcarpet"
           }
          ],
          "heatmap": [
           {
            "colorbar": {
             "outlinewidth": 0,
             "ticks": ""
            },
            "colorscale": [
             [
              0,
              "#0d0887"
             ],
             [
              0.1111111111111111,
              "#46039f"
             ],
             [
              0.2222222222222222,
              "#7201a8"
             ],
             [
              0.3333333333333333,
              "#9c179e"
             ],
             [
              0.4444444444444444,
              "#bd3786"
             ],
             [
              0.5555555555555556,
              "#d8576b"
             ],
             [
              0.6666666666666666,
              "#ed7953"
             ],
             [
              0.7777777777777778,
              "#fb9f3a"
             ],
             [
              0.8888888888888888,
              "#fdca26"
             ],
             [
              1,
              "#f0f921"
             ]
            ],
            "type": "heatmap"
           }
          ],
          "heatmapgl": [
           {
            "colorbar": {
             "outlinewidth": 0,
             "ticks": ""
            },
            "colorscale": [
             [
              0,
              "#0d0887"
             ],
             [
              0.1111111111111111,
              "#46039f"
             ],
             [
              0.2222222222222222,
              "#7201a8"
             ],
             [
              0.3333333333333333,
              "#9c179e"
             ],
             [
              0.4444444444444444,
              "#bd3786"
             ],
             [
              0.5555555555555556,
              "#d8576b"
             ],
             [
              0.6666666666666666,
              "#ed7953"
             ],
             [
              0.7777777777777778,
              "#fb9f3a"
             ],
             [
              0.8888888888888888,
              "#fdca26"
             ],
             [
              1,
              "#f0f921"
             ]
            ],
            "type": "heatmapgl"
           }
          ],
          "histogram": [
           {
            "marker": {
             "pattern": {
              "fillmode": "overlay",
              "size": 10,
              "solidity": 0.2
             }
            },
            "type": "histogram"
           }
          ],
          "histogram2d": [
           {
            "colorbar": {
             "outlinewidth": 0,
             "ticks": ""
            },
            "colorscale": [
             [
              0,
              "#0d0887"
             ],
             [
              0.1111111111111111,
              "#46039f"
             ],
             [
              0.2222222222222222,
              "#7201a8"
             ],
             [
              0.3333333333333333,
              "#9c179e"
             ],
             [
              0.4444444444444444,
              "#bd3786"
             ],
             [
              0.5555555555555556,
              "#d8576b"
             ],
             [
              0.6666666666666666,
              "#ed7953"
             ],
             [
              0.7777777777777778,
              "#fb9f3a"
             ],
             [
              0.8888888888888888,
              "#fdca26"
             ],
             [
              1,
              "#f0f921"
             ]
            ],
            "type": "histogram2d"
           }
          ],
          "histogram2dcontour": [
           {
            "colorbar": {
             "outlinewidth": 0,
             "ticks": ""
            },
            "colorscale": [
             [
              0,
              "#0d0887"
             ],
             [
              0.1111111111111111,
              "#46039f"
             ],
             [
              0.2222222222222222,
              "#7201a8"
             ],
             [
              0.3333333333333333,
              "#9c179e"
             ],
             [
              0.4444444444444444,
              "#bd3786"
             ],
             [
              0.5555555555555556,
              "#d8576b"
             ],
             [
              0.6666666666666666,
              "#ed7953"
             ],
             [
              0.7777777777777778,
              "#fb9f3a"
             ],
             [
              0.8888888888888888,
              "#fdca26"
             ],
             [
              1,
              "#f0f921"
             ]
            ],
            "type": "histogram2dcontour"
           }
          ],
          "mesh3d": [
           {
            "colorbar": {
             "outlinewidth": 0,
             "ticks": ""
            },
            "type": "mesh3d"
           }
          ],
          "parcoords": [
           {
            "line": {
             "colorbar": {
              "outlinewidth": 0,
              "ticks": ""
             }
            },
            "type": "parcoords"
           }
          ],
          "pie": [
           {
            "automargin": true,
            "type": "pie"
           }
          ],
          "scatter": [
           {
            "marker": {
             "colorbar": {
              "outlinewidth": 0,
              "ticks": ""
             }
            },
            "type": "scatter"
           }
          ],
          "scatter3d": [
           {
            "line": {
             "colorbar": {
              "outlinewidth": 0,
              "ticks": ""
             }
            },
            "marker": {
             "colorbar": {
              "outlinewidth": 0,
              "ticks": ""
             }
            },
            "type": "scatter3d"
           }
          ],
          "scattercarpet": [
           {
            "marker": {
             "colorbar": {
              "outlinewidth": 0,
              "ticks": ""
             }
            },
            "type": "scattercarpet"
           }
          ],
          "scattergeo": [
           {
            "marker": {
             "colorbar": {
              "outlinewidth": 0,
              "ticks": ""
             }
            },
            "type": "scattergeo"
           }
          ],
          "scattergl": [
           {
            "marker": {
             "colorbar": {
              "outlinewidth": 0,
              "ticks": ""
             }
            },
            "type": "scattergl"
           }
          ],
          "scattermapbox": [
           {
            "marker": {
             "colorbar": {
              "outlinewidth": 0,
              "ticks": ""
             }
            },
            "type": "scattermapbox"
           }
          ],
          "scatterpolar": [
           {
            "marker": {
             "colorbar": {
              "outlinewidth": 0,
              "ticks": ""
             }
            },
            "type": "scatterpolar"
           }
          ],
          "scatterpolargl": [
           {
            "marker": {
             "colorbar": {
              "outlinewidth": 0,
              "ticks": ""
             }
            },
            "type": "scatterpolargl"
           }
          ],
          "scatterternary": [
           {
            "marker": {
             "colorbar": {
              "outlinewidth": 0,
              "ticks": ""
             }
            },
            "type": "scatterternary"
           }
          ],
          "surface": [
           {
            "colorbar": {
             "outlinewidth": 0,
             "ticks": ""
            },
            "colorscale": [
             [
              0,
              "#0d0887"
             ],
             [
              0.1111111111111111,
              "#46039f"
             ],
             [
              0.2222222222222222,
              "#7201a8"
             ],
             [
              0.3333333333333333,
              "#9c179e"
             ],
             [
              0.4444444444444444,
              "#bd3786"
             ],
             [
              0.5555555555555556,
              "#d8576b"
             ],
             [
              0.6666666666666666,
              "#ed7953"
             ],
             [
              0.7777777777777778,
              "#fb9f3a"
             ],
             [
              0.8888888888888888,
              "#fdca26"
             ],
             [
              1,
              "#f0f921"
             ]
            ],
            "type": "surface"
           }
          ],
          "table": [
           {
            "cells": {
             "fill": {
              "color": "#EBF0F8"
             },
             "line": {
              "color": "white"
             }
            },
            "header": {
             "fill": {
              "color": "#C8D4E3"
             },
             "line": {
              "color": "white"
             }
            },
            "type": "table"
           }
          ]
         },
         "layout": {
          "annotationdefaults": {
           "arrowcolor": "#2a3f5f",
           "arrowhead": 0,
           "arrowwidth": 1
          },
          "autotypenumbers": "strict",
          "coloraxis": {
           "colorbar": {
            "outlinewidth": 0,
            "ticks": ""
           }
          },
          "colorscale": {
           "diverging": [
            [
             0,
             "#8e0152"
            ],
            [
             0.1,
             "#c51b7d"
            ],
            [
             0.2,
             "#de77ae"
            ],
            [
             0.3,
             "#f1b6da"
            ],
            [
             0.4,
             "#fde0ef"
            ],
            [
             0.5,
             "#f7f7f7"
            ],
            [
             0.6,
             "#e6f5d0"
            ],
            [
             0.7,
             "#b8e186"
            ],
            [
             0.8,
             "#7fbc41"
            ],
            [
             0.9,
             "#4d9221"
            ],
            [
             1,
             "#276419"
            ]
           ],
           "sequential": [
            [
             0,
             "#0d0887"
            ],
            [
             0.1111111111111111,
             "#46039f"
            ],
            [
             0.2222222222222222,
             "#7201a8"
            ],
            [
             0.3333333333333333,
             "#9c179e"
            ],
            [
             0.4444444444444444,
             "#bd3786"
            ],
            [
             0.5555555555555556,
             "#d8576b"
            ],
            [
             0.6666666666666666,
             "#ed7953"
            ],
            [
             0.7777777777777778,
             "#fb9f3a"
            ],
            [
             0.8888888888888888,
             "#fdca26"
            ],
            [
             1,
             "#f0f921"
            ]
           ],
           "sequentialminus": [
            [
             0,
             "#0d0887"
            ],
            [
             0.1111111111111111,
             "#46039f"
            ],
            [
             0.2222222222222222,
             "#7201a8"
            ],
            [
             0.3333333333333333,
             "#9c179e"
            ],
            [
             0.4444444444444444,
             "#bd3786"
            ],
            [
             0.5555555555555556,
             "#d8576b"
            ],
            [
             0.6666666666666666,
             "#ed7953"
            ],
            [
             0.7777777777777778,
             "#fb9f3a"
            ],
            [
             0.8888888888888888,
             "#fdca26"
            ],
            [
             1,
             "#f0f921"
            ]
           ]
          },
          "colorway": [
           "#636efa",
           "#EF553B",
           "#00cc96",
           "#ab63fa",
           "#FFA15A",
           "#19d3f3",
           "#FF6692",
           "#B6E880",
           "#FF97FF",
           "#FECB52"
          ],
          "font": {
           "color": "#2a3f5f"
          },
          "geo": {
           "bgcolor": "white",
           "lakecolor": "white",
           "landcolor": "#E5ECF6",
           "showlakes": true,
           "showland": true,
           "subunitcolor": "white"
          },
          "hoverlabel": {
           "align": "left"
          },
          "hovermode": "closest",
          "mapbox": {
           "style": "light"
          },
          "paper_bgcolor": "white",
          "plot_bgcolor": "#E5ECF6",
          "polar": {
           "angularaxis": {
            "gridcolor": "white",
            "linecolor": "white",
            "ticks": ""
           },
           "bgcolor": "#E5ECF6",
           "radialaxis": {
            "gridcolor": "white",
            "linecolor": "white",
            "ticks": ""
           }
          },
          "scene": {
           "xaxis": {
            "backgroundcolor": "#E5ECF6",
            "gridcolor": "white",
            "gridwidth": 2,
            "linecolor": "white",
            "showbackground": true,
            "ticks": "",
            "zerolinecolor": "white"
           },
           "yaxis": {
            "backgroundcolor": "#E5ECF6",
            "gridcolor": "white",
            "gridwidth": 2,
            "linecolor": "white",
            "showbackground": true,
            "ticks": "",
            "zerolinecolor": "white"
           },
           "zaxis": {
            "backgroundcolor": "#E5ECF6",
            "gridcolor": "white",
            "gridwidth": 2,
            "linecolor": "white",
            "showbackground": true,
            "ticks": "",
            "zerolinecolor": "white"
           }
          },
          "shapedefaults": {
           "line": {
            "color": "#2a3f5f"
           }
          },
          "ternary": {
           "aaxis": {
            "gridcolor": "white",
            "linecolor": "white",
            "ticks": ""
           },
           "baxis": {
            "gridcolor": "white",
            "linecolor": "white",
            "ticks": ""
           },
           "bgcolor": "#E5ECF6",
           "caxis": {
            "gridcolor": "white",
            "linecolor": "white",
            "ticks": ""
           }
          },
          "title": {
           "x": 0.05
          },
          "xaxis": {
           "automargin": true,
           "gridcolor": "white",
           "linecolor": "white",
           "ticks": "",
           "title": {
            "standoff": 15
           },
           "zerolinecolor": "white",
           "zerolinewidth": 2
          },
          "yaxis": {
           "automargin": true,
           "gridcolor": "white",
           "linecolor": "white",
           "ticks": "",
           "title": {
            "standoff": 15
           },
           "zerolinecolor": "white",
           "zerolinewidth": 2
          }
         }
        }
       }
      },
      "text/html": [
       "<div>                            <div id=\"604979f8-e7a7-475d-ab30-e3620b782d16\" class=\"plotly-graph-div\" style=\"height:525px; width:100%;\"></div>            <script type=\"text/javascript\">                require([\"plotly\"], function(Plotly) {                    window.PLOTLYENV=window.PLOTLYENV || {};                                    if (document.getElementById(\"604979f8-e7a7-475d-ab30-e3620b782d16\")) {                    Plotly.newPlot(                        \"604979f8-e7a7-475d-ab30-e3620b782d16\",                        [{\"marker\":{\"color\":\"rgb(0, 128, 128)\"},\"name\":\"minmaxLR\",\"y\":[0.8961352657004831,0.8864734299516909,0.8792270531400966,0.8961352657004831,0.8983050847457628,0.910411622276029,0.9079903147699758,0.9128329297820823,0.9176755447941889,0.927360774818402],\"type\":\"box\"},{\"marker\":{\"color\":\"rgb(0, 128, 128)\"},\"name\":\"minmaxLDA\",\"y\":[0.893719806763285,0.8840579710144928,0.8695652173913043,0.8913043478260869,0.9031476997578692,0.9079903147699758,0.9055690072639225,0.9055690072639225,0.910411622276029,0.9200968523002422],\"type\":\"box\"},{\"marker\":{\"color\":\"rgb(0, 128, 128)\"},\"name\":\"minmaxKNN\",\"y\":[0.9444444444444444,0.9347826086956522,0.9178743961352657,0.9323671497584541,0.9515738498789347,0.9394673123486683,0.9443099273607748,0.9467312348668281,0.9418886198547215,0.9612590799031477],\"type\":\"box\"},{\"marker\":{\"color\":\"rgb(0, 128, 128)\"},\"name\":\"minmaxCART\",\"y\":[0.9516908212560387,0.9444444444444444,0.9516908212560387,0.9492753623188406,0.9418886198547215,0.9539951573849879,0.937046004842615,0.9564164648910412,0.9394673123486683,0.9443099273607748],\"type\":\"box\"},{\"marker\":{\"color\":\"rgb(0, 128, 128)\"},\"name\":\"minmaxNB\",\"y\":[0.8985507246376812,0.893719806763285,0.8695652173913043,0.8913043478260869,0.8813559322033898,0.8934624697336562,0.8958837772397095,0.9007263922518159,0.910411622276029,0.927360774818402],\"type\":\"box\"},{\"marker\":{\"color\":\"rgb(0, 128, 128)\"},\"name\":\"minmaxSVM\",\"y\":[0.9468599033816425,0.9492753623188406,0.9323671497584541,0.9468599033816425,0.9418886198547215,0.9394673123486683,0.9588377723970944,0.9564164648910412,0.9467312348668281,0.9636803874092009],\"type\":\"box\"},{\"marker\":{\"color\":\"rgb(0, 128, 128)\"},\"name\":\"minmaxAB\",\"y\":[0.9541062801932367,0.9420289855072463,0.9758454106280193,0.9565217391304348,0.9515738498789347,0.9539951573849879,0.9685230024213075,0.9612590799031477,0.9564164648910412,0.9612590799031477],\"type\":\"box\"},{\"marker\":{\"color\":\"rgb(0, 128, 128)\"},\"name\":\"minmaxGBM\",\"y\":[0.9685990338164251,0.9637681159420289,0.961352657004831,0.961352657004831,0.9612590799031477,0.9564164648910412,0.9685230024213075,0.9661016949152542,0.9588377723970944,0.9636803874092009],\"type\":\"box\"},{\"marker\":{\"color\":\"rgb(0, 128, 128)\"},\"name\":\"minmaxRF\",\"y\":[0.9637681159420289,0.966183574879227,0.9710144927536232,0.9637681159420289,0.9661016949152542,0.9612590799031477,0.9661016949152542,0.9709443099273608,0.9757869249394673,0.9733656174334141],\"type\":\"box\"},{\"marker\":{\"color\":\"rgb(0, 128, 128)\"},\"name\":\"minmaxET\",\"y\":[0.9734299516908212,0.9782608695652174,0.9734299516908212,0.9734299516908212,0.9661016949152542,0.9733656174334141,0.9733656174334141,0.9636803874092009,0.9782082324455206,0.9757869249394673],\"type\":\"box\"},{\"marker\":{\"color\":\"rgb(0, 128, 128)\"},\"name\":\"minmaxBagging\",\"y\":[0.9685990338164251,0.9589371980676329,0.9637681159420289,0.9565217391304348,0.9612590799031477,0.9491525423728814,0.9515738498789347,0.9588377723970944,0.9515738498789347,0.9539951573849879],\"type\":\"box\"},{\"marker\":{\"color\":\"rgb(0, 128, 128)\"},\"name\":\"minmaxXGBoost\",\"y\":[0.961352657004831,0.9637681159420289,0.9734299516908212,0.966183574879227,0.9685230024213075,0.9588377723970944,0.9588377723970944,0.9515738498789347,0.9661016949152542,0.9515738498789347],\"type\":\"box\"}],                        {\"template\":{\"data\":{\"barpolar\":[{\"marker\":{\"line\":{\"color\":\"#E5ECF6\",\"width\":0.5},\"pattern\":{\"fillmode\":\"overlay\",\"size\":10,\"solidity\":0.2}},\"type\":\"barpolar\"}],\"bar\":[{\"error_x\":{\"color\":\"#2a3f5f\"},\"error_y\":{\"color\":\"#2a3f5f\"},\"marker\":{\"line\":{\"color\":\"#E5ECF6\",\"width\":0.5},\"pattern\":{\"fillmode\":\"overlay\",\"size\":10,\"solidity\":0.2}},\"type\":\"bar\"}],\"carpet\":[{\"aaxis\":{\"endlinecolor\":\"#2a3f5f\",\"gridcolor\":\"white\",\"linecolor\":\"white\",\"minorgridcolor\":\"white\",\"startlinecolor\":\"#2a3f5f\"},\"baxis\":{\"endlinecolor\":\"#2a3f5f\",\"gridcolor\":\"white\",\"linecolor\":\"white\",\"minorgridcolor\":\"white\",\"startlinecolor\":\"#2a3f5f\"},\"type\":\"carpet\"}],\"choropleth\":[{\"colorbar\":{\"outlinewidth\":0,\"ticks\":\"\"},\"type\":\"choropleth\"}],\"contourcarpet\":[{\"colorbar\":{\"outlinewidth\":0,\"ticks\":\"\"},\"type\":\"contourcarpet\"}],\"contour\":[{\"colorbar\":{\"outlinewidth\":0,\"ticks\":\"\"},\"colorscale\":[[0.0,\"#0d0887\"],[0.1111111111111111,\"#46039f\"],[0.2222222222222222,\"#7201a8\"],[0.3333333333333333,\"#9c179e\"],[0.4444444444444444,\"#bd3786\"],[0.5555555555555556,\"#d8576b\"],[0.6666666666666666,\"#ed7953\"],[0.7777777777777778,\"#fb9f3a\"],[0.8888888888888888,\"#fdca26\"],[1.0,\"#f0f921\"]],\"type\":\"contour\"}],\"heatmapgl\":[{\"colorbar\":{\"outlinewidth\":0,\"ticks\":\"\"},\"colorscale\":[[0.0,\"#0d0887\"],[0.1111111111111111,\"#46039f\"],[0.2222222222222222,\"#7201a8\"],[0.3333333333333333,\"#9c179e\"],[0.4444444444444444,\"#bd3786\"],[0.5555555555555556,\"#d8576b\"],[0.6666666666666666,\"#ed7953\"],[0.7777777777777778,\"#fb9f3a\"],[0.8888888888888888,\"#fdca26\"],[1.0,\"#f0f921\"]],\"type\":\"heatmapgl\"}],\"heatmap\":[{\"colorbar\":{\"outlinewidth\":0,\"ticks\":\"\"},\"colorscale\":[[0.0,\"#0d0887\"],[0.1111111111111111,\"#46039f\"],[0.2222222222222222,\"#7201a8\"],[0.3333333333333333,\"#9c179e\"],[0.4444444444444444,\"#bd3786\"],[0.5555555555555556,\"#d8576b\"],[0.6666666666666666,\"#ed7953\"],[0.7777777777777778,\"#fb9f3a\"],[0.8888888888888888,\"#fdca26\"],[1.0,\"#f0f921\"]],\"type\":\"heatmap\"}],\"histogram2dcontour\":[{\"colorbar\":{\"outlinewidth\":0,\"ticks\":\"\"},\"colorscale\":[[0.0,\"#0d0887\"],[0.1111111111111111,\"#46039f\"],[0.2222222222222222,\"#7201a8\"],[0.3333333333333333,\"#9c179e\"],[0.4444444444444444,\"#bd3786\"],[0.5555555555555556,\"#d8576b\"],[0.6666666666666666,\"#ed7953\"],[0.7777777777777778,\"#fb9f3a\"],[0.8888888888888888,\"#fdca26\"],[1.0,\"#f0f921\"]],\"type\":\"histogram2dcontour\"}],\"histogram2d\":[{\"colorbar\":{\"outlinewidth\":0,\"ticks\":\"\"},\"colorscale\":[[0.0,\"#0d0887\"],[0.1111111111111111,\"#46039f\"],[0.2222222222222222,\"#7201a8\"],[0.3333333333333333,\"#9c179e\"],[0.4444444444444444,\"#bd3786\"],[0.5555555555555556,\"#d8576b\"],[0.6666666666666666,\"#ed7953\"],[0.7777777777777778,\"#fb9f3a\"],[0.8888888888888888,\"#fdca26\"],[1.0,\"#f0f921\"]],\"type\":\"histogram2d\"}],\"histogram\":[{\"marker\":{\"pattern\":{\"fillmode\":\"overlay\",\"size\":10,\"solidity\":0.2}},\"type\":\"histogram\"}],\"mesh3d\":[{\"colorbar\":{\"outlinewidth\":0,\"ticks\":\"\"},\"type\":\"mesh3d\"}],\"parcoords\":[{\"line\":{\"colorbar\":{\"outlinewidth\":0,\"ticks\":\"\"}},\"type\":\"parcoords\"}],\"pie\":[{\"automargin\":true,\"type\":\"pie\"}],\"scatter3d\":[{\"line\":{\"colorbar\":{\"outlinewidth\":0,\"ticks\":\"\"}},\"marker\":{\"colorbar\":{\"outlinewidth\":0,\"ticks\":\"\"}},\"type\":\"scatter3d\"}],\"scattercarpet\":[{\"marker\":{\"colorbar\":{\"outlinewidth\":0,\"ticks\":\"\"}},\"type\":\"scattercarpet\"}],\"scattergeo\":[{\"marker\":{\"colorbar\":{\"outlinewidth\":0,\"ticks\":\"\"}},\"type\":\"scattergeo\"}],\"scattergl\":[{\"marker\":{\"colorbar\":{\"outlinewidth\":0,\"ticks\":\"\"}},\"type\":\"scattergl\"}],\"scattermapbox\":[{\"marker\":{\"colorbar\":{\"outlinewidth\":0,\"ticks\":\"\"}},\"type\":\"scattermapbox\"}],\"scatterpolargl\":[{\"marker\":{\"colorbar\":{\"outlinewidth\":0,\"ticks\":\"\"}},\"type\":\"scatterpolargl\"}],\"scatterpolar\":[{\"marker\":{\"colorbar\":{\"outlinewidth\":0,\"ticks\":\"\"}},\"type\":\"scatterpolar\"}],\"scatter\":[{\"marker\":{\"colorbar\":{\"outlinewidth\":0,\"ticks\":\"\"}},\"type\":\"scatter\"}],\"scatterternary\":[{\"marker\":{\"colorbar\":{\"outlinewidth\":0,\"ticks\":\"\"}},\"type\":\"scatterternary\"}],\"surface\":[{\"colorbar\":{\"outlinewidth\":0,\"ticks\":\"\"},\"colorscale\":[[0.0,\"#0d0887\"],[0.1111111111111111,\"#46039f\"],[0.2222222222222222,\"#7201a8\"],[0.3333333333333333,\"#9c179e\"],[0.4444444444444444,\"#bd3786\"],[0.5555555555555556,\"#d8576b\"],[0.6666666666666666,\"#ed7953\"],[0.7777777777777778,\"#fb9f3a\"],[0.8888888888888888,\"#fdca26\"],[1.0,\"#f0f921\"]],\"type\":\"surface\"}],\"table\":[{\"cells\":{\"fill\":{\"color\":\"#EBF0F8\"},\"line\":{\"color\":\"white\"}},\"header\":{\"fill\":{\"color\":\"#C8D4E3\"},\"line\":{\"color\":\"white\"}},\"type\":\"table\"}]},\"layout\":{\"annotationdefaults\":{\"arrowcolor\":\"#2a3f5f\",\"arrowhead\":0,\"arrowwidth\":1},\"autotypenumbers\":\"strict\",\"coloraxis\":{\"colorbar\":{\"outlinewidth\":0,\"ticks\":\"\"}},\"colorscale\":{\"diverging\":[[0,\"#8e0152\"],[0.1,\"#c51b7d\"],[0.2,\"#de77ae\"],[0.3,\"#f1b6da\"],[0.4,\"#fde0ef\"],[0.5,\"#f7f7f7\"],[0.6,\"#e6f5d0\"],[0.7,\"#b8e186\"],[0.8,\"#7fbc41\"],[0.9,\"#4d9221\"],[1,\"#276419\"]],\"sequential\":[[0.0,\"#0d0887\"],[0.1111111111111111,\"#46039f\"],[0.2222222222222222,\"#7201a8\"],[0.3333333333333333,\"#9c179e\"],[0.4444444444444444,\"#bd3786\"],[0.5555555555555556,\"#d8576b\"],[0.6666666666666666,\"#ed7953\"],[0.7777777777777778,\"#fb9f3a\"],[0.8888888888888888,\"#fdca26\"],[1.0,\"#f0f921\"]],\"sequentialminus\":[[0.0,\"#0d0887\"],[0.1111111111111111,\"#46039f\"],[0.2222222222222222,\"#7201a8\"],[0.3333333333333333,\"#9c179e\"],[0.4444444444444444,\"#bd3786\"],[0.5555555555555556,\"#d8576b\"],[0.6666666666666666,\"#ed7953\"],[0.7777777777777778,\"#fb9f3a\"],[0.8888888888888888,\"#fdca26\"],[1.0,\"#f0f921\"]]},\"colorway\":[\"#636efa\",\"#EF553B\",\"#00cc96\",\"#ab63fa\",\"#FFA15A\",\"#19d3f3\",\"#FF6692\",\"#B6E880\",\"#FF97FF\",\"#FECB52\"],\"font\":{\"color\":\"#2a3f5f\"},\"geo\":{\"bgcolor\":\"white\",\"lakecolor\":\"white\",\"landcolor\":\"#E5ECF6\",\"showlakes\":true,\"showland\":true,\"subunitcolor\":\"white\"},\"hoverlabel\":{\"align\":\"left\"},\"hovermode\":\"closest\",\"mapbox\":{\"style\":\"light\"},\"paper_bgcolor\":\"white\",\"plot_bgcolor\":\"#E5ECF6\",\"polar\":{\"angularaxis\":{\"gridcolor\":\"white\",\"linecolor\":\"white\",\"ticks\":\"\"},\"bgcolor\":\"#E5ECF6\",\"radialaxis\":{\"gridcolor\":\"white\",\"linecolor\":\"white\",\"ticks\":\"\"}},\"scene\":{\"xaxis\":{\"backgroundcolor\":\"#E5ECF6\",\"gridcolor\":\"white\",\"gridwidth\":2,\"linecolor\":\"white\",\"showbackground\":true,\"ticks\":\"\",\"zerolinecolor\":\"white\"},\"yaxis\":{\"backgroundcolor\":\"#E5ECF6\",\"gridcolor\":\"white\",\"gridwidth\":2,\"linecolor\":\"white\",\"showbackground\":true,\"ticks\":\"\",\"zerolinecolor\":\"white\"},\"zaxis\":{\"backgroundcolor\":\"#E5ECF6\",\"gridcolor\":\"white\",\"gridwidth\":2,\"linecolor\":\"white\",\"showbackground\":true,\"ticks\":\"\",\"zerolinecolor\":\"white\"}},\"shapedefaults\":{\"line\":{\"color\":\"#2a3f5f\"}},\"ternary\":{\"aaxis\":{\"gridcolor\":\"white\",\"linecolor\":\"white\",\"ticks\":\"\"},\"baxis\":{\"gridcolor\":\"white\",\"linecolor\":\"white\",\"ticks\":\"\"},\"bgcolor\":\"#E5ECF6\",\"caxis\":{\"gridcolor\":\"white\",\"linecolor\":\"white\",\"ticks\":\"\"}},\"title\":{\"x\":0.05},\"xaxis\":{\"automargin\":true,\"gridcolor\":\"white\",\"linecolor\":\"white\",\"ticks\":\"\",\"title\":{\"standoff\":15},\"zerolinecolor\":\"white\",\"zerolinewidth\":2},\"yaxis\":{\"automargin\":true,\"gridcolor\":\"white\",\"linecolor\":\"white\",\"ticks\":\"\",\"title\":{\"standoff\":15},\"zerolinecolor\":\"white\",\"zerolinewidth\":2}}}},                        {\"responsive\": true}                    ).then(function(){\n",
       "                            \n",
       "var gd = document.getElementById('604979f8-e7a7-475d-ab30-e3620b782d16');\n",
       "var x = new MutationObserver(function (mutations, observer) {{\n",
       "        var display = window.getComputedStyle(gd).display;\n",
       "        if (!display || display === 'none') {{\n",
       "            console.log([gd, 'removed!']);\n",
       "            Plotly.purge(gd);\n",
       "            observer.disconnect();\n",
       "        }}\n",
       "}});\n",
       "\n",
       "// Listen for the removal of the full notebook cells\n",
       "var notebookContainer = gd.closest('#notebook-container');\n",
       "if (notebookContainer) {{\n",
       "    x.observe(notebookContainer, {childList: true});\n",
       "}}\n",
       "\n",
       "// Listen for the clearing of the current output cell\n",
       "var outputEl = gd.closest('.output');\n",
       "if (outputEl) {{\n",
       "    x.observe(outputEl, {childList: true});\n",
       "}}\n",
       "\n",
       "                        })                };                });            </script>        </div>"
      ]
     },
     "metadata": {},
     "output_type": "display_data"
    },
    {
     "data": {
      "text/html": [
       "<div>\n",
       "<style scoped>\n",
       "    .dataframe tbody tr th:only-of-type {\n",
       "        vertical-align: middle;\n",
       "    }\n",
       "\n",
       "    .dataframe tbody tr th {\n",
       "        vertical-align: top;\n",
       "    }\n",
       "\n",
       "    .dataframe thead th {\n",
       "        text-align: right;\n",
       "    }\n",
       "</style>\n",
       "<table border=\"1\" class=\"dataframe\">\n",
       "  <thead>\n",
       "    <tr style=\"text-align: right;\">\n",
       "      <th></th>\n",
       "      <th>Model</th>\n",
       "      <th>Score</th>\n",
       "      <th>Model</th>\n",
       "      <th>Score</th>\n",
       "      <th>Model</th>\n",
       "      <th>Score</th>\n",
       "    </tr>\n",
       "  </thead>\n",
       "  <tbody>\n",
       "    <tr>\n",
       "      <th>0</th>\n",
       "      <td>LR</td>\n",
       "      <td>0.9035</td>\n",
       "      <td>standardLR</td>\n",
       "      <td>0.9033</td>\n",
       "      <td>minmaxLR</td>\n",
       "      <td>0.9033</td>\n",
       "    </tr>\n",
       "    <tr>\n",
       "      <th>1</th>\n",
       "      <td>LDA</td>\n",
       "      <td>0.8991</td>\n",
       "      <td>standardLDA</td>\n",
       "      <td>0.8991</td>\n",
       "      <td>minmaxLDA</td>\n",
       "      <td>0.8991</td>\n",
       "    </tr>\n",
       "    <tr>\n",
       "      <th>2</th>\n",
       "      <td>KNN</td>\n",
       "      <td>0.9124</td>\n",
       "      <td>standardKNN</td>\n",
       "      <td>0.9357</td>\n",
       "      <td>minmaxKNN</td>\n",
       "      <td>0.9415</td>\n",
       "    </tr>\n",
       "    <tr>\n",
       "      <th>3</th>\n",
       "      <td>CART</td>\n",
       "      <td>0.9458</td>\n",
       "      <td>standardCART</td>\n",
       "      <td>0.9458</td>\n",
       "      <td>minmaxCART</td>\n",
       "      <td>0.9470</td>\n",
       "    </tr>\n",
       "    <tr>\n",
       "      <th>4</th>\n",
       "      <td>NB</td>\n",
       "      <td>0.8962</td>\n",
       "      <td>standardNB</td>\n",
       "      <td>0.8962</td>\n",
       "      <td>minmaxNB</td>\n",
       "      <td>0.8962</td>\n",
       "    </tr>\n",
       "    <tr>\n",
       "      <th>5</th>\n",
       "      <td>SVM</td>\n",
       "      <td>0.9086</td>\n",
       "      <td>standardSVM</td>\n",
       "      <td>0.9536</td>\n",
       "      <td>minmaxSVM</td>\n",
       "      <td>0.9482</td>\n",
       "    </tr>\n",
       "    <tr>\n",
       "      <th>6</th>\n",
       "      <td>ADA</td>\n",
       "      <td>0.9582</td>\n",
       "      <td>standardAB</td>\n",
       "      <td>0.9582</td>\n",
       "      <td>minmaxAB</td>\n",
       "      <td>0.9582</td>\n",
       "    </tr>\n",
       "    <tr>\n",
       "      <th>7</th>\n",
       "      <td>GBM</td>\n",
       "      <td>0.9627</td>\n",
       "      <td>standardGBM</td>\n",
       "      <td>0.9630</td>\n",
       "      <td>minmaxGBM</td>\n",
       "      <td>0.9630</td>\n",
       "    </tr>\n",
       "    <tr>\n",
       "      <th>8</th>\n",
       "      <td>RF</td>\n",
       "      <td>0.9673</td>\n",
       "      <td>standardRF</td>\n",
       "      <td>0.9652</td>\n",
       "      <td>minmaxRF</td>\n",
       "      <td>0.9678</td>\n",
       "    </tr>\n",
       "    <tr>\n",
       "      <th>9</th>\n",
       "      <td>ET</td>\n",
       "      <td>0.9719</td>\n",
       "      <td>standardET</td>\n",
       "      <td>0.9724</td>\n",
       "      <td>minmaxET</td>\n",
       "      <td>0.9729</td>\n",
       "    </tr>\n",
       "    <tr>\n",
       "      <th>10</th>\n",
       "      <td>Bagging</td>\n",
       "      <td>0.9606</td>\n",
       "      <td>standardBagging</td>\n",
       "      <td>0.9552</td>\n",
       "      <td>minmaxBagging</td>\n",
       "      <td>0.9574</td>\n",
       "    </tr>\n",
       "    <tr>\n",
       "      <th>11</th>\n",
       "      <td>XGBoost</td>\n",
       "      <td>0.9620</td>\n",
       "      <td>standardXGBoost</td>\n",
       "      <td>0.9620</td>\n",
       "      <td>minmaxXGBoost</td>\n",
       "      <td>0.9620</td>\n",
       "    </tr>\n",
       "  </tbody>\n",
       "</table>\n",
       "</div>"
      ],
      "text/plain": [
       "      Model   Score            Model   Score          Model   Score\n",
       "0        LR  0.9035       standardLR  0.9033       minmaxLR  0.9033\n",
       "1       LDA  0.8991      standardLDA  0.8991      minmaxLDA  0.8991\n",
       "2       KNN  0.9124      standardKNN  0.9357      minmaxKNN  0.9415\n",
       "3      CART  0.9458     standardCART  0.9458     minmaxCART  0.9470\n",
       "4        NB  0.8962       standardNB  0.8962       minmaxNB  0.8962\n",
       "5       SVM  0.9086      standardSVM  0.9536      minmaxSVM  0.9482\n",
       "6       ADA  0.9582       standardAB  0.9582       minmaxAB  0.9582\n",
       "7       GBM  0.9627      standardGBM  0.9630      minmaxGBM  0.9630\n",
       "8        RF  0.9673       standardRF  0.9652       minmaxRF  0.9678\n",
       "9        ET  0.9719       standardET  0.9724       minmaxET  0.9729\n",
       "10  Bagging  0.9606  standardBagging  0.9552  minmaxBagging  0.9574\n",
       "11  XGBoost  0.9620  standardXGBoost  0.9620  minmaxXGBoost  0.9620"
      ]
     },
     "execution_count": 17,
     "metadata": {},
     "output_type": "execute_result"
    }
   ],
   "source": [
    "models = GetScaledModel('minmax')\n",
    "names,results = BasedLine2(X_train, y_train,models)\n",
    "PlotBoxR().PlotResult(names,results)\n",
    "\n",
    "scaledScoreMinMax = ScoreDataFrame(names,results)\n",
    "compareModels = pd.concat([basedLineScore,\n",
    "                           scaledScoreStandard,\n",
    "                          scaledScoreMinMax], axis=1)\n",
    "compareModels"
   ]
  },
  {
   "cell_type": "code",
   "execution_count": 18,
   "id": "fcf46eba",
   "metadata": {
    "scrolled": true
   },
   "outputs": [
    {
     "name": "stdout",
     "output_type": "stream",
     "text": [
      "robustLR: 0.903013 (0.014598)\n",
      "robustLDA: 0.899143 (0.013915)\n",
      "robustKNN: 0.930094 (0.012151)\n",
      "robustCART: 0.947505 (0.007682)\n",
      "robustNB: 0.896234 (0.014719)\n",
      "robustSVM: 0.945337 (0.009532)\n",
      "robustAB: 0.958153 (0.008846)\n",
      "robustGBM: 0.962747 (0.003466)\n",
      "robustRF: 0.966377 (0.005007)\n",
      "robustET: 0.972180 (0.004507)\n",
      "robustBagging: 0.957669 (0.006592)\n",
      "robustXGBoost: 0.962018 (0.006697)\n"
     ]
    },
    {
     "data": {
      "application/vnd.plotly.v1+json": {
       "config": {
        "linkText": "Export to plot.ly",
        "plotlyServerURL": "https://plot.ly",
        "showLink": false
       },
       "data": [
        {
         "marker": {
          "color": "rgb(0, 128, 128)"
         },
         "name": "robustLR",
         "type": "box",
         "y": [
          0.8985507246376812,
          0.8864734299516909,
          0.8768115942028986,
          0.893719806763285,
          0.8983050847457628,
          0.910411622276029,
          0.9079903147699758,
          0.9128329297820823,
          0.9152542372881356,
          0.9297820823244553
         ]
        },
        {
         "marker": {
          "color": "rgb(0, 128, 128)"
         },
         "name": "robustLDA",
         "type": "box",
         "y": [
          0.893719806763285,
          0.8840579710144928,
          0.8695652173913043,
          0.8913043478260869,
          0.9031476997578692,
          0.9079903147699758,
          0.9055690072639225,
          0.9055690072639225,
          0.910411622276029,
          0.9200968523002422
         ]
        },
        {
         "marker": {
          "color": "rgb(0, 128, 128)"
         },
         "name": "robustKNN",
         "type": "box",
         "y": [
          0.9492753623188406,
          0.9299516908212561,
          0.9154589371980676,
          0.9178743961352657,
          0.910411622276029,
          0.937046004842615,
          0.9249394673123487,
          0.9418886198547215,
          0.9418886198547215,
          0.9322033898305084
         ]
        },
        {
         "marker": {
          "color": "rgb(0, 128, 128)"
         },
         "name": "robustCART",
         "type": "box",
         "y": [
          0.9516908212560387,
          0.9492753623188406,
          0.9492753623188406,
          0.9541062801932367,
          0.937046004842615,
          0.9612590799031477,
          0.9443099273607748,
          0.9515738498789347,
          0.9346246973365617,
          0.9418886198547215
         ]
        },
        {
         "marker": {
          "color": "rgb(0, 128, 128)"
         },
         "name": "robustNB",
         "type": "box",
         "y": [
          0.8985507246376812,
          0.893719806763285,
          0.8695652173913043,
          0.8913043478260869,
          0.8813559322033898,
          0.8934624697336562,
          0.8958837772397095,
          0.9007263922518159,
          0.910411622276029,
          0.927360774818402
         ]
        },
        {
         "marker": {
          "color": "rgb(0, 128, 128)"
         },
         "name": "robustSVM",
         "type": "box",
         "y": [
          0.9396135265700483,
          0.9541062801932367,
          0.9347826086956522,
          0.9299516908212561,
          0.9394673123486683,
          0.9394673123486683,
          0.9467312348668281,
          0.9539951573849879,
          0.9564164648910412,
          0.9588377723970944
         ]
        },
        {
         "marker": {
          "color": "rgb(0, 128, 128)"
         },
         "name": "robustAB",
         "type": "box",
         "y": [
          0.9541062801932367,
          0.9420289855072463,
          0.9758454106280193,
          0.9565217391304348,
          0.9515738498789347,
          0.9539951573849879,
          0.9685230024213075,
          0.9612590799031477,
          0.9564164648910412,
          0.9612590799031477
         ]
        },
        {
         "marker": {
          "color": "rgb(0, 128, 128)"
         },
         "name": "robustGBM",
         "type": "box",
         "y": [
          0.9685990338164251,
          0.9637681159420289,
          0.961352657004831,
          0.961352657004831,
          0.9612590799031477,
          0.9564164648910412,
          0.9661016949152542,
          0.9661016949152542,
          0.9588377723970944,
          0.9636803874092009
         ]
        },
        {
         "marker": {
          "color": "rgb(0, 128, 128)"
         },
         "name": "robustRF",
         "type": "box",
         "y": [
          0.961352657004831,
          0.9637681159420289,
          0.9758454106280193,
          0.9637681159420289,
          0.9661016949152542,
          0.9636803874092009,
          0.9661016949152542,
          0.9661016949152542,
          0.9757869249394673,
          0.9612590799031477
         ]
        },
        {
         "marker": {
          "color": "rgb(0, 128, 128)"
         },
         "name": "robustET",
         "type": "box",
         "y": [
          0.9758454106280193,
          0.9758454106280193,
          0.9710144927536232,
          0.9734299516908212,
          0.9661016949152542,
          0.9685230024213075,
          0.9733656174334141,
          0.9636803874092009,
          0.9757869249394673,
          0.9782082324455206
         ]
        },
        {
         "marker": {
          "color": "rgb(0, 128, 128)"
         },
         "name": "robustBagging",
         "type": "box",
         "y": [
          0.9516908212560387,
          0.9589371980676329,
          0.9685990338164251,
          0.9468599033816425,
          0.9564164648910412,
          0.9539951573849879,
          0.9564164648910412,
          0.9612590799031477,
          0.9685230024213075,
          0.9539951573849879
         ]
        },
        {
         "marker": {
          "color": "rgb(0, 128, 128)"
         },
         "name": "robustXGBoost",
         "type": "box",
         "y": [
          0.961352657004831,
          0.9637681159420289,
          0.9734299516908212,
          0.966183574879227,
          0.9685230024213075,
          0.9588377723970944,
          0.9588377723970944,
          0.9515738498789347,
          0.9661016949152542,
          0.9515738498789347
         ]
        }
       ],
       "layout": {
        "template": {
         "data": {
          "bar": [
           {
            "error_x": {
             "color": "#2a3f5f"
            },
            "error_y": {
             "color": "#2a3f5f"
            },
            "marker": {
             "line": {
              "color": "#E5ECF6",
              "width": 0.5
             },
             "pattern": {
              "fillmode": "overlay",
              "size": 10,
              "solidity": 0.2
             }
            },
            "type": "bar"
           }
          ],
          "barpolar": [
           {
            "marker": {
             "line": {
              "color": "#E5ECF6",
              "width": 0.5
             },
             "pattern": {
              "fillmode": "overlay",
              "size": 10,
              "solidity": 0.2
             }
            },
            "type": "barpolar"
           }
          ],
          "carpet": [
           {
            "aaxis": {
             "endlinecolor": "#2a3f5f",
             "gridcolor": "white",
             "linecolor": "white",
             "minorgridcolor": "white",
             "startlinecolor": "#2a3f5f"
            },
            "baxis": {
             "endlinecolor": "#2a3f5f",
             "gridcolor": "white",
             "linecolor": "white",
             "minorgridcolor": "white",
             "startlinecolor": "#2a3f5f"
            },
            "type": "carpet"
           }
          ],
          "choropleth": [
           {
            "colorbar": {
             "outlinewidth": 0,
             "ticks": ""
            },
            "type": "choropleth"
           }
          ],
          "contour": [
           {
            "colorbar": {
             "outlinewidth": 0,
             "ticks": ""
            },
            "colorscale": [
             [
              0,
              "#0d0887"
             ],
             [
              0.1111111111111111,
              "#46039f"
             ],
             [
              0.2222222222222222,
              "#7201a8"
             ],
             [
              0.3333333333333333,
              "#9c179e"
             ],
             [
              0.4444444444444444,
              "#bd3786"
             ],
             [
              0.5555555555555556,
              "#d8576b"
             ],
             [
              0.6666666666666666,
              "#ed7953"
             ],
             [
              0.7777777777777778,
              "#fb9f3a"
             ],
             [
              0.8888888888888888,
              "#fdca26"
             ],
             [
              1,
              "#f0f921"
             ]
            ],
            "type": "contour"
           }
          ],
          "contourcarpet": [
           {
            "colorbar": {
             "outlinewidth": 0,
             "ticks": ""
            },
            "type": "contourcarpet"
           }
          ],
          "heatmap": [
           {
            "colorbar": {
             "outlinewidth": 0,
             "ticks": ""
            },
            "colorscale": [
             [
              0,
              "#0d0887"
             ],
             [
              0.1111111111111111,
              "#46039f"
             ],
             [
              0.2222222222222222,
              "#7201a8"
             ],
             [
              0.3333333333333333,
              "#9c179e"
             ],
             [
              0.4444444444444444,
              "#bd3786"
             ],
             [
              0.5555555555555556,
              "#d8576b"
             ],
             [
              0.6666666666666666,
              "#ed7953"
             ],
             [
              0.7777777777777778,
              "#fb9f3a"
             ],
             [
              0.8888888888888888,
              "#fdca26"
             ],
             [
              1,
              "#f0f921"
             ]
            ],
            "type": "heatmap"
           }
          ],
          "heatmapgl": [
           {
            "colorbar": {
             "outlinewidth": 0,
             "ticks": ""
            },
            "colorscale": [
             [
              0,
              "#0d0887"
             ],
             [
              0.1111111111111111,
              "#46039f"
             ],
             [
              0.2222222222222222,
              "#7201a8"
             ],
             [
              0.3333333333333333,
              "#9c179e"
             ],
             [
              0.4444444444444444,
              "#bd3786"
             ],
             [
              0.5555555555555556,
              "#d8576b"
             ],
             [
              0.6666666666666666,
              "#ed7953"
             ],
             [
              0.7777777777777778,
              "#fb9f3a"
             ],
             [
              0.8888888888888888,
              "#fdca26"
             ],
             [
              1,
              "#f0f921"
             ]
            ],
            "type": "heatmapgl"
           }
          ],
          "histogram": [
           {
            "marker": {
             "pattern": {
              "fillmode": "overlay",
              "size": 10,
              "solidity": 0.2
             }
            },
            "type": "histogram"
           }
          ],
          "histogram2d": [
           {
            "colorbar": {
             "outlinewidth": 0,
             "ticks": ""
            },
            "colorscale": [
             [
              0,
              "#0d0887"
             ],
             [
              0.1111111111111111,
              "#46039f"
             ],
             [
              0.2222222222222222,
              "#7201a8"
             ],
             [
              0.3333333333333333,
              "#9c179e"
             ],
             [
              0.4444444444444444,
              "#bd3786"
             ],
             [
              0.5555555555555556,
              "#d8576b"
             ],
             [
              0.6666666666666666,
              "#ed7953"
             ],
             [
              0.7777777777777778,
              "#fb9f3a"
             ],
             [
              0.8888888888888888,
              "#fdca26"
             ],
             [
              1,
              "#f0f921"
             ]
            ],
            "type": "histogram2d"
           }
          ],
          "histogram2dcontour": [
           {
            "colorbar": {
             "outlinewidth": 0,
             "ticks": ""
            },
            "colorscale": [
             [
              0,
              "#0d0887"
             ],
             [
              0.1111111111111111,
              "#46039f"
             ],
             [
              0.2222222222222222,
              "#7201a8"
             ],
             [
              0.3333333333333333,
              "#9c179e"
             ],
             [
              0.4444444444444444,
              "#bd3786"
             ],
             [
              0.5555555555555556,
              "#d8576b"
             ],
             [
              0.6666666666666666,
              "#ed7953"
             ],
             [
              0.7777777777777778,
              "#fb9f3a"
             ],
             [
              0.8888888888888888,
              "#fdca26"
             ],
             [
              1,
              "#f0f921"
             ]
            ],
            "type": "histogram2dcontour"
           }
          ],
          "mesh3d": [
           {
            "colorbar": {
             "outlinewidth": 0,
             "ticks": ""
            },
            "type": "mesh3d"
           }
          ],
          "parcoords": [
           {
            "line": {
             "colorbar": {
              "outlinewidth": 0,
              "ticks": ""
             }
            },
            "type": "parcoords"
           }
          ],
          "pie": [
           {
            "automargin": true,
            "type": "pie"
           }
          ],
          "scatter": [
           {
            "marker": {
             "colorbar": {
              "outlinewidth": 0,
              "ticks": ""
             }
            },
            "type": "scatter"
           }
          ],
          "scatter3d": [
           {
            "line": {
             "colorbar": {
              "outlinewidth": 0,
              "ticks": ""
             }
            },
            "marker": {
             "colorbar": {
              "outlinewidth": 0,
              "ticks": ""
             }
            },
            "type": "scatter3d"
           }
          ],
          "scattercarpet": [
           {
            "marker": {
             "colorbar": {
              "outlinewidth": 0,
              "ticks": ""
             }
            },
            "type": "scattercarpet"
           }
          ],
          "scattergeo": [
           {
            "marker": {
             "colorbar": {
              "outlinewidth": 0,
              "ticks": ""
             }
            },
            "type": "scattergeo"
           }
          ],
          "scattergl": [
           {
            "marker": {
             "colorbar": {
              "outlinewidth": 0,
              "ticks": ""
             }
            },
            "type": "scattergl"
           }
          ],
          "scattermapbox": [
           {
            "marker": {
             "colorbar": {
              "outlinewidth": 0,
              "ticks": ""
             }
            },
            "type": "scattermapbox"
           }
          ],
          "scatterpolar": [
           {
            "marker": {
             "colorbar": {
              "outlinewidth": 0,
              "ticks": ""
             }
            },
            "type": "scatterpolar"
           }
          ],
          "scatterpolargl": [
           {
            "marker": {
             "colorbar": {
              "outlinewidth": 0,
              "ticks": ""
             }
            },
            "type": "scatterpolargl"
           }
          ],
          "scatterternary": [
           {
            "marker": {
             "colorbar": {
              "outlinewidth": 0,
              "ticks": ""
             }
            },
            "type": "scatterternary"
           }
          ],
          "surface": [
           {
            "colorbar": {
             "outlinewidth": 0,
             "ticks": ""
            },
            "colorscale": [
             [
              0,
              "#0d0887"
             ],
             [
              0.1111111111111111,
              "#46039f"
             ],
             [
              0.2222222222222222,
              "#7201a8"
             ],
             [
              0.3333333333333333,
              "#9c179e"
             ],
             [
              0.4444444444444444,
              "#bd3786"
             ],
             [
              0.5555555555555556,
              "#d8576b"
             ],
             [
              0.6666666666666666,
              "#ed7953"
             ],
             [
              0.7777777777777778,
              "#fb9f3a"
             ],
             [
              0.8888888888888888,
              "#fdca26"
             ],
             [
              1,
              "#f0f921"
             ]
            ],
            "type": "surface"
           }
          ],
          "table": [
           {
            "cells": {
             "fill": {
              "color": "#EBF0F8"
             },
             "line": {
              "color": "white"
             }
            },
            "header": {
             "fill": {
              "color": "#C8D4E3"
             },
             "line": {
              "color": "white"
             }
            },
            "type": "table"
           }
          ]
         },
         "layout": {
          "annotationdefaults": {
           "arrowcolor": "#2a3f5f",
           "arrowhead": 0,
           "arrowwidth": 1
          },
          "autotypenumbers": "strict",
          "coloraxis": {
           "colorbar": {
            "outlinewidth": 0,
            "ticks": ""
           }
          },
          "colorscale": {
           "diverging": [
            [
             0,
             "#8e0152"
            ],
            [
             0.1,
             "#c51b7d"
            ],
            [
             0.2,
             "#de77ae"
            ],
            [
             0.3,
             "#f1b6da"
            ],
            [
             0.4,
             "#fde0ef"
            ],
            [
             0.5,
             "#f7f7f7"
            ],
            [
             0.6,
             "#e6f5d0"
            ],
            [
             0.7,
             "#b8e186"
            ],
            [
             0.8,
             "#7fbc41"
            ],
            [
             0.9,
             "#4d9221"
            ],
            [
             1,
             "#276419"
            ]
           ],
           "sequential": [
            [
             0,
             "#0d0887"
            ],
            [
             0.1111111111111111,
             "#46039f"
            ],
            [
             0.2222222222222222,
             "#7201a8"
            ],
            [
             0.3333333333333333,
             "#9c179e"
            ],
            [
             0.4444444444444444,
             "#bd3786"
            ],
            [
             0.5555555555555556,
             "#d8576b"
            ],
            [
             0.6666666666666666,
             "#ed7953"
            ],
            [
             0.7777777777777778,
             "#fb9f3a"
            ],
            [
             0.8888888888888888,
             "#fdca26"
            ],
            [
             1,
             "#f0f921"
            ]
           ],
           "sequentialminus": [
            [
             0,
             "#0d0887"
            ],
            [
             0.1111111111111111,
             "#46039f"
            ],
            [
             0.2222222222222222,
             "#7201a8"
            ],
            [
             0.3333333333333333,
             "#9c179e"
            ],
            [
             0.4444444444444444,
             "#bd3786"
            ],
            [
             0.5555555555555556,
             "#d8576b"
            ],
            [
             0.6666666666666666,
             "#ed7953"
            ],
            [
             0.7777777777777778,
             "#fb9f3a"
            ],
            [
             0.8888888888888888,
             "#fdca26"
            ],
            [
             1,
             "#f0f921"
            ]
           ]
          },
          "colorway": [
           "#636efa",
           "#EF553B",
           "#00cc96",
           "#ab63fa",
           "#FFA15A",
           "#19d3f3",
           "#FF6692",
           "#B6E880",
           "#FF97FF",
           "#FECB52"
          ],
          "font": {
           "color": "#2a3f5f"
          },
          "geo": {
           "bgcolor": "white",
           "lakecolor": "white",
           "landcolor": "#E5ECF6",
           "showlakes": true,
           "showland": true,
           "subunitcolor": "white"
          },
          "hoverlabel": {
           "align": "left"
          },
          "hovermode": "closest",
          "mapbox": {
           "style": "light"
          },
          "paper_bgcolor": "white",
          "plot_bgcolor": "#E5ECF6",
          "polar": {
           "angularaxis": {
            "gridcolor": "white",
            "linecolor": "white",
            "ticks": ""
           },
           "bgcolor": "#E5ECF6",
           "radialaxis": {
            "gridcolor": "white",
            "linecolor": "white",
            "ticks": ""
           }
          },
          "scene": {
           "xaxis": {
            "backgroundcolor": "#E5ECF6",
            "gridcolor": "white",
            "gridwidth": 2,
            "linecolor": "white",
            "showbackground": true,
            "ticks": "",
            "zerolinecolor": "white"
           },
           "yaxis": {
            "backgroundcolor": "#E5ECF6",
            "gridcolor": "white",
            "gridwidth": 2,
            "linecolor": "white",
            "showbackground": true,
            "ticks": "",
            "zerolinecolor": "white"
           },
           "zaxis": {
            "backgroundcolor": "#E5ECF6",
            "gridcolor": "white",
            "gridwidth": 2,
            "linecolor": "white",
            "showbackground": true,
            "ticks": "",
            "zerolinecolor": "white"
           }
          },
          "shapedefaults": {
           "line": {
            "color": "#2a3f5f"
           }
          },
          "ternary": {
           "aaxis": {
            "gridcolor": "white",
            "linecolor": "white",
            "ticks": ""
           },
           "baxis": {
            "gridcolor": "white",
            "linecolor": "white",
            "ticks": ""
           },
           "bgcolor": "#E5ECF6",
           "caxis": {
            "gridcolor": "white",
            "linecolor": "white",
            "ticks": ""
           }
          },
          "title": {
           "x": 0.05
          },
          "xaxis": {
           "automargin": true,
           "gridcolor": "white",
           "linecolor": "white",
           "ticks": "",
           "title": {
            "standoff": 15
           },
           "zerolinecolor": "white",
           "zerolinewidth": 2
          },
          "yaxis": {
           "automargin": true,
           "gridcolor": "white",
           "linecolor": "white",
           "ticks": "",
           "title": {
            "standoff": 15
           },
           "zerolinecolor": "white",
           "zerolinewidth": 2
          }
         }
        }
       }
      },
      "text/html": [
       "<div>                            <div id=\"77776596-4a63-4e04-b1c5-59697351910d\" class=\"plotly-graph-div\" style=\"height:525px; width:100%;\"></div>            <script type=\"text/javascript\">                require([\"plotly\"], function(Plotly) {                    window.PLOTLYENV=window.PLOTLYENV || {};                                    if (document.getElementById(\"77776596-4a63-4e04-b1c5-59697351910d\")) {                    Plotly.newPlot(                        \"77776596-4a63-4e04-b1c5-59697351910d\",                        [{\"marker\":{\"color\":\"rgb(0, 128, 128)\"},\"name\":\"robustLR\",\"y\":[0.8985507246376812,0.8864734299516909,0.8768115942028986,0.893719806763285,0.8983050847457628,0.910411622276029,0.9079903147699758,0.9128329297820823,0.9152542372881356,0.9297820823244553],\"type\":\"box\"},{\"marker\":{\"color\":\"rgb(0, 128, 128)\"},\"name\":\"robustLDA\",\"y\":[0.893719806763285,0.8840579710144928,0.8695652173913043,0.8913043478260869,0.9031476997578692,0.9079903147699758,0.9055690072639225,0.9055690072639225,0.910411622276029,0.9200968523002422],\"type\":\"box\"},{\"marker\":{\"color\":\"rgb(0, 128, 128)\"},\"name\":\"robustKNN\",\"y\":[0.9492753623188406,0.9299516908212561,0.9154589371980676,0.9178743961352657,0.910411622276029,0.937046004842615,0.9249394673123487,0.9418886198547215,0.9418886198547215,0.9322033898305084],\"type\":\"box\"},{\"marker\":{\"color\":\"rgb(0, 128, 128)\"},\"name\":\"robustCART\",\"y\":[0.9516908212560387,0.9492753623188406,0.9492753623188406,0.9541062801932367,0.937046004842615,0.9612590799031477,0.9443099273607748,0.9515738498789347,0.9346246973365617,0.9418886198547215],\"type\":\"box\"},{\"marker\":{\"color\":\"rgb(0, 128, 128)\"},\"name\":\"robustNB\",\"y\":[0.8985507246376812,0.893719806763285,0.8695652173913043,0.8913043478260869,0.8813559322033898,0.8934624697336562,0.8958837772397095,0.9007263922518159,0.910411622276029,0.927360774818402],\"type\":\"box\"},{\"marker\":{\"color\":\"rgb(0, 128, 128)\"},\"name\":\"robustSVM\",\"y\":[0.9396135265700483,0.9541062801932367,0.9347826086956522,0.9299516908212561,0.9394673123486683,0.9394673123486683,0.9467312348668281,0.9539951573849879,0.9564164648910412,0.9588377723970944],\"type\":\"box\"},{\"marker\":{\"color\":\"rgb(0, 128, 128)\"},\"name\":\"robustAB\",\"y\":[0.9541062801932367,0.9420289855072463,0.9758454106280193,0.9565217391304348,0.9515738498789347,0.9539951573849879,0.9685230024213075,0.9612590799031477,0.9564164648910412,0.9612590799031477],\"type\":\"box\"},{\"marker\":{\"color\":\"rgb(0, 128, 128)\"},\"name\":\"robustGBM\",\"y\":[0.9685990338164251,0.9637681159420289,0.961352657004831,0.961352657004831,0.9612590799031477,0.9564164648910412,0.9661016949152542,0.9661016949152542,0.9588377723970944,0.9636803874092009],\"type\":\"box\"},{\"marker\":{\"color\":\"rgb(0, 128, 128)\"},\"name\":\"robustRF\",\"y\":[0.961352657004831,0.9637681159420289,0.9758454106280193,0.9637681159420289,0.9661016949152542,0.9636803874092009,0.9661016949152542,0.9661016949152542,0.9757869249394673,0.9612590799031477],\"type\":\"box\"},{\"marker\":{\"color\":\"rgb(0, 128, 128)\"},\"name\":\"robustET\",\"y\":[0.9758454106280193,0.9758454106280193,0.9710144927536232,0.9734299516908212,0.9661016949152542,0.9685230024213075,0.9733656174334141,0.9636803874092009,0.9757869249394673,0.9782082324455206],\"type\":\"box\"},{\"marker\":{\"color\":\"rgb(0, 128, 128)\"},\"name\":\"robustBagging\",\"y\":[0.9516908212560387,0.9589371980676329,0.9685990338164251,0.9468599033816425,0.9564164648910412,0.9539951573849879,0.9564164648910412,0.9612590799031477,0.9685230024213075,0.9539951573849879],\"type\":\"box\"},{\"marker\":{\"color\":\"rgb(0, 128, 128)\"},\"name\":\"robustXGBoost\",\"y\":[0.961352657004831,0.9637681159420289,0.9734299516908212,0.966183574879227,0.9685230024213075,0.9588377723970944,0.9588377723970944,0.9515738498789347,0.9661016949152542,0.9515738498789347],\"type\":\"box\"}],                        {\"template\":{\"data\":{\"barpolar\":[{\"marker\":{\"line\":{\"color\":\"#E5ECF6\",\"width\":0.5},\"pattern\":{\"fillmode\":\"overlay\",\"size\":10,\"solidity\":0.2}},\"type\":\"barpolar\"}],\"bar\":[{\"error_x\":{\"color\":\"#2a3f5f\"},\"error_y\":{\"color\":\"#2a3f5f\"},\"marker\":{\"line\":{\"color\":\"#E5ECF6\",\"width\":0.5},\"pattern\":{\"fillmode\":\"overlay\",\"size\":10,\"solidity\":0.2}},\"type\":\"bar\"}],\"carpet\":[{\"aaxis\":{\"endlinecolor\":\"#2a3f5f\",\"gridcolor\":\"white\",\"linecolor\":\"white\",\"minorgridcolor\":\"white\",\"startlinecolor\":\"#2a3f5f\"},\"baxis\":{\"endlinecolor\":\"#2a3f5f\",\"gridcolor\":\"white\",\"linecolor\":\"white\",\"minorgridcolor\":\"white\",\"startlinecolor\":\"#2a3f5f\"},\"type\":\"carpet\"}],\"choropleth\":[{\"colorbar\":{\"outlinewidth\":0,\"ticks\":\"\"},\"type\":\"choropleth\"}],\"contourcarpet\":[{\"colorbar\":{\"outlinewidth\":0,\"ticks\":\"\"},\"type\":\"contourcarpet\"}],\"contour\":[{\"colorbar\":{\"outlinewidth\":0,\"ticks\":\"\"},\"colorscale\":[[0.0,\"#0d0887\"],[0.1111111111111111,\"#46039f\"],[0.2222222222222222,\"#7201a8\"],[0.3333333333333333,\"#9c179e\"],[0.4444444444444444,\"#bd3786\"],[0.5555555555555556,\"#d8576b\"],[0.6666666666666666,\"#ed7953\"],[0.7777777777777778,\"#fb9f3a\"],[0.8888888888888888,\"#fdca26\"],[1.0,\"#f0f921\"]],\"type\":\"contour\"}],\"heatmapgl\":[{\"colorbar\":{\"outlinewidth\":0,\"ticks\":\"\"},\"colorscale\":[[0.0,\"#0d0887\"],[0.1111111111111111,\"#46039f\"],[0.2222222222222222,\"#7201a8\"],[0.3333333333333333,\"#9c179e\"],[0.4444444444444444,\"#bd3786\"],[0.5555555555555556,\"#d8576b\"],[0.6666666666666666,\"#ed7953\"],[0.7777777777777778,\"#fb9f3a\"],[0.8888888888888888,\"#fdca26\"],[1.0,\"#f0f921\"]],\"type\":\"heatmapgl\"}],\"heatmap\":[{\"colorbar\":{\"outlinewidth\":0,\"ticks\":\"\"},\"colorscale\":[[0.0,\"#0d0887\"],[0.1111111111111111,\"#46039f\"],[0.2222222222222222,\"#7201a8\"],[0.3333333333333333,\"#9c179e\"],[0.4444444444444444,\"#bd3786\"],[0.5555555555555556,\"#d8576b\"],[0.6666666666666666,\"#ed7953\"],[0.7777777777777778,\"#fb9f3a\"],[0.8888888888888888,\"#fdca26\"],[1.0,\"#f0f921\"]],\"type\":\"heatmap\"}],\"histogram2dcontour\":[{\"colorbar\":{\"outlinewidth\":0,\"ticks\":\"\"},\"colorscale\":[[0.0,\"#0d0887\"],[0.1111111111111111,\"#46039f\"],[0.2222222222222222,\"#7201a8\"],[0.3333333333333333,\"#9c179e\"],[0.4444444444444444,\"#bd3786\"],[0.5555555555555556,\"#d8576b\"],[0.6666666666666666,\"#ed7953\"],[0.7777777777777778,\"#fb9f3a\"],[0.8888888888888888,\"#fdca26\"],[1.0,\"#f0f921\"]],\"type\":\"histogram2dcontour\"}],\"histogram2d\":[{\"colorbar\":{\"outlinewidth\":0,\"ticks\":\"\"},\"colorscale\":[[0.0,\"#0d0887\"],[0.1111111111111111,\"#46039f\"],[0.2222222222222222,\"#7201a8\"],[0.3333333333333333,\"#9c179e\"],[0.4444444444444444,\"#bd3786\"],[0.5555555555555556,\"#d8576b\"],[0.6666666666666666,\"#ed7953\"],[0.7777777777777778,\"#fb9f3a\"],[0.8888888888888888,\"#fdca26\"],[1.0,\"#f0f921\"]],\"type\":\"histogram2d\"}],\"histogram\":[{\"marker\":{\"pattern\":{\"fillmode\":\"overlay\",\"size\":10,\"solidity\":0.2}},\"type\":\"histogram\"}],\"mesh3d\":[{\"colorbar\":{\"outlinewidth\":0,\"ticks\":\"\"},\"type\":\"mesh3d\"}],\"parcoords\":[{\"line\":{\"colorbar\":{\"outlinewidth\":0,\"ticks\":\"\"}},\"type\":\"parcoords\"}],\"pie\":[{\"automargin\":true,\"type\":\"pie\"}],\"scatter3d\":[{\"line\":{\"colorbar\":{\"outlinewidth\":0,\"ticks\":\"\"}},\"marker\":{\"colorbar\":{\"outlinewidth\":0,\"ticks\":\"\"}},\"type\":\"scatter3d\"}],\"scattercarpet\":[{\"marker\":{\"colorbar\":{\"outlinewidth\":0,\"ticks\":\"\"}},\"type\":\"scattercarpet\"}],\"scattergeo\":[{\"marker\":{\"colorbar\":{\"outlinewidth\":0,\"ticks\":\"\"}},\"type\":\"scattergeo\"}],\"scattergl\":[{\"marker\":{\"colorbar\":{\"outlinewidth\":0,\"ticks\":\"\"}},\"type\":\"scattergl\"}],\"scattermapbox\":[{\"marker\":{\"colorbar\":{\"outlinewidth\":0,\"ticks\":\"\"}},\"type\":\"scattermapbox\"}],\"scatterpolargl\":[{\"marker\":{\"colorbar\":{\"outlinewidth\":0,\"ticks\":\"\"}},\"type\":\"scatterpolargl\"}],\"scatterpolar\":[{\"marker\":{\"colorbar\":{\"outlinewidth\":0,\"ticks\":\"\"}},\"type\":\"scatterpolar\"}],\"scatter\":[{\"marker\":{\"colorbar\":{\"outlinewidth\":0,\"ticks\":\"\"}},\"type\":\"scatter\"}],\"scatterternary\":[{\"marker\":{\"colorbar\":{\"outlinewidth\":0,\"ticks\":\"\"}},\"type\":\"scatterternary\"}],\"surface\":[{\"colorbar\":{\"outlinewidth\":0,\"ticks\":\"\"},\"colorscale\":[[0.0,\"#0d0887\"],[0.1111111111111111,\"#46039f\"],[0.2222222222222222,\"#7201a8\"],[0.3333333333333333,\"#9c179e\"],[0.4444444444444444,\"#bd3786\"],[0.5555555555555556,\"#d8576b\"],[0.6666666666666666,\"#ed7953\"],[0.7777777777777778,\"#fb9f3a\"],[0.8888888888888888,\"#fdca26\"],[1.0,\"#f0f921\"]],\"type\":\"surface\"}],\"table\":[{\"cells\":{\"fill\":{\"color\":\"#EBF0F8\"},\"line\":{\"color\":\"white\"}},\"header\":{\"fill\":{\"color\":\"#C8D4E3\"},\"line\":{\"color\":\"white\"}},\"type\":\"table\"}]},\"layout\":{\"annotationdefaults\":{\"arrowcolor\":\"#2a3f5f\",\"arrowhead\":0,\"arrowwidth\":1},\"autotypenumbers\":\"strict\",\"coloraxis\":{\"colorbar\":{\"outlinewidth\":0,\"ticks\":\"\"}},\"colorscale\":{\"diverging\":[[0,\"#8e0152\"],[0.1,\"#c51b7d\"],[0.2,\"#de77ae\"],[0.3,\"#f1b6da\"],[0.4,\"#fde0ef\"],[0.5,\"#f7f7f7\"],[0.6,\"#e6f5d0\"],[0.7,\"#b8e186\"],[0.8,\"#7fbc41\"],[0.9,\"#4d9221\"],[1,\"#276419\"]],\"sequential\":[[0.0,\"#0d0887\"],[0.1111111111111111,\"#46039f\"],[0.2222222222222222,\"#7201a8\"],[0.3333333333333333,\"#9c179e\"],[0.4444444444444444,\"#bd3786\"],[0.5555555555555556,\"#d8576b\"],[0.6666666666666666,\"#ed7953\"],[0.7777777777777778,\"#fb9f3a\"],[0.8888888888888888,\"#fdca26\"],[1.0,\"#f0f921\"]],\"sequentialminus\":[[0.0,\"#0d0887\"],[0.1111111111111111,\"#46039f\"],[0.2222222222222222,\"#7201a8\"],[0.3333333333333333,\"#9c179e\"],[0.4444444444444444,\"#bd3786\"],[0.5555555555555556,\"#d8576b\"],[0.6666666666666666,\"#ed7953\"],[0.7777777777777778,\"#fb9f3a\"],[0.8888888888888888,\"#fdca26\"],[1.0,\"#f0f921\"]]},\"colorway\":[\"#636efa\",\"#EF553B\",\"#00cc96\",\"#ab63fa\",\"#FFA15A\",\"#19d3f3\",\"#FF6692\",\"#B6E880\",\"#FF97FF\",\"#FECB52\"],\"font\":{\"color\":\"#2a3f5f\"},\"geo\":{\"bgcolor\":\"white\",\"lakecolor\":\"white\",\"landcolor\":\"#E5ECF6\",\"showlakes\":true,\"showland\":true,\"subunitcolor\":\"white\"},\"hoverlabel\":{\"align\":\"left\"},\"hovermode\":\"closest\",\"mapbox\":{\"style\":\"light\"},\"paper_bgcolor\":\"white\",\"plot_bgcolor\":\"#E5ECF6\",\"polar\":{\"angularaxis\":{\"gridcolor\":\"white\",\"linecolor\":\"white\",\"ticks\":\"\"},\"bgcolor\":\"#E5ECF6\",\"radialaxis\":{\"gridcolor\":\"white\",\"linecolor\":\"white\",\"ticks\":\"\"}},\"scene\":{\"xaxis\":{\"backgroundcolor\":\"#E5ECF6\",\"gridcolor\":\"white\",\"gridwidth\":2,\"linecolor\":\"white\",\"showbackground\":true,\"ticks\":\"\",\"zerolinecolor\":\"white\"},\"yaxis\":{\"backgroundcolor\":\"#E5ECF6\",\"gridcolor\":\"white\",\"gridwidth\":2,\"linecolor\":\"white\",\"showbackground\":true,\"ticks\":\"\",\"zerolinecolor\":\"white\"},\"zaxis\":{\"backgroundcolor\":\"#E5ECF6\",\"gridcolor\":\"white\",\"gridwidth\":2,\"linecolor\":\"white\",\"showbackground\":true,\"ticks\":\"\",\"zerolinecolor\":\"white\"}},\"shapedefaults\":{\"line\":{\"color\":\"#2a3f5f\"}},\"ternary\":{\"aaxis\":{\"gridcolor\":\"white\",\"linecolor\":\"white\",\"ticks\":\"\"},\"baxis\":{\"gridcolor\":\"white\",\"linecolor\":\"white\",\"ticks\":\"\"},\"bgcolor\":\"#E5ECF6\",\"caxis\":{\"gridcolor\":\"white\",\"linecolor\":\"white\",\"ticks\":\"\"}},\"title\":{\"x\":0.05},\"xaxis\":{\"automargin\":true,\"gridcolor\":\"white\",\"linecolor\":\"white\",\"ticks\":\"\",\"title\":{\"standoff\":15},\"zerolinecolor\":\"white\",\"zerolinewidth\":2},\"yaxis\":{\"automargin\":true,\"gridcolor\":\"white\",\"linecolor\":\"white\",\"ticks\":\"\",\"title\":{\"standoff\":15},\"zerolinecolor\":\"white\",\"zerolinewidth\":2}}}},                        {\"responsive\": true}                    ).then(function(){\n",
       "                            \n",
       "var gd = document.getElementById('77776596-4a63-4e04-b1c5-59697351910d');\n",
       "var x = new MutationObserver(function (mutations, observer) {{\n",
       "        var display = window.getComputedStyle(gd).display;\n",
       "        if (!display || display === 'none') {{\n",
       "            console.log([gd, 'removed!']);\n",
       "            Plotly.purge(gd);\n",
       "            observer.disconnect();\n",
       "        }}\n",
       "}});\n",
       "\n",
       "// Listen for the removal of the full notebook cells\n",
       "var notebookContainer = gd.closest('#notebook-container');\n",
       "if (notebookContainer) {{\n",
       "    x.observe(notebookContainer, {childList: true});\n",
       "}}\n",
       "\n",
       "// Listen for the clearing of the current output cell\n",
       "var outputEl = gd.closest('.output');\n",
       "if (outputEl) {{\n",
       "    x.observe(outputEl, {childList: true});\n",
       "}}\n",
       "\n",
       "                        })                };                });            </script>        </div>"
      ]
     },
     "metadata": {},
     "output_type": "display_data"
    },
    {
     "data": {
      "text/html": [
       "<div>\n",
       "<style scoped>\n",
       "    .dataframe tbody tr th:only-of-type {\n",
       "        vertical-align: middle;\n",
       "    }\n",
       "\n",
       "    .dataframe tbody tr th {\n",
       "        vertical-align: top;\n",
       "    }\n",
       "\n",
       "    .dataframe thead th {\n",
       "        text-align: right;\n",
       "    }\n",
       "</style>\n",
       "<table border=\"1\" class=\"dataframe\">\n",
       "  <thead>\n",
       "    <tr style=\"text-align: right;\">\n",
       "      <th></th>\n",
       "      <th>Model</th>\n",
       "      <th>Score</th>\n",
       "      <th>Model</th>\n",
       "      <th>Score</th>\n",
       "      <th>Model</th>\n",
       "      <th>Score</th>\n",
       "    </tr>\n",
       "  </thead>\n",
       "  <tbody>\n",
       "    <tr>\n",
       "      <th>0</th>\n",
       "      <td>LR</td>\n",
       "      <td>0.9035</td>\n",
       "      <td>standardLR</td>\n",
       "      <td>0.9033</td>\n",
       "      <td>robustLR</td>\n",
       "      <td>0.9030</td>\n",
       "    </tr>\n",
       "    <tr>\n",
       "      <th>1</th>\n",
       "      <td>LDA</td>\n",
       "      <td>0.8991</td>\n",
       "      <td>standardLDA</td>\n",
       "      <td>0.8991</td>\n",
       "      <td>robustLDA</td>\n",
       "      <td>0.8991</td>\n",
       "    </tr>\n",
       "    <tr>\n",
       "      <th>2</th>\n",
       "      <td>KNN</td>\n",
       "      <td>0.9124</td>\n",
       "      <td>standardKNN</td>\n",
       "      <td>0.9357</td>\n",
       "      <td>robustKNN</td>\n",
       "      <td>0.9301</td>\n",
       "    </tr>\n",
       "    <tr>\n",
       "      <th>3</th>\n",
       "      <td>CART</td>\n",
       "      <td>0.9458</td>\n",
       "      <td>standardCART</td>\n",
       "      <td>0.9458</td>\n",
       "      <td>robustCART</td>\n",
       "      <td>0.9475</td>\n",
       "    </tr>\n",
       "    <tr>\n",
       "      <th>4</th>\n",
       "      <td>NB</td>\n",
       "      <td>0.8962</td>\n",
       "      <td>standardNB</td>\n",
       "      <td>0.8962</td>\n",
       "      <td>robustNB</td>\n",
       "      <td>0.8962</td>\n",
       "    </tr>\n",
       "    <tr>\n",
       "      <th>5</th>\n",
       "      <td>SVM</td>\n",
       "      <td>0.9086</td>\n",
       "      <td>standardSVM</td>\n",
       "      <td>0.9536</td>\n",
       "      <td>robustSVM</td>\n",
       "      <td>0.9453</td>\n",
       "    </tr>\n",
       "    <tr>\n",
       "      <th>6</th>\n",
       "      <td>ADA</td>\n",
       "      <td>0.9582</td>\n",
       "      <td>standardAB</td>\n",
       "      <td>0.9582</td>\n",
       "      <td>robustAB</td>\n",
       "      <td>0.9582</td>\n",
       "    </tr>\n",
       "    <tr>\n",
       "      <th>7</th>\n",
       "      <td>GBM</td>\n",
       "      <td>0.9627</td>\n",
       "      <td>standardGBM</td>\n",
       "      <td>0.9630</td>\n",
       "      <td>robustGBM</td>\n",
       "      <td>0.9627</td>\n",
       "    </tr>\n",
       "    <tr>\n",
       "      <th>8</th>\n",
       "      <td>RF</td>\n",
       "      <td>0.9673</td>\n",
       "      <td>standardRF</td>\n",
       "      <td>0.9652</td>\n",
       "      <td>robustRF</td>\n",
       "      <td>0.9664</td>\n",
       "    </tr>\n",
       "    <tr>\n",
       "      <th>9</th>\n",
       "      <td>ET</td>\n",
       "      <td>0.9719</td>\n",
       "      <td>standardET</td>\n",
       "      <td>0.9724</td>\n",
       "      <td>robustET</td>\n",
       "      <td>0.9722</td>\n",
       "    </tr>\n",
       "    <tr>\n",
       "      <th>10</th>\n",
       "      <td>Bagging</td>\n",
       "      <td>0.9606</td>\n",
       "      <td>standardBagging</td>\n",
       "      <td>0.9552</td>\n",
       "      <td>robustBagging</td>\n",
       "      <td>0.9577</td>\n",
       "    </tr>\n",
       "    <tr>\n",
       "      <th>11</th>\n",
       "      <td>XGBoost</td>\n",
       "      <td>0.9620</td>\n",
       "      <td>standardXGBoost</td>\n",
       "      <td>0.9620</td>\n",
       "      <td>robustXGBoost</td>\n",
       "      <td>0.9620</td>\n",
       "    </tr>\n",
       "  </tbody>\n",
       "</table>\n",
       "</div>"
      ],
      "text/plain": [
       "      Model   Score            Model   Score          Model   Score\n",
       "0        LR  0.9035       standardLR  0.9033       robustLR  0.9030\n",
       "1       LDA  0.8991      standardLDA  0.8991      robustLDA  0.8991\n",
       "2       KNN  0.9124      standardKNN  0.9357      robustKNN  0.9301\n",
       "3      CART  0.9458     standardCART  0.9458     robustCART  0.9475\n",
       "4        NB  0.8962       standardNB  0.8962       robustNB  0.8962\n",
       "5       SVM  0.9086      standardSVM  0.9536      robustSVM  0.9453\n",
       "6       ADA  0.9582       standardAB  0.9582       robustAB  0.9582\n",
       "7       GBM  0.9627      standardGBM  0.9630      robustGBM  0.9627\n",
       "8        RF  0.9673       standardRF  0.9652       robustRF  0.9664\n",
       "9        ET  0.9719       standardET  0.9724       robustET  0.9722\n",
       "10  Bagging  0.9606  standardBagging  0.9552  robustBagging  0.9577\n",
       "11  XGBoost  0.9620  standardXGBoost  0.9620  robustXGBoost  0.9620"
      ]
     },
     "execution_count": 18,
     "metadata": {},
     "output_type": "execute_result"
    }
   ],
   "source": [
    "models = GetScaledModel('robust')\n",
    "names,results = BasedLine2(X_train, y_train,models)\n",
    "PlotBoxR().PlotResult(names,results)\n",
    "\n",
    "scaledScoreMinMax = ScoreDataFrame(names,results)\n",
    "compareModels = pd.concat([basedLineScore,\n",
    "                           scaledScoreStandard,\n",
    "                          scaledScoreMinMax], axis=1)\n",
    "compareModels"
   ]
  },
  {
   "cell_type": "code",
   "execution_count": 19,
   "id": "0347a2aa",
   "metadata": {},
   "outputs": [],
   "source": [
    "# Scaling\n",
    "from sklearn.preprocessing import RobustScaler\n",
    "\n",
    "robust = RobustScaler()\n",
    "X_train_std = robust.fit_transform(X_train)\n",
    "X_test_std = robust.transform(X_test)"
   ]
  },
  {
   "cell_type": "code",
   "execution_count": 70,
   "id": "ef8caa29",
   "metadata": {},
   "outputs": [
    {
     "data": {
      "image/png": "[encoded data removed]",
      "text/plain": [
       "<Figure size 1080x720 with 1 Axes>"
      ]
     },
     "metadata": {},
     "output_type": "display_data"
    }
   ],
   "source": [
    "clf = ExtraTreesClassifier(n_estimators=250,\n",
    "                              random_state=42)\n",
    "\n",
    "clf.fit(X_train_std, y_train)\n",
    "\n",
    "# #############################################################################\n",
    "from matplotlib import pyplot as plt\n",
    "\n",
    "# Plot feature importance\n",
    "fig = plt.figure(figsize=(15,10))\n",
    "\n",
    "\n",
    "feature_importance = clf.feature_importances_\n",
    "# make importances relative to max importance\n",
    "feature_importance = 100.0 * (feature_importance / feature_importance.max())\n",
    "sorted_idx = np.argsort(feature_importance)\n",
    "pos = np.arange(sorted_idx.shape[0]) + .5\n",
    "plt.subplot(1, 2, 2)\n",
    "plt.barh(pos, feature_importance[sorted_idx], align='center')\n",
    "plt.yticks(pos, X_train.columns[sorted_idx]) #boston.feature_names[sorted_idx])\n",
    "plt.xlabel('Relative Importance')\n",
    "plt.title('Variable Importance')\n",
    "plt.savefig('variable_importance.png')\n",
    "plt.show()\n"
   ]
  },
  {
   "cell_type": "markdown",
   "id": "a6771c91",
   "metadata": {},
   "source": [
    "# 3. Cross-Validation and Hyper Parameters Tuning"
   ]
  },
  {
   "cell_type": "code",
   "execution_count": 21,
   "id": "117955ec",
   "metadata": {},
   "outputs": [],
   "source": [
    "def plot_matrics(y_pred):    \n",
    "    \n",
    "    #y_pred = pipeline.predict(X_test)\n",
    "    from sklearn import metrics\n",
    "    from sklearn.metrics import roc_auc_score,precision_recall_curve,roc_curve\n",
    "    from sklearn.metrics import confusion_matrix\n",
    "    from sklearn.metrics import accuracy_score\n",
    "\n",
    "    print('Accuracy:', np.round(metrics.accuracy_score(y_test, y_pred),4))\n",
    "    print('Precision:', np.round(metrics.precision_score(y_test, y_pred,average='weighted'),4))\n",
    "    print('Recall:', np.round(metrics.recall_score(y_test, y_pred,\n",
    "                                               average='weighted'),4))\n",
    "    print('F1 Score:', np.round(metrics.f1_score(y_test, y_pred,\n",
    "                                               average='weighted'),4))\n",
    "    print('Cohen Kappa Score:', np.round(metrics.cohen_kappa_score(y_test, y_pred),4))\n",
    "    print('Matthews Corrcoef:', np.round(metrics.matthews_corrcoef(y_test, y_pred),4)) \n",
    "\n",
    "    from sklearn.metrics import roc_auc_score\n",
    "    print(\"roc_auc_score:\", roc_auc_score(y_test, y_pred, average=None))\n",
    "\n",
    "    print('\\t\\tClassification Report:\\n', metrics.classification_report(y_pred,y_test))\n",
    "\n",
    "\n",
    "    from sklearn.metrics import confusion_matrix\n",
    "    print(\"Confusion Matrix:\\n\",confusion_matrix(y_test, y_pred))\n",
    "\n",
    "\n",
    "    #Plot Confusion Matrix\n",
    "    from sklearn.metrics import confusion_matrix\n",
    "    from io import BytesIO #neded for plot\n",
    "    import seaborn as sns; sns.set()\n",
    "    import matplotlib.pyplot as plt\n",
    "\n",
    "    mat = confusion_matrix(y_test, y_pred)\n",
    "    sns.heatmap(mat.T, square=True, annot=True, fmt='d', cbar=False)\n",
    "\n",
    "\n",
    "    plt.xlabel('true label')\n",
    "    plt.ylabel('predicted label');\n",
    "\n",
    "    plt.savefig(\"Confusion.jpg\")\n",
    "    # Save SVG in a fake file object.\n",
    "    f = BytesIO()\n",
    "    plt.savefig(f, format=\"svg\")"
   ]
  },
  {
   "cell_type": "code",
   "execution_count": 22,
   "id": "d4115dad",
   "metadata": {},
   "outputs": [],
   "source": [
    "from sklearn.model_selection import GridSearchCV, RandomizedSearchCV\n",
    "from scipy.stats import uniform"
   ]
  },
  {
   "cell_type": "code",
   "execution_count": 23,
   "id": "6d7d5708",
   "metadata": {},
   "outputs": [],
   "source": [
    "class RandomSearch(object):\n",
    "    \n",
    "    def __init__(self,X_train,y_train,model,hyperparameters):\n",
    "        \n",
    "        self.X_train = X_train\n",
    "        self.y_train = y_train\n",
    "        self.model = model\n",
    "        self.hyperparameters = hyperparameters\n",
    "        \n",
    "    def RandomSearch(self):\n",
    "        # Create randomized search 10-fold cross validation and 100 iterations\n",
    "        cv = 10\n",
    "        clf = RandomizedSearchCV(self.model,\n",
    "                                 self.hyperparameters,\n",
    "                                 random_state=1,\n",
    "                                 n_iter=100,\n",
    "                                 cv=cv,\n",
    "                                 verbose=0,\n",
    "                                 n_jobs=-1,\n",
    "                                 )\n",
    "        # Fit randomized search\n",
    "        best_model = clf.fit(self.X_train, self.y_train)\n",
    "        message = (best_model.best_score_, best_model.best_params_)\n",
    "        print(\"Best: %f using %s\" % (message))\n",
    "\n",
    "        return best_model,best_model.best_params_\n",
    "    \n",
    "    def BestModelPridict(self,X_test):\n",
    "        \n",
    "        best_model,_ = self.RandomSearch()\n",
    "        pred = best_model.predict(X_test)\n",
    "        return pred\n",
    "    \n",
    "\n"
   ]
  },
  {
   "cell_type": "code",
   "execution_count": 24,
   "id": "f1da5429",
   "metadata": {},
   "outputs": [],
   "source": [
    "class GridSearch(object):\n",
    "    \n",
    "    def __init__(self,X_train,y_train,model,hyperparameters):\n",
    "        \n",
    "        self.X_train = X_train\n",
    "        self.y_train = y_train\n",
    "        self.model = model\n",
    "        self.hyperparameters = hyperparameters\n",
    "        \n",
    "    def GridSearch(self):\n",
    "        # Create randomized search 10-fold cross validation and 100 iterations\n",
    "        cv = 10\n",
    "        clf = GridSearchCV(self.model,\n",
    "                                 self.hyperparameters,\n",
    "                                 cv=cv,\n",
    "                                 verbose=0,\n",
    "                                 n_jobs=-1,\n",
    "                                 )\n",
    "        # Fit randomized search\n",
    "        best_model = clf.fit(self.X_train, self.y_train)\n",
    "        message = (best_model.best_score_, best_model.best_params_)\n",
    "        print(\"Best: %f using %s\" % (message))\n",
    "\n",
    "        return best_model,best_model.best_params_\n",
    "    \n",
    "    def BestModelPridict(self,X_test):\n",
    "        \n",
    "        best_model,_ = self.GridSearch()\n",
    "        pred = best_model.predict(X_test)\n",
    "        return pred"
   ]
  },
  {
   "cell_type": "code",
   "execution_count": 25,
   "id": "a177b9a1",
   "metadata": {},
   "outputs": [],
   "source": [
    "def feature_importance_plot(model):\n",
    "    # Plot feature importance\n",
    "    fig = plt.figure(figsize=(15,10))\n",
    "\n",
    "    feature_importance = model.feature_importances_\n",
    "    # make importances relative to max importance\n",
    "    feature_importance = 100.0 * (feature_importance / feature_importance.max())\n",
    "    sorted_idx = np.argsort(feature_importance)\n",
    "    pos = np.arange(sorted_idx.shape[0]) + .5\n",
    "    plt.subplot(1, 2, 2)\n",
    "    plt.barh(pos, feature_importance[sorted_idx], align='center')\n",
    "    plt.yticks(pos, X_train.columns[sorted_idx]) #boston.feature_names[sorted_idx])\n",
    "    plt.xlabel('Relative Importance')\n",
    "    plt.title('Variable Importance')\n",
    "    plt.show()"
   ]
  },
  {
   "cell_type": "markdown",
   "id": "def2a9f0",
   "metadata": {},
   "source": [
    "## Logistic Regression\n",
    "\n",
    "C : Regularization value, the more, the stronger the regularization(double).\n",
    "\n",
    "\n",
    "RegularizationType: Can be either \"L2\" or “L1”. Default is “L2”."
   ]
  },
  {
   "cell_type": "code",
   "execution_count": 26,
   "id": "83a8fe93",
   "metadata": {},
   "outputs": [],
   "source": [
    "# model\n",
    "model = LogisticRegression(max_iter= 1000)\n",
    "# Create regularization penalty space\n",
    "penalty = [ 'l2'] # 'l1',\n",
    "\n",
    "# Create regularization hyperparameter distribution using uniform distribution\n",
    "C = uniform(loc=0, scale=4)\n",
    "\n",
    "# Create hyperparameter options\n",
    "hyperparameters = dict(C=C, penalty=penalty)"
   ]
  },
  {
   "cell_type": "code",
   "execution_count": 27,
   "id": "217d3772",
   "metadata": {},
   "outputs": [
    {
     "name": "stdout",
     "output_type": "stream",
     "text": [
      "Best: 0.904691 using {'C': 0.10955037279170465, 'penalty': 'l2'}\n"
     ]
    }
   ],
   "source": [
    "LR_RandSearch = RandomSearch(X_train_std,y_train, model,hyperparameters)\n",
    "# LR_best_model,LR_best_params = LR_RandSearch.RandomSearch()\n",
    "Prediction_LR = LR_RandSearch.BestModelPridict(X_test_std)"
   ]
  },
  {
   "cell_type": "code",
   "execution_count": 28,
   "id": "286b8cbd",
   "metadata": {},
   "outputs": [],
   "source": [
    "def floatingDecimals(f_val, dec=3):\n",
    "        prc = \"{:.\"+str(dec)+\"f}\" #first cast decimal as str\n",
    "    #     print(prc) #str format output is {:.3f}\n",
    "        return float(prc.format(f_val))"
   ]
  },
  {
   "cell_type": "code",
   "execution_count": 29,
   "id": "5904dd60",
   "metadata": {},
   "outputs": [
    {
     "name": "stdout",
     "output_type": "stream",
     "text": [
      "prediction on test set is: 0.8995485\n"
     ]
    }
   ],
   "source": [
    "print('prediction on test set is:' ,floatingDecimals((y_test == Prediction_LR).mean(),7))"
   ]
  },
  {
   "cell_type": "code",
   "execution_count": 30,
   "id": "76b8942d",
   "metadata": {},
   "outputs": [
    {
     "name": "stdout",
     "output_type": "stream",
     "text": [
      "Accuracy: 0.8995\n",
      "Precision: 0.8998\n",
      "Recall: 0.8995\n",
      "F1 Score: 0.8996\n",
      "Cohen Kappa Score: 0.7991\n",
      "Matthews Corrcoef: 0.7994\n",
      "roc_auc_score: 0.8997593899106886\n",
      "\t\tClassification Report:\n",
      "               precision    recall  f1-score   support\n",
      "\n",
      "         0.0       0.89      0.91      0.90       882\n",
      "         1.0       0.91      0.89      0.90       890\n",
      "\n",
      "    accuracy                           0.90      1772\n",
      "   macro avg       0.90      0.90      0.90      1772\n",
      "weighted avg       0.90      0.90      0.90      1772\n",
      "\n",
      "Confusion Matrix:\n",
      " [[804 100]\n",
      " [ 78 790]]\n"
     ]
    },
    {
     "data": {
      "image/png": "[encoded data removed]",
      "text/plain": [
       "<Figure size 432x288 with 1 Axes>"
      ]
     },
     "metadata": {},
     "output_type": "display_data"
    }
   ],
   "source": [
    "plot_matrics(Prediction_LR)"
   ]
  },
  {
   "cell_type": "markdown",
   "id": "4d1891a8",
   "metadata": {},
   "source": [
    "## KNN\n",
    "\n",
    "n_neighbors: Number of neighbors to use by default for k_neighbors queries\n",
    "\n"
   ]
  },
  {
   "cell_type": "code",
   "execution_count": 31,
   "id": "02e2fdbc",
   "metadata": {},
   "outputs": [],
   "source": [
    "model_KNN = KNeighborsClassifier()\n",
    "\n",
    "neighbors = [1,2,3,4,5,6,7,8,9,10,11,12,13,14,15,16,17,18,19,20]\n",
    "param_grid = dict(n_neighbors=neighbors)"
   ]
  },
  {
   "cell_type": "code",
   "execution_count": 32,
   "id": "b4dddddd",
   "metadata": {},
   "outputs": [
    {
     "name": "stdout",
     "output_type": "stream",
     "text": [
      "Best: 0.959362 using {'n_neighbors': 2}\n",
      "prediction on test set is: 0.9610609\n"
     ]
    }
   ],
   "source": [
    "KNN_GridSearch = GridSearch(X_train_std,y_train,model_KNN,param_grid)\n",
    "Prediction_KNN = KNN_GridSearch.BestModelPridict(X_test_std)\n",
    "print('prediction on test set is:' ,floatingDecimals((y_test == Prediction_KNN).mean(),7))"
   ]
  },
  {
   "cell_type": "code",
   "execution_count": 33,
   "id": "efb36161",
   "metadata": {
    "scrolled": true
   },
   "outputs": [
    {
     "name": "stdout",
     "output_type": "stream",
     "text": [
      "Accuracy: 0.9611\n",
      "Precision: 0.9638\n",
      "Recall: 0.9611\n",
      "F1 Score: 0.961\n",
      "Cohen Kappa Score: 0.9222\n",
      "Matthews Corrcoef: 0.9249\n",
      "roc_auc_score: 0.961813343664614\n",
      "\t\tClassification Report:\n",
      "               precision    recall  f1-score   support\n",
      "\n",
      "         0.0       0.92      1.00      0.96       837\n",
      "         1.0       1.00      0.93      0.96       935\n",
      "\n",
      "    accuracy                           0.96      1772\n",
      "   macro avg       0.96      0.96      0.96      1772\n",
      "weighted avg       0.96      0.96      0.96      1772\n",
      "\n",
      "Confusion Matrix:\n",
      " [[836  68]\n",
      " [  1 867]]\n"
     ]
    },
    {
     "data": {
      "image/png": "[encoded data removed]",
      "text/plain": [
       "<Figure size 432x288 with 1 Axes>"
      ]
     },
     "metadata": {},
     "output_type": "display_data"
    }
   ],
   "source": [
    "plot_matrics(Prediction_KNN)"
   ]
  },
  {
   "cell_type": "markdown",
   "id": "7bd8522e",
   "metadata": {},
   "source": [
    "## SVC\n",
    "C: The Penalty parameter C of the error term.\n",
    "\n",
    "Kernel: Kernel type could be linear, poly, rbf or sigmoid."
   ]
  },
  {
   "cell_type": "code",
   "execution_count": 34,
   "id": "de0702c6",
   "metadata": {},
   "outputs": [],
   "source": [
    "#c_values = [0.1, 0.3, 0.5, 0.7, 0.9, 1.0, 1.3, 1.5, 1.7, 2.0]\n",
    "c_values = [50, 100, 200]\n",
    "\n",
    "\n",
    "kernel_values = [ 'linear' , 'poly' , 'rbf' , 'sigmoid' ]\n",
    "param_grid = dict(C=c_values, kernel=kernel_values)\n",
    "model_SVC = SVC()"
   ]
  },
  {
   "cell_type": "code",
   "execution_count": 35,
   "id": "fc37c6ca",
   "metadata": {},
   "outputs": [
    {
     "name": "stdout",
     "output_type": "stream",
     "text": [
      "Best: 0.970732 using {'C': 50, 'kernel': 'rbf'}\n",
      "prediction on test set is: 0.9650113\n"
     ]
    }
   ],
   "source": [
    "SVC_GridSearch = GridSearch(X_train_std,y_train,model_SVC,param_grid)\n",
    "Prediction_SVC = SVC_GridSearch.BestModelPridict(X_test_std)\n",
    "print('prediction on test set is:' ,floatingDecimals((y_test == Prediction_SVC).mean(),7))"
   ]
  },
  {
   "cell_type": "code",
   "execution_count": 36,
   "id": "3c6310f5",
   "metadata": {},
   "outputs": [
    {
     "name": "stdout",
     "output_type": "stream",
     "text": [
      "Accuracy: 0.965\n",
      "Precision: 0.9668\n",
      "Recall: 0.965\n",
      "F1 Score: 0.965\n",
      "Cohen Kappa Score: 0.9301\n",
      "Matthews Corrcoef: 0.9318\n",
      "roc_auc_score: 0.9656162065168631\n",
      "\t\tClassification Report:\n",
      "               precision    recall  f1-score   support\n",
      "\n",
      "         0.0       0.94      1.00      0.96       850\n",
      "         1.0       1.00      0.94      0.97       922\n",
      "\n",
      "    accuracy                           0.97      1772\n",
      "   macro avg       0.97      0.97      0.97      1772\n",
      "weighted avg       0.97      0.97      0.97      1772\n",
      "\n",
      "Confusion Matrix:\n",
      " [[846  58]\n",
      " [  4 864]]\n"
     ]
    },
    {
     "data": {
      "image/png": "[encoded data removed]",
      "text/plain": [
       "<Figure size 432x288 with 1 Axes>"
      ]
     },
     "metadata": {},
     "output_type": "display_data"
    }
   ],
   "source": [
    "plot_matrics(Prediction_SVC)"
   ]
  },
  {
   "cell_type": "markdown",
   "id": "92e22518",
   "metadata": {},
   "source": [
    "## Decision Tree\n",
    "\n",
    "max_depth: Maximum depth of the tree (double).\n",
    "\n",
    "row_subsample: Proportion of observations to consider (double).\n",
    "\n",
    "max_features: Proportion of columns (features) to consider in each level (double)."
   ]
  },
  {
   "cell_type": "code",
   "execution_count": 37,
   "id": "f1092f31",
   "metadata": {},
   "outputs": [],
   "source": [
    "from scipy.stats import randint\n",
    "max_depth_value = [3, None]\n",
    "max_features_value =  randint(1, 4)\n",
    "min_samples_leaf_value = randint(1, 4)\n",
    "criterion_value = [\"gini\", \"entropy\"]"
   ]
  },
  {
   "cell_type": "code",
   "execution_count": 38,
   "id": "568e493d",
   "metadata": {},
   "outputs": [],
   "source": [
    "param_grid = dict(max_depth = max_depth_value,\n",
    "                  max_features = max_features_value,\n",
    "                  min_samples_leaf = min_samples_leaf_value,\n",
    "                  criterion = criterion_value)"
   ]
  },
  {
   "cell_type": "code",
   "execution_count": 39,
   "id": "bd7e0807",
   "metadata": {},
   "outputs": [
    {
     "name": "stdout",
     "output_type": "stream",
     "text": [
      "Best: 0.948238 using {'criterion': 'gini', 'max_depth': None, 'max_features': 3, 'min_samples_leaf': 1}\n",
      "prediction on test set is: 0.9463883\n"
     ]
    }
   ],
   "source": [
    "model_CART = DecisionTreeClassifier()\n",
    "CART_RandSearch = RandomSearch(X_train_std,y_train,model_CART,param_grid)\n",
    "Prediction_CART = CART_RandSearch.BestModelPridict(X_test_std)\n",
    "print('prediction on test set is:' ,floatingDecimals((y_test == Prediction_CART).mean(),7))"
   ]
  },
  {
   "cell_type": "code",
   "execution_count": 40,
   "id": "d8d222bc",
   "metadata": {
    "scrolled": false
   },
   "outputs": [
    {
     "name": "stdout",
     "output_type": "stream",
     "text": [
      "Accuracy: 0.9464\n",
      "Precision: 0.9464\n",
      "Recall: 0.9464\n",
      "F1 Score: 0.9464\n",
      "Cohen Kappa Score: 0.8927\n",
      "Matthews Corrcoef: 0.8927\n",
      "roc_auc_score: 0.9463546551935076\n",
      "\t\tClassification Report:\n",
      "               precision    recall  f1-score   support\n",
      "\n",
      "         0.0       0.95      0.95      0.95       905\n",
      "         1.0       0.94      0.95      0.95       867\n",
      "\n",
      "    accuracy                           0.95      1772\n",
      "   macro avg       0.95      0.95      0.95      1772\n",
      "weighted avg       0.95      0.95      0.95      1772\n",
      "\n",
      "Confusion Matrix:\n",
      " [[857  47]\n",
      " [ 48 820]]\n"
     ]
    },
    {
     "data": {
      "image/png": "[encoded data removed]",
      "text/plain": [
       "<Figure size 432x288 with 1 Axes>"
      ]
     },
     "metadata": {},
     "output_type": "display_data"
    }
   ],
   "source": [
    "plot_matrics(Prediction_CART)"
   ]
  },
  {
   "cell_type": "markdown",
   "id": "005b3b7e",
   "metadata": {},
   "source": [
    "## AdaBoostClassifier\n",
    "\n",
    "learning_rate: Learning rate shrinks the contribution of each classifier by learning_rate.\n",
    "\n",
    "n_estimators: Number of trees to build."
   ]
  },
  {
   "cell_type": "code",
   "execution_count": 41,
   "id": "e289ccb4",
   "metadata": {},
   "outputs": [],
   "source": [
    "learning_rate_value = [.01,.05,.1,.5,1]\n",
    "n_estimators_value = [50,100,150,200,250,300]\n",
    "\n",
    "param_grid = dict(learning_rate=learning_rate_value, n_estimators=n_estimators_value)"
   ]
  },
  {
   "cell_type": "code",
   "execution_count": 42,
   "id": "7eb45563",
   "metadata": {},
   "outputs": [
    {
     "name": "stdout",
     "output_type": "stream",
     "text": [
      "Best: 0.963478 using {'learning_rate': 0.5, 'n_estimators': 250}\n",
      "prediction on test set is: 0.9621896\n"
     ]
    }
   ],
   "source": [
    "model_Ad = AdaBoostClassifier()\n",
    "Ad_GridSearch = GridSearch(X_train_std ,y_train, model_Ad, param_grid)\n",
    "Prediction_Ad = Ad_GridSearch.BestModelPridict(X_test_std)\n",
    "print('prediction on test set is:' ,floatingDecimals((y_test == Prediction_Ad).mean(),7))"
   ]
  },
  {
   "cell_type": "code",
   "execution_count": 43,
   "id": "a40c287d",
   "metadata": {
    "scrolled": false
   },
   "outputs": [
    {
     "name": "stdout",
     "output_type": "stream",
     "text": [
      "Accuracy: 0.9622\n",
      "Precision: 0.9622\n",
      "Recall: 0.9622\n",
      "F1 Score: 0.9622\n",
      "Cohen Kappa Score: 0.9243\n",
      "Matthews Corrcoef: 0.9243\n",
      "roc_auc_score: 0.9621395946331716\n",
      "\t\tClassification Report:\n",
      "               precision    recall  f1-score   support\n",
      "\n",
      "         0.0       0.96      0.96      0.96       907\n",
      "         1.0       0.96      0.96      0.96       865\n",
      "\n",
      "    accuracy                           0.96      1772\n",
      "   macro avg       0.96      0.96      0.96      1772\n",
      "weighted avg       0.96      0.96      0.96      1772\n",
      "\n",
      "Confusion Matrix:\n",
      " [[872  32]\n",
      " [ 35 833]]\n"
     ]
    },
    {
     "data": {
      "image/png": "[encoded data removed]",
      "text/plain": [
       "<Figure size 432x288 with 1 Axes>"
      ]
     },
     "metadata": {},
     "output_type": "display_data"
    }
   ],
   "source": [
    "plot_matrics(Prediction_Ad)"
   ]
  },
  {
   "cell_type": "markdown",
   "id": "633ca07a",
   "metadata": {},
   "source": [
    "# GradientBoosting"
   ]
  },
  {
   "cell_type": "code",
   "execution_count": 44,
   "id": "46156de9",
   "metadata": {},
   "outputs": [],
   "source": [
    "learning_rate_value = [.01,.05,.1,.5,1]\n",
    "n_estimators_value = [50,100,150,200,250,300]\n",
    "\n",
    "param_grid = dict(learning_rate=learning_rate_value, n_estimators=n_estimators_value)"
   ]
  },
  {
   "cell_type": "code",
   "execution_count": 45,
   "id": "1c59d80c",
   "metadata": {},
   "outputs": [
    {
     "name": "stdout",
     "output_type": "stream",
     "text": [
      "Best: 0.964201 using {'learning_rate': 0.1, 'n_estimators': 100}\n",
      "prediction on test set is: 0.9621896\n"
     ]
    }
   ],
   "source": [
    "model_GB = GradientBoostingClassifier()\n",
    "GB_GridSearch = GridSearch(X_train_std,y_train,model_GB,param_grid)\n",
    "Prediction_GB = GB_GridSearch.BestModelPridict(X_test_std)\n",
    "print('prediction on test set is:' ,floatingDecimals((y_test == Prediction_GB).mean(),7))"
   ]
  },
  {
   "cell_type": "code",
   "execution_count": 46,
   "id": "0d22ab08",
   "metadata": {},
   "outputs": [
    {
     "name": "stdout",
     "output_type": "stream",
     "text": [
      "Accuracy: 0.9622\n",
      "Precision: 0.9622\n",
      "Recall: 0.9622\n",
      "F1 Score: 0.9622\n",
      "Cohen Kappa Score: 0.9243\n",
      "Matthews Corrcoef: 0.9244\n",
      "roc_auc_score: 0.962185473675625\n",
      "\t\tClassification Report:\n",
      "               precision    recall  f1-score   support\n",
      "\n",
      "         0.0       0.96      0.96      0.96       903\n",
      "         1.0       0.96      0.96      0.96       869\n",
      "\n",
      "    accuracy                           0.96      1772\n",
      "   macro avg       0.96      0.96      0.96      1772\n",
      "weighted avg       0.96      0.96      0.96      1772\n",
      "\n",
      "Confusion Matrix:\n",
      " [[870  34]\n",
      " [ 33 835]]\n"
     ]
    },
    {
     "data": {
      "image/png": "[encoded data removed]",
      "text/plain": [
       "<Figure size 432x288 with 1 Axes>"
      ]
     },
     "metadata": {},
     "output_type": "display_data"
    }
   ],
   "source": [
    "plot_matrics(Prediction_GB)"
   ]
  },
  {
   "cell_type": "markdown",
   "id": "0abde47d",
   "metadata": {},
   "source": [
    "## Extra tree"
   ]
  },
  {
   "cell_type": "code",
   "execution_count": 47,
   "id": "32ebeef6",
   "metadata": {},
   "outputs": [],
   "source": [
    "n_estimators= [10, 50, 100, 500, 1000]\n",
    "criterion = [\"gini\", \"entropy\"]\n",
    "max_depth = [ 10, 15, 20]\n",
    "param_grid = dict(n_estimators=n_estimators_value,\n",
    "                  criterion = criterion,\n",
    "                  max_depth = max_depth  \n",
    "                 )"
   ]
  },
  {
   "cell_type": "code",
   "execution_count": 48,
   "id": "1fb58b55",
   "metadata": {},
   "outputs": [
    {
     "name": "stdout",
     "output_type": "stream",
     "text": [
      "Best: 0.974362 using {'criterion': 'gini', 'max_depth': 20, 'n_estimators': 150}\n",
      "prediction on test set is: 0.9621896\n"
     ]
    }
   ],
   "source": [
    "model_ET = ExtraTreesClassifier()\n",
    "ET_GridSearch = GridSearch(X_train_std,y_train,model_ET,param_grid)\n",
    "Prediction_ET = ET_GridSearch.BestModelPridict(X_test_std)\n",
    "print('prediction on test set is:' ,floatingDecimals((y_test == Prediction_GB).mean(),7))"
   ]
  },
  {
   "cell_type": "code",
   "execution_count": 49,
   "id": "6deeb624",
   "metadata": {},
   "outputs": [
    {
     "name": "stdout",
     "output_type": "stream",
     "text": [
      "Accuracy: 0.9701\n",
      "Precision: 0.9703\n",
      "Recall: 0.9701\n",
      "F1 Score: 0.9701\n",
      "Cohen Kappa Score: 0.9402\n",
      "Matthews Corrcoef: 0.9404\n",
      "roc_auc_score: 0.9702729293258839\n",
      "\t\tClassification Report:\n",
      "               precision    recall  f1-score   support\n",
      "\n",
      "         0.0       0.96      0.98      0.97       887\n",
      "         1.0       0.98      0.96      0.97       885\n",
      "\n",
      "    accuracy                           0.97      1772\n",
      "   macro avg       0.97      0.97      0.97      1772\n",
      "weighted avg       0.97      0.97      0.97      1772\n",
      "\n",
      "Confusion Matrix:\n",
      " [[869  35]\n",
      " [ 18 850]]\n"
     ]
    },
    {
     "data": {
      "image/png": "[encoded data removed]",
      "text/plain": [
       "<Figure size 432x288 with 1 Axes>"
      ]
     },
     "metadata": {},
     "output_type": "display_data"
    }
   ],
   "source": [
    "plot_matrics(Prediction_ET)"
   ]
  },
  {
   "cell_type": "markdown",
   "id": "8734197c",
   "metadata": {},
   "source": [
    "# XGBoost"
   ]
  },
  {
   "cell_type": "code",
   "execution_count": 50,
   "id": "37936209",
   "metadata": {},
   "outputs": [],
   "source": [
    "param_grid = {\n",
    "    'max_depth': range (2, 10, 1),\n",
    "    'n_estimators': range(60, 220, 40),\n",
    "    'learning_rate': [0.1, 0.01, 0.05],\n",
    "    'colsample_bytree': [0.3, 0.7]\n",
    "}\n",
    "\n"
   ]
  },
  {
   "cell_type": "code",
   "execution_count": 51,
   "id": "b24608a6",
   "metadata": {},
   "outputs": [
    {
     "name": "stdout",
     "output_type": "stream",
     "text": [
      "Best: 0.969041 using {'colsample_bytree': 0.3, 'learning_rate': 0.05, 'max_depth': 6, 'n_estimators': 180}\n",
      "prediction on test set is: 0.96614\n"
     ]
    }
   ],
   "source": [
    "model_XGB = XGBClassifier(eval_metric='mlogloss', use_label_encoder =False, objective= 'binary:logistic',\n",
    "    nthread=4,\n",
    "    seed=42)\n",
    "GB_GridSearch = GridSearch(X_train_std,y_train,model_XGB, param_grid)\n",
    "Prediction_XGB = GB_GridSearch.BestModelPridict(X_test_std)\n",
    "print('prediction on test set is:' ,floatingDecimals((y_test == Prediction_XGB).mean(),7))"
   ]
  },
  {
   "cell_type": "code",
   "execution_count": 52,
   "id": "a9784c92",
   "metadata": {},
   "outputs": [
    {
     "name": "stdout",
     "output_type": "stream",
     "text": [
      "Accuracy: 0.9661\n",
      "Precision: 0.9663\n",
      "Recall: 0.9661\n",
      "F1 Score: 0.9661\n",
      "Cohen Kappa Score: 0.9322\n",
      "Matthews Corrcoef: 0.9324\n",
      "roc_auc_score: 0.965919517964194\n",
      "\t\tClassification Report:\n",
      "               precision    recall  f1-score   support\n",
      "\n",
      "           0       0.98      0.96      0.97       922\n",
      "           1       0.96      0.98      0.97       850\n",
      "\n",
      "    accuracy                           0.97      1772\n",
      "   macro avg       0.97      0.97      0.97      1772\n",
      "weighted avg       0.97      0.97      0.97      1772\n",
      "\n",
      "Confusion Matrix:\n",
      " [[883  21]\n",
      " [ 39 829]]\n"
     ]
    },
    {
     "data": {
      "image/png": "[encoded data removed]",
      "text/plain": [
       "<Figure size 432x288 with 1 Axes>"
      ]
     },
     "metadata": {},
     "output_type": "display_data"
    }
   ],
   "source": [
    "plot_matrics(Prediction_XGB)"
   ]
  },
  {
   "cell_type": "markdown",
   "id": "10046db1",
   "metadata": {},
   "source": [
    "## Bagging"
   ]
  },
  {
   "cell_type": "code",
   "execution_count": 53,
   "id": "51233f95",
   "metadata": {},
   "outputs": [],
   "source": [
    "\n",
    "n_estimators = [10,30,50,70,80,150,160, 170,175,180,185];\n",
    "\n",
    "\n",
    "\n",
    "param_grid = {'n_estimators':n_estimators,\n",
    "              'base_estimator__max_leaf_nodes':[10, 15],\n",
    "              'base_estimator__max_depth':[4, 5, 6]\n",
    "              \n",
    "              \n",
    "        }\n",
    "dt = DecisionTreeClassifier()\n",
    "final_dt = DecisionTreeClassifier(max_leaf_nodes=10, max_depth=5)                   \n",
    "\n",
    "\n",
    "\n"
   ]
  },
  {
   "cell_type": "code",
   "execution_count": 54,
   "id": "f0eba8ff",
   "metadata": {},
   "outputs": [
    {
     "name": "stdout",
     "output_type": "stream",
     "text": [
      "Best: 0.946545 using {'base_estimator__max_depth': 6, 'base_estimator__max_leaf_nodes': 15, 'n_estimators': 30}\n",
      "prediction on test set is: 0.96614\n"
     ]
    }
   ],
   "source": [
    "## If None, then the base estimator is a decision tree.\n",
    "#model_bagging = BaggingClassifier(base_estimator= None, bootstrap_features=False)\n",
    "\n",
    "model_bagging = BaggingClassifier(base_estimator=final_dt, random_state=1)\n",
    "\n",
    "\n",
    "bagging_GridSearch = GridSearch(X_train_std,y_train,model_bagging, param_grid)\n",
    "Prediction_bagging = bagging_GridSearch.BestModelPridict(X_test_std)\n",
    "print('prediction on test set is:' ,floatingDecimals((y_test == Prediction_XGB).mean(),7))"
   ]
  },
  {
   "cell_type": "code",
   "execution_count": 55,
   "id": "685e0157",
   "metadata": {},
   "outputs": [
    {
     "name": "stdout",
     "output_type": "stream",
     "text": [
      "Accuracy: 0.9407\n",
      "Precision: 0.9413\n",
      "Recall: 0.9407\n",
      "F1 Score: 0.9407\n",
      "Cohen Kappa Score: 0.8815\n",
      "Matthews Corrcoef: 0.8821\n",
      "roc_auc_score: 0.941076016475674\n",
      "\t\tClassification Report:\n",
      "               precision    recall  f1-score   support\n",
      "\n",
      "         0.0       0.92      0.96      0.94       873\n",
      "         1.0       0.96      0.92      0.94       899\n",
      "\n",
      "    accuracy                           0.94      1772\n",
      "   macro avg       0.94      0.94      0.94      1772\n",
      "weighted avg       0.94      0.94      0.94      1772\n",
      "\n",
      "Confusion Matrix:\n",
      " [[836  68]\n",
      " [ 37 831]]\n"
     ]
    },
    {
     "data": {
      "image/png": "[encoded data removed]",
      "text/plain": [
       "<Figure size 432x288 with 1 Axes>"
      ]
     },
     "metadata": {},
     "output_type": "display_data"
    }
   ],
   "source": [
    "plot_matrics(Prediction_bagging)"
   ]
  },
  {
   "cell_type": "markdown",
   "id": "2451c414",
   "metadata": {},
   "source": [
    "# Ensemble Methods"
   ]
  },
  {
   "cell_type": "markdown",
   "id": "5c168fed",
   "metadata": {},
   "source": [
    "## Voting Ensemble\n",
    "Voting is one of the simplest ways of combining the predictions from multiple machine learning algorithms. It works by first creating two or more standalone models from your training dataset. A Voting Classifier can then be used to wrap your models and average the predictions of the sub-models when asked to make predictions for new data."
   ]
  },
  {
   "cell_type": "code",
   "execution_count": 56,
   "id": "4f2dd58f",
   "metadata": {},
   "outputs": [],
   "source": [
    "from sklearn.ensemble import VotingClassifier"
   ]
  },
  {
   "cell_type": "code",
   "execution_count": 57,
   "id": "6065e054",
   "metadata": {},
   "outputs": [],
   "source": [
    "#param = {'C': 0.7678243129497218, 'penalty': 'l1'}\n",
    "param = {'C': 0.7678243129497218, 'penalty': 'l2'}\n",
    "model1 = LogisticRegression(**param)\n",
    "\n",
    "param = {'n_neighbors': 15}\n",
    "model2 = KNeighborsClassifier(**param)\n",
    "\n",
    "param = {'C': 1.7, 'kernel': 'linear'}\n",
    "model3 = SVC(**param)\n",
    "\n",
    "param = {'criterion': 'gini', 'max_depth': 3, 'max_features': 2, 'min_samples_leaf': 3}\n",
    "model4 = DecisionTreeClassifier(**param)\n",
    "\n",
    "param = {'learning_rate': 0.05, 'n_estimators': 150}\n",
    "model5 = AdaBoostClassifier(**param)\n",
    "\n",
    "param = {'learning_rate': 0.01, 'n_estimators': 100}\n",
    "model6 = GradientBoostingClassifier(**param)\n",
    "\n",
    "model7 = GaussianNB()\n",
    "\n",
    "param=  {'max_depth': randint(2, 5),'min_samples_split': randint(5, 20), 'min_samples_leaf': randint(10, 20),\n",
    "     'n_estimators': randint(50, 100),\n",
    "     'max_features': uniform(0.6, 0.3)\n",
    "    }\n",
    "model8 = RandomForestClassifier()\n",
    "\n",
    "model9 = ExtraTreesClassifier()\n",
    "\n",
    "model10 = BaggingClassifier()\n",
    "\n",
    "param = {'learning_rate': 0.01, 'n_estimators': 100, 'subsample': 0.8,'max_depth':6, 'colsample_bytree': 1, 'gamma':1}\n",
    "model11 = XGBClassifier(eval_metric='mlogloss')"
   ]
  },
  {
   "cell_type": "code",
   "execution_count": 58,
   "id": "8e6c2083",
   "metadata": {},
   "outputs": [],
   "source": [
    "# create the sub models\n",
    "estimators = [('LR',model1), ('KNN',model2), ('SVC',model3),\n",
    "              ('DT',model4), ('ADa',model5), ('GB',model6),\n",
    "              ('NB',model7), ('RF',model8),  ('ET',model9),\n",
    "              ('Bagging',model10), ('XGB',model11)\n",
    "             ]\n",
    "    "
   ]
  },
  {
   "cell_type": "code",
   "execution_count": 59,
   "id": "1228b82b",
   "metadata": {},
   "outputs": [
    {
     "name": "stdout",
     "output_type": "stream",
     "text": [
      "Accuracy on train:  0.9521089939291855\n",
      "Accuracy on test: 0.948645598194131\n"
     ]
    }
   ],
   "source": [
    "# create the ensemble model\n",
    "kfold = StratifiedKFold(n_splits=10, random_state=42, shuffle=True)\n",
    "ensemble = VotingClassifier(estimators)\n",
    "results = cross_val_score(ensemble, X_train_std,y_train, cv=kfold)\n",
    "print('Accuracy on train: ',results.mean())\n",
    "ensemble_model = ensemble.fit(X_train_std,y_train)\n",
    "pred = ensemble_model.predict(X_test_std)\n",
    "print('Accuracy on test:' , (y_test == pred).mean())"
   ]
  },
  {
   "cell_type": "markdown",
   "id": "7da53729",
   "metadata": {},
   "source": [
    "## Beyond Voting"
   ]
  },
  {
   "cell_type": "code",
   "execution_count": 60,
   "id": "4fc64756",
   "metadata": {},
   "outputs": [],
   "source": [
    "def get_models():\n",
    "    \"\"\"Generate a library of base learners.\"\"\"\n",
    "    #param = {'C': 0.7678243129497218, 'penalty': 'l1'}\n",
    "    param = {'C': 0.7678243129497218, 'penalty': 'l2'}\n",
    "    model1 = LogisticRegression(**param)\n",
    "\n",
    "    param = {'n_neighbors': 15}\n",
    "    model2 = KNeighborsClassifier(**param)\n",
    "\n",
    "    param = {'C': 1.7, 'kernel': 'linear', 'probability':True}\n",
    "    model3 = SVC(**param)\n",
    "\n",
    "    param = {'criterion': 'gini', 'max_depth': 3, 'max_features': 2, 'min_samples_leaf': 3}\n",
    "    model4 = DecisionTreeClassifier(**param)\n",
    "\n",
    "    param = {'learning_rate': 0.05, 'n_estimators': 150}\n",
    "    model5 = AdaBoostClassifier(**param)\n",
    "\n",
    "    param = {'learning_rate': 0.01, 'n_estimators': 100}\n",
    "    model6 = GradientBoostingClassifier(**param)\n",
    "\n",
    "    model7 = GaussianNB()\n",
    "\n",
    "    model8 = RandomForestClassifier()\n",
    "\n",
    "    model9 = ExtraTreesClassifier()\n",
    "    model10 = BaggingClassifier()\n",
    "\n",
    "    param = {'learning_rate': 0.01, 'n_estimators': 100, 'subsample': 0.8,'max_depth':6, 'colsample_bytree': 1, 'gamma':1}\n",
    "    model11 = XGBClassifier(eval_metric='mlogloss')\n",
    "\n",
    "    models = {'LR':model1, 'KNN':model2, 'SVC':model3,\n",
    "              'DT':model4, 'ADa':model5, 'GB':model6,\n",
    "              'NB':model7, 'RF':model8,  'ET':model9,\n",
    "              'Bagging':model10, 'XGB':model11\n",
    "              }\n",
    "\n",
    "    return models"
   ]
  },
  {
   "cell_type": "markdown",
   "id": "226e2d32",
   "metadata": {},
   "source": [
    "## Error Corrolation"
   ]
  },
  {
   "cell_type": "code",
   "execution_count": 61,
   "id": "556c2c6f",
   "metadata": {},
   "outputs": [],
   "source": [
    "def train_predict(model_list,xtrain, xtest, ytrain, ytest):\n",
    "    \"\"\"Fit models in list on training set and return preds\"\"\"\n",
    "    P = np.zeros((ytest.shape[0], len(model_list)))\n",
    "    P = pd.DataFrame(P)\n",
    "\n",
    "    print(\"Fitting models.\")\n",
    "    cols = list()\n",
    "    for i, (name, m) in enumerate(models.items()):\n",
    "        print(\"%s...\" % name, end=\" \", flush=False)\n",
    "        m.fit(xtrain, ytrain)\n",
    "        P.iloc[:, i] = m.predict_proba(xtest)[:, 1]\n",
    "        cols.append(name)\n",
    "        print(\"done\")\n",
    "\n",
    "    P.columns = cols\n",
    "    print(\"Done.\\n\")\n",
    "    return P"
   ]
  },
  {
   "cell_type": "code",
   "execution_count": 62,
   "id": "792fc0e1",
   "metadata": {},
   "outputs": [
    {
     "name": "stdout",
     "output_type": "stream",
     "text": [
      "Fitting models.\n",
      "LR... done\n",
      "KNN... done\n",
      "SVC... done\n",
      "DT... done\n",
      "ADa... done\n",
      "GB... done\n",
      "NB... done\n",
      "RF... done\n",
      "ET... done\n",
      "Bagging... done\n",
      "XGB... done\n",
      "Done.\n",
      "\n"
     ]
    }
   ],
   "source": [
    "models = get_models()\n",
    "P = train_predict(models,X_train_std,X_test_std,y_train,y_test)"
   ]
  },
  {
   "cell_type": "code",
   "execution_count": 63,
   "id": "bebe8d26",
   "metadata": {},
   "outputs": [
    {
     "name": "stderr",
     "output_type": "stream",
     "text": [
      "[MLENS] backend: threading\n"
     ]
    },
    {
     "data": {
      "image/png": "[encoded data removed]",
      "text/plain": [
       "<Figure size 792x648 with 2 Axes>"
      ]
     },
     "metadata": {},
     "output_type": "display_data"
    },
    {
     "data": {
      "text/plain": [
       "<AxesSubplot:title={'center':'Correlation Matrix'}>"
      ]
     },
     "execution_count": 63,
     "metadata": {},
     "output_type": "execute_result"
    }
   ],
   "source": [
    "from mlens.visualization import corrmat\n",
    "\n",
    "corrmat(P.corr(), inflate=False)"
   ]
  },
  {
   "cell_type": "code",
   "execution_count": 64,
   "id": "0c634096",
   "metadata": {},
   "outputs": [
    {
     "data": {
      "image/png": "[encoded data removed]",
      "text/plain": [
       "<Figure size 792x648 with 2 Axes>"
      ]
     },
     "metadata": {},
     "output_type": "display_data"
    },
    {
     "data": {
      "text/plain": [
       "<AxesSubplot:title={'center':'Correlation Matrix'}>"
      ]
     },
     "execution_count": 64,
     "metadata": {},
     "output_type": "execute_result"
    }
   ],
   "source": [
    "corrmat(P.apply(lambda predic: 1*(predic >= 0.5) - y_test).corr(), inflate=False)"
   ]
  },
  {
   "cell_type": "markdown",
   "id": "3e28dc4f",
   "metadata": {},
   "source": [
    "# Stacking"
   ]
  },
  {
   "cell_type": "code",
   "execution_count": 65,
   "id": "a42a7dd3",
   "metadata": {},
   "outputs": [],
   "source": [
    "base_learners = get_models()\n",
    "meta_learner = GradientBoostingClassifier(\n",
    "    n_estimators=1000,\n",
    "    loss=\"exponential\",\n",
    "    max_features=6,\n",
    "    max_depth=3,\n",
    "    subsample=0.5,\n",
    "    learning_rate=0.001, \n",
    "    random_state=42\n",
    ")"
   ]
  },
  {
   "cell_type": "code",
   "execution_count": 66,
   "id": "3c26913b",
   "metadata": {},
   "outputs": [
    {
     "name": "stdout",
     "output_type": "stream",
     "text": [
      "\n",
      "Fitting 2 layers\n",
      "Processing layer-1             done | 00:00:13\n",
      "Processing layer-2             done | 00:00:03\n",
      "Fit complete                        | 00:00:16\n",
      "\n",
      "Predicting 2 layers\n",
      "Processing layer-1             done | 00:00:00\n",
      "Processing layer-2             done | 00:00:00\n",
      "Predict complete                    | 00:00:00\n"
     ]
    }
   ],
   "source": [
    "from mlens.ensemble import SuperLearner\n",
    "\n",
    "# Instantiate the ensemble with 10 folds\n",
    "sl = SuperLearner(\n",
    "    folds=10,\n",
    "    random_state=42,\n",
    "    verbose=2,\n",
    "    backend=\"multiprocessing\"\n",
    ")\n",
    "\n",
    "# Add the base learners and the meta learner\n",
    "sl.add(list(base_learners.values()), proba=True) \n",
    "sl.add_meta(meta_learner, proba=True)\n",
    "\n",
    "# Train the ensemble\n",
    "sl.fit(X_train_std, y_train)\n",
    "\n",
    "# Predict the test set\n",
    "p_sl = sl.predict_proba(X_test_std)\n",
    "\n",
    "# print(\"\\nSuper Learner ROC-AUC score: %.3f\" % roc_auc_score(y_test_sc, p_sl[:, 1]))"
   ]
  },
  {
   "cell_type": "code",
   "execution_count": 67,
   "id": "1c42d6a8",
   "metadata": {},
   "outputs": [],
   "source": [
    "pp = []\n",
    "for p in p_sl[:, 1]:\n",
    "    if p>0.5:\n",
    "        pp.append(1.)\n",
    "    else:\n",
    "        pp.append(0.)"
   ]
  },
  {
   "cell_type": "code",
   "execution_count": 68,
   "id": "de095e6f",
   "metadata": {},
   "outputs": [
    {
     "name": "stdout",
     "output_type": "stream",
     "text": [
      "\n",
      "Super Learner Accuracy score: 0.97742664\n"
     ]
    }
   ],
   "source": [
    "print(\"\\nSuper Learner Accuracy score: %.8f\" % (y_test== pp).mean())\n"
   ]
  },
  {
   "cell_type": "code",
   "execution_count": 69,
   "id": "c3ec30fc",
   "metadata": {},
   "outputs": [
    {
     "name": "stdout",
     "output_type": "stream",
     "text": [
      "                                       ft-m  ft-s  pt-m  pt-s\n",
      "layer-1  adaboostclassifier            0.83  0.02  0.05  0.01\n",
      "layer-1  baggingclassifier             0.12  0.02  0.00  0.00\n",
      "layer-1  decisiontreeclassifier        0.00  0.00  0.00  0.00\n",
      "layer-1  extratreesclassifier          0.37  0.01  0.02  0.00\n",
      "layer-1  gaussiannb                    0.00  0.00  0.00  0.00\n",
      "layer-1  gradientboostingclassifier    0.78  0.01  0.00  0.00\n",
      "layer-1  kneighborsclassifier          0.00  0.00  0.04  0.00\n",
      "layer-1  logisticregression            0.09  0.05  0.00  0.00\n",
      "layer-1  randomforestclassifier        0.53  0.04  0.04  0.02\n",
      "layer-1  svc                           2.35  0.30  0.02  0.00\n",
      "layer-1  xgbclassifier                 4.75  0.30  0.00  0.00\n",
      "\n"
     ]
    }
   ],
   "source": [
    "# summarize base learners\n",
    "print(sl.data)\n",
    "\n",
    "\n"
   ]
  },
  {
   "cell_type": "markdown",
   "id": "7cdfe7f9",
   "metadata": {},
   "source": [
    "# Summary\n",
    "\n",
    "- Our results show that extratree, XGB and Random Forest models produce satisfactor results for our study design. \n",
    "- We can also test NN models but since the sample size is small, we are not exptecting a considerable improvement. \n",
    "- I also create visialization map for decision tree, if you are interested in, you can check it out. \n",
    "\n",
    "\n",
    "\n",
    "\n",
    "\n",
    "\n",
    "Reference for [codes](https://www.kaggle.com/pouryaayria/a-complete-ml-pipeline-tutorial-acu-86/notebook)"
   ]
  },
  {
   "cell_type": "code",
   "execution_count": null,
   "id": "d667c2b8",
   "metadata": {},
   "outputs": [],
   "source": []
  }
 ],
 "metadata": {
  "kernelspec": {
   "display_name": "Python 3 (ipykernel)",
   "language": "python",
   "name": "python3"
  },
  "language_info": {
   "codemirror_mode": {
    "name": "ipython",
    "version": 3
   },
   "file_extension": ".py",
   "mimetype": "text/x-python",
   "name": "python",
   "nbconvert_exporter": "python",
   "pygments_lexer": "ipython3",
   "version": "3.9.7"
  }
 },
 "nbformat": 4,
 "nbformat_minor": 5
}
